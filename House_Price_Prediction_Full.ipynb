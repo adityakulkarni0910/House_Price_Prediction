{
  "nbformat": 4,
  "nbformat_minor": 0,
  "metadata": {
    "kernelspec": {
      "display_name": "buan6341_2020",
      "language": "python",
      "name": "buan6341_2020"
    },
    "language_info": {
      "codemirror_mode": {
        "name": "ipython",
        "version": 3
      },
      "file_extension": ".py",
      "mimetype": "text/x-python",
      "name": "python",
      "nbconvert_exporter": "python",
      "pygments_lexer": "ipython3",
      "version": "3.7.6"
    },
    "toc": {
      "base_numbering": 1,
      "nav_menu": {},
      "number_sections": true,
      "sideBar": true,
      "skip_h1_title": false,
      "title_cell": "Table of Contents",
      "title_sidebar": "Contents",
      "toc_cell": false,
      "toc_position": {
        "height": "583px",
        "left": "0px",
        "right": "1324px",
        "top": "107px",
        "width": "207.253px"
      },
      "toc_section_display": true,
      "toc_window_display": true
    },
    "varInspector": {
      "cols": {
        "lenName": 16,
        "lenType": 16,
        "lenVar": 40
      },
      "kernels_config": {
        "python": {
          "delete_cmd_postfix": "",
          "delete_cmd_prefix": "del ",
          "library": "var_list.py",
          "varRefreshCmd": "print(var_dic_list())"
        },
        "r": {
          "delete_cmd_postfix": ") ",
          "delete_cmd_prefix": "rm(",
          "library": "var_list.r",
          "varRefreshCmd": "cat(var_dic_list()) "
        }
      },
      "types_to_exclude": [
        "module",
        "function",
        "builtin_function_or_method",
        "instance",
        "_Feature"
      ],
      "window_display": false
    },
    "colab": {
      "name": "House_Price_Prediction_Full.ipynb",
      "provenance": [],
      "toc_visible": true,
      "include_colab_link": true
    }
  },
  "cells": [
    {
      "cell_type": "markdown",
      "metadata": {
        "id": "view-in-github",
        "colab_type": "text"
      },
      "source": [
        "<a href=\"https://colab.research.google.com/github/adityakulkarni0910/House_Price_Prediction/blob/main/House_Price_Prediction_Full.ipynb\" target=\"_parent\"><img src=\"https://colab.research.google.com/assets/colab-badge.svg\" alt=\"Open In Colab\"/></a>"
      ]
    },
    {
      "cell_type": "markdown",
      "metadata": {
        "id": "1T_iBVfxl5I6"
      },
      "source": [
        "# Results\n",
        "\n",
        "Best model: vreg1 (Voting top 5)\n",
        "\n",
        "Train rmse: 17355.699\n",
        "\n",
        "Test rmse: 26913.579"
      ]
    },
    {
      "cell_type": "markdown",
      "metadata": {
        "id": "s-JaDS6ul5I8"
      },
      "source": [
        "# Data PreProcessing"
      ]
    },
    {
      "cell_type": "code",
      "metadata": {
        "ExecuteTime": {
          "end_time": "2020-04-22T21:40:38.255107Z",
          "start_time": "2020-04-22T21:40:38.247110Z"
        },
        "id": "-iBFZpAal5I-"
      },
      "source": [
        "from math import sqrt\n",
        "import pandas as pd\n",
        "import numpy as np\n",
        "import matplotlib.pyplot as plt\n",
        "import seaborn as sns\n",
        "import scipy.stats as stats\n",
        "\n",
        "from sklearn.metrics import r2_score\n",
        "\n",
        "pd.pandas.set_option('display.max_columns', None)\n",
        "%matplotlib inline"
      ],
      "execution_count": null,
      "outputs": []
    },
    {
      "cell_type": "markdown",
      "metadata": {
        "id": "dk-7GM6Tl5I_"
      },
      "source": [
        "### Load Datasets"
      ]
    },
    {
      "cell_type": "code",
      "metadata": {
        "ExecuteTime": {
          "end_time": "2020-04-22T21:40:38.309092Z",
          "start_time": "2020-04-22T21:40:38.262098Z"
        },
        "id": "TJ9cxy6Hl5I_"
      },
      "source": [
        "\n",
        "data = pd.read_csv('houseprice.csv')\n"
      ],
      "execution_count": null,
      "outputs": []
    },
    {
      "cell_type": "markdown",
      "metadata": {
        "id": "-GW6zgiXl5JA"
      },
      "source": [
        "### Types of variables\n",
        "\n"
      ]
    },
    {
      "cell_type": "code",
      "metadata": {
        "ExecuteTime": {
          "end_time": "2020-04-22T21:40:38.320066Z",
          "start_time": "2020-04-22T21:40:38.312070Z"
        },
        "id": "EQmxmWbfl5JB",
        "outputId": "16a2f5cb-bbdc-479f-d8ff-a46cb566ab3a"
      },
      "source": [
        "# we have an Id variable, that we should not use for predictions:\n",
        "\n",
        "print('Number of House Id labels: ', len(data.Id.unique()))\n",
        "print('Number of Houses in the Dataset: ', len(data))"
      ],
      "execution_count": null,
      "outputs": [
        {
          "output_type": "stream",
          "text": [
            "Number of House Id labels:  1460\n",
            "Number of Houses in the Dataset:  1460\n"
          ],
          "name": "stdout"
        }
      ]
    },
    {
      "cell_type": "markdown",
      "metadata": {
        "id": "vF909bKql5JC"
      },
      "source": [
        "#### Find categorical variables"
      ]
    },
    {
      "cell_type": "code",
      "metadata": {
        "ExecuteTime": {
          "end_time": "2020-04-22T21:40:38.342074Z",
          "start_time": "2020-04-22T21:40:38.325064Z"
        },
        "id": "pCfKDW2el5JD",
        "outputId": "d3ad54c3-281c-4e29-9f52-52cd8108ade4"
      },
      "source": [
        "# find categorical variables- hint data type = 'O'\n",
        "\n",
        "categorical = [var for var in data.columns if data[var].dtype=='O']\n",
        "\n",
        "print(f'There are {len(categorical)} categorical variables')"
      ],
      "execution_count": null,
      "outputs": [
        {
          "output_type": "stream",
          "text": [
            "There are 43 categorical variables\n"
          ],
          "name": "stdout"
        }
      ]
    },
    {
      "cell_type": "markdown",
      "metadata": {
        "id": "Fx5aIOqWl5JD"
      },
      "source": [
        "#### Find temporal variables"
      ]
    },
    {
      "cell_type": "code",
      "metadata": {
        "ExecuteTime": {
          "end_time": "2020-04-22T21:40:38.361047Z",
          "start_time": "2020-04-22T21:40:38.345055Z"
        },
        "id": "gUj9LZREl5JE",
        "outputId": "a5bd6d6c-bb84-42f8-b071-3c739def85f8"
      },
      "source": [
        "# make a list of the numerical variables first= Hint data type != O\n",
        "numerical = [var for var in data.columns if data[var].dtype!='O']\n",
        "\n",
        "# list of variables that contain year information= Hint variable namme has Yr or \n",
        "year_vars = [var for var in numerical if 'Yr' in var or 'Year' in var]\n",
        "\n",
        "year_vars"
      ],
      "execution_count": null,
      "outputs": [
        {
          "output_type": "execute_result",
          "data": {
            "text/plain": [
              "['YearBuilt', 'YearRemodAdd', 'GarageYrBlt', 'YrSold']"
            ]
          },
          "metadata": {
            "tags": []
          },
          "execution_count": 31
        }
      ]
    },
    {
      "cell_type": "markdown",
      "metadata": {
        "id": "a3g4jJzGl5JF"
      },
      "source": [
        "#### Find discrete variables\n",
        "\n",
        "To identify discrete variables- numerical variables with less than 20 unique values "
      ]
    },
    {
      "cell_type": "code",
      "metadata": {
        "ExecuteTime": {
          "end_time": "2020-04-22T21:40:38.383030Z",
          "start_time": "2020-04-22T21:40:38.364041Z"
        },
        "id": "rkQFxzLWl5JF",
        "outputId": "a9338547-90ef-4ea4-adb3-8a3ce469778f"
      },
      "source": [
        "# let's visualise the values of the discrete variables\n",
        "discrete = [var for var in numerical if len(data[var].unique()) < 20 and var not in year_vars]\n",
        "\n",
        "print(f'There are {len(discrete)} discrete variables')"
      ],
      "execution_count": null,
      "outputs": [
        {
          "output_type": "stream",
          "text": [
            "There are 14 discrete variables\n"
          ],
          "name": "stdout"
        }
      ]
    },
    {
      "cell_type": "markdown",
      "metadata": {
        "id": "wNuZLmpul5JG"
      },
      "source": [
        "#### Continuous variables"
      ]
    },
    {
      "cell_type": "code",
      "metadata": {
        "ExecuteTime": {
          "end_time": "2020-04-22T21:40:38.394024Z",
          "start_time": "2020-04-22T21:40:38.386028Z"
        },
        "id": "9X9g5YYKl5JG",
        "outputId": "b682e3da-92c7-4c45-855c-81522056a338"
      },
      "source": [
        "# find continuous variables- hint numerical variables not in discrete and  year_years \n",
        "# Also remove the Id variable and the target variable SalePrice\n",
        "# which are both also numerical\n",
        "\n",
        "continuous = [var for var in numerical if var not in discrete and var not in [\n",
        "    'Id', 'SalePrice'] and var not in year_vars]\n",
        "\n",
        "print('There are {} numerical and continuous variables'.format(len(numerical)))"
      ],
      "execution_count": null,
      "outputs": [
        {
          "output_type": "stream",
          "text": [
            "There are 38 numerical and continuous variables\n"
          ],
          "name": "stdout"
        }
      ]
    },
    {
      "cell_type": "markdown",
      "metadata": {
        "id": "y14A9jjUl5JH"
      },
      "source": [
        "### Separate train and test set"
      ]
    },
    {
      "cell_type": "code",
      "metadata": {
        "ExecuteTime": {
          "end_time": "2020-04-22T21:40:38.421009Z",
          "start_time": "2020-04-22T21:40:38.397022Z"
        },
        "id": "fGmvuXlol5JH",
        "outputId": "ca1f97a5-ab61-48a0-ac44-5219a4a68077"
      },
      "source": [
        "# Let's separate into train and test set\n",
        "from sklearn.model_selection import train_test_split\n",
        "X_train, X_test, y_train, y_test = train_test_split(data.drop(['Id', 'SalePrice'], axis=1),\n",
        "                                                    data['SalePrice'],\n",
        "                                                    test_size=0.1,\n",
        "                                                    random_state=0)\n",
        "\n",
        "X_train.shape, X_test.shape"
      ],
      "execution_count": null,
      "outputs": [
        {
          "output_type": "execute_result",
          "data": {
            "text/plain": [
              "((1314, 79), (146, 79))"
            ]
          },
          "metadata": {
            "tags": []
          },
          "execution_count": 34
        }
      ]
    },
    {
      "cell_type": "markdown",
      "metadata": {
        "id": "347GPvSKl5JI"
      },
      "source": [
        "**Now we will move on and engineer the features of this dataset. The most important part for this course.**"
      ]
    },
    {
      "cell_type": "markdown",
      "metadata": {
        "id": "Yi613-Fvl5JI"
      },
      "source": [
        "### Craete New Variables\n",
        "\n",
        "Replace 'YearBuilt', 'YearRemodAdd', 'GarageYrBlt  with time elapsed since YrSold\n",
        "So YearBuilt = YrSold-YearBuilt. \n",
        "\n",
        "Similarly transform 'YearRemodAdd', 'GarageYrBlt.\n",
        "After making transformation drop YrSold"
      ]
    },
    {
      "cell_type": "code",
      "metadata": {
        "ExecuteTime": {
          "end_time": "2020-04-22T21:40:38.435999Z",
          "start_time": "2020-04-22T21:40:38.428005Z"
        },
        "id": "p3j6pUUCl5JI"
      },
      "source": [
        "# function to calculate elapsed time\n",
        "\n",
        "def elapsed_years(df, var):\n",
        "    # capture difference between year variable and\n",
        "    # year the house was sold\n",
        "    \n",
        "    df[var] = df['YrSold'] - df[var]\n",
        "    return df"
      ],
      "execution_count": null,
      "outputs": []
    },
    {
      "cell_type": "code",
      "metadata": {
        "ExecuteTime": {
          "end_time": "2020-04-22T21:40:38.456988Z",
          "start_time": "2020-04-22T21:40:38.440998Z"
        },
        "id": "xui2rS4rl5JJ"
      },
      "source": [
        "for var in ['YearBuilt', 'YearRemodAdd', 'GarageYrBlt']:\n",
        "    X_train = elapsed_years(X_train, var)\n",
        "    X_test = elapsed_years(X_test, var)"
      ],
      "execution_count": null,
      "outputs": []
    },
    {
      "cell_type": "code",
      "metadata": {
        "ExecuteTime": {
          "end_time": "2020-04-22T21:40:38.482972Z",
          "start_time": "2020-04-22T21:40:38.459988Z"
        },
        "id": "QzAdY7Nfl5JJ"
      },
      "source": [
        "# drop YrSold\n",
        "X_train.drop('YrSold', axis=1, inplace=True)\n",
        "X_test.drop('YrSold', axis=1, inplace=True)"
      ],
      "execution_count": null,
      "outputs": []
    },
    {
      "cell_type": "code",
      "metadata": {
        "ExecuteTime": {
          "end_time": "2020-04-22T21:40:38.491969Z",
          "start_time": "2020-04-22T21:40:38.485971Z"
        },
        "id": "Go0I47z5l5JJ"
      },
      "source": [
        "year_vars.remove('YrSold')"
      ],
      "execution_count": null,
      "outputs": []
    },
    {
      "cell_type": "code",
      "metadata": {
        "ExecuteTime": {
          "end_time": "2020-04-22T21:40:38.507959Z",
          "start_time": "2020-04-22T21:40:38.495965Z"
        },
        "id": "SzS_FcOjl5JK",
        "outputId": "37fa230b-2579-440d-8ad1-d520ce41689e"
      },
      "source": [
        "# capture the column names for use later in the notebook\n",
        "final_columns = X_train.columns\n",
        "final_columns"
      ],
      "execution_count": null,
      "outputs": [
        {
          "output_type": "execute_result",
          "data": {
            "text/plain": [
              "Index(['MSSubClass', 'MSZoning', 'LotFrontage', 'LotArea', 'Street', 'Alley',\n",
              "       'LotShape', 'LandContour', 'Utilities', 'LotConfig', 'LandSlope',\n",
              "       'Neighborhood', 'Condition1', 'Condition2', 'BldgType', 'HouseStyle',\n",
              "       'OverallQual', 'OverallCond', 'YearBuilt', 'YearRemodAdd', 'RoofStyle',\n",
              "       'RoofMatl', 'Exterior1st', 'Exterior2nd', 'MasVnrType', 'MasVnrArea',\n",
              "       'ExterQual', 'ExterCond', 'Foundation', 'BsmtQual', 'BsmtCond',\n",
              "       'BsmtExposure', 'BsmtFinType1', 'BsmtFinSF1', 'BsmtFinType2',\n",
              "       'BsmtFinSF2', 'BsmtUnfSF', 'TotalBsmtSF', 'Heating', 'HeatingQC',\n",
              "       'CentralAir', 'Electrical', '1stFlrSF', '2ndFlrSF', 'LowQualFinSF',\n",
              "       'GrLivArea', 'BsmtFullBath', 'BsmtHalfBath', 'FullBath', 'HalfBath',\n",
              "       'BedroomAbvGr', 'KitchenAbvGr', 'KitchenQual', 'TotRmsAbvGrd',\n",
              "       'Functional', 'Fireplaces', 'FireplaceQu', 'GarageType', 'GarageYrBlt',\n",
              "       'GarageFinish', 'GarageCars', 'GarageArea', 'GarageQual', 'GarageCond',\n",
              "       'PavedDrive', 'WoodDeckSF', 'OpenPorchSF', 'EnclosedPorch', '3SsnPorch',\n",
              "       'ScreenPorch', 'PoolArea', 'PoolQC', 'Fence', 'MiscFeature', 'MiscVal',\n",
              "       'MoSold', 'SaleType', 'SaleCondition'],\n",
              "      dtype='object')"
            ]
          },
          "metadata": {
            "tags": []
          },
          "execution_count": 39
        }
      ]
    },
    {
      "cell_type": "markdown",
      "metadata": {
        "id": "n2UvEOfrl5JK"
      },
      "source": [
        "### Feature Engineering Pipeline"
      ]
    },
    {
      "cell_type": "code",
      "metadata": {
        "ExecuteTime": {
          "end_time": "2020-04-22T21:40:38.540941Z",
          "start_time": "2020-04-22T21:40:38.510957Z"
        },
        "id": "dHXbvv2fl5JK"
      },
      "source": [
        "# I will treat discrete variables as if they were categorical\n",
        "# to treat discrete as categorical using Feature-engine\n",
        "# we need to re-cast them as object\n",
        "\n",
        "X_train[discrete] = X_train[discrete].astype('O')\n",
        "X_test[discrete] = X_test[discrete].astype('O')"
      ],
      "execution_count": null,
      "outputs": []
    },
    {
      "cell_type": "code",
      "metadata": {
        "ExecuteTime": {
          "end_time": "2020-04-22T21:40:38.552934Z",
          "start_time": "2020-04-22T21:40:38.543939Z"
        },
        "id": "gbyLrR4vl5JL"
      },
      "source": [
        "# import relevant modules for feature engineering\n",
        "from sklearn.pipeline import Pipeline\n",
        "from sklearn.preprocessing import StandardScaler\n",
        "from feature_engine import missing_data_imputers as mdi\n",
        "from feature_engine import categorical_encoders as ce\n",
        "from feature_engine.variable_transformers import YeoJohnsonTransformer\n",
        "from sklearn.preprocessing import StandardScaler\n",
        "from feature_engine.discretisers import DecisionTreeDiscretiser"
      ],
      "execution_count": null,
      "outputs": []
    },
    {
      "cell_type": "code",
      "metadata": {
        "ExecuteTime": {
          "end_time": "2020-04-22T21:40:38.573921Z",
          "start_time": "2020-04-22T21:40:38.556933Z"
        },
        "id": "6Q8poAdWl5JL"
      },
      "source": [
        "house_preprocess = Pipeline([\n",
        "    \n",
        "    # missing data imputation \n",
        "    ('missing_ind', mdi.AddNaNBinaryImputer(\n",
        "        variables=['LotFrontage', 'MasVnrArea',  'GarageYrBlt'])),\n",
        "    ('imputer_num', mdi.MeanMedianImputer(imputation_method='mean',\n",
        "                                          variables=['LotFrontage', 'MasVnrArea',  'GarageYrBlt'])),\n",
        "    ('imputer_cat', mdi.CategoricalVariableImputer(variables=categorical)),\n",
        "\n",
        "    # categorical encoding \n",
        "     ('rare_label_enc', ce.RareLabelCategoricalEncoder(\n",
        "         tol=0.01,n_categories=6, variables=categorical+discrete)),\n",
        "    ('categorical_enc', ce.MeanCategoricalEncoder(variables = categorical + discrete)),\n",
        "     \n",
        "    # Transforming Numerical Variables\n",
        "    ('yjt', YeoJohnsonTransformer(variables = ['LotFrontage','MasVnrArea', 'GarageYrBlt'])),\n",
        "\n",
        "    \n",
        "    # discretisation and encoding\n",
        "    ('treeDisc',  DecisionTreeDiscretiser(cv=2, scoring='neg_mean_squared_error',\n",
        "                                   regression=True,\n",
        "                                   param_grid={'max_depth': [1,2,3,4,5,6]})),\n",
        "\n",
        "    # feature Scaling\n",
        "    ('scaler', StandardScaler()),\n",
        "    \n",
        "    \n",
        "\n",
        "])"
      ],
      "execution_count": null,
      "outputs": []
    },
    {
      "cell_type": "code",
      "metadata": {
        "ExecuteTime": {
          "end_time": "2020-04-22T21:40:43.805928Z",
          "start_time": "2020-04-22T21:40:38.578918Z"
        },
        "id": "yQOfqlm0l5JN",
        "outputId": "53714557-bd2c-4057-f403-66f929ea89b0"
      },
      "source": [
        "house_preprocess.fit(X_train,y_train)"
      ],
      "execution_count": null,
      "outputs": [
        {
          "output_type": "execute_result",
          "data": {
            "text/plain": [
              "Pipeline(memory=None,\n",
              "         steps=[('missing_ind',\n",
              "                 AddNaNBinaryImputer(variables=['LotFrontage', 'MasVnrArea',\n",
              "                                                'GarageYrBlt'])),\n",
              "                ('imputer_num',\n",
              "                 MeanMedianImputer(imputation_method='mean',\n",
              "                                   variables=['LotFrontage', 'MasVnrArea',\n",
              "                                              'GarageYrBlt'])),\n",
              "                ('imputer_cat',\n",
              "                 CategoricalVariableImputer(variables=['MSZoning', 'Street',\n",
              "                                                       'Alley', 'LotShape',\n",
              "                                                       'LandContour',\n",
              "                                                       'Utilities', '...\n",
              "                                                    'Utilities', 'LotConfig',\n",
              "                                                    'LandSlope', 'Neighborhood',\n",
              "                                                    'Condition1', 'Condition2',\n",
              "                                                    'BldgType', 'HouseStyle',\n",
              "                                                    'OverallQual',\n",
              "                                                    'OverallCond', 'YearBuilt',\n",
              "                                                    'YearRemodAdd', 'RoofStyle',\n",
              "                                                    'RoofMatl', 'Exterior1st',\n",
              "                                                    'Exterior2nd', 'MasVnrType',\n",
              "                                                    'MasVnrArea', 'ExterQual',\n",
              "                                                    'ExterCond', 'Foundation',\n",
              "                                                    'BsmtQual', ...])),\n",
              "                ('scaler',\n",
              "                 StandardScaler(copy=True, with_mean=True, with_std=True))],\n",
              "         verbose=False)"
            ]
          },
          "metadata": {
            "tags": []
          },
          "execution_count": 43
        }
      ]
    },
    {
      "cell_type": "code",
      "metadata": {
        "ExecuteTime": {
          "end_time": "2020-04-22T21:40:44.523518Z",
          "start_time": "2020-04-22T21:40:43.808924Z"
        },
        "id": "gx0dcu2_l5JO"
      },
      "source": [
        "# Apply Transformations\n",
        "X_train=house_preprocess.transform(X_train)\n",
        "X_test=house_preprocess.transform(X_test)"
      ],
      "execution_count": null,
      "outputs": []
    },
    {
      "cell_type": "markdown",
      "metadata": {
        "id": "lHf9nJcwl5JO"
      },
      "source": [
        ""
      ]
    },
    {
      "cell_type": "markdown",
      "metadata": {
        "ExecuteTime": {
          "end_time": "2020-03-09T04:00:12.095764Z",
          "start_time": "2020-03-09T04:00:12.093253Z"
        },
        "id": "z3n_cofrl5JO"
      },
      "source": [
        "# Regression Models- Tune different models one by one"
      ]
    },
    {
      "cell_type": "markdown",
      "metadata": {
        "ExecuteTime": {
          "end_time": "2020-04-22T20:02:38.282141Z",
          "start_time": "2020-04-22T20:02:38.277142Z"
        },
        "id": "qY--X8AJl5JP"
      },
      "source": [
        "## Linear regression"
      ]
    },
    {
      "cell_type": "code",
      "metadata": {
        "ExecuteTime": {
          "end_time": "2020-04-22T21:40:44.662524Z",
          "start_time": "2020-04-22T21:40:44.525515Z"
        },
        "id": "lw-honO0l5JP",
        "outputId": "da0909c5-07ed-4019-afc4-cf903ee79126"
      },
      "source": [
        "# Train a linear regression model, report the coefficients and model performance \n",
        "\n",
        "from sklearn.linear_model import LinearRegression\n",
        "from sklearn.model_selection import cross_val_score\n",
        "\n",
        "lr = LinearRegression().fit(X_train, y_train)\n",
        "cv_scores = cross_val_score(lr, X_train, y_train)\n",
        "\n",
        "# Mean Cross validation Score\n",
        "print(\"Mean Cross-validation scores: {}\".format(cv_scores))\n",
        "print()\n",
        "print(\"LR Performance Train: \", lr.score(X_train,y_train))\n",
        "# Check test data set performance (changed: X_test and y_test)\n",
        "print(\"LR Performance Test: \", lr.score(X_test,y_test))"
      ],
      "execution_count": null,
      "outputs": [
        {
          "output_type": "stream",
          "text": [
            "Mean Cross-validation scores: [ 8.68335879e-01 -1.63333860e+22  8.76526862e-01  8.98295453e-01\n",
            "  8.92144253e-01]\n",
            "\n",
            "LR Performance Train:  0.9115066070570848\n",
            "LR Performance Test:  0.8751535973227208\n"
          ],
          "name": "stdout"
        }
      ]
    },
    {
      "cell_type": "markdown",
      "metadata": {
        "id": "8QjtOkZvl5JQ"
      },
      "source": [
        "## Ridge"
      ]
    },
    {
      "cell_type": "code",
      "metadata": {
        "ExecuteTime": {
          "end_time": "2020-04-22T21:40:45.156241Z",
          "start_time": "2020-04-22T21:40:44.666522Z"
        },
        "id": "hdpTGJZTl5JQ",
        "outputId": "f55a6801-53c0-4c20-c3ba-fa77211332fa"
      },
      "source": [
        "# Train a Ridge regression model, report the coefficients, the best parameters, and model performance \n",
        "from sklearn.model_selection import GridSearchCV\n",
        "from sklearn.linear_model import Ridge\n",
        "ridge = Ridge()\n",
        "\n",
        "#define a list of parameters\n",
        "param_ridge = {'alpha':[0.001, 0.01, 0.1, 1, 10, 100,1000]}\n",
        "\n",
        "grid_ridge = GridSearchCV(ridge, param_ridge, cv=10, return_train_score = True)\n",
        "grid_ridge.fit(X_train, y_train)\n",
        "\n",
        "# Mean Cross Validation Score\n",
        "print(\"Best Mean Cross-validation score: {:.3f}\".format(grid_ridge.best_score_))\n",
        "\n",
        "print()\n",
        "\n",
        "#find best parameters\n",
        "print('Ridge parameters: ', grid_ridge.best_params_)\n",
        "\n",
        "\n",
        "#print(\"Ridge.coef_:\", grid_ridge.best_estimator_.coef_)\n",
        "#print(\"Ridge.intercept_:\", grid_ridge.best_estimator_.intercept_)\n",
        "print(\"Ridge Train Performance: \", grid_ridge.score(X_train,y_train))\n",
        "# Check test data set performance\n",
        "\n",
        "print(\"Ridge Test Performance: \", grid_ridge.score(X_test,y_test))"
      ],
      "execution_count": null,
      "outputs": [
        {
          "output_type": "stream",
          "text": [
            "Best Mean Cross-validation score: 0.886\n",
            "\n",
            "Ridge parameters:  {'alpha': 100}\n",
            "Ridge Train Performance:  0.9103295889443213\n",
            "Ridge Test Performance:  0.8731529205790173\n"
          ],
          "name": "stdout"
        }
      ]
    },
    {
      "cell_type": "markdown",
      "metadata": {
        "id": "iTMIAebpl5JR"
      },
      "source": [
        "## Lasso"
      ]
    },
    {
      "cell_type": "code",
      "metadata": {
        "ExecuteTime": {
          "end_time": "2020-04-22T21:40:47.000188Z",
          "start_time": "2020-04-22T21:40:45.159241Z"
        },
        "id": "stBwipMEl5JS",
        "outputId": "cd5b50ff-3668-4e24-b309-ca82a3eaeba8"
      },
      "source": [
        "# Train a Lasso regression model, report the coefficients, the best parameters, and model performance \n",
        "\n",
        "\n",
        "from sklearn.linear_model import Lasso\n",
        "lasso = Lasso(random_state=0)\n",
        "\n",
        "#define a list of parameters (changed:added alpha=1000)\n",
        "param_lasso = {'alpha':[0.001, 0.01, 0.1, 1, 10, 100,1000,10000] }\n",
        "\n",
        "grid_lasso = GridSearchCV(lasso, param_lasso, cv=10, return_train_score = True)\n",
        "grid_lasso.fit(X_train, y_train)\n",
        "\n",
        "# Mean Cross Validation Score\n",
        "print(\"Best Mean Cross-validation score: {:.3f}\".format(grid_lasso.best_score_))\n",
        "print()\n",
        "\n",
        "#find best parameters\n",
        "print('Lasso parameters: ', grid_lasso.best_params_)\n",
        "\n",
        "# print co-eff\n",
        "\n",
        "#print(\"Lasso.coef_:\", grid_lasso.best_estimator_.coef_)\n",
        "#print(\"Lasso.intercept_:\", grid_lasso.best_estimator_.intercept_)\n",
        "print(\"Lasso Train Performance: \", grid_lasso.score(X_train,y_train))\n",
        "# Check test data set performance\n",
        "print(\"Lasso Test Performance: \", grid_lasso.score(X_test,y_test))"
      ],
      "execution_count": null,
      "outputs": [
        {
          "output_type": "stream",
          "text": [
            "Best Mean Cross-validation score: 0.886\n",
            "\n",
            "Lasso parameters:  {'alpha': 1000}\n",
            "Lasso Train Performance:  0.9053267125547907\n",
            "Lasso Test Performance:  0.8865009634628674\n"
          ],
          "name": "stdout"
        }
      ]
    },
    {
      "cell_type": "markdown",
      "metadata": {
        "id": "g9rBPrVSl5JT"
      },
      "source": [
        "## Elasticnet"
      ]
    },
    {
      "cell_type": "code",
      "metadata": {
        "ExecuteTime": {
          "end_time": "2020-04-22T21:41:30.181033Z",
          "start_time": "2020-04-22T21:40:47.003182Z"
        },
        "id": "ww1ruzYel5JT",
        "outputId": "5fe80f25-5662-4f54-e1ac-335798a07a8e"
      },
      "source": [
        "#ElasticNet Model\n",
        "\n",
        "from sklearn.linear_model import ElasticNet\n",
        "\n",
        "elasticnet = ElasticNet(max_iter=100000)\n",
        "\n",
        "param_elasticnet = {'alpha':[0.001, 0.01, 0.1, 1, 10],'l1_ratio' :[0.2,0.4,0.6,0.8] }\n",
        "\n",
        "grid_elasticnet = GridSearchCV(elasticnet , param_elasticnet, cv=10, return_train_score = True)\n",
        "grid_elasticnet.fit(X_train, y_train)\n",
        "\n",
        "print('Training set score: ', grid_elasticnet.score(X_train, y_train))\n",
        "\n",
        "#find best parameters\n",
        "print('Best parameters: ', grid_elasticnet.best_params_)\n",
        "print('Best cross-validation score:', grid_elasticnet.best_score_)\n",
        "\n",
        "print('Test score: ', grid_elasticnet.score(X_test, y_test))"
      ],
      "execution_count": null,
      "outputs": [
        {
          "output_type": "stream",
          "text": [
            "Training set score:  0.9102377304004107\n",
            "Best parameters:  {'alpha': 0.1, 'l1_ratio': 0.2}\n",
            "Best cross-validation score: 0.886162500079646\n",
            "Test score:  0.8730013625797748\n"
          ],
          "name": "stdout"
        }
      ]
    },
    {
      "cell_type": "markdown",
      "metadata": {
        "id": "ATsnbRtkl5JU"
      },
      "source": [
        "## KNN"
      ]
    },
    {
      "cell_type": "code",
      "metadata": {
        "ExecuteTime": {
          "end_time": "2020-04-22T21:42:30.421549Z",
          "start_time": "2020-04-22T21:41:30.188029Z"
        },
        "id": "yLXOQi3ll5JU",
        "outputId": "23a80c3f-c84f-493d-9109-81c231432159"
      },
      "source": [
        "#KNN regressor\n",
        "\n",
        "from sklearn.neighbors import KNeighborsRegressor\n",
        "\n",
        "knnreg = KNeighborsRegressor()\n",
        "\n",
        "param_knn = {'n_neighbors': range(1,25)}\n",
        "\n",
        "#apply grid search\n",
        "grid_knn = GridSearchCV(knnreg, param_knn, cv=10, return_train_score=True)\n",
        "grid_knn.fit(X_train, y_train)\n",
        "\n",
        "print('train score: ', grid_knn.score(X_train, y_train))\n",
        "\n",
        "#find best parameters\n",
        "print('Best parameters: ', grid_knn.best_params_)\n",
        "print('Best cross-validation score:', grid_knn.best_score_)\n",
        "\n",
        "print('test score: ', grid_knn.score(X_test, y_test))"
      ],
      "execution_count": null,
      "outputs": [
        {
          "output_type": "stream",
          "text": [
            "train score:  0.858046619738738\n",
            "Best parameters:  {'n_neighbors': 8}\n",
            "Best cross-validation score: 0.8114280972642354\n",
            "test score:  0.7000160633674981\n"
          ],
          "name": "stdout"
        }
      ]
    },
    {
      "cell_type": "markdown",
      "metadata": {
        "id": "lxfNddyCl5JV"
      },
      "source": [
        "## Linear reg with SGD"
      ]
    },
    {
      "cell_type": "code",
      "metadata": {
        "ExecuteTime": {
          "end_time": "2020-04-22T21:42:41.508201Z",
          "start_time": "2020-04-22T21:42:30.442543Z"
        },
        "id": "TAJLSfA8l5JV",
        "outputId": "ef3947cf-8f4a-459f-c605-9cb9e8d04132"
      },
      "source": [
        "#linear regression with SGD\n",
        "\n",
        "from sklearn.linear_model import SGDRegressor\n",
        "\n",
        "reg_sgd = SGDRegressor(max_iter=1000, tol = 1e-5)\n",
        "\n",
        "param_sgd = {'eta0':[0.01, 0.05, 0.1 ,0.5],'penalty' :['l1','l2','elasticnet'],'alpha' :[0.1,0.01,0.001]}\n",
        "\n",
        "#apply grid search\n",
        "grid_sgd = GridSearchCV(reg_sgd, param_sgd, cv=10, n_jobs=-1, return_train_score = True)\n",
        "grid_sgd.fit(X_train, y_train)\n",
        "\n",
        "\n",
        "#find best parameters\n",
        "print('Best parameters: ', grid_sgd.best_params_)\n",
        "print('Best cross-validation score:', grid_sgd.best_score_)\n",
        "\n",
        "print('train score: ', grid_sgd.score(X_train, y_train))\n",
        "print('test score: ', grid_sgd.score(X_test, y_test))\n"
      ],
      "execution_count": null,
      "outputs": [
        {
          "output_type": "stream",
          "text": [
            "Best parameters:  {'alpha': 0.1, 'eta0': 0.01, 'penalty': 'l2'}\n",
            "Best cross-validation score: 0.883605242735895\n",
            "train score:  0.909058675963431\n",
            "test score:  0.8714844856343241\n"
          ],
          "name": "stdout"
        }
      ]
    },
    {
      "cell_type": "markdown",
      "metadata": {
        "id": "02jJo7lPl5JW"
      },
      "source": [
        "## Polynomial"
      ]
    },
    {
      "cell_type": "code",
      "metadata": {
        "ExecuteTime": {
          "end_time": "2020-04-22T21:46:06.754966Z",
          "start_time": "2020-04-22T21:42:41.511198Z"
        },
        "id": "1oDMLoNLl5JW",
        "outputId": "8d97f49b-3ed5-4f60-9c78-ce98cc05ea1e"
      },
      "source": [
        "#Polynomial regression\n",
        "\n",
        "from sklearn.preprocessing  import PolynomialFeatures\n",
        "from sklearn.pipeline import make_pipeline\n",
        "\n",
        "\n",
        "poly = PolynomialFeatures()\n",
        "\n",
        "param_poly = {'polynomialfeatures__degree':range(1,5)}\n",
        "pipe_poly = make_pipeline(PolynomialFeatures(), LinearRegression())\n",
        "grid_poly = GridSearchCV(pipe_poly, param_poly,cv=5, n_jobs=-1, return_train_score = True,scoring='r2')\n",
        "\n",
        "grid_poly.fit(X_train, y_train)\n",
        "\n",
        "#find best parameters\n",
        "print('Best parameters: ', grid_poly.best_params_)\n",
        "\n",
        "\n",
        "# print the coefficients\n",
        "#print('Poly features: ', grid_poly.best_estimator_.named_steps['polynomialfeatures'].n_output_features_)\n",
        "#print('Coefficients: ', grid_poly.best_estimator_.named_steps['linearregression'].coef_)\n",
        "\n",
        "print('Best cross-validation score:', grid_poly.best_score_)\n",
        "\n",
        "print('train score: ', grid_poly.score(X_train, y_train))\n",
        "print('test score: ', grid_poly.score(X_test, y_test))"
      ],
      "execution_count": null,
      "outputs": [
        {
          "output_type": "stream",
          "text": [
            "Best parameters:  {'polynomialfeatures__degree': 2}\n",
            "Best cross-validation score: -4.885131197910408e+16\n",
            "train score:  0.9999955966028627\n",
            "test score:  -1.9061138988228244e+16\n"
          ],
          "name": "stdout"
        }
      ]
    },
    {
      "cell_type": "markdown",
      "metadata": {
        "id": "zH22bXd_l5JX"
      },
      "source": [
        "## Simple Support Vector Machine Regression\n"
      ]
    },
    {
      "cell_type": "code",
      "metadata": {
        "ExecuteTime": {
          "end_time": "2020-04-22T21:46:07.493545Z",
          "start_time": "2020-04-22T21:46:06.767960Z"
        },
        "id": "RQa1Xzkjl5JX",
        "outputId": "54c63f5f-60e6-4830-b7cb-88b0cd898b10"
      },
      "source": [
        "#Simple Support Vector Machine Regression\n",
        "\n",
        "from sklearn.svm import LinearSVR\n",
        "\n",
        "svr_simple = LinearSVR()\n",
        "param_grid = {'C': [0.001, 0.01, 0.1, 1, 10, 100]}\n",
        "\n",
        "grid_LinearSVR = GridSearchCV(svr_simple, param_grid, cv=10, return_train_score=True)\n",
        "grid_LinearSVR.fit(X_train, y_train)\n",
        "\n",
        "\n",
        "print(\"Best parameters: {}\".format(grid_LinearSVR.best_params_))\n",
        "print(\"Best cross-validation score: {:.2f}\".format(grid_LinearSVR.best_score_))\n",
        "\n",
        "print('train score: ', grid_LinearSVR.score(X_train, y_train))\n",
        "print('test score: ', grid_LinearSVR.score(X_test, y_test))"
      ],
      "execution_count": null,
      "outputs": [
        {
          "output_type": "stream",
          "text": [
            "Best parameters: {'C': 100}\n",
            "Best cross-validation score: -0.29\n",
            "train score:  0.1474219673068904\n",
            "test score:  0.1326105459554705\n"
          ],
          "name": "stdout"
        }
      ]
    },
    {
      "cell_type": "markdown",
      "metadata": {
        "id": "lI__RAnyl5JY"
      },
      "source": [
        "## SVM with Kernels"
      ]
    },
    {
      "cell_type": "code",
      "metadata": {
        "ExecuteTime": {
          "end_time": "2020-04-22T21:47:16.801402Z",
          "start_time": "2020-04-22T21:46:07.497545Z"
        },
        "id": "SfpI61FSl5JY",
        "outputId": "8178e454-93f7-478e-ffaa-4749fd4e5b36"
      },
      "source": [
        "#Support Vector Machine Regression with Kernels\n",
        "from sklearn.svm import SVR\n",
        "\n",
        "svr_kernel = SVR()\n",
        "param_grid = [\n",
        " #           {'kernel': ['linear'],\n",
        "#               'C': [0.001, 0.01, 0.1, 1, 10, 100]},\n",
        "              \n",
        "              {'kernel': ['rbf'],\n",
        "               'C': [0.001, 0.01, 0.1, 1, 10, 100],\n",
        "               'gamma': [0.001, 0.01, 0.1, 1, 10, 100]},\n",
        "              \n",
        "              {'kernel': ['poly'],\n",
        "               'degree':range(1,5)},\n",
        "              \n",
        "              {'kernel': ['sigmoid']}]\n",
        "\n",
        "grid_SVM = GridSearchCV(svr_kernel, param_grid, cv=5, return_train_score=True)\n",
        "grid_SVM.fit(X_train, y_train)\n",
        "\n",
        "\n",
        "print(\"Best parameters: {}\".format(grid_SVM.best_params_))\n",
        "print(\"Best cross-validation score: {:.2f}\".format(grid_SVM.best_score_))\n",
        "\n",
        "print('train score: ', grid_SVM.score(X_train, y_train))\n",
        "print('test score: ', grid_SVM.score(X_test, y_test))"
      ],
      "execution_count": null,
      "outputs": [
        {
          "output_type": "stream",
          "text": [
            "Best parameters: {'C': 100, 'gamma': 0.01, 'kernel': 'rbf'}\n",
            "Best cross-validation score: 0.04\n",
            "train score:  0.06544572992203601\n",
            "test score:  0.051943236974285045\n"
          ],
          "name": "stdout"
        }
      ]
    },
    {
      "cell_type": "markdown",
      "metadata": {
        "id": "hBCpMFhVl5JZ"
      },
      "source": [
        "## Decision Trees Regressor\n"
      ]
    },
    {
      "cell_type": "code",
      "metadata": {
        "ExecuteTime": {
          "end_time": "2020-04-22T21:47:19.883175Z",
          "start_time": "2020-04-22T21:47:16.804401Z"
        },
        "id": "t5uss61Rl5Jd",
        "outputId": "46c13914-5ef0-49b0-cc26-a2cb62a15d70"
      },
      "source": [
        "# Decision Trees Regressor\n",
        "\n",
        "from sklearn.tree import DecisionTreeRegressor\n",
        "tree = DecisionTreeRegressor()\n",
        "\n",
        "param_grid = {'max_depth': range(1,10),\n",
        "           'min_samples_split': range(2,10,1)}\n",
        "\n",
        "grid_tree = GridSearchCV(tree, param_grid, cv=5)\n",
        "grid_tree.fit(X_train,y_train)\n",
        "\n",
        "\n",
        "print(\"Best cross-validation score: {:.2f}\".format(grid_tree.best_score_))\n",
        "print(grid_tree.best_params_)\n",
        "print('train score: ', grid_tree.score(X_train, y_train))\n",
        "print('test score: ', grid_tree.score(X_test, y_test))\n"
      ],
      "execution_count": null,
      "outputs": [
        {
          "output_type": "stream",
          "text": [
            "Best cross-validation score: 0.78\n",
            "{'max_depth': 6, 'min_samples_split': 5}\n",
            "train score:  0.8974588210964505\n",
            "test score:  0.8120068395043382\n"
          ],
          "name": "stdout"
        }
      ]
    },
    {
      "cell_type": "markdown",
      "metadata": {
        "ExecuteTime": {
          "end_time": "2020-03-09T03:59:33.754940Z",
          "start_time": "2020-03-09T03:59:33.751933Z"
        },
        "id": "VjWOIBZcl5Je"
      },
      "source": [
        "# Tune Multiple Models with one GridSearch"
      ]
    },
    {
      "cell_type": "code",
      "metadata": {
        "ExecuteTime": {
          "end_time": "2020-04-22T21:47:19.896168Z",
          "start_time": "2020-04-22T21:47:19.886174Z"
        },
        "id": "uAchjWE_l5Je"
      },
      "source": [
        "model_gs = Pipeline([(\"regressor\", LinearRegression())])"
      ],
      "execution_count": null,
      "outputs": []
    },
    {
      "cell_type": "code",
      "metadata": {
        "ExecuteTime": {
          "end_time": "2020-04-22T21:47:19.926152Z",
          "start_time": "2020-04-22T21:47:19.900167Z"
        },
        "id": "SbyE16h-l5Je"
      },
      "source": [
        "model_parm_gd = [\n",
        "    { 'regressor': [LinearRegression()]},\n",
        "    \n",
        "    { 'regressor': [Ridge()],\n",
        "      'regressor__alpha':[0.001, 0.01, 0.1, 1, 10, 100,200,1000] },\n",
        "    \n",
        "    { 'regressor': [Lasso(random_state=0)],\n",
        "      'regressor__alpha':[0.001, 0.01, 0.1, 1, 10, 100,200,1000]},\n",
        "    \n",
        "    {'regressor': [ElasticNet(max_iter=100000)],\n",
        "    'regressor__alpha':[0.001, 0.01, 0.1, 1, 10], 'regressor__l1_ratio' :[0.2,0.4,0.6,0.8]},\n",
        "    \n",
        "    {'regressor': [KNeighborsRegressor()],\n",
        "    'regressor__n_neighbors': range(1,25)},\n",
        "    \n",
        "    {'regressor': [SGDRegressor(max_iter=1000, tol = 1e-5)],\n",
        "    'regressor__eta0':[0.01, 0.05, 0.1 ,0.5], 'regressor__penalty' :['l1','l2','elasticnet'],'regressor__alpha' :[0.1,0.01,0.001]},\n",
        "    \n",
        "    {'regressor': [DecisionTreeRegressor()],\n",
        "    'regressor__max_depth': range(1,10),\n",
        "    'regressor__min_samples_split': range(2,10,1)}\n",
        "     \n",
        "]"
      ],
      "execution_count": null,
      "outputs": []
    },
    {
      "cell_type": "code",
      "metadata": {
        "ExecuteTime": {
          "end_time": "2020-04-22T21:47:19.948294Z",
          "start_time": "2020-04-22T21:47:19.929150Z"
        },
        "id": "_XZztmfCl5Jf"
      },
      "source": [
        "grid_search_house_pipe = GridSearchCV(model_gs, model_parm_gd)"
      ],
      "execution_count": null,
      "outputs": []
    },
    {
      "cell_type": "code",
      "metadata": {
        "ExecuteTime": {
          "end_time": "2020-04-22T21:47:54.963784Z",
          "start_time": "2020-04-22T21:47:19.951291Z"
        },
        "id": "wur-5qhKl5Jf",
        "outputId": "7701122f-9a64-43a6-a215-132247ca6d1b"
      },
      "source": [
        "grid_search_house_pipe.fit(X_train,y_train)"
      ],
      "execution_count": null,
      "outputs": [
        {
          "output_type": "execute_result",
          "data": {
            "text/plain": [
              "GridSearchCV(cv=None, error_score=nan,\n",
              "             estimator=Pipeline(memory=None,\n",
              "                                steps=[('regressor',\n",
              "                                        LinearRegression(copy_X=True,\n",
              "                                                         fit_intercept=True,\n",
              "                                                         n_jobs=None,\n",
              "                                                         normalize=False))],\n",
              "                                verbose=False),\n",
              "             iid='deprecated', n_jobs=None,\n",
              "             param_grid=[{'regressor': [LinearRegression(copy_X=True,\n",
              "                                                         fit_intercept=True,\n",
              "                                                         n_jobs=None,\n",
              "                                                         normalize=False)]},\n",
              "                         {'regressor': [Ridge(alpha=1.0, copy...\n",
              "                                                              max_leaf_nodes=None,\n",
              "                                                              min_impurity_decrease=0.0,\n",
              "                                                              min_impurity_split=None,\n",
              "                                                              min_samples_leaf=1,\n",
              "                                                              min_samples_split=2,\n",
              "                                                              min_weight_fraction_leaf=0.0,\n",
              "                                                              presort='deprecated',\n",
              "                                                              random_state=None,\n",
              "                                                              splitter='best')],\n",
              "                          'regressor__max_depth': range(1, 10),\n",
              "                          'regressor__min_samples_split': range(2, 10)}],\n",
              "             pre_dispatch='2*n_jobs', refit=True, return_train_score=False,\n",
              "             scoring=None, verbose=0)"
            ]
          },
          "metadata": {
            "tags": []
          },
          "execution_count": 58
        }
      ]
    },
    {
      "cell_type": "code",
      "metadata": {
        "ExecuteTime": {
          "end_time": "2020-04-22T21:47:54.977774Z",
          "start_time": "2020-04-22T21:47:54.967780Z"
        },
        "id": "hBmArtNvl5Jf",
        "outputId": "96557895-64f8-41db-c2d1-3779cdbfd0fd"
      },
      "source": [
        "print(grid_search_house_pipe.best_params_)"
      ],
      "execution_count": null,
      "outputs": [
        {
          "output_type": "stream",
          "text": [
            "{'regressor': SGDRegressor(alpha=0.1, average=False, early_stopping=False, epsilon=0.1,\n",
            "             eta0=0.01, fit_intercept=True, l1_ratio=0.15,\n",
            "             learning_rate='invscaling', loss='squared_loss', max_iter=1000,\n",
            "             n_iter_no_change=5, penalty='l2', power_t=0.25, random_state=None,\n",
            "             shuffle=True, tol=1e-05, validation_fraction=0.1, verbose=0,\n",
            "             warm_start=False), 'regressor__alpha': 0.1, 'regressor__eta0': 0.01, 'regressor__penalty': 'l2'}\n"
          ],
          "name": "stdout"
        }
      ]
    },
    {
      "cell_type": "code",
      "metadata": {
        "ExecuteTime": {
          "end_time": "2020-04-22T21:47:54.994765Z",
          "start_time": "2020-04-22T21:47:54.982772Z"
        },
        "id": "rTxneWrSl5Jg"
      },
      "source": [
        "# let's get the predictions\n",
        "X_train_preds = grid_search_house_pipe.predict(X_train)\n",
        "X_test_preds = grid_search_house_pipe.predict(X_test)"
      ],
      "execution_count": null,
      "outputs": []
    },
    {
      "cell_type": "code",
      "metadata": {
        "ExecuteTime": {
          "end_time": "2020-04-22T21:47:55.020756Z",
          "start_time": "2020-04-22T21:47:54.999764Z"
        },
        "id": "2A4gTEq1l5Jg",
        "outputId": "218af14d-8487-4623-cbfe-ec113bbee7e6"
      },
      "source": [
        "print(\"Best Mean Cross-validation score: {:.3f}\".format(grid_search_house_pipe.best_score_))"
      ],
      "execution_count": null,
      "outputs": [
        {
          "output_type": "stream",
          "text": [
            "Best Mean Cross-validation score: 0.886\n"
          ],
          "name": "stdout"
        }
      ]
    },
    {
      "cell_type": "code",
      "metadata": {
        "ExecuteTime": {
          "end_time": "2020-04-22T21:47:55.076720Z",
          "start_time": "2020-04-22T21:47:55.040749Z"
        },
        "id": "2zoTkuCrl5Jg",
        "outputId": "9cbda5d7-743b-455c-a7c8-fce704efebbc"
      },
      "source": [
        "# check model performance:\n",
        "from sklearn.metrics import mean_squared_error\n",
        "from sklearn.metrics import r2_score\n",
        "\n",
        "print('train mse: {}'.format(mean_squared_error(y_train, X_train_preds)))\n",
        "print('train rmse: {}'.format(sqrt(mean_squared_error(y_train, X_train_preds))))\n",
        "print('train r2: {}'.format(r2_score(y_train, X_train_preds)))\n",
        "print()\n",
        "print('test mse: {}'.format(mean_squared_error(y_test, X_test_preds)))\n",
        "print('test rmse: {}'.format(sqrt(mean_squared_error(y_test, X_test_preds))))\n",
        "print('test r2: {}'.format(r2_score(y_test, X_test_preds)))"
      ],
      "execution_count": null,
      "outputs": [
        {
          "output_type": "stream",
          "text": [
            "train mse: 568476991.6942252\n",
            "train rmse: 23842.75553903586\n",
            "train r2: 0.9089538278846372\n",
            "\n",
            "test mse: 847559353.6050906\n",
            "test rmse: 29112.872644331932\n",
            "test r2: 0.8766668895599573\n"
          ],
          "name": "stdout"
        }
      ]
    },
    {
      "cell_type": "markdown",
      "metadata": {
        "ExecuteTime": {
          "end_time": "2020-04-22T18:52:25.486914Z",
          "start_time": "2020-04-22T18:52:25.482921Z"
        },
        "id": "PKqH8cBSl5Jh"
      },
      "source": [
        "# Ensemble Models"
      ]
    },
    {
      "cell_type": "markdown",
      "metadata": {
        "ExecuteTime": {
          "end_time": "2020-04-22T18:55:13.941562Z",
          "start_time": "2020-04-22T18:55:13.937548Z"
        },
        "id": "IwJtuXwbl5Jh"
      },
      "source": [
        "## Bagging"
      ]
    },
    {
      "cell_type": "code",
      "metadata": {
        "ExecuteTime": {
          "end_time": "2020-04-22T21:47:55.335570Z",
          "start_time": "2020-04-22T21:47:55.092709Z"
        },
        "id": "aoLqpD71l5Ji"
      },
      "source": [
        "from sklearn.ensemble import BaggingRegressor"
      ],
      "execution_count": null,
      "outputs": []
    },
    {
      "cell_type": "code",
      "metadata": {
        "ExecuteTime": {
          "end_time": "2020-04-22T21:54:47.374463Z",
          "start_time": "2020-04-22T21:47:55.344565Z"
        },
        "id": "TKlVDd4Hl5Ji",
        "outputId": "2fa53edc-f1dc-49a8-fece-c69bc227441a"
      },
      "source": [
        "bag_dtree1 = BaggingRegressor(base_estimator=DecisionTreeRegressor(), bootstrap=True, random_state=0, oob_score=False)\n",
        "\n",
        "bag_dtree1_param = {\n",
        "                 'base_estimator__max_depth': range(1,10),\n",
        "                'base_estimator__min_samples_split': range(2,10,1),\n",
        "                 'max_samples':  [0.8,1],\n",
        "                 'n_estimators': [10,25,100]}\n",
        "\n",
        "bag_dtree1_grid = GridSearchCV(bag_dtree1, bag_dtree1_param,cv=5, return_train_score=True, )\n",
        "bag_dtree1_grid.fit(X_train,y_train)"
      ],
      "execution_count": null,
      "outputs": [
        {
          "output_type": "execute_result",
          "data": {
            "text/plain": [
              "GridSearchCV(cv=5, error_score=nan,\n",
              "             estimator=BaggingRegressor(base_estimator=DecisionTreeRegressor(ccp_alpha=0.0,\n",
              "                                                                             criterion='mse',\n",
              "                                                                             max_depth=None,\n",
              "                                                                             max_features=None,\n",
              "                                                                             max_leaf_nodes=None,\n",
              "                                                                             min_impurity_decrease=0.0,\n",
              "                                                                             min_impurity_split=None,\n",
              "                                                                             min_samples_leaf=1,\n",
              "                                                                             min_samples_split=2,\n",
              "                                                                             min_weight_fraction_leaf=0.0,\n",
              "                                                                             presort='deprecated',\n",
              "                                                                             random_state=None,\n",
              "                                                                             splitter='be...\n",
              "                                        max_features=1.0, max_samples=1.0,\n",
              "                                        n_estimators=10, n_jobs=None,\n",
              "                                        oob_score=False, random_state=0,\n",
              "                                        verbose=0, warm_start=False),\n",
              "             iid='deprecated', n_jobs=None,\n",
              "             param_grid={'base_estimator__max_depth': range(1, 10),\n",
              "                         'base_estimator__min_samples_split': range(2, 10),\n",
              "                         'max_samples': [0.8, 1],\n",
              "                         'n_estimators': [10, 25, 100]},\n",
              "             pre_dispatch='2*n_jobs', refit=True, return_train_score=True,\n",
              "             scoring=None, verbose=0)"
            ]
          },
          "metadata": {
            "tags": []
          },
          "execution_count": 64
        }
      ]
    },
    {
      "cell_type": "code",
      "metadata": {
        "ExecuteTime": {
          "end_time": "2020-04-22T21:54:47.511401Z",
          "start_time": "2020-04-22T21:54:47.376474Z"
        },
        "id": "rAM0X8Bwl5Jj",
        "outputId": "ed0f9a49-2b7a-49eb-e507-097deb604a0c"
      },
      "source": [
        "print(f'Best Mean Cross Validation Score is {bag_dtree1_grid.best_score_}')\n",
        "print(f'Best parameters are {bag_dtree1_grid.best_params_}')\n",
        "print(f'Train score is {bag_dtree1_grid.score(X_train,y_train)}')\n",
        "print(f'Test score is {bag_dtree1_grid.score(X_test,y_test)}')\n"
      ],
      "execution_count": null,
      "outputs": [
        {
          "output_type": "stream",
          "text": [
            "Best Mean Cross Validation Score is 0.8722900792200419\n",
            "Best parameters are {'base_estimator__max_depth': 9, 'base_estimator__min_samples_split': 2, 'max_samples': 0.8, 'n_estimators': 100}\n",
            "Train score is 0.963722616694338\n",
            "Test score is 0.8603296190869036\n"
          ],
          "name": "stdout"
        }
      ]
    },
    {
      "cell_type": "code",
      "metadata": {
        "id": "BCbXJto5l5Jl"
      },
      "source": [
        ""
      ],
      "execution_count": null,
      "outputs": []
    },
    {
      "cell_type": "code",
      "metadata": {
        "id": "N5bG1gGnl5Jm"
      },
      "source": [
        ""
      ],
      "execution_count": null,
      "outputs": []
    },
    {
      "cell_type": "code",
      "metadata": {
        "ExecuteTime": {
          "end_time": "2020-04-22T21:54:55.128519Z",
          "start_time": "2020-04-22T21:54:47.521394Z"
        },
        "id": "yiGID8f8l5Jm",
        "outputId": "4e063220-4eca-4aa6-8a0b-770450d139a5"
      },
      "source": [
        "bag_lasso = BaggingRegressor(base_estimator=Lasso(random_state=0), bootstrap=True, random_state=0, oob_score=False)\n",
        "\n",
        "bag_lasso_param = {\n",
        "                 'base_estimator__alpha': [1000],\n",
        "                 'max_samples':  [0.8,1],\n",
        "                 'n_estimators': [10,25,100]}\n",
        "bag_lasso_grid = GridSearchCV(bag_lasso, bag_lasso_param,cv=5, return_train_score=True, )\n",
        "bag_lasso_grid.fit(X_train,y_train)"
      ],
      "execution_count": null,
      "outputs": [
        {
          "output_type": "stream",
          "text": [
            "C:\\Users\\User\\Anaconda3\\envs\\buan6341_2020\\lib\\site-packages\\sklearn\\linear_model\\_coordinate_descent.py:476: ConvergenceWarning: Objective did not converge. You might want to increase the number of iterations. Duality gap: 0.0, tolerance: 0.0\n",
            "  positive)\n",
            "C:\\Users\\User\\Anaconda3\\envs\\buan6341_2020\\lib\\site-packages\\sklearn\\linear_model\\_coordinate_descent.py:476: ConvergenceWarning: Objective did not converge. You might want to increase the number of iterations. Duality gap: 0.0, tolerance: 0.0\n",
            "  positive)\n",
            "C:\\Users\\User\\Anaconda3\\envs\\buan6341_2020\\lib\\site-packages\\sklearn\\linear_model\\_coordinate_descent.py:476: ConvergenceWarning: Objective did not converge. You might want to increase the number of iterations. Duality gap: 0.0, tolerance: 0.0\n",
            "  positive)\n",
            "C:\\Users\\User\\Anaconda3\\envs\\buan6341_2020\\lib\\site-packages\\sklearn\\linear_model\\_coordinate_descent.py:476: ConvergenceWarning: Objective did not converge. You might want to increase the number of iterations. Duality gap: 0.0, tolerance: 0.0\n",
            "  positive)\n",
            "C:\\Users\\User\\Anaconda3\\envs\\buan6341_2020\\lib\\site-packages\\sklearn\\linear_model\\_coordinate_descent.py:476: ConvergenceWarning: Objective did not converge. You might want to increase the number of iterations. Duality gap: 0.0, tolerance: 0.0\n",
            "  positive)\n",
            "C:\\Users\\User\\Anaconda3\\envs\\buan6341_2020\\lib\\site-packages\\sklearn\\linear_model\\_coordinate_descent.py:476: ConvergenceWarning: Objective did not converge. You might want to increase the number of iterations. Duality gap: 0.0, tolerance: 0.0\n",
            "  positive)\n",
            "C:\\Users\\User\\Anaconda3\\envs\\buan6341_2020\\lib\\site-packages\\sklearn\\linear_model\\_coordinate_descent.py:476: ConvergenceWarning: Objective did not converge. You might want to increase the number of iterations. Duality gap: 0.0, tolerance: 0.0\n",
            "  positive)\n",
            "C:\\Users\\User\\Anaconda3\\envs\\buan6341_2020\\lib\\site-packages\\sklearn\\linear_model\\_coordinate_descent.py:476: ConvergenceWarning: Objective did not converge. You might want to increase the number of iterations. Duality gap: 0.0, tolerance: 0.0\n",
            "  positive)\n",
            "C:\\Users\\User\\Anaconda3\\envs\\buan6341_2020\\lib\\site-packages\\sklearn\\linear_model\\_coordinate_descent.py:476: ConvergenceWarning: Objective did not converge. You might want to increase the number of iterations. Duality gap: 0.0, tolerance: 0.0\n",
            "  positive)\n",
            "C:\\Users\\User\\Anaconda3\\envs\\buan6341_2020\\lib\\site-packages\\sklearn\\linear_model\\_coordinate_descent.py:476: ConvergenceWarning: Objective did not converge. You might want to increase the number of iterations. Duality gap: 0.0, tolerance: 0.0\n",
            "  positive)\n",
            "C:\\Users\\User\\Anaconda3\\envs\\buan6341_2020\\lib\\site-packages\\sklearn\\linear_model\\_coordinate_descent.py:476: ConvergenceWarning: Objective did not converge. You might want to increase the number of iterations. Duality gap: 0.0, tolerance: 0.0\n",
            "  positive)\n",
            "C:\\Users\\User\\Anaconda3\\envs\\buan6341_2020\\lib\\site-packages\\sklearn\\linear_model\\_coordinate_descent.py:476: ConvergenceWarning: Objective did not converge. You might want to increase the number of iterations. Duality gap: 0.0, tolerance: 0.0\n",
            "  positive)\n",
            "C:\\Users\\User\\Anaconda3\\envs\\buan6341_2020\\lib\\site-packages\\sklearn\\linear_model\\_coordinate_descent.py:476: ConvergenceWarning: Objective did not converge. You might want to increase the number of iterations. Duality gap: 0.0, tolerance: 0.0\n",
            "  positive)\n",
            "C:\\Users\\User\\Anaconda3\\envs\\buan6341_2020\\lib\\site-packages\\sklearn\\linear_model\\_coordinate_descent.py:476: ConvergenceWarning: Objective did not converge. You might want to increase the number of iterations. Duality gap: 0.0, tolerance: 0.0\n",
            "  positive)\n",
            "C:\\Users\\User\\Anaconda3\\envs\\buan6341_2020\\lib\\site-packages\\sklearn\\linear_model\\_coordinate_descent.py:476: ConvergenceWarning: Objective did not converge. You might want to increase the number of iterations. Duality gap: 0.0, tolerance: 0.0\n",
            "  positive)\n",
            "C:\\Users\\User\\Anaconda3\\envs\\buan6341_2020\\lib\\site-packages\\sklearn\\linear_model\\_coordinate_descent.py:476: ConvergenceWarning: Objective did not converge. You might want to increase the number of iterations. Duality gap: 0.0, tolerance: 0.0\n",
            "  positive)\n",
            "C:\\Users\\User\\Anaconda3\\envs\\buan6341_2020\\lib\\site-packages\\sklearn\\linear_model\\_coordinate_descent.py:476: ConvergenceWarning: Objective did not converge. You might want to increase the number of iterations. Duality gap: 0.0, tolerance: 0.0\n",
            "  positive)\n",
            "C:\\Users\\User\\Anaconda3\\envs\\buan6341_2020\\lib\\site-packages\\sklearn\\linear_model\\_coordinate_descent.py:476: ConvergenceWarning: Objective did not converge. You might want to increase the number of iterations. Duality gap: 0.0, tolerance: 0.0\n",
            "  positive)\n",
            "C:\\Users\\User\\Anaconda3\\envs\\buan6341_2020\\lib\\site-packages\\sklearn\\linear_model\\_coordinate_descent.py:476: ConvergenceWarning: Objective did not converge. You might want to increase the number of iterations. Duality gap: 0.0, tolerance: 0.0\n",
            "  positive)\n",
            "C:\\Users\\User\\Anaconda3\\envs\\buan6341_2020\\lib\\site-packages\\sklearn\\linear_model\\_coordinate_descent.py:476: ConvergenceWarning: Objective did not converge. You might want to increase the number of iterations. Duality gap: 0.0, tolerance: 0.0\n",
            "  positive)\n",
            "C:\\Users\\User\\Anaconda3\\envs\\buan6341_2020\\lib\\site-packages\\sklearn\\linear_model\\_coordinate_descent.py:476: ConvergenceWarning: Objective did not converge. You might want to increase the number of iterations. Duality gap: 0.0, tolerance: 0.0\n",
            "  positive)\n",
            "C:\\Users\\User\\Anaconda3\\envs\\buan6341_2020\\lib\\site-packages\\sklearn\\linear_model\\_coordinate_descent.py:476: ConvergenceWarning: Objective did not converge. You might want to increase the number of iterations. Duality gap: 0.0, tolerance: 0.0\n",
            "  positive)\n",
            "C:\\Users\\User\\Anaconda3\\envs\\buan6341_2020\\lib\\site-packages\\sklearn\\linear_model\\_coordinate_descent.py:476: ConvergenceWarning: Objective did not converge. You might want to increase the number of iterations. Duality gap: 0.0, tolerance: 0.0\n",
            "  positive)\n",
            "C:\\Users\\User\\Anaconda3\\envs\\buan6341_2020\\lib\\site-packages\\sklearn\\linear_model\\_coordinate_descent.py:476: ConvergenceWarning: Objective did not converge. You might want to increase the number of iterations. Duality gap: 0.0, tolerance: 0.0\n",
            "  positive)\n",
            "C:\\Users\\User\\Anaconda3\\envs\\buan6341_2020\\lib\\site-packages\\sklearn\\linear_model\\_coordinate_descent.py:476: ConvergenceWarning: Objective did not converge. You might want to increase the number of iterations. Duality gap: 0.0, tolerance: 0.0\n",
            "  positive)\n",
            "C:\\Users\\User\\Anaconda3\\envs\\buan6341_2020\\lib\\site-packages\\sklearn\\linear_model\\_coordinate_descent.py:476: ConvergenceWarning: Objective did not converge. You might want to increase the number of iterations. Duality gap: 0.0, tolerance: 0.0\n",
            "  positive)\n",
            "C:\\Users\\User\\Anaconda3\\envs\\buan6341_2020\\lib\\site-packages\\sklearn\\linear_model\\_coordinate_descent.py:476: ConvergenceWarning: Objective did not converge. You might want to increase the number of iterations. Duality gap: 0.0, tolerance: 0.0\n",
            "  positive)\n",
            "C:\\Users\\User\\Anaconda3\\envs\\buan6341_2020\\lib\\site-packages\\sklearn\\linear_model\\_coordinate_descent.py:476: ConvergenceWarning: Objective did not converge. You might want to increase the number of iterations. Duality gap: 0.0, tolerance: 0.0\n",
            "  positive)\n",
            "C:\\Users\\User\\Anaconda3\\envs\\buan6341_2020\\lib\\site-packages\\sklearn\\linear_model\\_coordinate_descent.py:476: ConvergenceWarning: Objective did not converge. You might want to increase the number of iterations. Duality gap: 0.0, tolerance: 0.0\n",
            "  positive)\n",
            "C:\\Users\\User\\Anaconda3\\envs\\buan6341_2020\\lib\\site-packages\\sklearn\\linear_model\\_coordinate_descent.py:476: ConvergenceWarning: Objective did not converge. You might want to increase the number of iterations. Duality gap: 0.0, tolerance: 0.0\n",
            "  positive)\n",
            "C:\\Users\\User\\Anaconda3\\envs\\buan6341_2020\\lib\\site-packages\\sklearn\\linear_model\\_coordinate_descent.py:476: ConvergenceWarning: Objective did not converge. You might want to increase the number of iterations. Duality gap: 0.0, tolerance: 0.0\n",
            "  positive)\n",
            "C:\\Users\\User\\Anaconda3\\envs\\buan6341_2020\\lib\\site-packages\\sklearn\\linear_model\\_coordinate_descent.py:476: ConvergenceWarning: Objective did not converge. You might want to increase the number of iterations. Duality gap: 0.0, tolerance: 0.0\n",
            "  positive)\n",
            "C:\\Users\\User\\Anaconda3\\envs\\buan6341_2020\\lib\\site-packages\\sklearn\\linear_model\\_coordinate_descent.py:476: ConvergenceWarning: Objective did not converge. You might want to increase the number of iterations. Duality gap: 0.0, tolerance: 0.0\n",
            "  positive)\n",
            "C:\\Users\\User\\Anaconda3\\envs\\buan6341_2020\\lib\\site-packages\\sklearn\\linear_model\\_coordinate_descent.py:476: ConvergenceWarning: Objective did not converge. You might want to increase the number of iterations. Duality gap: 0.0, tolerance: 0.0\n",
            "  positive)\n",
            "C:\\Users\\User\\Anaconda3\\envs\\buan6341_2020\\lib\\site-packages\\sklearn\\linear_model\\_coordinate_descent.py:476: ConvergenceWarning: Objective did not converge. You might want to increase the number of iterations. Duality gap: 0.0, tolerance: 0.0\n",
            "  positive)\n",
            "C:\\Users\\User\\Anaconda3\\envs\\buan6341_2020\\lib\\site-packages\\sklearn\\linear_model\\_coordinate_descent.py:476: ConvergenceWarning: Objective did not converge. You might want to increase the number of iterations. Duality gap: 0.0, tolerance: 0.0\n",
            "  positive)\n",
            "C:\\Users\\User\\Anaconda3\\envs\\buan6341_2020\\lib\\site-packages\\sklearn\\linear_model\\_coordinate_descent.py:476: ConvergenceWarning: Objective did not converge. You might want to increase the number of iterations. Duality gap: 0.0, tolerance: 0.0\n",
            "  positive)\n",
            "C:\\Users\\User\\Anaconda3\\envs\\buan6341_2020\\lib\\site-packages\\sklearn\\linear_model\\_coordinate_descent.py:476: ConvergenceWarning: Objective did not converge. You might want to increase the number of iterations. Duality gap: 0.0, tolerance: 0.0\n",
            "  positive)\n",
            "C:\\Users\\User\\Anaconda3\\envs\\buan6341_2020\\lib\\site-packages\\sklearn\\linear_model\\_coordinate_descent.py:476: ConvergenceWarning: Objective did not converge. You might want to increase the number of iterations. Duality gap: 0.0, tolerance: 0.0\n",
            "  positive)\n",
            "C:\\Users\\User\\Anaconda3\\envs\\buan6341_2020\\lib\\site-packages\\sklearn\\linear_model\\_coordinate_descent.py:476: ConvergenceWarning: Objective did not converge. You might want to increase the number of iterations. Duality gap: 0.0, tolerance: 0.0\n",
            "  positive)\n",
            "C:\\Users\\User\\Anaconda3\\envs\\buan6341_2020\\lib\\site-packages\\sklearn\\linear_model\\_coordinate_descent.py:476: ConvergenceWarning: Objective did not converge. You might want to increase the number of iterations. Duality gap: 0.0, tolerance: 0.0\n",
            "  positive)\n",
            "C:\\Users\\User\\Anaconda3\\envs\\buan6341_2020\\lib\\site-packages\\sklearn\\linear_model\\_coordinate_descent.py:476: ConvergenceWarning: Objective did not converge. You might want to increase the number of iterations. Duality gap: 0.0, tolerance: 0.0\n",
            "  positive)\n",
            "C:\\Users\\User\\Anaconda3\\envs\\buan6341_2020\\lib\\site-packages\\sklearn\\linear_model\\_coordinate_descent.py:476: ConvergenceWarning: Objective did not converge. You might want to increase the number of iterations. Duality gap: 0.0, tolerance: 0.0\n",
            "  positive)\n",
            "C:\\Users\\User\\Anaconda3\\envs\\buan6341_2020\\lib\\site-packages\\sklearn\\linear_model\\_coordinate_descent.py:476: ConvergenceWarning: Objective did not converge. You might want to increase the number of iterations. Duality gap: 0.0, tolerance: 0.0\n",
            "  positive)\n",
            "C:\\Users\\User\\Anaconda3\\envs\\buan6341_2020\\lib\\site-packages\\sklearn\\linear_model\\_coordinate_descent.py:476: ConvergenceWarning: Objective did not converge. You might want to increase the number of iterations. Duality gap: 0.0, tolerance: 0.0\n",
            "  positive)\n",
            "C:\\Users\\User\\Anaconda3\\envs\\buan6341_2020\\lib\\site-packages\\sklearn\\linear_model\\_coordinate_descent.py:476: ConvergenceWarning: Objective did not converge. You might want to increase the number of iterations. Duality gap: 0.0, tolerance: 0.0\n",
            "  positive)\n",
            "C:\\Users\\User\\Anaconda3\\envs\\buan6341_2020\\lib\\site-packages\\sklearn\\linear_model\\_coordinate_descent.py:476: ConvergenceWarning: Objective did not converge. You might want to increase the number of iterations. Duality gap: 0.0, tolerance: 0.0\n",
            "  positive)\n",
            "C:\\Users\\User\\Anaconda3\\envs\\buan6341_2020\\lib\\site-packages\\sklearn\\linear_model\\_coordinate_descent.py:476: ConvergenceWarning: Objective did not converge. You might want to increase the number of iterations. Duality gap: 0.0, tolerance: 0.0\n",
            "  positive)\n",
            "C:\\Users\\User\\Anaconda3\\envs\\buan6341_2020\\lib\\site-packages\\sklearn\\linear_model\\_coordinate_descent.py:476: ConvergenceWarning: Objective did not converge. You might want to increase the number of iterations. Duality gap: 0.0, tolerance: 0.0\n",
            "  positive)\n",
            "C:\\Users\\User\\Anaconda3\\envs\\buan6341_2020\\lib\\site-packages\\sklearn\\linear_model\\_coordinate_descent.py:476: ConvergenceWarning: Objective did not converge. You might want to increase the number of iterations. Duality gap: 0.0, tolerance: 0.0\n",
            "  positive)\n",
            "C:\\Users\\User\\Anaconda3\\envs\\buan6341_2020\\lib\\site-packages\\sklearn\\linear_model\\_coordinate_descent.py:476: ConvergenceWarning: Objective did not converge. You might want to increase the number of iterations. Duality gap: 0.0, tolerance: 0.0\n",
            "  positive)\n"
          ],
          "name": "stderr"
        },
        {
          "output_type": "stream",
          "text": [
            "C:\\Users\\User\\Anaconda3\\envs\\buan6341_2020\\lib\\site-packages\\sklearn\\linear_model\\_coordinate_descent.py:476: ConvergenceWarning: Objective did not converge. You might want to increase the number of iterations. Duality gap: 0.0, tolerance: 0.0\n",
            "  positive)\n",
            "C:\\Users\\User\\Anaconda3\\envs\\buan6341_2020\\lib\\site-packages\\sklearn\\linear_model\\_coordinate_descent.py:476: ConvergenceWarning: Objective did not converge. You might want to increase the number of iterations. Duality gap: 0.0, tolerance: 0.0\n",
            "  positive)\n",
            "C:\\Users\\User\\Anaconda3\\envs\\buan6341_2020\\lib\\site-packages\\sklearn\\linear_model\\_coordinate_descent.py:476: ConvergenceWarning: Objective did not converge. You might want to increase the number of iterations. Duality gap: 0.0, tolerance: 0.0\n",
            "  positive)\n",
            "C:\\Users\\User\\Anaconda3\\envs\\buan6341_2020\\lib\\site-packages\\sklearn\\linear_model\\_coordinate_descent.py:476: ConvergenceWarning: Objective did not converge. You might want to increase the number of iterations. Duality gap: 0.0, tolerance: 0.0\n",
            "  positive)\n",
            "C:\\Users\\User\\Anaconda3\\envs\\buan6341_2020\\lib\\site-packages\\sklearn\\linear_model\\_coordinate_descent.py:476: ConvergenceWarning: Objective did not converge. You might want to increase the number of iterations. Duality gap: 0.0, tolerance: 0.0\n",
            "  positive)\n",
            "C:\\Users\\User\\Anaconda3\\envs\\buan6341_2020\\lib\\site-packages\\sklearn\\linear_model\\_coordinate_descent.py:476: ConvergenceWarning: Objective did not converge. You might want to increase the number of iterations. Duality gap: 0.0, tolerance: 0.0\n",
            "  positive)\n",
            "C:\\Users\\User\\Anaconda3\\envs\\buan6341_2020\\lib\\site-packages\\sklearn\\linear_model\\_coordinate_descent.py:476: ConvergenceWarning: Objective did not converge. You might want to increase the number of iterations. Duality gap: 0.0, tolerance: 0.0\n",
            "  positive)\n",
            "C:\\Users\\User\\Anaconda3\\envs\\buan6341_2020\\lib\\site-packages\\sklearn\\linear_model\\_coordinate_descent.py:476: ConvergenceWarning: Objective did not converge. You might want to increase the number of iterations. Duality gap: 0.0, tolerance: 0.0\n",
            "  positive)\n",
            "C:\\Users\\User\\Anaconda3\\envs\\buan6341_2020\\lib\\site-packages\\sklearn\\linear_model\\_coordinate_descent.py:476: ConvergenceWarning: Objective did not converge. You might want to increase the number of iterations. Duality gap: 0.0, tolerance: 0.0\n",
            "  positive)\n",
            "C:\\Users\\User\\Anaconda3\\envs\\buan6341_2020\\lib\\site-packages\\sklearn\\linear_model\\_coordinate_descent.py:476: ConvergenceWarning: Objective did not converge. You might want to increase the number of iterations. Duality gap: 0.0, tolerance: 0.0\n",
            "  positive)\n",
            "C:\\Users\\User\\Anaconda3\\envs\\buan6341_2020\\lib\\site-packages\\sklearn\\linear_model\\_coordinate_descent.py:476: ConvergenceWarning: Objective did not converge. You might want to increase the number of iterations. Duality gap: 0.0, tolerance: 0.0\n",
            "  positive)\n",
            "C:\\Users\\User\\Anaconda3\\envs\\buan6341_2020\\lib\\site-packages\\sklearn\\linear_model\\_coordinate_descent.py:476: ConvergenceWarning: Objective did not converge. You might want to increase the number of iterations. Duality gap: 0.0, tolerance: 0.0\n",
            "  positive)\n",
            "C:\\Users\\User\\Anaconda3\\envs\\buan6341_2020\\lib\\site-packages\\sklearn\\linear_model\\_coordinate_descent.py:476: ConvergenceWarning: Objective did not converge. You might want to increase the number of iterations. Duality gap: 0.0, tolerance: 0.0\n",
            "  positive)\n",
            "C:\\Users\\User\\Anaconda3\\envs\\buan6341_2020\\lib\\site-packages\\sklearn\\linear_model\\_coordinate_descent.py:476: ConvergenceWarning: Objective did not converge. You might want to increase the number of iterations. Duality gap: 0.0, tolerance: 0.0\n",
            "  positive)\n",
            "C:\\Users\\User\\Anaconda3\\envs\\buan6341_2020\\lib\\site-packages\\sklearn\\linear_model\\_coordinate_descent.py:476: ConvergenceWarning: Objective did not converge. You might want to increase the number of iterations. Duality gap: 0.0, tolerance: 0.0\n",
            "  positive)\n",
            "C:\\Users\\User\\Anaconda3\\envs\\buan6341_2020\\lib\\site-packages\\sklearn\\linear_model\\_coordinate_descent.py:476: ConvergenceWarning: Objective did not converge. You might want to increase the number of iterations. Duality gap: 0.0, tolerance: 0.0\n",
            "  positive)\n",
            "C:\\Users\\User\\Anaconda3\\envs\\buan6341_2020\\lib\\site-packages\\sklearn\\linear_model\\_coordinate_descent.py:476: ConvergenceWarning: Objective did not converge. You might want to increase the number of iterations. Duality gap: 0.0, tolerance: 0.0\n",
            "  positive)\n",
            "C:\\Users\\User\\Anaconda3\\envs\\buan6341_2020\\lib\\site-packages\\sklearn\\linear_model\\_coordinate_descent.py:476: ConvergenceWarning: Objective did not converge. You might want to increase the number of iterations. Duality gap: 0.0, tolerance: 0.0\n",
            "  positive)\n",
            "C:\\Users\\User\\Anaconda3\\envs\\buan6341_2020\\lib\\site-packages\\sklearn\\linear_model\\_coordinate_descent.py:476: ConvergenceWarning: Objective did not converge. You might want to increase the number of iterations. Duality gap: 0.0, tolerance: 0.0\n",
            "  positive)\n",
            "C:\\Users\\User\\Anaconda3\\envs\\buan6341_2020\\lib\\site-packages\\sklearn\\linear_model\\_coordinate_descent.py:476: ConvergenceWarning: Objective did not converge. You might want to increase the number of iterations. Duality gap: 0.0, tolerance: 0.0\n",
            "  positive)\n",
            "C:\\Users\\User\\Anaconda3\\envs\\buan6341_2020\\lib\\site-packages\\sklearn\\linear_model\\_coordinate_descent.py:476: ConvergenceWarning: Objective did not converge. You might want to increase the number of iterations. Duality gap: 0.0, tolerance: 0.0\n",
            "  positive)\n",
            "C:\\Users\\User\\Anaconda3\\envs\\buan6341_2020\\lib\\site-packages\\sklearn\\linear_model\\_coordinate_descent.py:476: ConvergenceWarning: Objective did not converge. You might want to increase the number of iterations. Duality gap: 0.0, tolerance: 0.0\n",
            "  positive)\n",
            "C:\\Users\\User\\Anaconda3\\envs\\buan6341_2020\\lib\\site-packages\\sklearn\\linear_model\\_coordinate_descent.py:476: ConvergenceWarning: Objective did not converge. You might want to increase the number of iterations. Duality gap: 0.0, tolerance: 0.0\n",
            "  positive)\n",
            "C:\\Users\\User\\Anaconda3\\envs\\buan6341_2020\\lib\\site-packages\\sklearn\\linear_model\\_coordinate_descent.py:476: ConvergenceWarning: Objective did not converge. You might want to increase the number of iterations. Duality gap: 0.0, tolerance: 0.0\n",
            "  positive)\n",
            "C:\\Users\\User\\Anaconda3\\envs\\buan6341_2020\\lib\\site-packages\\sklearn\\linear_model\\_coordinate_descent.py:476: ConvergenceWarning: Objective did not converge. You might want to increase the number of iterations. Duality gap: 0.0, tolerance: 0.0\n",
            "  positive)\n",
            "C:\\Users\\User\\Anaconda3\\envs\\buan6341_2020\\lib\\site-packages\\sklearn\\linear_model\\_coordinate_descent.py:476: ConvergenceWarning: Objective did not converge. You might want to increase the number of iterations. Duality gap: 0.0, tolerance: 0.0\n",
            "  positive)\n",
            "C:\\Users\\User\\Anaconda3\\envs\\buan6341_2020\\lib\\site-packages\\sklearn\\linear_model\\_coordinate_descent.py:476: ConvergenceWarning: Objective did not converge. You might want to increase the number of iterations. Duality gap: 0.0, tolerance: 0.0\n",
            "  positive)\n",
            "C:\\Users\\User\\Anaconda3\\envs\\buan6341_2020\\lib\\site-packages\\sklearn\\linear_model\\_coordinate_descent.py:476: ConvergenceWarning: Objective did not converge. You might want to increase the number of iterations. Duality gap: 0.0, tolerance: 0.0\n",
            "  positive)\n",
            "C:\\Users\\User\\Anaconda3\\envs\\buan6341_2020\\lib\\site-packages\\sklearn\\linear_model\\_coordinate_descent.py:476: ConvergenceWarning: Objective did not converge. You might want to increase the number of iterations. Duality gap: 0.0, tolerance: 0.0\n",
            "  positive)\n",
            "C:\\Users\\User\\Anaconda3\\envs\\buan6341_2020\\lib\\site-packages\\sklearn\\linear_model\\_coordinate_descent.py:476: ConvergenceWarning: Objective did not converge. You might want to increase the number of iterations. Duality gap: 0.0, tolerance: 0.0\n",
            "  positive)\n",
            "C:\\Users\\User\\Anaconda3\\envs\\buan6341_2020\\lib\\site-packages\\sklearn\\linear_model\\_coordinate_descent.py:476: ConvergenceWarning: Objective did not converge. You might want to increase the number of iterations. Duality gap: 0.0, tolerance: 0.0\n",
            "  positive)\n",
            "C:\\Users\\User\\Anaconda3\\envs\\buan6341_2020\\lib\\site-packages\\sklearn\\linear_model\\_coordinate_descent.py:476: ConvergenceWarning: Objective did not converge. You might want to increase the number of iterations. Duality gap: 0.0, tolerance: 0.0\n",
            "  positive)\n",
            "C:\\Users\\User\\Anaconda3\\envs\\buan6341_2020\\lib\\site-packages\\sklearn\\linear_model\\_coordinate_descent.py:476: ConvergenceWarning: Objective did not converge. You might want to increase the number of iterations. Duality gap: 0.0, tolerance: 0.0\n",
            "  positive)\n"
          ],
          "name": "stderr"
        },
        {
          "output_type": "stream",
          "text": [
            "C:\\Users\\User\\Anaconda3\\envs\\buan6341_2020\\lib\\site-packages\\sklearn\\linear_model\\_coordinate_descent.py:476: ConvergenceWarning: Objective did not converge. You might want to increase the number of iterations. Duality gap: 0.0, tolerance: 0.0\n",
            "  positive)\n",
            "C:\\Users\\User\\Anaconda3\\envs\\buan6341_2020\\lib\\site-packages\\sklearn\\linear_model\\_coordinate_descent.py:476: ConvergenceWarning: Objective did not converge. You might want to increase the number of iterations. Duality gap: 0.0, tolerance: 0.0\n",
            "  positive)\n",
            "C:\\Users\\User\\Anaconda3\\envs\\buan6341_2020\\lib\\site-packages\\sklearn\\linear_model\\_coordinate_descent.py:476: ConvergenceWarning: Objective did not converge. You might want to increase the number of iterations. Duality gap: 0.0, tolerance: 0.0\n",
            "  positive)\n",
            "C:\\Users\\User\\Anaconda3\\envs\\buan6341_2020\\lib\\site-packages\\sklearn\\linear_model\\_coordinate_descent.py:476: ConvergenceWarning: Objective did not converge. You might want to increase the number of iterations. Duality gap: 0.0, tolerance: 0.0\n",
            "  positive)\n",
            "C:\\Users\\User\\Anaconda3\\envs\\buan6341_2020\\lib\\site-packages\\sklearn\\linear_model\\_coordinate_descent.py:476: ConvergenceWarning: Objective did not converge. You might want to increase the number of iterations. Duality gap: 0.0, tolerance: 0.0\n",
            "  positive)\n",
            "C:\\Users\\User\\Anaconda3\\envs\\buan6341_2020\\lib\\site-packages\\sklearn\\linear_model\\_coordinate_descent.py:476: ConvergenceWarning: Objective did not converge. You might want to increase the number of iterations. Duality gap: 0.0, tolerance: 0.0\n",
            "  positive)\n",
            "C:\\Users\\User\\Anaconda3\\envs\\buan6341_2020\\lib\\site-packages\\sklearn\\linear_model\\_coordinate_descent.py:476: ConvergenceWarning: Objective did not converge. You might want to increase the number of iterations. Duality gap: 0.0, tolerance: 0.0\n",
            "  positive)\n",
            "C:\\Users\\User\\Anaconda3\\envs\\buan6341_2020\\lib\\site-packages\\sklearn\\linear_model\\_coordinate_descent.py:476: ConvergenceWarning: Objective did not converge. You might want to increase the number of iterations. Duality gap: 0.0, tolerance: 0.0\n",
            "  positive)\n",
            "C:\\Users\\User\\Anaconda3\\envs\\buan6341_2020\\lib\\site-packages\\sklearn\\linear_model\\_coordinate_descent.py:476: ConvergenceWarning: Objective did not converge. You might want to increase the number of iterations. Duality gap: 0.0, tolerance: 0.0\n",
            "  positive)\n",
            "C:\\Users\\User\\Anaconda3\\envs\\buan6341_2020\\lib\\site-packages\\sklearn\\linear_model\\_coordinate_descent.py:476: ConvergenceWarning: Objective did not converge. You might want to increase the number of iterations. Duality gap: 0.0, tolerance: 0.0\n",
            "  positive)\n",
            "C:\\Users\\User\\Anaconda3\\envs\\buan6341_2020\\lib\\site-packages\\sklearn\\linear_model\\_coordinate_descent.py:476: ConvergenceWarning: Objective did not converge. You might want to increase the number of iterations. Duality gap: 0.0, tolerance: 0.0\n",
            "  positive)\n",
            "C:\\Users\\User\\Anaconda3\\envs\\buan6341_2020\\lib\\site-packages\\sklearn\\linear_model\\_coordinate_descent.py:476: ConvergenceWarning: Objective did not converge. You might want to increase the number of iterations. Duality gap: 0.0, tolerance: 0.0\n",
            "  positive)\n",
            "C:\\Users\\User\\Anaconda3\\envs\\buan6341_2020\\lib\\site-packages\\sklearn\\linear_model\\_coordinate_descent.py:476: ConvergenceWarning: Objective did not converge. You might want to increase the number of iterations. Duality gap: 0.0, tolerance: 0.0\n",
            "  positive)\n",
            "C:\\Users\\User\\Anaconda3\\envs\\buan6341_2020\\lib\\site-packages\\sklearn\\linear_model\\_coordinate_descent.py:476: ConvergenceWarning: Objective did not converge. You might want to increase the number of iterations. Duality gap: 0.0, tolerance: 0.0\n",
            "  positive)\n",
            "C:\\Users\\User\\Anaconda3\\envs\\buan6341_2020\\lib\\site-packages\\sklearn\\linear_model\\_coordinate_descent.py:476: ConvergenceWarning: Objective did not converge. You might want to increase the number of iterations. Duality gap: 0.0, tolerance: 0.0\n",
            "  positive)\n",
            "C:\\Users\\User\\Anaconda3\\envs\\buan6341_2020\\lib\\site-packages\\sklearn\\linear_model\\_coordinate_descent.py:476: ConvergenceWarning: Objective did not converge. You might want to increase the number of iterations. Duality gap: 0.0, tolerance: 0.0\n",
            "  positive)\n",
            "C:\\Users\\User\\Anaconda3\\envs\\buan6341_2020\\lib\\site-packages\\sklearn\\linear_model\\_coordinate_descent.py:476: ConvergenceWarning: Objective did not converge. You might want to increase the number of iterations. Duality gap: 0.0, tolerance: 0.0\n",
            "  positive)\n",
            "C:\\Users\\User\\Anaconda3\\envs\\buan6341_2020\\lib\\site-packages\\sklearn\\linear_model\\_coordinate_descent.py:476: ConvergenceWarning: Objective did not converge. You might want to increase the number of iterations. Duality gap: 0.0, tolerance: 0.0\n",
            "  positive)\n",
            "C:\\Users\\User\\Anaconda3\\envs\\buan6341_2020\\lib\\site-packages\\sklearn\\linear_model\\_coordinate_descent.py:476: ConvergenceWarning: Objective did not converge. You might want to increase the number of iterations. Duality gap: 0.0, tolerance: 0.0\n",
            "  positive)\n",
            "C:\\Users\\User\\Anaconda3\\envs\\buan6341_2020\\lib\\site-packages\\sklearn\\linear_model\\_coordinate_descent.py:476: ConvergenceWarning: Objective did not converge. You might want to increase the number of iterations. Duality gap: 0.0, tolerance: 0.0\n",
            "  positive)\n",
            "C:\\Users\\User\\Anaconda3\\envs\\buan6341_2020\\lib\\site-packages\\sklearn\\linear_model\\_coordinate_descent.py:476: ConvergenceWarning: Objective did not converge. You might want to increase the number of iterations. Duality gap: 0.0, tolerance: 0.0\n",
            "  positive)\n",
            "C:\\Users\\User\\Anaconda3\\envs\\buan6341_2020\\lib\\site-packages\\sklearn\\linear_model\\_coordinate_descent.py:476: ConvergenceWarning: Objective did not converge. You might want to increase the number of iterations. Duality gap: 0.0, tolerance: 0.0\n",
            "  positive)\n",
            "C:\\Users\\User\\Anaconda3\\envs\\buan6341_2020\\lib\\site-packages\\sklearn\\linear_model\\_coordinate_descent.py:476: ConvergenceWarning: Objective did not converge. You might want to increase the number of iterations. Duality gap: 0.0, tolerance: 0.0\n",
            "  positive)\n",
            "C:\\Users\\User\\Anaconda3\\envs\\buan6341_2020\\lib\\site-packages\\sklearn\\linear_model\\_coordinate_descent.py:476: ConvergenceWarning: Objective did not converge. You might want to increase the number of iterations. Duality gap: 0.0, tolerance: 0.0\n",
            "  positive)\n",
            "C:\\Users\\User\\Anaconda3\\envs\\buan6341_2020\\lib\\site-packages\\sklearn\\linear_model\\_coordinate_descent.py:476: ConvergenceWarning: Objective did not converge. You might want to increase the number of iterations. Duality gap: 0.0, tolerance: 0.0\n",
            "  positive)\n",
            "C:\\Users\\User\\Anaconda3\\envs\\buan6341_2020\\lib\\site-packages\\sklearn\\linear_model\\_coordinate_descent.py:476: ConvergenceWarning: Objective did not converge. You might want to increase the number of iterations. Duality gap: 0.0, tolerance: 0.0\n",
            "  positive)\n",
            "C:\\Users\\User\\Anaconda3\\envs\\buan6341_2020\\lib\\site-packages\\sklearn\\linear_model\\_coordinate_descent.py:476: ConvergenceWarning: Objective did not converge. You might want to increase the number of iterations. Duality gap: 0.0, tolerance: 0.0\n",
            "  positive)\n",
            "C:\\Users\\User\\Anaconda3\\envs\\buan6341_2020\\lib\\site-packages\\sklearn\\linear_model\\_coordinate_descent.py:476: ConvergenceWarning: Objective did not converge. You might want to increase the number of iterations. Duality gap: 0.0, tolerance: 0.0\n",
            "  positive)\n",
            "C:\\Users\\User\\Anaconda3\\envs\\buan6341_2020\\lib\\site-packages\\sklearn\\linear_model\\_coordinate_descent.py:476: ConvergenceWarning: Objective did not converge. You might want to increase the number of iterations. Duality gap: 0.0, tolerance: 0.0\n",
            "  positive)\n",
            "C:\\Users\\User\\Anaconda3\\envs\\buan6341_2020\\lib\\site-packages\\sklearn\\linear_model\\_coordinate_descent.py:476: ConvergenceWarning: Objective did not converge. You might want to increase the number of iterations. Duality gap: 0.0, tolerance: 0.0\n",
            "  positive)\n",
            "C:\\Users\\User\\Anaconda3\\envs\\buan6341_2020\\lib\\site-packages\\sklearn\\linear_model\\_coordinate_descent.py:476: ConvergenceWarning: Objective did not converge. You might want to increase the number of iterations. Duality gap: 0.0, tolerance: 0.0\n",
            "  positive)\n",
            "C:\\Users\\User\\Anaconda3\\envs\\buan6341_2020\\lib\\site-packages\\sklearn\\linear_model\\_coordinate_descent.py:476: ConvergenceWarning: Objective did not converge. You might want to increase the number of iterations. Duality gap: 0.0, tolerance: 0.0\n",
            "  positive)\n",
            "C:\\Users\\User\\Anaconda3\\envs\\buan6341_2020\\lib\\site-packages\\sklearn\\linear_model\\_coordinate_descent.py:476: ConvergenceWarning: Objective did not converge. You might want to increase the number of iterations. Duality gap: 0.0, tolerance: 0.0\n",
            "  positive)\n",
            "C:\\Users\\User\\Anaconda3\\envs\\buan6341_2020\\lib\\site-packages\\sklearn\\linear_model\\_coordinate_descent.py:476: ConvergenceWarning: Objective did not converge. You might want to increase the number of iterations. Duality gap: 0.0, tolerance: 0.0\n",
            "  positive)\n",
            "C:\\Users\\User\\Anaconda3\\envs\\buan6341_2020\\lib\\site-packages\\sklearn\\linear_model\\_coordinate_descent.py:476: ConvergenceWarning: Objective did not converge. You might want to increase the number of iterations. Duality gap: 0.0, tolerance: 0.0\n",
            "  positive)\n",
            "C:\\Users\\User\\Anaconda3\\envs\\buan6341_2020\\lib\\site-packages\\sklearn\\linear_model\\_coordinate_descent.py:476: ConvergenceWarning: Objective did not converge. You might want to increase the number of iterations. Duality gap: 0.0, tolerance: 0.0\n",
            "  positive)\n",
            "C:\\Users\\User\\Anaconda3\\envs\\buan6341_2020\\lib\\site-packages\\sklearn\\linear_model\\_coordinate_descent.py:476: ConvergenceWarning: Objective did not converge. You might want to increase the number of iterations. Duality gap: 0.0, tolerance: 0.0\n",
            "  positive)\n"
          ],
          "name": "stderr"
        },
        {
          "output_type": "stream",
          "text": [
            "C:\\Users\\User\\Anaconda3\\envs\\buan6341_2020\\lib\\site-packages\\sklearn\\linear_model\\_coordinate_descent.py:476: ConvergenceWarning: Objective did not converge. You might want to increase the number of iterations. Duality gap: 0.0, tolerance: 0.0\n",
            "  positive)\n",
            "C:\\Users\\User\\Anaconda3\\envs\\buan6341_2020\\lib\\site-packages\\sklearn\\linear_model\\_coordinate_descent.py:476: ConvergenceWarning: Objective did not converge. You might want to increase the number of iterations. Duality gap: 0.0, tolerance: 0.0\n",
            "  positive)\n",
            "C:\\Users\\User\\Anaconda3\\envs\\buan6341_2020\\lib\\site-packages\\sklearn\\linear_model\\_coordinate_descent.py:476: ConvergenceWarning: Objective did not converge. You might want to increase the number of iterations. Duality gap: 0.0, tolerance: 0.0\n",
            "  positive)\n",
            "C:\\Users\\User\\Anaconda3\\envs\\buan6341_2020\\lib\\site-packages\\sklearn\\linear_model\\_coordinate_descent.py:476: ConvergenceWarning: Objective did not converge. You might want to increase the number of iterations. Duality gap: 0.0, tolerance: 0.0\n",
            "  positive)\n",
            "C:\\Users\\User\\Anaconda3\\envs\\buan6341_2020\\lib\\site-packages\\sklearn\\linear_model\\_coordinate_descent.py:476: ConvergenceWarning: Objective did not converge. You might want to increase the number of iterations. Duality gap: 0.0, tolerance: 0.0\n",
            "  positive)\n",
            "C:\\Users\\User\\Anaconda3\\envs\\buan6341_2020\\lib\\site-packages\\sklearn\\linear_model\\_coordinate_descent.py:476: ConvergenceWarning: Objective did not converge. You might want to increase the number of iterations. Duality gap: 0.0, tolerance: 0.0\n",
            "  positive)\n",
            "C:\\Users\\User\\Anaconda3\\envs\\buan6341_2020\\lib\\site-packages\\sklearn\\linear_model\\_coordinate_descent.py:476: ConvergenceWarning: Objective did not converge. You might want to increase the number of iterations. Duality gap: 0.0, tolerance: 0.0\n",
            "  positive)\n",
            "C:\\Users\\User\\Anaconda3\\envs\\buan6341_2020\\lib\\site-packages\\sklearn\\linear_model\\_coordinate_descent.py:476: ConvergenceWarning: Objective did not converge. You might want to increase the number of iterations. Duality gap: 0.0, tolerance: 0.0\n",
            "  positive)\n",
            "C:\\Users\\User\\Anaconda3\\envs\\buan6341_2020\\lib\\site-packages\\sklearn\\linear_model\\_coordinate_descent.py:476: ConvergenceWarning: Objective did not converge. You might want to increase the number of iterations. Duality gap: 0.0, tolerance: 0.0\n",
            "  positive)\n",
            "C:\\Users\\User\\Anaconda3\\envs\\buan6341_2020\\lib\\site-packages\\sklearn\\linear_model\\_coordinate_descent.py:476: ConvergenceWarning: Objective did not converge. You might want to increase the number of iterations. Duality gap: 0.0, tolerance: 0.0\n",
            "  positive)\n",
            "C:\\Users\\User\\Anaconda3\\envs\\buan6341_2020\\lib\\site-packages\\sklearn\\linear_model\\_coordinate_descent.py:476: ConvergenceWarning: Objective did not converge. You might want to increase the number of iterations. Duality gap: 0.0, tolerance: 0.0\n",
            "  positive)\n",
            "C:\\Users\\User\\Anaconda3\\envs\\buan6341_2020\\lib\\site-packages\\sklearn\\linear_model\\_coordinate_descent.py:476: ConvergenceWarning: Objective did not converge. You might want to increase the number of iterations. Duality gap: 0.0, tolerance: 0.0\n",
            "  positive)\n",
            "C:\\Users\\User\\Anaconda3\\envs\\buan6341_2020\\lib\\site-packages\\sklearn\\linear_model\\_coordinate_descent.py:476: ConvergenceWarning: Objective did not converge. You might want to increase the number of iterations. Duality gap: 0.0, tolerance: 0.0\n",
            "  positive)\n",
            "C:\\Users\\User\\Anaconda3\\envs\\buan6341_2020\\lib\\site-packages\\sklearn\\linear_model\\_coordinate_descent.py:476: ConvergenceWarning: Objective did not converge. You might want to increase the number of iterations. Duality gap: 0.0, tolerance: 0.0\n",
            "  positive)\n",
            "C:\\Users\\User\\Anaconda3\\envs\\buan6341_2020\\lib\\site-packages\\sklearn\\linear_model\\_coordinate_descent.py:476: ConvergenceWarning: Objective did not converge. You might want to increase the number of iterations. Duality gap: 0.0, tolerance: 0.0\n",
            "  positive)\n",
            "C:\\Users\\User\\Anaconda3\\envs\\buan6341_2020\\lib\\site-packages\\sklearn\\linear_model\\_coordinate_descent.py:476: ConvergenceWarning: Objective did not converge. You might want to increase the number of iterations. Duality gap: 0.0, tolerance: 0.0\n",
            "  positive)\n",
            "C:\\Users\\User\\Anaconda3\\envs\\buan6341_2020\\lib\\site-packages\\sklearn\\linear_model\\_coordinate_descent.py:476: ConvergenceWarning: Objective did not converge. You might want to increase the number of iterations. Duality gap: 0.0, tolerance: 0.0\n",
            "  positive)\n",
            "C:\\Users\\User\\Anaconda3\\envs\\buan6341_2020\\lib\\site-packages\\sklearn\\linear_model\\_coordinate_descent.py:476: ConvergenceWarning: Objective did not converge. You might want to increase the number of iterations. Duality gap: 0.0, tolerance: 0.0\n",
            "  positive)\n",
            "C:\\Users\\User\\Anaconda3\\envs\\buan6341_2020\\lib\\site-packages\\sklearn\\linear_model\\_coordinate_descent.py:476: ConvergenceWarning: Objective did not converge. You might want to increase the number of iterations. Duality gap: 0.0, tolerance: 0.0\n",
            "  positive)\n",
            "C:\\Users\\User\\Anaconda3\\envs\\buan6341_2020\\lib\\site-packages\\sklearn\\linear_model\\_coordinate_descent.py:476: ConvergenceWarning: Objective did not converge. You might want to increase the number of iterations. Duality gap: 0.0, tolerance: 0.0\n",
            "  positive)\n",
            "C:\\Users\\User\\Anaconda3\\envs\\buan6341_2020\\lib\\site-packages\\sklearn\\linear_model\\_coordinate_descent.py:476: ConvergenceWarning: Objective did not converge. You might want to increase the number of iterations. Duality gap: 0.0, tolerance: 0.0\n",
            "  positive)\n",
            "C:\\Users\\User\\Anaconda3\\envs\\buan6341_2020\\lib\\site-packages\\sklearn\\linear_model\\_coordinate_descent.py:476: ConvergenceWarning: Objective did not converge. You might want to increase the number of iterations. Duality gap: 0.0, tolerance: 0.0\n",
            "  positive)\n",
            "C:\\Users\\User\\Anaconda3\\envs\\buan6341_2020\\lib\\site-packages\\sklearn\\linear_model\\_coordinate_descent.py:476: ConvergenceWarning: Objective did not converge. You might want to increase the number of iterations. Duality gap: 0.0, tolerance: 0.0\n",
            "  positive)\n",
            "C:\\Users\\User\\Anaconda3\\envs\\buan6341_2020\\lib\\site-packages\\sklearn\\linear_model\\_coordinate_descent.py:476: ConvergenceWarning: Objective did not converge. You might want to increase the number of iterations. Duality gap: 0.0, tolerance: 0.0\n",
            "  positive)\n",
            "C:\\Users\\User\\Anaconda3\\envs\\buan6341_2020\\lib\\site-packages\\sklearn\\linear_model\\_coordinate_descent.py:476: ConvergenceWarning: Objective did not converge. You might want to increase the number of iterations. Duality gap: 0.0, tolerance: 0.0\n",
            "  positive)\n",
            "C:\\Users\\User\\Anaconda3\\envs\\buan6341_2020\\lib\\site-packages\\sklearn\\linear_model\\_coordinate_descent.py:476: ConvergenceWarning: Objective did not converge. You might want to increase the number of iterations. Duality gap: 0.0, tolerance: 0.0\n",
            "  positive)\n",
            "C:\\Users\\User\\Anaconda3\\envs\\buan6341_2020\\lib\\site-packages\\sklearn\\linear_model\\_coordinate_descent.py:476: ConvergenceWarning: Objective did not converge. You might want to increase the number of iterations. Duality gap: 0.0, tolerance: 0.0\n",
            "  positive)\n",
            "C:\\Users\\User\\Anaconda3\\envs\\buan6341_2020\\lib\\site-packages\\sklearn\\linear_model\\_coordinate_descent.py:476: ConvergenceWarning: Objective did not converge. You might want to increase the number of iterations. Duality gap: 0.0, tolerance: 0.0\n",
            "  positive)\n",
            "C:\\Users\\User\\Anaconda3\\envs\\buan6341_2020\\lib\\site-packages\\sklearn\\linear_model\\_coordinate_descent.py:476: ConvergenceWarning: Objective did not converge. You might want to increase the number of iterations. Duality gap: 0.0, tolerance: 0.0\n",
            "  positive)\n",
            "C:\\Users\\User\\Anaconda3\\envs\\buan6341_2020\\lib\\site-packages\\sklearn\\linear_model\\_coordinate_descent.py:476: ConvergenceWarning: Objective did not converge. You might want to increase the number of iterations. Duality gap: 0.0, tolerance: 0.0\n",
            "  positive)\n",
            "C:\\Users\\User\\Anaconda3\\envs\\buan6341_2020\\lib\\site-packages\\sklearn\\linear_model\\_coordinate_descent.py:476: ConvergenceWarning: Objective did not converge. You might want to increase the number of iterations. Duality gap: 0.0, tolerance: 0.0\n",
            "  positive)\n",
            "C:\\Users\\User\\Anaconda3\\envs\\buan6341_2020\\lib\\site-packages\\sklearn\\linear_model\\_coordinate_descent.py:476: ConvergenceWarning: Objective did not converge. You might want to increase the number of iterations. Duality gap: 0.0, tolerance: 0.0\n",
            "  positive)\n",
            "C:\\Users\\User\\Anaconda3\\envs\\buan6341_2020\\lib\\site-packages\\sklearn\\linear_model\\_coordinate_descent.py:476: ConvergenceWarning: Objective did not converge. You might want to increase the number of iterations. Duality gap: 0.0, tolerance: 0.0\n",
            "  positive)\n",
            "C:\\Users\\User\\Anaconda3\\envs\\buan6341_2020\\lib\\site-packages\\sklearn\\linear_model\\_coordinate_descent.py:476: ConvergenceWarning: Objective did not converge. You might want to increase the number of iterations. Duality gap: 0.0, tolerance: 0.0\n",
            "  positive)\n",
            "C:\\Users\\User\\Anaconda3\\envs\\buan6341_2020\\lib\\site-packages\\sklearn\\linear_model\\_coordinate_descent.py:476: ConvergenceWarning: Objective did not converge. You might want to increase the number of iterations. Duality gap: 0.0, tolerance: 0.0\n",
            "  positive)\n",
            "C:\\Users\\User\\Anaconda3\\envs\\buan6341_2020\\lib\\site-packages\\sklearn\\linear_model\\_coordinate_descent.py:476: ConvergenceWarning: Objective did not converge. You might want to increase the number of iterations. Duality gap: 0.0, tolerance: 0.0\n",
            "  positive)\n",
            "C:\\Users\\User\\Anaconda3\\envs\\buan6341_2020\\lib\\site-packages\\sklearn\\linear_model\\_coordinate_descent.py:476: ConvergenceWarning: Objective did not converge. You might want to increase the number of iterations. Duality gap: 0.0, tolerance: 0.0\n",
            "  positive)\n",
            "C:\\Users\\User\\Anaconda3\\envs\\buan6341_2020\\lib\\site-packages\\sklearn\\linear_model\\_coordinate_descent.py:476: ConvergenceWarning: Objective did not converge. You might want to increase the number of iterations. Duality gap: 0.0, tolerance: 0.0\n",
            "  positive)\n"
          ],
          "name": "stderr"
        },
        {
          "output_type": "stream",
          "text": [
            "C:\\Users\\User\\Anaconda3\\envs\\buan6341_2020\\lib\\site-packages\\sklearn\\linear_model\\_coordinate_descent.py:476: ConvergenceWarning: Objective did not converge. You might want to increase the number of iterations. Duality gap: 0.0, tolerance: 0.0\n",
            "  positive)\n",
            "C:\\Users\\User\\Anaconda3\\envs\\buan6341_2020\\lib\\site-packages\\sklearn\\linear_model\\_coordinate_descent.py:476: ConvergenceWarning: Objective did not converge. You might want to increase the number of iterations. Duality gap: 0.0, tolerance: 0.0\n",
            "  positive)\n",
            "C:\\Users\\User\\Anaconda3\\envs\\buan6341_2020\\lib\\site-packages\\sklearn\\linear_model\\_coordinate_descent.py:476: ConvergenceWarning: Objective did not converge. You might want to increase the number of iterations. Duality gap: 0.0, tolerance: 0.0\n",
            "  positive)\n",
            "C:\\Users\\User\\Anaconda3\\envs\\buan6341_2020\\lib\\site-packages\\sklearn\\linear_model\\_coordinate_descent.py:476: ConvergenceWarning: Objective did not converge. You might want to increase the number of iterations. Duality gap: 0.0, tolerance: 0.0\n",
            "  positive)\n",
            "C:\\Users\\User\\Anaconda3\\envs\\buan6341_2020\\lib\\site-packages\\sklearn\\linear_model\\_coordinate_descent.py:476: ConvergenceWarning: Objective did not converge. You might want to increase the number of iterations. Duality gap: 0.0, tolerance: 0.0\n",
            "  positive)\n",
            "C:\\Users\\User\\Anaconda3\\envs\\buan6341_2020\\lib\\site-packages\\sklearn\\linear_model\\_coordinate_descent.py:476: ConvergenceWarning: Objective did not converge. You might want to increase the number of iterations. Duality gap: 0.0, tolerance: 0.0\n",
            "  positive)\n",
            "C:\\Users\\User\\Anaconda3\\envs\\buan6341_2020\\lib\\site-packages\\sklearn\\linear_model\\_coordinate_descent.py:476: ConvergenceWarning: Objective did not converge. You might want to increase the number of iterations. Duality gap: 0.0, tolerance: 0.0\n",
            "  positive)\n",
            "C:\\Users\\User\\Anaconda3\\envs\\buan6341_2020\\lib\\site-packages\\sklearn\\linear_model\\_coordinate_descent.py:476: ConvergenceWarning: Objective did not converge. You might want to increase the number of iterations. Duality gap: 0.0, tolerance: 0.0\n",
            "  positive)\n",
            "C:\\Users\\User\\Anaconda3\\envs\\buan6341_2020\\lib\\site-packages\\sklearn\\linear_model\\_coordinate_descent.py:476: ConvergenceWarning: Objective did not converge. You might want to increase the number of iterations. Duality gap: 0.0, tolerance: 0.0\n",
            "  positive)\n",
            "C:\\Users\\User\\Anaconda3\\envs\\buan6341_2020\\lib\\site-packages\\sklearn\\linear_model\\_coordinate_descent.py:476: ConvergenceWarning: Objective did not converge. You might want to increase the number of iterations. Duality gap: 0.0, tolerance: 0.0\n",
            "  positive)\n",
            "C:\\Users\\User\\Anaconda3\\envs\\buan6341_2020\\lib\\site-packages\\sklearn\\linear_model\\_coordinate_descent.py:476: ConvergenceWarning: Objective did not converge. You might want to increase the number of iterations. Duality gap: 0.0, tolerance: 0.0\n",
            "  positive)\n",
            "C:\\Users\\User\\Anaconda3\\envs\\buan6341_2020\\lib\\site-packages\\sklearn\\linear_model\\_coordinate_descent.py:476: ConvergenceWarning: Objective did not converge. You might want to increase the number of iterations. Duality gap: 0.0, tolerance: 0.0\n",
            "  positive)\n",
            "C:\\Users\\User\\Anaconda3\\envs\\buan6341_2020\\lib\\site-packages\\sklearn\\linear_model\\_coordinate_descent.py:476: ConvergenceWarning: Objective did not converge. You might want to increase the number of iterations. Duality gap: 0.0, tolerance: 0.0\n",
            "  positive)\n",
            "C:\\Users\\User\\Anaconda3\\envs\\buan6341_2020\\lib\\site-packages\\sklearn\\linear_model\\_coordinate_descent.py:476: ConvergenceWarning: Objective did not converge. You might want to increase the number of iterations. Duality gap: 0.0, tolerance: 0.0\n",
            "  positive)\n",
            "C:\\Users\\User\\Anaconda3\\envs\\buan6341_2020\\lib\\site-packages\\sklearn\\linear_model\\_coordinate_descent.py:476: ConvergenceWarning: Objective did not converge. You might want to increase the number of iterations. Duality gap: 0.0, tolerance: 0.0\n",
            "  positive)\n",
            "C:\\Users\\User\\Anaconda3\\envs\\buan6341_2020\\lib\\site-packages\\sklearn\\linear_model\\_coordinate_descent.py:476: ConvergenceWarning: Objective did not converge. You might want to increase the number of iterations. Duality gap: 0.0, tolerance: 0.0\n",
            "  positive)\n",
            "C:\\Users\\User\\Anaconda3\\envs\\buan6341_2020\\lib\\site-packages\\sklearn\\linear_model\\_coordinate_descent.py:476: ConvergenceWarning: Objective did not converge. You might want to increase the number of iterations. Duality gap: 0.0, tolerance: 0.0\n",
            "  positive)\n",
            "C:\\Users\\User\\Anaconda3\\envs\\buan6341_2020\\lib\\site-packages\\sklearn\\linear_model\\_coordinate_descent.py:476: ConvergenceWarning: Objective did not converge. You might want to increase the number of iterations. Duality gap: 0.0, tolerance: 0.0\n",
            "  positive)\n",
            "C:\\Users\\User\\Anaconda3\\envs\\buan6341_2020\\lib\\site-packages\\sklearn\\linear_model\\_coordinate_descent.py:476: ConvergenceWarning: Objective did not converge. You might want to increase the number of iterations. Duality gap: 0.0, tolerance: 0.0\n",
            "  positive)\n",
            "C:\\Users\\User\\Anaconda3\\envs\\buan6341_2020\\lib\\site-packages\\sklearn\\linear_model\\_coordinate_descent.py:476: ConvergenceWarning: Objective did not converge. You might want to increase the number of iterations. Duality gap: 0.0, tolerance: 0.0\n",
            "  positive)\n",
            "C:\\Users\\User\\Anaconda3\\envs\\buan6341_2020\\lib\\site-packages\\sklearn\\linear_model\\_coordinate_descent.py:476: ConvergenceWarning: Objective did not converge. You might want to increase the number of iterations. Duality gap: 0.0, tolerance: 0.0\n",
            "  positive)\n",
            "C:\\Users\\User\\Anaconda3\\envs\\buan6341_2020\\lib\\site-packages\\sklearn\\linear_model\\_coordinate_descent.py:476: ConvergenceWarning: Objective did not converge. You might want to increase the number of iterations. Duality gap: 0.0, tolerance: 0.0\n",
            "  positive)\n",
            "C:\\Users\\User\\Anaconda3\\envs\\buan6341_2020\\lib\\site-packages\\sklearn\\linear_model\\_coordinate_descent.py:476: ConvergenceWarning: Objective did not converge. You might want to increase the number of iterations. Duality gap: 0.0, tolerance: 0.0\n",
            "  positive)\n",
            "C:\\Users\\User\\Anaconda3\\envs\\buan6341_2020\\lib\\site-packages\\sklearn\\linear_model\\_coordinate_descent.py:476: ConvergenceWarning: Objective did not converge. You might want to increase the number of iterations. Duality gap: 0.0, tolerance: 0.0\n",
            "  positive)\n",
            "C:\\Users\\User\\Anaconda3\\envs\\buan6341_2020\\lib\\site-packages\\sklearn\\linear_model\\_coordinate_descent.py:476: ConvergenceWarning: Objective did not converge. You might want to increase the number of iterations. Duality gap: 0.0, tolerance: 0.0\n",
            "  positive)\n",
            "C:\\Users\\User\\Anaconda3\\envs\\buan6341_2020\\lib\\site-packages\\sklearn\\linear_model\\_coordinate_descent.py:476: ConvergenceWarning: Objective did not converge. You might want to increase the number of iterations. Duality gap: 0.0, tolerance: 0.0\n",
            "  positive)\n",
            "C:\\Users\\User\\Anaconda3\\envs\\buan6341_2020\\lib\\site-packages\\sklearn\\linear_model\\_coordinate_descent.py:476: ConvergenceWarning: Objective did not converge. You might want to increase the number of iterations. Duality gap: 0.0, tolerance: 0.0\n",
            "  positive)\n",
            "C:\\Users\\User\\Anaconda3\\envs\\buan6341_2020\\lib\\site-packages\\sklearn\\linear_model\\_coordinate_descent.py:476: ConvergenceWarning: Objective did not converge. You might want to increase the number of iterations. Duality gap: 0.0, tolerance: 0.0\n",
            "  positive)\n",
            "C:\\Users\\User\\Anaconda3\\envs\\buan6341_2020\\lib\\site-packages\\sklearn\\linear_model\\_coordinate_descent.py:476: ConvergenceWarning: Objective did not converge. You might want to increase the number of iterations. Duality gap: 0.0, tolerance: 0.0\n",
            "  positive)\n",
            "C:\\Users\\User\\Anaconda3\\envs\\buan6341_2020\\lib\\site-packages\\sklearn\\linear_model\\_coordinate_descent.py:476: ConvergenceWarning: Objective did not converge. You might want to increase the number of iterations. Duality gap: 0.0, tolerance: 0.0\n",
            "  positive)\n",
            "C:\\Users\\User\\Anaconda3\\envs\\buan6341_2020\\lib\\site-packages\\sklearn\\linear_model\\_coordinate_descent.py:476: ConvergenceWarning: Objective did not converge. You might want to increase the number of iterations. Duality gap: 0.0, tolerance: 0.0\n",
            "  positive)\n",
            "C:\\Users\\User\\Anaconda3\\envs\\buan6341_2020\\lib\\site-packages\\sklearn\\linear_model\\_coordinate_descent.py:476: ConvergenceWarning: Objective did not converge. You might want to increase the number of iterations. Duality gap: 0.0, tolerance: 0.0\n",
            "  positive)\n",
            "C:\\Users\\User\\Anaconda3\\envs\\buan6341_2020\\lib\\site-packages\\sklearn\\linear_model\\_coordinate_descent.py:476: ConvergenceWarning: Objective did not converge. You might want to increase the number of iterations. Duality gap: 0.0, tolerance: 0.0\n",
            "  positive)\n",
            "C:\\Users\\User\\Anaconda3\\envs\\buan6341_2020\\lib\\site-packages\\sklearn\\linear_model\\_coordinate_descent.py:476: ConvergenceWarning: Objective did not converge. You might want to increase the number of iterations. Duality gap: 0.0, tolerance: 0.0\n",
            "  positive)\n",
            "C:\\Users\\User\\Anaconda3\\envs\\buan6341_2020\\lib\\site-packages\\sklearn\\linear_model\\_coordinate_descent.py:476: ConvergenceWarning: Objective did not converge. You might want to increase the number of iterations. Duality gap: 0.0, tolerance: 0.0\n",
            "  positive)\n",
            "C:\\Users\\User\\Anaconda3\\envs\\buan6341_2020\\lib\\site-packages\\sklearn\\linear_model\\_coordinate_descent.py:476: ConvergenceWarning: Objective did not converge. You might want to increase the number of iterations. Duality gap: 0.0, tolerance: 0.0\n",
            "  positive)\n",
            "C:\\Users\\User\\Anaconda3\\envs\\buan6341_2020\\lib\\site-packages\\sklearn\\linear_model\\_coordinate_descent.py:476: ConvergenceWarning: Objective did not converge. You might want to increase the number of iterations. Duality gap: 0.0, tolerance: 0.0\n",
            "  positive)\n",
            "C:\\Users\\User\\Anaconda3\\envs\\buan6341_2020\\lib\\site-packages\\sklearn\\linear_model\\_coordinate_descent.py:476: ConvergenceWarning: Objective did not converge. You might want to increase the number of iterations. Duality gap: 0.0, tolerance: 0.0\n",
            "  positive)\n",
            "C:\\Users\\User\\Anaconda3\\envs\\buan6341_2020\\lib\\site-packages\\sklearn\\linear_model\\_coordinate_descent.py:476: ConvergenceWarning: Objective did not converge. You might want to increase the number of iterations. Duality gap: 0.0, tolerance: 0.0\n",
            "  positive)\n",
            "C:\\Users\\User\\Anaconda3\\envs\\buan6341_2020\\lib\\site-packages\\sklearn\\linear_model\\_coordinate_descent.py:476: ConvergenceWarning: Objective did not converge. You might want to increase the number of iterations. Duality gap: 0.0, tolerance: 0.0\n",
            "  positive)\n",
            "C:\\Users\\User\\Anaconda3\\envs\\buan6341_2020\\lib\\site-packages\\sklearn\\linear_model\\_coordinate_descent.py:476: ConvergenceWarning: Objective did not converge. You might want to increase the number of iterations. Duality gap: 0.0, tolerance: 0.0\n",
            "  positive)\n",
            "C:\\Users\\User\\Anaconda3\\envs\\buan6341_2020\\lib\\site-packages\\sklearn\\linear_model\\_coordinate_descent.py:476: ConvergenceWarning: Objective did not converge. You might want to increase the number of iterations. Duality gap: 0.0, tolerance: 0.0\n",
            "  positive)\n",
            "C:\\Users\\User\\Anaconda3\\envs\\buan6341_2020\\lib\\site-packages\\sklearn\\linear_model\\_coordinate_descent.py:476: ConvergenceWarning: Objective did not converge. You might want to increase the number of iterations. Duality gap: 0.0, tolerance: 0.0\n",
            "  positive)\n",
            "C:\\Users\\User\\Anaconda3\\envs\\buan6341_2020\\lib\\site-packages\\sklearn\\linear_model\\_coordinate_descent.py:476: ConvergenceWarning: Objective did not converge. You might want to increase the number of iterations. Duality gap: 0.0, tolerance: 0.0\n",
            "  positive)\n"
          ],
          "name": "stderr"
        },
        {
          "output_type": "stream",
          "text": [
            "C:\\Users\\User\\Anaconda3\\envs\\buan6341_2020\\lib\\site-packages\\sklearn\\linear_model\\_coordinate_descent.py:476: ConvergenceWarning: Objective did not converge. You might want to increase the number of iterations. Duality gap: 0.0, tolerance: 0.0\n",
            "  positive)\n",
            "C:\\Users\\User\\Anaconda3\\envs\\buan6341_2020\\lib\\site-packages\\sklearn\\linear_model\\_coordinate_descent.py:476: ConvergenceWarning: Objective did not converge. You might want to increase the number of iterations. Duality gap: 0.0, tolerance: 0.0\n",
            "  positive)\n",
            "C:\\Users\\User\\Anaconda3\\envs\\buan6341_2020\\lib\\site-packages\\sklearn\\linear_model\\_coordinate_descent.py:476: ConvergenceWarning: Objective did not converge. You might want to increase the number of iterations. Duality gap: 0.0, tolerance: 0.0\n",
            "  positive)\n",
            "C:\\Users\\User\\Anaconda3\\envs\\buan6341_2020\\lib\\site-packages\\sklearn\\linear_model\\_coordinate_descent.py:476: ConvergenceWarning: Objective did not converge. You might want to increase the number of iterations. Duality gap: 0.0, tolerance: 0.0\n",
            "  positive)\n",
            "C:\\Users\\User\\Anaconda3\\envs\\buan6341_2020\\lib\\site-packages\\sklearn\\linear_model\\_coordinate_descent.py:476: ConvergenceWarning: Objective did not converge. You might want to increase the number of iterations. Duality gap: 0.0, tolerance: 0.0\n",
            "  positive)\n",
            "C:\\Users\\User\\Anaconda3\\envs\\buan6341_2020\\lib\\site-packages\\sklearn\\linear_model\\_coordinate_descent.py:476: ConvergenceWarning: Objective did not converge. You might want to increase the number of iterations. Duality gap: 0.0, tolerance: 0.0\n",
            "  positive)\n",
            "C:\\Users\\User\\Anaconda3\\envs\\buan6341_2020\\lib\\site-packages\\sklearn\\linear_model\\_coordinate_descent.py:476: ConvergenceWarning: Objective did not converge. You might want to increase the number of iterations. Duality gap: 0.0, tolerance: 0.0\n",
            "  positive)\n",
            "C:\\Users\\User\\Anaconda3\\envs\\buan6341_2020\\lib\\site-packages\\sklearn\\linear_model\\_coordinate_descent.py:476: ConvergenceWarning: Objective did not converge. You might want to increase the number of iterations. Duality gap: 0.0, tolerance: 0.0\n",
            "  positive)\n",
            "C:\\Users\\User\\Anaconda3\\envs\\buan6341_2020\\lib\\site-packages\\sklearn\\linear_model\\_coordinate_descent.py:476: ConvergenceWarning: Objective did not converge. You might want to increase the number of iterations. Duality gap: 0.0, tolerance: 0.0\n",
            "  positive)\n",
            "C:\\Users\\User\\Anaconda3\\envs\\buan6341_2020\\lib\\site-packages\\sklearn\\linear_model\\_coordinate_descent.py:476: ConvergenceWarning: Objective did not converge. You might want to increase the number of iterations. Duality gap: 0.0, tolerance: 0.0\n",
            "  positive)\n",
            "C:\\Users\\User\\Anaconda3\\envs\\buan6341_2020\\lib\\site-packages\\sklearn\\linear_model\\_coordinate_descent.py:476: ConvergenceWarning: Objective did not converge. You might want to increase the number of iterations. Duality gap: 0.0, tolerance: 0.0\n",
            "  positive)\n",
            "C:\\Users\\User\\Anaconda3\\envs\\buan6341_2020\\lib\\site-packages\\sklearn\\linear_model\\_coordinate_descent.py:476: ConvergenceWarning: Objective did not converge. You might want to increase the number of iterations. Duality gap: 0.0, tolerance: 0.0\n",
            "  positive)\n",
            "C:\\Users\\User\\Anaconda3\\envs\\buan6341_2020\\lib\\site-packages\\sklearn\\linear_model\\_coordinate_descent.py:476: ConvergenceWarning: Objective did not converge. You might want to increase the number of iterations. Duality gap: 0.0, tolerance: 0.0\n",
            "  positive)\n",
            "C:\\Users\\User\\Anaconda3\\envs\\buan6341_2020\\lib\\site-packages\\sklearn\\linear_model\\_coordinate_descent.py:476: ConvergenceWarning: Objective did not converge. You might want to increase the number of iterations. Duality gap: 0.0, tolerance: 0.0\n",
            "  positive)\n",
            "C:\\Users\\User\\Anaconda3\\envs\\buan6341_2020\\lib\\site-packages\\sklearn\\linear_model\\_coordinate_descent.py:476: ConvergenceWarning: Objective did not converge. You might want to increase the number of iterations. Duality gap: 0.0, tolerance: 0.0\n",
            "  positive)\n",
            "C:\\Users\\User\\Anaconda3\\envs\\buan6341_2020\\lib\\site-packages\\sklearn\\linear_model\\_coordinate_descent.py:476: ConvergenceWarning: Objective did not converge. You might want to increase the number of iterations. Duality gap: 0.0, tolerance: 0.0\n",
            "  positive)\n",
            "C:\\Users\\User\\Anaconda3\\envs\\buan6341_2020\\lib\\site-packages\\sklearn\\linear_model\\_coordinate_descent.py:476: ConvergenceWarning: Objective did not converge. You might want to increase the number of iterations. Duality gap: 0.0, tolerance: 0.0\n",
            "  positive)\n",
            "C:\\Users\\User\\Anaconda3\\envs\\buan6341_2020\\lib\\site-packages\\sklearn\\linear_model\\_coordinate_descent.py:476: ConvergenceWarning: Objective did not converge. You might want to increase the number of iterations. Duality gap: 0.0, tolerance: 0.0\n",
            "  positive)\n",
            "C:\\Users\\User\\Anaconda3\\envs\\buan6341_2020\\lib\\site-packages\\sklearn\\linear_model\\_coordinate_descent.py:476: ConvergenceWarning: Objective did not converge. You might want to increase the number of iterations. Duality gap: 0.0, tolerance: 0.0\n",
            "  positive)\n",
            "C:\\Users\\User\\Anaconda3\\envs\\buan6341_2020\\lib\\site-packages\\sklearn\\linear_model\\_coordinate_descent.py:476: ConvergenceWarning: Objective did not converge. You might want to increase the number of iterations. Duality gap: 0.0, tolerance: 0.0\n",
            "  positive)\n",
            "C:\\Users\\User\\Anaconda3\\envs\\buan6341_2020\\lib\\site-packages\\sklearn\\linear_model\\_coordinate_descent.py:476: ConvergenceWarning: Objective did not converge. You might want to increase the number of iterations. Duality gap: 0.0, tolerance: 0.0\n",
            "  positive)\n",
            "C:\\Users\\User\\Anaconda3\\envs\\buan6341_2020\\lib\\site-packages\\sklearn\\linear_model\\_coordinate_descent.py:476: ConvergenceWarning: Objective did not converge. You might want to increase the number of iterations. Duality gap: 0.0, tolerance: 0.0\n",
            "  positive)\n",
            "C:\\Users\\User\\Anaconda3\\envs\\buan6341_2020\\lib\\site-packages\\sklearn\\linear_model\\_coordinate_descent.py:476: ConvergenceWarning: Objective did not converge. You might want to increase the number of iterations. Duality gap: 0.0, tolerance: 0.0\n",
            "  positive)\n",
            "C:\\Users\\User\\Anaconda3\\envs\\buan6341_2020\\lib\\site-packages\\sklearn\\linear_model\\_coordinate_descent.py:476: ConvergenceWarning: Objective did not converge. You might want to increase the number of iterations. Duality gap: 0.0, tolerance: 0.0\n",
            "  positive)\n",
            "C:\\Users\\User\\Anaconda3\\envs\\buan6341_2020\\lib\\site-packages\\sklearn\\linear_model\\_coordinate_descent.py:476: ConvergenceWarning: Objective did not converge. You might want to increase the number of iterations. Duality gap: 0.0, tolerance: 0.0\n",
            "  positive)\n",
            "C:\\Users\\User\\Anaconda3\\envs\\buan6341_2020\\lib\\site-packages\\sklearn\\linear_model\\_coordinate_descent.py:476: ConvergenceWarning: Objective did not converge. You might want to increase the number of iterations. Duality gap: 0.0, tolerance: 0.0\n",
            "  positive)\n",
            "C:\\Users\\User\\Anaconda3\\envs\\buan6341_2020\\lib\\site-packages\\sklearn\\linear_model\\_coordinate_descent.py:476: ConvergenceWarning: Objective did not converge. You might want to increase the number of iterations. Duality gap: 0.0, tolerance: 0.0\n",
            "  positive)\n",
            "C:\\Users\\User\\Anaconda3\\envs\\buan6341_2020\\lib\\site-packages\\sklearn\\linear_model\\_coordinate_descent.py:476: ConvergenceWarning: Objective did not converge. You might want to increase the number of iterations. Duality gap: 0.0, tolerance: 0.0\n",
            "  positive)\n",
            "C:\\Users\\User\\Anaconda3\\envs\\buan6341_2020\\lib\\site-packages\\sklearn\\linear_model\\_coordinate_descent.py:476: ConvergenceWarning: Objective did not converge. You might want to increase the number of iterations. Duality gap: 0.0, tolerance: 0.0\n",
            "  positive)\n",
            "C:\\Users\\User\\Anaconda3\\envs\\buan6341_2020\\lib\\site-packages\\sklearn\\linear_model\\_coordinate_descent.py:476: ConvergenceWarning: Objective did not converge. You might want to increase the number of iterations. Duality gap: 0.0, tolerance: 0.0\n",
            "  positive)\n",
            "C:\\Users\\User\\Anaconda3\\envs\\buan6341_2020\\lib\\site-packages\\sklearn\\linear_model\\_coordinate_descent.py:476: ConvergenceWarning: Objective did not converge. You might want to increase the number of iterations. Duality gap: 0.0, tolerance: 0.0\n",
            "  positive)\n",
            "C:\\Users\\User\\Anaconda3\\envs\\buan6341_2020\\lib\\site-packages\\sklearn\\linear_model\\_coordinate_descent.py:476: ConvergenceWarning: Objective did not converge. You might want to increase the number of iterations. Duality gap: 0.0, tolerance: 0.0\n",
            "  positive)\n",
            "C:\\Users\\User\\Anaconda3\\envs\\buan6341_2020\\lib\\site-packages\\sklearn\\linear_model\\_coordinate_descent.py:476: ConvergenceWarning: Objective did not converge. You might want to increase the number of iterations. Duality gap: 0.0, tolerance: 0.0\n",
            "  positive)\n",
            "C:\\Users\\User\\Anaconda3\\envs\\buan6341_2020\\lib\\site-packages\\sklearn\\linear_model\\_coordinate_descent.py:476: ConvergenceWarning: Objective did not converge. You might want to increase the number of iterations. Duality gap: 0.0, tolerance: 0.0\n",
            "  positive)\n",
            "C:\\Users\\User\\Anaconda3\\envs\\buan6341_2020\\lib\\site-packages\\sklearn\\linear_model\\_coordinate_descent.py:476: ConvergenceWarning: Objective did not converge. You might want to increase the number of iterations. Duality gap: 0.0, tolerance: 0.0\n",
            "  positive)\n",
            "C:\\Users\\User\\Anaconda3\\envs\\buan6341_2020\\lib\\site-packages\\sklearn\\linear_model\\_coordinate_descent.py:476: ConvergenceWarning: Objective did not converge. You might want to increase the number of iterations. Duality gap: 0.0, tolerance: 0.0\n",
            "  positive)\n",
            "C:\\Users\\User\\Anaconda3\\envs\\buan6341_2020\\lib\\site-packages\\sklearn\\linear_model\\_coordinate_descent.py:476: ConvergenceWarning: Objective did not converge. You might want to increase the number of iterations. Duality gap: 0.0, tolerance: 0.0\n",
            "  positive)\n",
            "C:\\Users\\User\\Anaconda3\\envs\\buan6341_2020\\lib\\site-packages\\sklearn\\linear_model\\_coordinate_descent.py:476: ConvergenceWarning: Objective did not converge. You might want to increase the number of iterations. Duality gap: 0.0, tolerance: 0.0\n",
            "  positive)\n",
            "C:\\Users\\User\\Anaconda3\\envs\\buan6341_2020\\lib\\site-packages\\sklearn\\linear_model\\_coordinate_descent.py:476: ConvergenceWarning: Objective did not converge. You might want to increase the number of iterations. Duality gap: 0.0, tolerance: 0.0\n",
            "  positive)\n",
            "C:\\Users\\User\\Anaconda3\\envs\\buan6341_2020\\lib\\site-packages\\sklearn\\linear_model\\_coordinate_descent.py:476: ConvergenceWarning: Objective did not converge. You might want to increase the number of iterations. Duality gap: 0.0, tolerance: 0.0\n",
            "  positive)\n",
            "C:\\Users\\User\\Anaconda3\\envs\\buan6341_2020\\lib\\site-packages\\sklearn\\linear_model\\_coordinate_descent.py:476: ConvergenceWarning: Objective did not converge. You might want to increase the number of iterations. Duality gap: 0.0, tolerance: 0.0\n",
            "  positive)\n",
            "C:\\Users\\User\\Anaconda3\\envs\\buan6341_2020\\lib\\site-packages\\sklearn\\linear_model\\_coordinate_descent.py:476: ConvergenceWarning: Objective did not converge. You might want to increase the number of iterations. Duality gap: 0.0, tolerance: 0.0\n",
            "  positive)\n",
            "C:\\Users\\User\\Anaconda3\\envs\\buan6341_2020\\lib\\site-packages\\sklearn\\linear_model\\_coordinate_descent.py:476: ConvergenceWarning: Objective did not converge. You might want to increase the number of iterations. Duality gap: 0.0, tolerance: 0.0\n",
            "  positive)\n",
            "C:\\Users\\User\\Anaconda3\\envs\\buan6341_2020\\lib\\site-packages\\sklearn\\linear_model\\_coordinate_descent.py:476: ConvergenceWarning: Objective did not converge. You might want to increase the number of iterations. Duality gap: 0.0, tolerance: 0.0\n",
            "  positive)\n",
            "C:\\Users\\User\\Anaconda3\\envs\\buan6341_2020\\lib\\site-packages\\sklearn\\linear_model\\_coordinate_descent.py:476: ConvergenceWarning: Objective did not converge. You might want to increase the number of iterations. Duality gap: 0.0, tolerance: 0.0\n",
            "  positive)\n",
            "C:\\Users\\User\\Anaconda3\\envs\\buan6341_2020\\lib\\site-packages\\sklearn\\linear_model\\_coordinate_descent.py:476: ConvergenceWarning: Objective did not converge. You might want to increase the number of iterations. Duality gap: 0.0, tolerance: 0.0\n",
            "  positive)\n",
            "C:\\Users\\User\\Anaconda3\\envs\\buan6341_2020\\lib\\site-packages\\sklearn\\linear_model\\_coordinate_descent.py:476: ConvergenceWarning: Objective did not converge. You might want to increase the number of iterations. Duality gap: 0.0, tolerance: 0.0\n",
            "  positive)\n",
            "C:\\Users\\User\\Anaconda3\\envs\\buan6341_2020\\lib\\site-packages\\sklearn\\linear_model\\_coordinate_descent.py:476: ConvergenceWarning: Objective did not converge. You might want to increase the number of iterations. Duality gap: 0.0, tolerance: 0.0\n",
            "  positive)\n",
            "C:\\Users\\User\\Anaconda3\\envs\\buan6341_2020\\lib\\site-packages\\sklearn\\linear_model\\_coordinate_descent.py:476: ConvergenceWarning: Objective did not converge. You might want to increase the number of iterations. Duality gap: 0.0, tolerance: 0.0\n",
            "  positive)\n",
            "C:\\Users\\User\\Anaconda3\\envs\\buan6341_2020\\lib\\site-packages\\sklearn\\linear_model\\_coordinate_descent.py:476: ConvergenceWarning: Objective did not converge. You might want to increase the number of iterations. Duality gap: 0.0, tolerance: 0.0\n",
            "  positive)\n",
            "C:\\Users\\User\\Anaconda3\\envs\\buan6341_2020\\lib\\site-packages\\sklearn\\linear_model\\_coordinate_descent.py:476: ConvergenceWarning: Objective did not converge. You might want to increase the number of iterations. Duality gap: 0.0, tolerance: 0.0\n",
            "  positive)\n",
            "C:\\Users\\User\\Anaconda3\\envs\\buan6341_2020\\lib\\site-packages\\sklearn\\linear_model\\_coordinate_descent.py:476: ConvergenceWarning: Objective did not converge. You might want to increase the number of iterations. Duality gap: 0.0, tolerance: 0.0\n",
            "  positive)\n",
            "C:\\Users\\User\\Anaconda3\\envs\\buan6341_2020\\lib\\site-packages\\sklearn\\linear_model\\_coordinate_descent.py:476: ConvergenceWarning: Objective did not converge. You might want to increase the number of iterations. Duality gap: 0.0, tolerance: 0.0\n",
            "  positive)\n",
            "C:\\Users\\User\\Anaconda3\\envs\\buan6341_2020\\lib\\site-packages\\sklearn\\linear_model\\_coordinate_descent.py:476: ConvergenceWarning: Objective did not converge. You might want to increase the number of iterations. Duality gap: 0.0, tolerance: 0.0\n",
            "  positive)\n",
            "C:\\Users\\User\\Anaconda3\\envs\\buan6341_2020\\lib\\site-packages\\sklearn\\linear_model\\_coordinate_descent.py:476: ConvergenceWarning: Objective did not converge. You might want to increase the number of iterations. Duality gap: 0.0, tolerance: 0.0\n",
            "  positive)\n",
            "C:\\Users\\User\\Anaconda3\\envs\\buan6341_2020\\lib\\site-packages\\sklearn\\linear_model\\_coordinate_descent.py:476: ConvergenceWarning: Objective did not converge. You might want to increase the number of iterations. Duality gap: 0.0, tolerance: 0.0\n",
            "  positive)\n",
            "C:\\Users\\User\\Anaconda3\\envs\\buan6341_2020\\lib\\site-packages\\sklearn\\linear_model\\_coordinate_descent.py:476: ConvergenceWarning: Objective did not converge. You might want to increase the number of iterations. Duality gap: 0.0, tolerance: 0.0\n",
            "  positive)\n",
            "C:\\Users\\User\\Anaconda3\\envs\\buan6341_2020\\lib\\site-packages\\sklearn\\linear_model\\_coordinate_descent.py:476: ConvergenceWarning: Objective did not converge. You might want to increase the number of iterations. Duality gap: 0.0, tolerance: 0.0\n",
            "  positive)\n",
            "C:\\Users\\User\\Anaconda3\\envs\\buan6341_2020\\lib\\site-packages\\sklearn\\linear_model\\_coordinate_descent.py:476: ConvergenceWarning: Objective did not converge. You might want to increase the number of iterations. Duality gap: 0.0, tolerance: 0.0\n",
            "  positive)\n",
            "C:\\Users\\User\\Anaconda3\\envs\\buan6341_2020\\lib\\site-packages\\sklearn\\linear_model\\_coordinate_descent.py:476: ConvergenceWarning: Objective did not converge. You might want to increase the number of iterations. Duality gap: 0.0, tolerance: 0.0\n",
            "  positive)\n",
            "C:\\Users\\User\\Anaconda3\\envs\\buan6341_2020\\lib\\site-packages\\sklearn\\linear_model\\_coordinate_descent.py:476: ConvergenceWarning: Objective did not converge. You might want to increase the number of iterations. Duality gap: 0.0, tolerance: 0.0\n",
            "  positive)\n",
            "C:\\Users\\User\\Anaconda3\\envs\\buan6341_2020\\lib\\site-packages\\sklearn\\linear_model\\_coordinate_descent.py:476: ConvergenceWarning: Objective did not converge. You might want to increase the number of iterations. Duality gap: 0.0, tolerance: 0.0\n",
            "  positive)\n",
            "C:\\Users\\User\\Anaconda3\\envs\\buan6341_2020\\lib\\site-packages\\sklearn\\linear_model\\_coordinate_descent.py:476: ConvergenceWarning: Objective did not converge. You might want to increase the number of iterations. Duality gap: 0.0, tolerance: 0.0\n",
            "  positive)\n"
          ],
          "name": "stderr"
        },
        {
          "output_type": "stream",
          "text": [
            "C:\\Users\\User\\Anaconda3\\envs\\buan6341_2020\\lib\\site-packages\\sklearn\\linear_model\\_coordinate_descent.py:476: ConvergenceWarning: Objective did not converge. You might want to increase the number of iterations. Duality gap: 0.0, tolerance: 0.0\n",
            "  positive)\n",
            "C:\\Users\\User\\Anaconda3\\envs\\buan6341_2020\\lib\\site-packages\\sklearn\\linear_model\\_coordinate_descent.py:476: ConvergenceWarning: Objective did not converge. You might want to increase the number of iterations. Duality gap: 0.0, tolerance: 0.0\n",
            "  positive)\n",
            "C:\\Users\\User\\Anaconda3\\envs\\buan6341_2020\\lib\\site-packages\\sklearn\\linear_model\\_coordinate_descent.py:476: ConvergenceWarning: Objective did not converge. You might want to increase the number of iterations. Duality gap: 0.0, tolerance: 0.0\n",
            "  positive)\n",
            "C:\\Users\\User\\Anaconda3\\envs\\buan6341_2020\\lib\\site-packages\\sklearn\\linear_model\\_coordinate_descent.py:476: ConvergenceWarning: Objective did not converge. You might want to increase the number of iterations. Duality gap: 0.0, tolerance: 0.0\n",
            "  positive)\n",
            "C:\\Users\\User\\Anaconda3\\envs\\buan6341_2020\\lib\\site-packages\\sklearn\\linear_model\\_coordinate_descent.py:476: ConvergenceWarning: Objective did not converge. You might want to increase the number of iterations. Duality gap: 0.0, tolerance: 0.0\n",
            "  positive)\n",
            "C:\\Users\\User\\Anaconda3\\envs\\buan6341_2020\\lib\\site-packages\\sklearn\\linear_model\\_coordinate_descent.py:476: ConvergenceWarning: Objective did not converge. You might want to increase the number of iterations. Duality gap: 0.0, tolerance: 0.0\n",
            "  positive)\n",
            "C:\\Users\\User\\Anaconda3\\envs\\buan6341_2020\\lib\\site-packages\\sklearn\\linear_model\\_coordinate_descent.py:476: ConvergenceWarning: Objective did not converge. You might want to increase the number of iterations. Duality gap: 0.0, tolerance: 0.0\n",
            "  positive)\n",
            "C:\\Users\\User\\Anaconda3\\envs\\buan6341_2020\\lib\\site-packages\\sklearn\\linear_model\\_coordinate_descent.py:476: ConvergenceWarning: Objective did not converge. You might want to increase the number of iterations. Duality gap: 0.0, tolerance: 0.0\n",
            "  positive)\n",
            "C:\\Users\\User\\Anaconda3\\envs\\buan6341_2020\\lib\\site-packages\\sklearn\\linear_model\\_coordinate_descent.py:476: ConvergenceWarning: Objective did not converge. You might want to increase the number of iterations. Duality gap: 0.0, tolerance: 0.0\n",
            "  positive)\n",
            "C:\\Users\\User\\Anaconda3\\envs\\buan6341_2020\\lib\\site-packages\\sklearn\\linear_model\\_coordinate_descent.py:476: ConvergenceWarning: Objective did not converge. You might want to increase the number of iterations. Duality gap: 0.0, tolerance: 0.0\n",
            "  positive)\n",
            "C:\\Users\\User\\Anaconda3\\envs\\buan6341_2020\\lib\\site-packages\\sklearn\\linear_model\\_coordinate_descent.py:476: ConvergenceWarning: Objective did not converge. You might want to increase the number of iterations. Duality gap: 0.0, tolerance: 0.0\n",
            "  positive)\n",
            "C:\\Users\\User\\Anaconda3\\envs\\buan6341_2020\\lib\\site-packages\\sklearn\\linear_model\\_coordinate_descent.py:476: ConvergenceWarning: Objective did not converge. You might want to increase the number of iterations. Duality gap: 0.0, tolerance: 0.0\n",
            "  positive)\n",
            "C:\\Users\\User\\Anaconda3\\envs\\buan6341_2020\\lib\\site-packages\\sklearn\\linear_model\\_coordinate_descent.py:476: ConvergenceWarning: Objective did not converge. You might want to increase the number of iterations. Duality gap: 0.0, tolerance: 0.0\n",
            "  positive)\n",
            "C:\\Users\\User\\Anaconda3\\envs\\buan6341_2020\\lib\\site-packages\\sklearn\\linear_model\\_coordinate_descent.py:476: ConvergenceWarning: Objective did not converge. You might want to increase the number of iterations. Duality gap: 0.0, tolerance: 0.0\n",
            "  positive)\n",
            "C:\\Users\\User\\Anaconda3\\envs\\buan6341_2020\\lib\\site-packages\\sklearn\\linear_model\\_coordinate_descent.py:476: ConvergenceWarning: Objective did not converge. You might want to increase the number of iterations. Duality gap: 0.0, tolerance: 0.0\n",
            "  positive)\n",
            "C:\\Users\\User\\Anaconda3\\envs\\buan6341_2020\\lib\\site-packages\\sklearn\\linear_model\\_coordinate_descent.py:476: ConvergenceWarning: Objective did not converge. You might want to increase the number of iterations. Duality gap: 0.0, tolerance: 0.0\n",
            "  positive)\n",
            "C:\\Users\\User\\Anaconda3\\envs\\buan6341_2020\\lib\\site-packages\\sklearn\\linear_model\\_coordinate_descent.py:476: ConvergenceWarning: Objective did not converge. You might want to increase the number of iterations. Duality gap: 0.0, tolerance: 0.0\n",
            "  positive)\n",
            "C:\\Users\\User\\Anaconda3\\envs\\buan6341_2020\\lib\\site-packages\\sklearn\\linear_model\\_coordinate_descent.py:476: ConvergenceWarning: Objective did not converge. You might want to increase the number of iterations. Duality gap: 0.0, tolerance: 0.0\n",
            "  positive)\n",
            "C:\\Users\\User\\Anaconda3\\envs\\buan6341_2020\\lib\\site-packages\\sklearn\\linear_model\\_coordinate_descent.py:476: ConvergenceWarning: Objective did not converge. You might want to increase the number of iterations. Duality gap: 0.0, tolerance: 0.0\n",
            "  positive)\n",
            "C:\\Users\\User\\Anaconda3\\envs\\buan6341_2020\\lib\\site-packages\\sklearn\\linear_model\\_coordinate_descent.py:476: ConvergenceWarning: Objective did not converge. You might want to increase the number of iterations. Duality gap: 0.0, tolerance: 0.0\n",
            "  positive)\n",
            "C:\\Users\\User\\Anaconda3\\envs\\buan6341_2020\\lib\\site-packages\\sklearn\\linear_model\\_coordinate_descent.py:476: ConvergenceWarning: Objective did not converge. You might want to increase the number of iterations. Duality gap: 0.0, tolerance: 0.0\n",
            "  positive)\n",
            "C:\\Users\\User\\Anaconda3\\envs\\buan6341_2020\\lib\\site-packages\\sklearn\\linear_model\\_coordinate_descent.py:476: ConvergenceWarning: Objective did not converge. You might want to increase the number of iterations. Duality gap: 0.0, tolerance: 0.0\n",
            "  positive)\n",
            "C:\\Users\\User\\Anaconda3\\envs\\buan6341_2020\\lib\\site-packages\\sklearn\\linear_model\\_coordinate_descent.py:476: ConvergenceWarning: Objective did not converge. You might want to increase the number of iterations. Duality gap: 0.0, tolerance: 0.0\n",
            "  positive)\n",
            "C:\\Users\\User\\Anaconda3\\envs\\buan6341_2020\\lib\\site-packages\\sklearn\\linear_model\\_coordinate_descent.py:476: ConvergenceWarning: Objective did not converge. You might want to increase the number of iterations. Duality gap: 0.0, tolerance: 0.0\n",
            "  positive)\n",
            "C:\\Users\\User\\Anaconda3\\envs\\buan6341_2020\\lib\\site-packages\\sklearn\\linear_model\\_coordinate_descent.py:476: ConvergenceWarning: Objective did not converge. You might want to increase the number of iterations. Duality gap: 0.0, tolerance: 0.0\n",
            "  positive)\n",
            "C:\\Users\\User\\Anaconda3\\envs\\buan6341_2020\\lib\\site-packages\\sklearn\\linear_model\\_coordinate_descent.py:476: ConvergenceWarning: Objective did not converge. You might want to increase the number of iterations. Duality gap: 0.0, tolerance: 0.0\n",
            "  positive)\n",
            "C:\\Users\\User\\Anaconda3\\envs\\buan6341_2020\\lib\\site-packages\\sklearn\\linear_model\\_coordinate_descent.py:476: ConvergenceWarning: Objective did not converge. You might want to increase the number of iterations. Duality gap: 0.0, tolerance: 0.0\n",
            "  positive)\n",
            "C:\\Users\\User\\Anaconda3\\envs\\buan6341_2020\\lib\\site-packages\\sklearn\\linear_model\\_coordinate_descent.py:476: ConvergenceWarning: Objective did not converge. You might want to increase the number of iterations. Duality gap: 0.0, tolerance: 0.0\n",
            "  positive)\n",
            "C:\\Users\\User\\Anaconda3\\envs\\buan6341_2020\\lib\\site-packages\\sklearn\\linear_model\\_coordinate_descent.py:476: ConvergenceWarning: Objective did not converge. You might want to increase the number of iterations. Duality gap: 0.0, tolerance: 0.0\n",
            "  positive)\n",
            "C:\\Users\\User\\Anaconda3\\envs\\buan6341_2020\\lib\\site-packages\\sklearn\\linear_model\\_coordinate_descent.py:476: ConvergenceWarning: Objective did not converge. You might want to increase the number of iterations. Duality gap: 0.0, tolerance: 0.0\n",
            "  positive)\n",
            "C:\\Users\\User\\Anaconda3\\envs\\buan6341_2020\\lib\\site-packages\\sklearn\\linear_model\\_coordinate_descent.py:476: ConvergenceWarning: Objective did not converge. You might want to increase the number of iterations. Duality gap: 0.0, tolerance: 0.0\n",
            "  positive)\n",
            "C:\\Users\\User\\Anaconda3\\envs\\buan6341_2020\\lib\\site-packages\\sklearn\\linear_model\\_coordinate_descent.py:476: ConvergenceWarning: Objective did not converge. You might want to increase the number of iterations. Duality gap: 0.0, tolerance: 0.0\n",
            "  positive)\n",
            "C:\\Users\\User\\Anaconda3\\envs\\buan6341_2020\\lib\\site-packages\\sklearn\\linear_model\\_coordinate_descent.py:476: ConvergenceWarning: Objective did not converge. You might want to increase the number of iterations. Duality gap: 0.0, tolerance: 0.0\n",
            "  positive)\n"
          ],
          "name": "stderr"
        },
        {
          "output_type": "stream",
          "text": [
            "C:\\Users\\User\\Anaconda3\\envs\\buan6341_2020\\lib\\site-packages\\sklearn\\linear_model\\_coordinate_descent.py:476: ConvergenceWarning: Objective did not converge. You might want to increase the number of iterations. Duality gap: 0.0, tolerance: 0.0\n",
            "  positive)\n",
            "C:\\Users\\User\\Anaconda3\\envs\\buan6341_2020\\lib\\site-packages\\sklearn\\linear_model\\_coordinate_descent.py:476: ConvergenceWarning: Objective did not converge. You might want to increase the number of iterations. Duality gap: 0.0, tolerance: 0.0\n",
            "  positive)\n",
            "C:\\Users\\User\\Anaconda3\\envs\\buan6341_2020\\lib\\site-packages\\sklearn\\linear_model\\_coordinate_descent.py:476: ConvergenceWarning: Objective did not converge. You might want to increase the number of iterations. Duality gap: 0.0, tolerance: 0.0\n",
            "  positive)\n",
            "C:\\Users\\User\\Anaconda3\\envs\\buan6341_2020\\lib\\site-packages\\sklearn\\linear_model\\_coordinate_descent.py:476: ConvergenceWarning: Objective did not converge. You might want to increase the number of iterations. Duality gap: 0.0, tolerance: 0.0\n",
            "  positive)\n",
            "C:\\Users\\User\\Anaconda3\\envs\\buan6341_2020\\lib\\site-packages\\sklearn\\linear_model\\_coordinate_descent.py:476: ConvergenceWarning: Objective did not converge. You might want to increase the number of iterations. Duality gap: 0.0, tolerance: 0.0\n",
            "  positive)\n",
            "C:\\Users\\User\\Anaconda3\\envs\\buan6341_2020\\lib\\site-packages\\sklearn\\linear_model\\_coordinate_descent.py:476: ConvergenceWarning: Objective did not converge. You might want to increase the number of iterations. Duality gap: 0.0, tolerance: 0.0\n",
            "  positive)\n",
            "C:\\Users\\User\\Anaconda3\\envs\\buan6341_2020\\lib\\site-packages\\sklearn\\linear_model\\_coordinate_descent.py:476: ConvergenceWarning: Objective did not converge. You might want to increase the number of iterations. Duality gap: 0.0, tolerance: 0.0\n",
            "  positive)\n",
            "C:\\Users\\User\\Anaconda3\\envs\\buan6341_2020\\lib\\site-packages\\sklearn\\linear_model\\_coordinate_descent.py:476: ConvergenceWarning: Objective did not converge. You might want to increase the number of iterations. Duality gap: 0.0, tolerance: 0.0\n",
            "  positive)\n",
            "C:\\Users\\User\\Anaconda3\\envs\\buan6341_2020\\lib\\site-packages\\sklearn\\linear_model\\_coordinate_descent.py:476: ConvergenceWarning: Objective did not converge. You might want to increase the number of iterations. Duality gap: 0.0, tolerance: 0.0\n",
            "  positive)\n",
            "C:\\Users\\User\\Anaconda3\\envs\\buan6341_2020\\lib\\site-packages\\sklearn\\linear_model\\_coordinate_descent.py:476: ConvergenceWarning: Objective did not converge. You might want to increase the number of iterations. Duality gap: 0.0, tolerance: 0.0\n",
            "  positive)\n",
            "C:\\Users\\User\\Anaconda3\\envs\\buan6341_2020\\lib\\site-packages\\sklearn\\linear_model\\_coordinate_descent.py:476: ConvergenceWarning: Objective did not converge. You might want to increase the number of iterations. Duality gap: 0.0, tolerance: 0.0\n",
            "  positive)\n",
            "C:\\Users\\User\\Anaconda3\\envs\\buan6341_2020\\lib\\site-packages\\sklearn\\linear_model\\_coordinate_descent.py:476: ConvergenceWarning: Objective did not converge. You might want to increase the number of iterations. Duality gap: 0.0, tolerance: 0.0\n",
            "  positive)\n",
            "C:\\Users\\User\\Anaconda3\\envs\\buan6341_2020\\lib\\site-packages\\sklearn\\linear_model\\_coordinate_descent.py:476: ConvergenceWarning: Objective did not converge. You might want to increase the number of iterations. Duality gap: 0.0, tolerance: 0.0\n",
            "  positive)\n",
            "C:\\Users\\User\\Anaconda3\\envs\\buan6341_2020\\lib\\site-packages\\sklearn\\linear_model\\_coordinate_descent.py:476: ConvergenceWarning: Objective did not converge. You might want to increase the number of iterations. Duality gap: 0.0, tolerance: 0.0\n",
            "  positive)\n",
            "C:\\Users\\User\\Anaconda3\\envs\\buan6341_2020\\lib\\site-packages\\sklearn\\linear_model\\_coordinate_descent.py:476: ConvergenceWarning: Objective did not converge. You might want to increase the number of iterations. Duality gap: 0.0, tolerance: 0.0\n",
            "  positive)\n",
            "C:\\Users\\User\\Anaconda3\\envs\\buan6341_2020\\lib\\site-packages\\sklearn\\linear_model\\_coordinate_descent.py:476: ConvergenceWarning: Objective did not converge. You might want to increase the number of iterations. Duality gap: 0.0, tolerance: 0.0\n",
            "  positive)\n",
            "C:\\Users\\User\\Anaconda3\\envs\\buan6341_2020\\lib\\site-packages\\sklearn\\linear_model\\_coordinate_descent.py:476: ConvergenceWarning: Objective did not converge. You might want to increase the number of iterations. Duality gap: 0.0, tolerance: 0.0\n",
            "  positive)\n",
            "C:\\Users\\User\\Anaconda3\\envs\\buan6341_2020\\lib\\site-packages\\sklearn\\linear_model\\_coordinate_descent.py:476: ConvergenceWarning: Objective did not converge. You might want to increase the number of iterations. Duality gap: 0.0, tolerance: 0.0\n",
            "  positive)\n",
            "C:\\Users\\User\\Anaconda3\\envs\\buan6341_2020\\lib\\site-packages\\sklearn\\linear_model\\_coordinate_descent.py:476: ConvergenceWarning: Objective did not converge. You might want to increase the number of iterations. Duality gap: 0.0, tolerance: 0.0\n",
            "  positive)\n",
            "C:\\Users\\User\\Anaconda3\\envs\\buan6341_2020\\lib\\site-packages\\sklearn\\linear_model\\_coordinate_descent.py:476: ConvergenceWarning: Objective did not converge. You might want to increase the number of iterations. Duality gap: 0.0, tolerance: 0.0\n",
            "  positive)\n",
            "C:\\Users\\User\\Anaconda3\\envs\\buan6341_2020\\lib\\site-packages\\sklearn\\linear_model\\_coordinate_descent.py:476: ConvergenceWarning: Objective did not converge. You might want to increase the number of iterations. Duality gap: 0.0, tolerance: 0.0\n",
            "  positive)\n",
            "C:\\Users\\User\\Anaconda3\\envs\\buan6341_2020\\lib\\site-packages\\sklearn\\linear_model\\_coordinate_descent.py:476: ConvergenceWarning: Objective did not converge. You might want to increase the number of iterations. Duality gap: 0.0, tolerance: 0.0\n",
            "  positive)\n",
            "C:\\Users\\User\\Anaconda3\\envs\\buan6341_2020\\lib\\site-packages\\sklearn\\linear_model\\_coordinate_descent.py:476: ConvergenceWarning: Objective did not converge. You might want to increase the number of iterations. Duality gap: 0.0, tolerance: 0.0\n",
            "  positive)\n",
            "C:\\Users\\User\\Anaconda3\\envs\\buan6341_2020\\lib\\site-packages\\sklearn\\linear_model\\_coordinate_descent.py:476: ConvergenceWarning: Objective did not converge. You might want to increase the number of iterations. Duality gap: 0.0, tolerance: 0.0\n",
            "  positive)\n",
            "C:\\Users\\User\\Anaconda3\\envs\\buan6341_2020\\lib\\site-packages\\sklearn\\linear_model\\_coordinate_descent.py:476: ConvergenceWarning: Objective did not converge. You might want to increase the number of iterations. Duality gap: 0.0, tolerance: 0.0\n",
            "  positive)\n",
            "C:\\Users\\User\\Anaconda3\\envs\\buan6341_2020\\lib\\site-packages\\sklearn\\linear_model\\_coordinate_descent.py:476: ConvergenceWarning: Objective did not converge. You might want to increase the number of iterations. Duality gap: 0.0, tolerance: 0.0\n",
            "  positive)\n",
            "C:\\Users\\User\\Anaconda3\\envs\\buan6341_2020\\lib\\site-packages\\sklearn\\linear_model\\_coordinate_descent.py:476: ConvergenceWarning: Objective did not converge. You might want to increase the number of iterations. Duality gap: 0.0, tolerance: 0.0\n",
            "  positive)\n",
            "C:\\Users\\User\\Anaconda3\\envs\\buan6341_2020\\lib\\site-packages\\sklearn\\linear_model\\_coordinate_descent.py:476: ConvergenceWarning: Objective did not converge. You might want to increase the number of iterations. Duality gap: 0.0, tolerance: 0.0\n",
            "  positive)\n",
            "C:\\Users\\User\\Anaconda3\\envs\\buan6341_2020\\lib\\site-packages\\sklearn\\linear_model\\_coordinate_descent.py:476: ConvergenceWarning: Objective did not converge. You might want to increase the number of iterations. Duality gap: 0.0, tolerance: 0.0\n",
            "  positive)\n",
            "C:\\Users\\User\\Anaconda3\\envs\\buan6341_2020\\lib\\site-packages\\sklearn\\linear_model\\_coordinate_descent.py:476: ConvergenceWarning: Objective did not converge. You might want to increase the number of iterations. Duality gap: 0.0, tolerance: 0.0\n",
            "  positive)\n",
            "C:\\Users\\User\\Anaconda3\\envs\\buan6341_2020\\lib\\site-packages\\sklearn\\linear_model\\_coordinate_descent.py:476: ConvergenceWarning: Objective did not converge. You might want to increase the number of iterations. Duality gap: 0.0, tolerance: 0.0\n",
            "  positive)\n",
            "C:\\Users\\User\\Anaconda3\\envs\\buan6341_2020\\lib\\site-packages\\sklearn\\linear_model\\_coordinate_descent.py:476: ConvergenceWarning: Objective did not converge. You might want to increase the number of iterations. Duality gap: 0.0, tolerance: 0.0\n",
            "  positive)\n",
            "C:\\Users\\User\\Anaconda3\\envs\\buan6341_2020\\lib\\site-packages\\sklearn\\linear_model\\_coordinate_descent.py:476: ConvergenceWarning: Objective did not converge. You might want to increase the number of iterations. Duality gap: 0.0, tolerance: 0.0\n",
            "  positive)\n",
            "C:\\Users\\User\\Anaconda3\\envs\\buan6341_2020\\lib\\site-packages\\sklearn\\linear_model\\_coordinate_descent.py:476: ConvergenceWarning: Objective did not converge. You might want to increase the number of iterations. Duality gap: 0.0, tolerance: 0.0\n",
            "  positive)\n",
            "C:\\Users\\User\\Anaconda3\\envs\\buan6341_2020\\lib\\site-packages\\sklearn\\linear_model\\_coordinate_descent.py:476: ConvergenceWarning: Objective did not converge. You might want to increase the number of iterations. Duality gap: 0.0, tolerance: 0.0\n",
            "  positive)\n",
            "C:\\Users\\User\\Anaconda3\\envs\\buan6341_2020\\lib\\site-packages\\sklearn\\linear_model\\_coordinate_descent.py:476: ConvergenceWarning: Objective did not converge. You might want to increase the number of iterations. Duality gap: 0.0, tolerance: 0.0\n",
            "  positive)\n",
            "C:\\Users\\User\\Anaconda3\\envs\\buan6341_2020\\lib\\site-packages\\sklearn\\linear_model\\_coordinate_descent.py:476: ConvergenceWarning: Objective did not converge. You might want to increase the number of iterations. Duality gap: 0.0, tolerance: 0.0\n",
            "  positive)\n",
            "C:\\Users\\User\\Anaconda3\\envs\\buan6341_2020\\lib\\site-packages\\sklearn\\linear_model\\_coordinate_descent.py:476: ConvergenceWarning: Objective did not converge. You might want to increase the number of iterations. Duality gap: 0.0, tolerance: 0.0\n",
            "  positive)\n",
            "C:\\Users\\User\\Anaconda3\\envs\\buan6341_2020\\lib\\site-packages\\sklearn\\linear_model\\_coordinate_descent.py:476: ConvergenceWarning: Objective did not converge. You might want to increase the number of iterations. Duality gap: 0.0, tolerance: 0.0\n",
            "  positive)\n",
            "C:\\Users\\User\\Anaconda3\\envs\\buan6341_2020\\lib\\site-packages\\sklearn\\linear_model\\_coordinate_descent.py:476: ConvergenceWarning: Objective did not converge. You might want to increase the number of iterations. Duality gap: 0.0, tolerance: 0.0\n",
            "  positive)\n",
            "C:\\Users\\User\\Anaconda3\\envs\\buan6341_2020\\lib\\site-packages\\sklearn\\linear_model\\_coordinate_descent.py:476: ConvergenceWarning: Objective did not converge. You might want to increase the number of iterations. Duality gap: 0.0, tolerance: 0.0\n",
            "  positive)\n",
            "C:\\Users\\User\\Anaconda3\\envs\\buan6341_2020\\lib\\site-packages\\sklearn\\linear_model\\_coordinate_descent.py:476: ConvergenceWarning: Objective did not converge. You might want to increase the number of iterations. Duality gap: 0.0, tolerance: 0.0\n",
            "  positive)\n",
            "C:\\Users\\User\\Anaconda3\\envs\\buan6341_2020\\lib\\site-packages\\sklearn\\linear_model\\_coordinate_descent.py:476: ConvergenceWarning: Objective did not converge. You might want to increase the number of iterations. Duality gap: 0.0, tolerance: 0.0\n",
            "  positive)\n",
            "C:\\Users\\User\\Anaconda3\\envs\\buan6341_2020\\lib\\site-packages\\sklearn\\linear_model\\_coordinate_descent.py:476: ConvergenceWarning: Objective did not converge. You might want to increase the number of iterations. Duality gap: 0.0, tolerance: 0.0\n",
            "  positive)\n",
            "C:\\Users\\User\\Anaconda3\\envs\\buan6341_2020\\lib\\site-packages\\sklearn\\linear_model\\_coordinate_descent.py:476: ConvergenceWarning: Objective did not converge. You might want to increase the number of iterations. Duality gap: 0.0, tolerance: 0.0\n",
            "  positive)\n",
            "C:\\Users\\User\\Anaconda3\\envs\\buan6341_2020\\lib\\site-packages\\sklearn\\linear_model\\_coordinate_descent.py:476: ConvergenceWarning: Objective did not converge. You might want to increase the number of iterations. Duality gap: 0.0, tolerance: 0.0\n",
            "  positive)\n",
            "C:\\Users\\User\\Anaconda3\\envs\\buan6341_2020\\lib\\site-packages\\sklearn\\linear_model\\_coordinate_descent.py:476: ConvergenceWarning: Objective did not converge. You might want to increase the number of iterations. Duality gap: 0.0, tolerance: 0.0\n",
            "  positive)\n",
            "C:\\Users\\User\\Anaconda3\\envs\\buan6341_2020\\lib\\site-packages\\sklearn\\linear_model\\_coordinate_descent.py:476: ConvergenceWarning: Objective did not converge. You might want to increase the number of iterations. Duality gap: 0.0, tolerance: 0.0\n",
            "  positive)\n",
            "C:\\Users\\User\\Anaconda3\\envs\\buan6341_2020\\lib\\site-packages\\sklearn\\linear_model\\_coordinate_descent.py:476: ConvergenceWarning: Objective did not converge. You might want to increase the number of iterations. Duality gap: 0.0, tolerance: 0.0\n",
            "  positive)\n",
            "C:\\Users\\User\\Anaconda3\\envs\\buan6341_2020\\lib\\site-packages\\sklearn\\linear_model\\_coordinate_descent.py:476: ConvergenceWarning: Objective did not converge. You might want to increase the number of iterations. Duality gap: 0.0, tolerance: 0.0\n",
            "  positive)\n",
            "C:\\Users\\User\\Anaconda3\\envs\\buan6341_2020\\lib\\site-packages\\sklearn\\linear_model\\_coordinate_descent.py:476: ConvergenceWarning: Objective did not converge. You might want to increase the number of iterations. Duality gap: 0.0, tolerance: 0.0\n",
            "  positive)\n",
            "C:\\Users\\User\\Anaconda3\\envs\\buan6341_2020\\lib\\site-packages\\sklearn\\linear_model\\_coordinate_descent.py:476: ConvergenceWarning: Objective did not converge. You might want to increase the number of iterations. Duality gap: 0.0, tolerance: 0.0\n",
            "  positive)\n",
            "C:\\Users\\User\\Anaconda3\\envs\\buan6341_2020\\lib\\site-packages\\sklearn\\linear_model\\_coordinate_descent.py:476: ConvergenceWarning: Objective did not converge. You might want to increase the number of iterations. Duality gap: 0.0, tolerance: 0.0\n",
            "  positive)\n",
            "C:\\Users\\User\\Anaconda3\\envs\\buan6341_2020\\lib\\site-packages\\sklearn\\linear_model\\_coordinate_descent.py:476: ConvergenceWarning: Objective did not converge. You might want to increase the number of iterations. Duality gap: 0.0, tolerance: 0.0\n",
            "  positive)\n",
            "C:\\Users\\User\\Anaconda3\\envs\\buan6341_2020\\lib\\site-packages\\sklearn\\linear_model\\_coordinate_descent.py:476: ConvergenceWarning: Objective did not converge. You might want to increase the number of iterations. Duality gap: 0.0, tolerance: 0.0\n",
            "  positive)\n",
            "C:\\Users\\User\\Anaconda3\\envs\\buan6341_2020\\lib\\site-packages\\sklearn\\linear_model\\_coordinate_descent.py:476: ConvergenceWarning: Objective did not converge. You might want to increase the number of iterations. Duality gap: 0.0, tolerance: 0.0\n",
            "  positive)\n",
            "C:\\Users\\User\\Anaconda3\\envs\\buan6341_2020\\lib\\site-packages\\sklearn\\linear_model\\_coordinate_descent.py:476: ConvergenceWarning: Objective did not converge. You might want to increase the number of iterations. Duality gap: 0.0, tolerance: 0.0\n",
            "  positive)\n",
            "C:\\Users\\User\\Anaconda3\\envs\\buan6341_2020\\lib\\site-packages\\sklearn\\linear_model\\_coordinate_descent.py:476: ConvergenceWarning: Objective did not converge. You might want to increase the number of iterations. Duality gap: 0.0, tolerance: 0.0\n",
            "  positive)\n",
            "C:\\Users\\User\\Anaconda3\\envs\\buan6341_2020\\lib\\site-packages\\sklearn\\linear_model\\_coordinate_descent.py:476: ConvergenceWarning: Objective did not converge. You might want to increase the number of iterations. Duality gap: 0.0, tolerance: 0.0\n",
            "  positive)\n",
            "C:\\Users\\User\\Anaconda3\\envs\\buan6341_2020\\lib\\site-packages\\sklearn\\linear_model\\_coordinate_descent.py:476: ConvergenceWarning: Objective did not converge. You might want to increase the number of iterations. Duality gap: 0.0, tolerance: 0.0\n",
            "  positive)\n",
            "C:\\Users\\User\\Anaconda3\\envs\\buan6341_2020\\lib\\site-packages\\sklearn\\linear_model\\_coordinate_descent.py:476: ConvergenceWarning: Objective did not converge. You might want to increase the number of iterations. Duality gap: 0.0, tolerance: 0.0\n",
            "  positive)\n",
            "C:\\Users\\User\\Anaconda3\\envs\\buan6341_2020\\lib\\site-packages\\sklearn\\linear_model\\_coordinate_descent.py:476: ConvergenceWarning: Objective did not converge. You might want to increase the number of iterations. Duality gap: 0.0, tolerance: 0.0\n",
            "  positive)\n",
            "C:\\Users\\User\\Anaconda3\\envs\\buan6341_2020\\lib\\site-packages\\sklearn\\linear_model\\_coordinate_descent.py:476: ConvergenceWarning: Objective did not converge. You might want to increase the number of iterations. Duality gap: 0.0, tolerance: 0.0\n",
            "  positive)\n",
            "C:\\Users\\User\\Anaconda3\\envs\\buan6341_2020\\lib\\site-packages\\sklearn\\linear_model\\_coordinate_descent.py:476: ConvergenceWarning: Objective did not converge. You might want to increase the number of iterations. Duality gap: 0.0, tolerance: 0.0\n",
            "  positive)\n",
            "C:\\Users\\User\\Anaconda3\\envs\\buan6341_2020\\lib\\site-packages\\sklearn\\linear_model\\_coordinate_descent.py:476: ConvergenceWarning: Objective did not converge. You might want to increase the number of iterations. Duality gap: 0.0, tolerance: 0.0\n",
            "  positive)\n"
          ],
          "name": "stderr"
        },
        {
          "output_type": "stream",
          "text": [
            "C:\\Users\\User\\Anaconda3\\envs\\buan6341_2020\\lib\\site-packages\\sklearn\\linear_model\\_coordinate_descent.py:476: ConvergenceWarning: Objective did not converge. You might want to increase the number of iterations. Duality gap: 0.0, tolerance: 0.0\n",
            "  positive)\n",
            "C:\\Users\\User\\Anaconda3\\envs\\buan6341_2020\\lib\\site-packages\\sklearn\\linear_model\\_coordinate_descent.py:476: ConvergenceWarning: Objective did not converge. You might want to increase the number of iterations. Duality gap: 0.0, tolerance: 0.0\n",
            "  positive)\n",
            "C:\\Users\\User\\Anaconda3\\envs\\buan6341_2020\\lib\\site-packages\\sklearn\\linear_model\\_coordinate_descent.py:476: ConvergenceWarning: Objective did not converge. You might want to increase the number of iterations. Duality gap: 0.0, tolerance: 0.0\n",
            "  positive)\n",
            "C:\\Users\\User\\Anaconda3\\envs\\buan6341_2020\\lib\\site-packages\\sklearn\\linear_model\\_coordinate_descent.py:476: ConvergenceWarning: Objective did not converge. You might want to increase the number of iterations. Duality gap: 0.0, tolerance: 0.0\n",
            "  positive)\n",
            "C:\\Users\\User\\Anaconda3\\envs\\buan6341_2020\\lib\\site-packages\\sklearn\\linear_model\\_coordinate_descent.py:476: ConvergenceWarning: Objective did not converge. You might want to increase the number of iterations. Duality gap: 0.0, tolerance: 0.0\n",
            "  positive)\n",
            "C:\\Users\\User\\Anaconda3\\envs\\buan6341_2020\\lib\\site-packages\\sklearn\\linear_model\\_coordinate_descent.py:476: ConvergenceWarning: Objective did not converge. You might want to increase the number of iterations. Duality gap: 0.0, tolerance: 0.0\n",
            "  positive)\n",
            "C:\\Users\\User\\Anaconda3\\envs\\buan6341_2020\\lib\\site-packages\\sklearn\\linear_model\\_coordinate_descent.py:476: ConvergenceWarning: Objective did not converge. You might want to increase the number of iterations. Duality gap: 0.0, tolerance: 0.0\n",
            "  positive)\n",
            "C:\\Users\\User\\Anaconda3\\envs\\buan6341_2020\\lib\\site-packages\\sklearn\\linear_model\\_coordinate_descent.py:476: ConvergenceWarning: Objective did not converge. You might want to increase the number of iterations. Duality gap: 0.0, tolerance: 0.0\n",
            "  positive)\n",
            "C:\\Users\\User\\Anaconda3\\envs\\buan6341_2020\\lib\\site-packages\\sklearn\\linear_model\\_coordinate_descent.py:476: ConvergenceWarning: Objective did not converge. You might want to increase the number of iterations. Duality gap: 0.0, tolerance: 0.0\n",
            "  positive)\n",
            "C:\\Users\\User\\Anaconda3\\envs\\buan6341_2020\\lib\\site-packages\\sklearn\\linear_model\\_coordinate_descent.py:476: ConvergenceWarning: Objective did not converge. You might want to increase the number of iterations. Duality gap: 0.0, tolerance: 0.0\n",
            "  positive)\n",
            "C:\\Users\\User\\Anaconda3\\envs\\buan6341_2020\\lib\\site-packages\\sklearn\\linear_model\\_coordinate_descent.py:476: ConvergenceWarning: Objective did not converge. You might want to increase the number of iterations. Duality gap: 0.0, tolerance: 0.0\n",
            "  positive)\n",
            "C:\\Users\\User\\Anaconda3\\envs\\buan6341_2020\\lib\\site-packages\\sklearn\\linear_model\\_coordinate_descent.py:476: ConvergenceWarning: Objective did not converge. You might want to increase the number of iterations. Duality gap: 0.0, tolerance: 0.0\n",
            "  positive)\n",
            "C:\\Users\\User\\Anaconda3\\envs\\buan6341_2020\\lib\\site-packages\\sklearn\\linear_model\\_coordinate_descent.py:476: ConvergenceWarning: Objective did not converge. You might want to increase the number of iterations. Duality gap: 0.0, tolerance: 0.0\n",
            "  positive)\n",
            "C:\\Users\\User\\Anaconda3\\envs\\buan6341_2020\\lib\\site-packages\\sklearn\\linear_model\\_coordinate_descent.py:476: ConvergenceWarning: Objective did not converge. You might want to increase the number of iterations. Duality gap: 0.0, tolerance: 0.0\n",
            "  positive)\n",
            "C:\\Users\\User\\Anaconda3\\envs\\buan6341_2020\\lib\\site-packages\\sklearn\\linear_model\\_coordinate_descent.py:476: ConvergenceWarning: Objective did not converge. You might want to increase the number of iterations. Duality gap: 0.0, tolerance: 0.0\n",
            "  positive)\n",
            "C:\\Users\\User\\Anaconda3\\envs\\buan6341_2020\\lib\\site-packages\\sklearn\\linear_model\\_coordinate_descent.py:476: ConvergenceWarning: Objective did not converge. You might want to increase the number of iterations. Duality gap: 0.0, tolerance: 0.0\n",
            "  positive)\n",
            "C:\\Users\\User\\Anaconda3\\envs\\buan6341_2020\\lib\\site-packages\\sklearn\\linear_model\\_coordinate_descent.py:476: ConvergenceWarning: Objective did not converge. You might want to increase the number of iterations. Duality gap: 0.0, tolerance: 0.0\n",
            "  positive)\n",
            "C:\\Users\\User\\Anaconda3\\envs\\buan6341_2020\\lib\\site-packages\\sklearn\\linear_model\\_coordinate_descent.py:476: ConvergenceWarning: Objective did not converge. You might want to increase the number of iterations. Duality gap: 0.0, tolerance: 0.0\n",
            "  positive)\n",
            "C:\\Users\\User\\Anaconda3\\envs\\buan6341_2020\\lib\\site-packages\\sklearn\\linear_model\\_coordinate_descent.py:476: ConvergenceWarning: Objective did not converge. You might want to increase the number of iterations. Duality gap: 0.0, tolerance: 0.0\n",
            "  positive)\n",
            "C:\\Users\\User\\Anaconda3\\envs\\buan6341_2020\\lib\\site-packages\\sklearn\\linear_model\\_coordinate_descent.py:476: ConvergenceWarning: Objective did not converge. You might want to increase the number of iterations. Duality gap: 0.0, tolerance: 0.0\n",
            "  positive)\n",
            "C:\\Users\\User\\Anaconda3\\envs\\buan6341_2020\\lib\\site-packages\\sklearn\\linear_model\\_coordinate_descent.py:476: ConvergenceWarning: Objective did not converge. You might want to increase the number of iterations. Duality gap: 0.0, tolerance: 0.0\n",
            "  positive)\n",
            "C:\\Users\\User\\Anaconda3\\envs\\buan6341_2020\\lib\\site-packages\\sklearn\\linear_model\\_coordinate_descent.py:476: ConvergenceWarning: Objective did not converge. You might want to increase the number of iterations. Duality gap: 0.0, tolerance: 0.0\n",
            "  positive)\n",
            "C:\\Users\\User\\Anaconda3\\envs\\buan6341_2020\\lib\\site-packages\\sklearn\\linear_model\\_coordinate_descent.py:476: ConvergenceWarning: Objective did not converge. You might want to increase the number of iterations. Duality gap: 0.0, tolerance: 0.0\n",
            "  positive)\n",
            "C:\\Users\\User\\Anaconda3\\envs\\buan6341_2020\\lib\\site-packages\\sklearn\\linear_model\\_coordinate_descent.py:476: ConvergenceWarning: Objective did not converge. You might want to increase the number of iterations. Duality gap: 0.0, tolerance: 0.0\n",
            "  positive)\n",
            "C:\\Users\\User\\Anaconda3\\envs\\buan6341_2020\\lib\\site-packages\\sklearn\\linear_model\\_coordinate_descent.py:476: ConvergenceWarning: Objective did not converge. You might want to increase the number of iterations. Duality gap: 0.0, tolerance: 0.0\n",
            "  positive)\n",
            "C:\\Users\\User\\Anaconda3\\envs\\buan6341_2020\\lib\\site-packages\\sklearn\\linear_model\\_coordinate_descent.py:476: ConvergenceWarning: Objective did not converge. You might want to increase the number of iterations. Duality gap: 0.0, tolerance: 0.0\n",
            "  positive)\n",
            "C:\\Users\\User\\Anaconda3\\envs\\buan6341_2020\\lib\\site-packages\\sklearn\\linear_model\\_coordinate_descent.py:476: ConvergenceWarning: Objective did not converge. You might want to increase the number of iterations. Duality gap: 0.0, tolerance: 0.0\n",
            "  positive)\n",
            "C:\\Users\\User\\Anaconda3\\envs\\buan6341_2020\\lib\\site-packages\\sklearn\\linear_model\\_coordinate_descent.py:476: ConvergenceWarning: Objective did not converge. You might want to increase the number of iterations. Duality gap: 0.0, tolerance: 0.0\n",
            "  positive)\n",
            "C:\\Users\\User\\Anaconda3\\envs\\buan6341_2020\\lib\\site-packages\\sklearn\\linear_model\\_coordinate_descent.py:476: ConvergenceWarning: Objective did not converge. You might want to increase the number of iterations. Duality gap: 0.0, tolerance: 0.0\n",
            "  positive)\n",
            "C:\\Users\\User\\Anaconda3\\envs\\buan6341_2020\\lib\\site-packages\\sklearn\\linear_model\\_coordinate_descent.py:476: ConvergenceWarning: Objective did not converge. You might want to increase the number of iterations. Duality gap: 0.0, tolerance: 0.0\n",
            "  positive)\n",
            "C:\\Users\\User\\Anaconda3\\envs\\buan6341_2020\\lib\\site-packages\\sklearn\\linear_model\\_coordinate_descent.py:476: ConvergenceWarning: Objective did not converge. You might want to increase the number of iterations. Duality gap: 0.0, tolerance: 0.0\n",
            "  positive)\n",
            "C:\\Users\\User\\Anaconda3\\envs\\buan6341_2020\\lib\\site-packages\\sklearn\\linear_model\\_coordinate_descent.py:476: ConvergenceWarning: Objective did not converge. You might want to increase the number of iterations. Duality gap: 0.0, tolerance: 0.0\n",
            "  positive)\n",
            "C:\\Users\\User\\Anaconda3\\envs\\buan6341_2020\\lib\\site-packages\\sklearn\\linear_model\\_coordinate_descent.py:476: ConvergenceWarning: Objective did not converge. You might want to increase the number of iterations. Duality gap: 0.0, tolerance: 0.0\n",
            "  positive)\n",
            "C:\\Users\\User\\Anaconda3\\envs\\buan6341_2020\\lib\\site-packages\\sklearn\\linear_model\\_coordinate_descent.py:476: ConvergenceWarning: Objective did not converge. You might want to increase the number of iterations. Duality gap: 0.0, tolerance: 0.0\n",
            "  positive)\n",
            "C:\\Users\\User\\Anaconda3\\envs\\buan6341_2020\\lib\\site-packages\\sklearn\\linear_model\\_coordinate_descent.py:476: ConvergenceWarning: Objective did not converge. You might want to increase the number of iterations. Duality gap: 0.0, tolerance: 0.0\n",
            "  positive)\n",
            "C:\\Users\\User\\Anaconda3\\envs\\buan6341_2020\\lib\\site-packages\\sklearn\\linear_model\\_coordinate_descent.py:476: ConvergenceWarning: Objective did not converge. You might want to increase the number of iterations. Duality gap: 0.0, tolerance: 0.0\n",
            "  positive)\n",
            "C:\\Users\\User\\Anaconda3\\envs\\buan6341_2020\\lib\\site-packages\\sklearn\\linear_model\\_coordinate_descent.py:476: ConvergenceWarning: Objective did not converge. You might want to increase the number of iterations. Duality gap: 0.0, tolerance: 0.0\n",
            "  positive)\n",
            "C:\\Users\\User\\Anaconda3\\envs\\buan6341_2020\\lib\\site-packages\\sklearn\\linear_model\\_coordinate_descent.py:476: ConvergenceWarning: Objective did not converge. You might want to increase the number of iterations. Duality gap: 0.0, tolerance: 0.0\n",
            "  positive)\n",
            "C:\\Users\\User\\Anaconda3\\envs\\buan6341_2020\\lib\\site-packages\\sklearn\\linear_model\\_coordinate_descent.py:476: ConvergenceWarning: Objective did not converge. You might want to increase the number of iterations. Duality gap: 0.0, tolerance: 0.0\n",
            "  positive)\n",
            "C:\\Users\\User\\Anaconda3\\envs\\buan6341_2020\\lib\\site-packages\\sklearn\\linear_model\\_coordinate_descent.py:476: ConvergenceWarning: Objective did not converge. You might want to increase the number of iterations. Duality gap: 0.0, tolerance: 0.0\n",
            "  positive)\n",
            "C:\\Users\\User\\Anaconda3\\envs\\buan6341_2020\\lib\\site-packages\\sklearn\\linear_model\\_coordinate_descent.py:476: ConvergenceWarning: Objective did not converge. You might want to increase the number of iterations. Duality gap: 0.0, tolerance: 0.0\n",
            "  positive)\n",
            "C:\\Users\\User\\Anaconda3\\envs\\buan6341_2020\\lib\\site-packages\\sklearn\\linear_model\\_coordinate_descent.py:476: ConvergenceWarning: Objective did not converge. You might want to increase the number of iterations. Duality gap: 0.0, tolerance: 0.0\n",
            "  positive)\n",
            "C:\\Users\\User\\Anaconda3\\envs\\buan6341_2020\\lib\\site-packages\\sklearn\\linear_model\\_coordinate_descent.py:476: ConvergenceWarning: Objective did not converge. You might want to increase the number of iterations. Duality gap: 0.0, tolerance: 0.0\n",
            "  positive)\n",
            "C:\\Users\\User\\Anaconda3\\envs\\buan6341_2020\\lib\\site-packages\\sklearn\\linear_model\\_coordinate_descent.py:476: ConvergenceWarning: Objective did not converge. You might want to increase the number of iterations. Duality gap: 0.0, tolerance: 0.0\n",
            "  positive)\n",
            "C:\\Users\\User\\Anaconda3\\envs\\buan6341_2020\\lib\\site-packages\\sklearn\\linear_model\\_coordinate_descent.py:476: ConvergenceWarning: Objective did not converge. You might want to increase the number of iterations. Duality gap: 0.0, tolerance: 0.0\n",
            "  positive)\n"
          ],
          "name": "stderr"
        },
        {
          "output_type": "stream",
          "text": [
            "C:\\Users\\User\\Anaconda3\\envs\\buan6341_2020\\lib\\site-packages\\sklearn\\linear_model\\_coordinate_descent.py:476: ConvergenceWarning: Objective did not converge. You might want to increase the number of iterations. Duality gap: 0.0, tolerance: 0.0\n",
            "  positive)\n",
            "C:\\Users\\User\\Anaconda3\\envs\\buan6341_2020\\lib\\site-packages\\sklearn\\linear_model\\_coordinate_descent.py:476: ConvergenceWarning: Objective did not converge. You might want to increase the number of iterations. Duality gap: 0.0, tolerance: 0.0\n",
            "  positive)\n",
            "C:\\Users\\User\\Anaconda3\\envs\\buan6341_2020\\lib\\site-packages\\sklearn\\linear_model\\_coordinate_descent.py:476: ConvergenceWarning: Objective did not converge. You might want to increase the number of iterations. Duality gap: 0.0, tolerance: 0.0\n",
            "  positive)\n",
            "C:\\Users\\User\\Anaconda3\\envs\\buan6341_2020\\lib\\site-packages\\sklearn\\linear_model\\_coordinate_descent.py:476: ConvergenceWarning: Objective did not converge. You might want to increase the number of iterations. Duality gap: 0.0, tolerance: 0.0\n",
            "  positive)\n",
            "C:\\Users\\User\\Anaconda3\\envs\\buan6341_2020\\lib\\site-packages\\sklearn\\linear_model\\_coordinate_descent.py:476: ConvergenceWarning: Objective did not converge. You might want to increase the number of iterations. Duality gap: 0.0, tolerance: 0.0\n",
            "  positive)\n",
            "C:\\Users\\User\\Anaconda3\\envs\\buan6341_2020\\lib\\site-packages\\sklearn\\linear_model\\_coordinate_descent.py:476: ConvergenceWarning: Objective did not converge. You might want to increase the number of iterations. Duality gap: 0.0, tolerance: 0.0\n",
            "  positive)\n",
            "C:\\Users\\User\\Anaconda3\\envs\\buan6341_2020\\lib\\site-packages\\sklearn\\linear_model\\_coordinate_descent.py:476: ConvergenceWarning: Objective did not converge. You might want to increase the number of iterations. Duality gap: 0.0, tolerance: 0.0\n",
            "  positive)\n",
            "C:\\Users\\User\\Anaconda3\\envs\\buan6341_2020\\lib\\site-packages\\sklearn\\linear_model\\_coordinate_descent.py:476: ConvergenceWarning: Objective did not converge. You might want to increase the number of iterations. Duality gap: 0.0, tolerance: 0.0\n",
            "  positive)\n",
            "C:\\Users\\User\\Anaconda3\\envs\\buan6341_2020\\lib\\site-packages\\sklearn\\linear_model\\_coordinate_descent.py:476: ConvergenceWarning: Objective did not converge. You might want to increase the number of iterations. Duality gap: 0.0, tolerance: 0.0\n",
            "  positive)\n",
            "C:\\Users\\User\\Anaconda3\\envs\\buan6341_2020\\lib\\site-packages\\sklearn\\linear_model\\_coordinate_descent.py:476: ConvergenceWarning: Objective did not converge. You might want to increase the number of iterations. Duality gap: 0.0, tolerance: 0.0\n",
            "  positive)\n",
            "C:\\Users\\User\\Anaconda3\\envs\\buan6341_2020\\lib\\site-packages\\sklearn\\linear_model\\_coordinate_descent.py:476: ConvergenceWarning: Objective did not converge. You might want to increase the number of iterations. Duality gap: 0.0, tolerance: 0.0\n",
            "  positive)\n",
            "C:\\Users\\User\\Anaconda3\\envs\\buan6341_2020\\lib\\site-packages\\sklearn\\linear_model\\_coordinate_descent.py:476: ConvergenceWarning: Objective did not converge. You might want to increase the number of iterations. Duality gap: 0.0, tolerance: 0.0\n",
            "  positive)\n",
            "C:\\Users\\User\\Anaconda3\\envs\\buan6341_2020\\lib\\site-packages\\sklearn\\linear_model\\_coordinate_descent.py:476: ConvergenceWarning: Objective did not converge. You might want to increase the number of iterations. Duality gap: 0.0, tolerance: 0.0\n",
            "  positive)\n",
            "C:\\Users\\User\\Anaconda3\\envs\\buan6341_2020\\lib\\site-packages\\sklearn\\linear_model\\_coordinate_descent.py:476: ConvergenceWarning: Objective did not converge. You might want to increase the number of iterations. Duality gap: 0.0, tolerance: 0.0\n",
            "  positive)\n",
            "C:\\Users\\User\\Anaconda3\\envs\\buan6341_2020\\lib\\site-packages\\sklearn\\linear_model\\_coordinate_descent.py:476: ConvergenceWarning: Objective did not converge. You might want to increase the number of iterations. Duality gap: 0.0, tolerance: 0.0\n",
            "  positive)\n",
            "C:\\Users\\User\\Anaconda3\\envs\\buan6341_2020\\lib\\site-packages\\sklearn\\linear_model\\_coordinate_descent.py:476: ConvergenceWarning: Objective did not converge. You might want to increase the number of iterations. Duality gap: 0.0, tolerance: 0.0\n",
            "  positive)\n",
            "C:\\Users\\User\\Anaconda3\\envs\\buan6341_2020\\lib\\site-packages\\sklearn\\linear_model\\_coordinate_descent.py:476: ConvergenceWarning: Objective did not converge. You might want to increase the number of iterations. Duality gap: 0.0, tolerance: 0.0\n",
            "  positive)\n",
            "C:\\Users\\User\\Anaconda3\\envs\\buan6341_2020\\lib\\site-packages\\sklearn\\linear_model\\_coordinate_descent.py:476: ConvergenceWarning: Objective did not converge. You might want to increase the number of iterations. Duality gap: 0.0, tolerance: 0.0\n",
            "  positive)\n",
            "C:\\Users\\User\\Anaconda3\\envs\\buan6341_2020\\lib\\site-packages\\sklearn\\linear_model\\_coordinate_descent.py:476: ConvergenceWarning: Objective did not converge. You might want to increase the number of iterations. Duality gap: 0.0, tolerance: 0.0\n",
            "  positive)\n",
            "C:\\Users\\User\\Anaconda3\\envs\\buan6341_2020\\lib\\site-packages\\sklearn\\linear_model\\_coordinate_descent.py:476: ConvergenceWarning: Objective did not converge. You might want to increase the number of iterations. Duality gap: 0.0, tolerance: 0.0\n",
            "  positive)\n",
            "C:\\Users\\User\\Anaconda3\\envs\\buan6341_2020\\lib\\site-packages\\sklearn\\linear_model\\_coordinate_descent.py:476: ConvergenceWarning: Objective did not converge. You might want to increase the number of iterations. Duality gap: 0.0, tolerance: 0.0\n",
            "  positive)\n",
            "C:\\Users\\User\\Anaconda3\\envs\\buan6341_2020\\lib\\site-packages\\sklearn\\linear_model\\_coordinate_descent.py:476: ConvergenceWarning: Objective did not converge. You might want to increase the number of iterations. Duality gap: 0.0, tolerance: 0.0\n",
            "  positive)\n",
            "C:\\Users\\User\\Anaconda3\\envs\\buan6341_2020\\lib\\site-packages\\sklearn\\linear_model\\_coordinate_descent.py:476: ConvergenceWarning: Objective did not converge. You might want to increase the number of iterations. Duality gap: 0.0, tolerance: 0.0\n",
            "  positive)\n",
            "C:\\Users\\User\\Anaconda3\\envs\\buan6341_2020\\lib\\site-packages\\sklearn\\linear_model\\_coordinate_descent.py:476: ConvergenceWarning: Objective did not converge. You might want to increase the number of iterations. Duality gap: 0.0, tolerance: 0.0\n",
            "  positive)\n",
            "C:\\Users\\User\\Anaconda3\\envs\\buan6341_2020\\lib\\site-packages\\sklearn\\linear_model\\_coordinate_descent.py:476: ConvergenceWarning: Objective did not converge. You might want to increase the number of iterations. Duality gap: 0.0, tolerance: 0.0\n",
            "  positive)\n",
            "C:\\Users\\User\\Anaconda3\\envs\\buan6341_2020\\lib\\site-packages\\sklearn\\linear_model\\_coordinate_descent.py:476: ConvergenceWarning: Objective did not converge. You might want to increase the number of iterations. Duality gap: 0.0, tolerance: 0.0\n",
            "  positive)\n",
            "C:\\Users\\User\\Anaconda3\\envs\\buan6341_2020\\lib\\site-packages\\sklearn\\linear_model\\_coordinate_descent.py:476: ConvergenceWarning: Objective did not converge. You might want to increase the number of iterations. Duality gap: 0.0, tolerance: 0.0\n",
            "  positive)\n",
            "C:\\Users\\User\\Anaconda3\\envs\\buan6341_2020\\lib\\site-packages\\sklearn\\linear_model\\_coordinate_descent.py:476: ConvergenceWarning: Objective did not converge. You might want to increase the number of iterations. Duality gap: 0.0, tolerance: 0.0\n",
            "  positive)\n",
            "C:\\Users\\User\\Anaconda3\\envs\\buan6341_2020\\lib\\site-packages\\sklearn\\linear_model\\_coordinate_descent.py:476: ConvergenceWarning: Objective did not converge. You might want to increase the number of iterations. Duality gap: 0.0, tolerance: 0.0\n",
            "  positive)\n",
            "C:\\Users\\User\\Anaconda3\\envs\\buan6341_2020\\lib\\site-packages\\sklearn\\linear_model\\_coordinate_descent.py:476: ConvergenceWarning: Objective did not converge. You might want to increase the number of iterations. Duality gap: 0.0, tolerance: 0.0\n",
            "  positive)\n",
            "C:\\Users\\User\\Anaconda3\\envs\\buan6341_2020\\lib\\site-packages\\sklearn\\linear_model\\_coordinate_descent.py:476: ConvergenceWarning: Objective did not converge. You might want to increase the number of iterations. Duality gap: 0.0, tolerance: 0.0\n",
            "  positive)\n",
            "C:\\Users\\User\\Anaconda3\\envs\\buan6341_2020\\lib\\site-packages\\sklearn\\linear_model\\_coordinate_descent.py:476: ConvergenceWarning: Objective did not converge. You might want to increase the number of iterations. Duality gap: 0.0, tolerance: 0.0\n",
            "  positive)\n",
            "C:\\Users\\User\\Anaconda3\\envs\\buan6341_2020\\lib\\site-packages\\sklearn\\linear_model\\_coordinate_descent.py:476: ConvergenceWarning: Objective did not converge. You might want to increase the number of iterations. Duality gap: 0.0, tolerance: 0.0\n",
            "  positive)\n",
            "C:\\Users\\User\\Anaconda3\\envs\\buan6341_2020\\lib\\site-packages\\sklearn\\linear_model\\_coordinate_descent.py:476: ConvergenceWarning: Objective did not converge. You might want to increase the number of iterations. Duality gap: 0.0, tolerance: 0.0\n",
            "  positive)\n",
            "C:\\Users\\User\\Anaconda3\\envs\\buan6341_2020\\lib\\site-packages\\sklearn\\linear_model\\_coordinate_descent.py:476: ConvergenceWarning: Objective did not converge. You might want to increase the number of iterations. Duality gap: 0.0, tolerance: 0.0\n",
            "  positive)\n",
            "C:\\Users\\User\\Anaconda3\\envs\\buan6341_2020\\lib\\site-packages\\sklearn\\linear_model\\_coordinate_descent.py:476: ConvergenceWarning: Objective did not converge. You might want to increase the number of iterations. Duality gap: 0.0, tolerance: 0.0\n",
            "  positive)\n",
            "C:\\Users\\User\\Anaconda3\\envs\\buan6341_2020\\lib\\site-packages\\sklearn\\linear_model\\_coordinate_descent.py:476: ConvergenceWarning: Objective did not converge. You might want to increase the number of iterations. Duality gap: 0.0, tolerance: 0.0\n",
            "  positive)\n",
            "C:\\Users\\User\\Anaconda3\\envs\\buan6341_2020\\lib\\site-packages\\sklearn\\linear_model\\_coordinate_descent.py:476: ConvergenceWarning: Objective did not converge. You might want to increase the number of iterations. Duality gap: 0.0, tolerance: 0.0\n",
            "  positive)\n",
            "C:\\Users\\User\\Anaconda3\\envs\\buan6341_2020\\lib\\site-packages\\sklearn\\linear_model\\_coordinate_descent.py:476: ConvergenceWarning: Objective did not converge. You might want to increase the number of iterations. Duality gap: 0.0, tolerance: 0.0\n",
            "  positive)\n",
            "C:\\Users\\User\\Anaconda3\\envs\\buan6341_2020\\lib\\site-packages\\sklearn\\linear_model\\_coordinate_descent.py:476: ConvergenceWarning: Objective did not converge. You might want to increase the number of iterations. Duality gap: 0.0, tolerance: 0.0\n",
            "  positive)\n",
            "C:\\Users\\User\\Anaconda3\\envs\\buan6341_2020\\lib\\site-packages\\sklearn\\linear_model\\_coordinate_descent.py:476: ConvergenceWarning: Objective did not converge. You might want to increase the number of iterations. Duality gap: 0.0, tolerance: 0.0\n",
            "  positive)\n",
            "C:\\Users\\User\\Anaconda3\\envs\\buan6341_2020\\lib\\site-packages\\sklearn\\linear_model\\_coordinate_descent.py:476: ConvergenceWarning: Objective did not converge. You might want to increase the number of iterations. Duality gap: 0.0, tolerance: 0.0\n",
            "  positive)\n",
            "C:\\Users\\User\\Anaconda3\\envs\\buan6341_2020\\lib\\site-packages\\sklearn\\linear_model\\_coordinate_descent.py:476: ConvergenceWarning: Objective did not converge. You might want to increase the number of iterations. Duality gap: 0.0, tolerance: 0.0\n",
            "  positive)\n",
            "C:\\Users\\User\\Anaconda3\\envs\\buan6341_2020\\lib\\site-packages\\sklearn\\linear_model\\_coordinate_descent.py:476: ConvergenceWarning: Objective did not converge. You might want to increase the number of iterations. Duality gap: 0.0, tolerance: 0.0\n",
            "  positive)\n",
            "C:\\Users\\User\\Anaconda3\\envs\\buan6341_2020\\lib\\site-packages\\sklearn\\linear_model\\_coordinate_descent.py:476: ConvergenceWarning: Objective did not converge. You might want to increase the number of iterations. Duality gap: 0.0, tolerance: 0.0\n",
            "  positive)\n",
            "C:\\Users\\User\\Anaconda3\\envs\\buan6341_2020\\lib\\site-packages\\sklearn\\linear_model\\_coordinate_descent.py:476: ConvergenceWarning: Objective did not converge. You might want to increase the number of iterations. Duality gap: 0.0, tolerance: 0.0\n",
            "  positive)\n",
            "C:\\Users\\User\\Anaconda3\\envs\\buan6341_2020\\lib\\site-packages\\sklearn\\linear_model\\_coordinate_descent.py:476: ConvergenceWarning: Objective did not converge. You might want to increase the number of iterations. Duality gap: 0.0, tolerance: 0.0\n",
            "  positive)\n",
            "C:\\Users\\User\\Anaconda3\\envs\\buan6341_2020\\lib\\site-packages\\sklearn\\linear_model\\_coordinate_descent.py:476: ConvergenceWarning: Objective did not converge. You might want to increase the number of iterations. Duality gap: 0.0, tolerance: 0.0\n",
            "  positive)\n",
            "C:\\Users\\User\\Anaconda3\\envs\\buan6341_2020\\lib\\site-packages\\sklearn\\linear_model\\_coordinate_descent.py:476: ConvergenceWarning: Objective did not converge. You might want to increase the number of iterations. Duality gap: 0.0, tolerance: 0.0\n",
            "  positive)\n",
            "C:\\Users\\User\\Anaconda3\\envs\\buan6341_2020\\lib\\site-packages\\sklearn\\linear_model\\_coordinate_descent.py:476: ConvergenceWarning: Objective did not converge. You might want to increase the number of iterations. Duality gap: 0.0, tolerance: 0.0\n",
            "  positive)\n",
            "C:\\Users\\User\\Anaconda3\\envs\\buan6341_2020\\lib\\site-packages\\sklearn\\linear_model\\_coordinate_descent.py:476: ConvergenceWarning: Objective did not converge. You might want to increase the number of iterations. Duality gap: 0.0, tolerance: 0.0\n",
            "  positive)\n",
            "C:\\Users\\User\\Anaconda3\\envs\\buan6341_2020\\lib\\site-packages\\sklearn\\linear_model\\_coordinate_descent.py:476: ConvergenceWarning: Objective did not converge. You might want to increase the number of iterations. Duality gap: 0.0, tolerance: 0.0\n",
            "  positive)\n",
            "C:\\Users\\User\\Anaconda3\\envs\\buan6341_2020\\lib\\site-packages\\sklearn\\linear_model\\_coordinate_descent.py:476: ConvergenceWarning: Objective did not converge. You might want to increase the number of iterations. Duality gap: 0.0, tolerance: 0.0\n",
            "  positive)\n",
            "C:\\Users\\User\\Anaconda3\\envs\\buan6341_2020\\lib\\site-packages\\sklearn\\linear_model\\_coordinate_descent.py:476: ConvergenceWarning: Objective did not converge. You might want to increase the number of iterations. Duality gap: 0.0, tolerance: 0.0\n",
            "  positive)\n",
            "C:\\Users\\User\\Anaconda3\\envs\\buan6341_2020\\lib\\site-packages\\sklearn\\linear_model\\_coordinate_descent.py:476: ConvergenceWarning: Objective did not converge. You might want to increase the number of iterations. Duality gap: 0.0, tolerance: 0.0\n",
            "  positive)\n",
            "C:\\Users\\User\\Anaconda3\\envs\\buan6341_2020\\lib\\site-packages\\sklearn\\linear_model\\_coordinate_descent.py:476: ConvergenceWarning: Objective did not converge. You might want to increase the number of iterations. Duality gap: 0.0, tolerance: 0.0\n",
            "  positive)\n"
          ],
          "name": "stderr"
        },
        {
          "output_type": "stream",
          "text": [
            "C:\\Users\\User\\Anaconda3\\envs\\buan6341_2020\\lib\\site-packages\\sklearn\\linear_model\\_coordinate_descent.py:476: ConvergenceWarning: Objective did not converge. You might want to increase the number of iterations. Duality gap: 0.0, tolerance: 0.0\n",
            "  positive)\n",
            "C:\\Users\\User\\Anaconda3\\envs\\buan6341_2020\\lib\\site-packages\\sklearn\\linear_model\\_coordinate_descent.py:476: ConvergenceWarning: Objective did not converge. You might want to increase the number of iterations. Duality gap: 0.0, tolerance: 0.0\n",
            "  positive)\n",
            "C:\\Users\\User\\Anaconda3\\envs\\buan6341_2020\\lib\\site-packages\\sklearn\\linear_model\\_coordinate_descent.py:476: ConvergenceWarning: Objective did not converge. You might want to increase the number of iterations. Duality gap: 0.0, tolerance: 0.0\n",
            "  positive)\n",
            "C:\\Users\\User\\Anaconda3\\envs\\buan6341_2020\\lib\\site-packages\\sklearn\\linear_model\\_coordinate_descent.py:476: ConvergenceWarning: Objective did not converge. You might want to increase the number of iterations. Duality gap: 0.0, tolerance: 0.0\n",
            "  positive)\n",
            "C:\\Users\\User\\Anaconda3\\envs\\buan6341_2020\\lib\\site-packages\\sklearn\\linear_model\\_coordinate_descent.py:476: ConvergenceWarning: Objective did not converge. You might want to increase the number of iterations. Duality gap: 0.0, tolerance: 0.0\n",
            "  positive)\n",
            "C:\\Users\\User\\Anaconda3\\envs\\buan6341_2020\\lib\\site-packages\\sklearn\\linear_model\\_coordinate_descent.py:476: ConvergenceWarning: Objective did not converge. You might want to increase the number of iterations. Duality gap: 0.0, tolerance: 0.0\n",
            "  positive)\n",
            "C:\\Users\\User\\Anaconda3\\envs\\buan6341_2020\\lib\\site-packages\\sklearn\\linear_model\\_coordinate_descent.py:476: ConvergenceWarning: Objective did not converge. You might want to increase the number of iterations. Duality gap: 0.0, tolerance: 0.0\n",
            "  positive)\n",
            "C:\\Users\\User\\Anaconda3\\envs\\buan6341_2020\\lib\\site-packages\\sklearn\\linear_model\\_coordinate_descent.py:476: ConvergenceWarning: Objective did not converge. You might want to increase the number of iterations. Duality gap: 0.0, tolerance: 0.0\n",
            "  positive)\n",
            "C:\\Users\\User\\Anaconda3\\envs\\buan6341_2020\\lib\\site-packages\\sklearn\\linear_model\\_coordinate_descent.py:476: ConvergenceWarning: Objective did not converge. You might want to increase the number of iterations. Duality gap: 0.0, tolerance: 0.0\n",
            "  positive)\n",
            "C:\\Users\\User\\Anaconda3\\envs\\buan6341_2020\\lib\\site-packages\\sklearn\\linear_model\\_coordinate_descent.py:476: ConvergenceWarning: Objective did not converge. You might want to increase the number of iterations. Duality gap: 0.0, tolerance: 0.0\n",
            "  positive)\n",
            "C:\\Users\\User\\Anaconda3\\envs\\buan6341_2020\\lib\\site-packages\\sklearn\\linear_model\\_coordinate_descent.py:476: ConvergenceWarning: Objective did not converge. You might want to increase the number of iterations. Duality gap: 0.0, tolerance: 0.0\n",
            "  positive)\n",
            "C:\\Users\\User\\Anaconda3\\envs\\buan6341_2020\\lib\\site-packages\\sklearn\\linear_model\\_coordinate_descent.py:476: ConvergenceWarning: Objective did not converge. You might want to increase the number of iterations. Duality gap: 0.0, tolerance: 0.0\n",
            "  positive)\n",
            "C:\\Users\\User\\Anaconda3\\envs\\buan6341_2020\\lib\\site-packages\\sklearn\\linear_model\\_coordinate_descent.py:476: ConvergenceWarning: Objective did not converge. You might want to increase the number of iterations. Duality gap: 0.0, tolerance: 0.0\n",
            "  positive)\n",
            "C:\\Users\\User\\Anaconda3\\envs\\buan6341_2020\\lib\\site-packages\\sklearn\\linear_model\\_coordinate_descent.py:476: ConvergenceWarning: Objective did not converge. You might want to increase the number of iterations. Duality gap: 0.0, tolerance: 0.0\n",
            "  positive)\n",
            "C:\\Users\\User\\Anaconda3\\envs\\buan6341_2020\\lib\\site-packages\\sklearn\\linear_model\\_coordinate_descent.py:476: ConvergenceWarning: Objective did not converge. You might want to increase the number of iterations. Duality gap: 0.0, tolerance: 0.0\n",
            "  positive)\n",
            "C:\\Users\\User\\Anaconda3\\envs\\buan6341_2020\\lib\\site-packages\\sklearn\\linear_model\\_coordinate_descent.py:476: ConvergenceWarning: Objective did not converge. You might want to increase the number of iterations. Duality gap: 0.0, tolerance: 0.0\n",
            "  positive)\n",
            "C:\\Users\\User\\Anaconda3\\envs\\buan6341_2020\\lib\\site-packages\\sklearn\\linear_model\\_coordinate_descent.py:476: ConvergenceWarning: Objective did not converge. You might want to increase the number of iterations. Duality gap: 0.0, tolerance: 0.0\n",
            "  positive)\n",
            "C:\\Users\\User\\Anaconda3\\envs\\buan6341_2020\\lib\\site-packages\\sklearn\\linear_model\\_coordinate_descent.py:476: ConvergenceWarning: Objective did not converge. You might want to increase the number of iterations. Duality gap: 0.0, tolerance: 0.0\n",
            "  positive)\n",
            "C:\\Users\\User\\Anaconda3\\envs\\buan6341_2020\\lib\\site-packages\\sklearn\\linear_model\\_coordinate_descent.py:476: ConvergenceWarning: Objective did not converge. You might want to increase the number of iterations. Duality gap: 0.0, tolerance: 0.0\n",
            "  positive)\n",
            "C:\\Users\\User\\Anaconda3\\envs\\buan6341_2020\\lib\\site-packages\\sklearn\\linear_model\\_coordinate_descent.py:476: ConvergenceWarning: Objective did not converge. You might want to increase the number of iterations. Duality gap: 0.0, tolerance: 0.0\n",
            "  positive)\n",
            "C:\\Users\\User\\Anaconda3\\envs\\buan6341_2020\\lib\\site-packages\\sklearn\\linear_model\\_coordinate_descent.py:476: ConvergenceWarning: Objective did not converge. You might want to increase the number of iterations. Duality gap: 0.0, tolerance: 0.0\n",
            "  positive)\n",
            "C:\\Users\\User\\Anaconda3\\envs\\buan6341_2020\\lib\\site-packages\\sklearn\\linear_model\\_coordinate_descent.py:476: ConvergenceWarning: Objective did not converge. You might want to increase the number of iterations. Duality gap: 0.0, tolerance: 0.0\n",
            "  positive)\n",
            "C:\\Users\\User\\Anaconda3\\envs\\buan6341_2020\\lib\\site-packages\\sklearn\\linear_model\\_coordinate_descent.py:476: ConvergenceWarning: Objective did not converge. You might want to increase the number of iterations. Duality gap: 0.0, tolerance: 0.0\n",
            "  positive)\n",
            "C:\\Users\\User\\Anaconda3\\envs\\buan6341_2020\\lib\\site-packages\\sklearn\\linear_model\\_coordinate_descent.py:476: ConvergenceWarning: Objective did not converge. You might want to increase the number of iterations. Duality gap: 0.0, tolerance: 0.0\n",
            "  positive)\n",
            "C:\\Users\\User\\Anaconda3\\envs\\buan6341_2020\\lib\\site-packages\\sklearn\\linear_model\\_coordinate_descent.py:476: ConvergenceWarning: Objective did not converge. You might want to increase the number of iterations. Duality gap: 0.0, tolerance: 0.0\n",
            "  positive)\n",
            "C:\\Users\\User\\Anaconda3\\envs\\buan6341_2020\\lib\\site-packages\\sklearn\\linear_model\\_coordinate_descent.py:476: ConvergenceWarning: Objective did not converge. You might want to increase the number of iterations. Duality gap: 0.0, tolerance: 0.0\n",
            "  positive)\n",
            "C:\\Users\\User\\Anaconda3\\envs\\buan6341_2020\\lib\\site-packages\\sklearn\\linear_model\\_coordinate_descent.py:476: ConvergenceWarning: Objective did not converge. You might want to increase the number of iterations. Duality gap: 0.0, tolerance: 0.0\n",
            "  positive)\n",
            "C:\\Users\\User\\Anaconda3\\envs\\buan6341_2020\\lib\\site-packages\\sklearn\\linear_model\\_coordinate_descent.py:476: ConvergenceWarning: Objective did not converge. You might want to increase the number of iterations. Duality gap: 0.0, tolerance: 0.0\n",
            "  positive)\n",
            "C:\\Users\\User\\Anaconda3\\envs\\buan6341_2020\\lib\\site-packages\\sklearn\\linear_model\\_coordinate_descent.py:476: ConvergenceWarning: Objective did not converge. You might want to increase the number of iterations. Duality gap: 0.0, tolerance: 0.0\n",
            "  positive)\n",
            "C:\\Users\\User\\Anaconda3\\envs\\buan6341_2020\\lib\\site-packages\\sklearn\\linear_model\\_coordinate_descent.py:476: ConvergenceWarning: Objective did not converge. You might want to increase the number of iterations. Duality gap: 0.0, tolerance: 0.0\n",
            "  positive)\n",
            "C:\\Users\\User\\Anaconda3\\envs\\buan6341_2020\\lib\\site-packages\\sklearn\\linear_model\\_coordinate_descent.py:476: ConvergenceWarning: Objective did not converge. You might want to increase the number of iterations. Duality gap: 0.0, tolerance: 0.0\n",
            "  positive)\n",
            "C:\\Users\\User\\Anaconda3\\envs\\buan6341_2020\\lib\\site-packages\\sklearn\\linear_model\\_coordinate_descent.py:476: ConvergenceWarning: Objective did not converge. You might want to increase the number of iterations. Duality gap: 0.0, tolerance: 0.0\n",
            "  positive)\n",
            "C:\\Users\\User\\Anaconda3\\envs\\buan6341_2020\\lib\\site-packages\\sklearn\\linear_model\\_coordinate_descent.py:476: ConvergenceWarning: Objective did not converge. You might want to increase the number of iterations. Duality gap: 0.0, tolerance: 0.0\n",
            "  positive)\n",
            "C:\\Users\\User\\Anaconda3\\envs\\buan6341_2020\\lib\\site-packages\\sklearn\\linear_model\\_coordinate_descent.py:476: ConvergenceWarning: Objective did not converge. You might want to increase the number of iterations. Duality gap: 0.0, tolerance: 0.0\n",
            "  positive)\n",
            "C:\\Users\\User\\Anaconda3\\envs\\buan6341_2020\\lib\\site-packages\\sklearn\\linear_model\\_coordinate_descent.py:476: ConvergenceWarning: Objective did not converge. You might want to increase the number of iterations. Duality gap: 0.0, tolerance: 0.0\n",
            "  positive)\n",
            "C:\\Users\\User\\Anaconda3\\envs\\buan6341_2020\\lib\\site-packages\\sklearn\\linear_model\\_coordinate_descent.py:476: ConvergenceWarning: Objective did not converge. You might want to increase the number of iterations. Duality gap: 0.0, tolerance: 0.0\n",
            "  positive)\n"
          ],
          "name": "stderr"
        },
        {
          "output_type": "stream",
          "text": [
            "C:\\Users\\User\\Anaconda3\\envs\\buan6341_2020\\lib\\site-packages\\sklearn\\linear_model\\_coordinate_descent.py:476: ConvergenceWarning: Objective did not converge. You might want to increase the number of iterations. Duality gap: 0.0, tolerance: 0.0\n",
            "  positive)\n",
            "C:\\Users\\User\\Anaconda3\\envs\\buan6341_2020\\lib\\site-packages\\sklearn\\linear_model\\_coordinate_descent.py:476: ConvergenceWarning: Objective did not converge. You might want to increase the number of iterations. Duality gap: 0.0, tolerance: 0.0\n",
            "  positive)\n",
            "C:\\Users\\User\\Anaconda3\\envs\\buan6341_2020\\lib\\site-packages\\sklearn\\linear_model\\_coordinate_descent.py:476: ConvergenceWarning: Objective did not converge. You might want to increase the number of iterations. Duality gap: 0.0, tolerance: 0.0\n",
            "  positive)\n",
            "C:\\Users\\User\\Anaconda3\\envs\\buan6341_2020\\lib\\site-packages\\sklearn\\linear_model\\_coordinate_descent.py:476: ConvergenceWarning: Objective did not converge. You might want to increase the number of iterations. Duality gap: 0.0, tolerance: 0.0\n",
            "  positive)\n",
            "C:\\Users\\User\\Anaconda3\\envs\\buan6341_2020\\lib\\site-packages\\sklearn\\linear_model\\_coordinate_descent.py:476: ConvergenceWarning: Objective did not converge. You might want to increase the number of iterations. Duality gap: 0.0, tolerance: 0.0\n",
            "  positive)\n",
            "C:\\Users\\User\\Anaconda3\\envs\\buan6341_2020\\lib\\site-packages\\sklearn\\linear_model\\_coordinate_descent.py:476: ConvergenceWarning: Objective did not converge. You might want to increase the number of iterations. Duality gap: 0.0, tolerance: 0.0\n",
            "  positive)\n",
            "C:\\Users\\User\\Anaconda3\\envs\\buan6341_2020\\lib\\site-packages\\sklearn\\linear_model\\_coordinate_descent.py:476: ConvergenceWarning: Objective did not converge. You might want to increase the number of iterations. Duality gap: 0.0, tolerance: 0.0\n",
            "  positive)\n",
            "C:\\Users\\User\\Anaconda3\\envs\\buan6341_2020\\lib\\site-packages\\sklearn\\linear_model\\_coordinate_descent.py:476: ConvergenceWarning: Objective did not converge. You might want to increase the number of iterations. Duality gap: 0.0, tolerance: 0.0\n",
            "  positive)\n",
            "C:\\Users\\User\\Anaconda3\\envs\\buan6341_2020\\lib\\site-packages\\sklearn\\linear_model\\_coordinate_descent.py:476: ConvergenceWarning: Objective did not converge. You might want to increase the number of iterations. Duality gap: 0.0, tolerance: 0.0\n",
            "  positive)\n",
            "C:\\Users\\User\\Anaconda3\\envs\\buan6341_2020\\lib\\site-packages\\sklearn\\linear_model\\_coordinate_descent.py:476: ConvergenceWarning: Objective did not converge. You might want to increase the number of iterations. Duality gap: 0.0, tolerance: 0.0\n",
            "  positive)\n",
            "C:\\Users\\User\\Anaconda3\\envs\\buan6341_2020\\lib\\site-packages\\sklearn\\linear_model\\_coordinate_descent.py:476: ConvergenceWarning: Objective did not converge. You might want to increase the number of iterations. Duality gap: 0.0, tolerance: 0.0\n",
            "  positive)\n",
            "C:\\Users\\User\\Anaconda3\\envs\\buan6341_2020\\lib\\site-packages\\sklearn\\linear_model\\_coordinate_descent.py:476: ConvergenceWarning: Objective did not converge. You might want to increase the number of iterations. Duality gap: 0.0, tolerance: 0.0\n",
            "  positive)\n",
            "C:\\Users\\User\\Anaconda3\\envs\\buan6341_2020\\lib\\site-packages\\sklearn\\linear_model\\_coordinate_descent.py:476: ConvergenceWarning: Objective did not converge. You might want to increase the number of iterations. Duality gap: 0.0, tolerance: 0.0\n",
            "  positive)\n",
            "C:\\Users\\User\\Anaconda3\\envs\\buan6341_2020\\lib\\site-packages\\sklearn\\linear_model\\_coordinate_descent.py:476: ConvergenceWarning: Objective did not converge. You might want to increase the number of iterations. Duality gap: 0.0, tolerance: 0.0\n",
            "  positive)\n",
            "C:\\Users\\User\\Anaconda3\\envs\\buan6341_2020\\lib\\site-packages\\sklearn\\linear_model\\_coordinate_descent.py:476: ConvergenceWarning: Objective did not converge. You might want to increase the number of iterations. Duality gap: 0.0, tolerance: 0.0\n",
            "  positive)\n",
            "C:\\Users\\User\\Anaconda3\\envs\\buan6341_2020\\lib\\site-packages\\sklearn\\linear_model\\_coordinate_descent.py:476: ConvergenceWarning: Objective did not converge. You might want to increase the number of iterations. Duality gap: 0.0, tolerance: 0.0\n",
            "  positive)\n",
            "C:\\Users\\User\\Anaconda3\\envs\\buan6341_2020\\lib\\site-packages\\sklearn\\linear_model\\_coordinate_descent.py:476: ConvergenceWarning: Objective did not converge. You might want to increase the number of iterations. Duality gap: 0.0, tolerance: 0.0\n",
            "  positive)\n",
            "C:\\Users\\User\\Anaconda3\\envs\\buan6341_2020\\lib\\site-packages\\sklearn\\linear_model\\_coordinate_descent.py:476: ConvergenceWarning: Objective did not converge. You might want to increase the number of iterations. Duality gap: 0.0, tolerance: 0.0\n",
            "  positive)\n",
            "C:\\Users\\User\\Anaconda3\\envs\\buan6341_2020\\lib\\site-packages\\sklearn\\linear_model\\_coordinate_descent.py:476: ConvergenceWarning: Objective did not converge. You might want to increase the number of iterations. Duality gap: 0.0, tolerance: 0.0\n",
            "  positive)\n",
            "C:\\Users\\User\\Anaconda3\\envs\\buan6341_2020\\lib\\site-packages\\sklearn\\linear_model\\_coordinate_descent.py:476: ConvergenceWarning: Objective did not converge. You might want to increase the number of iterations. Duality gap: 0.0, tolerance: 0.0\n",
            "  positive)\n",
            "C:\\Users\\User\\Anaconda3\\envs\\buan6341_2020\\lib\\site-packages\\sklearn\\linear_model\\_coordinate_descent.py:476: ConvergenceWarning: Objective did not converge. You might want to increase the number of iterations. Duality gap: 0.0, tolerance: 0.0\n",
            "  positive)\n",
            "C:\\Users\\User\\Anaconda3\\envs\\buan6341_2020\\lib\\site-packages\\sklearn\\linear_model\\_coordinate_descent.py:476: ConvergenceWarning: Objective did not converge. You might want to increase the number of iterations. Duality gap: 0.0, tolerance: 0.0\n",
            "  positive)\n",
            "C:\\Users\\User\\Anaconda3\\envs\\buan6341_2020\\lib\\site-packages\\sklearn\\linear_model\\_coordinate_descent.py:476: ConvergenceWarning: Objective did not converge. You might want to increase the number of iterations. Duality gap: 0.0, tolerance: 0.0\n",
            "  positive)\n",
            "C:\\Users\\User\\Anaconda3\\envs\\buan6341_2020\\lib\\site-packages\\sklearn\\linear_model\\_coordinate_descent.py:476: ConvergenceWarning: Objective did not converge. You might want to increase the number of iterations. Duality gap: 0.0, tolerance: 0.0\n",
            "  positive)\n",
            "C:\\Users\\User\\Anaconda3\\envs\\buan6341_2020\\lib\\site-packages\\sklearn\\linear_model\\_coordinate_descent.py:476: ConvergenceWarning: Objective did not converge. You might want to increase the number of iterations. Duality gap: 0.0, tolerance: 0.0\n",
            "  positive)\n",
            "C:\\Users\\User\\Anaconda3\\envs\\buan6341_2020\\lib\\site-packages\\sklearn\\linear_model\\_coordinate_descent.py:476: ConvergenceWarning: Objective did not converge. You might want to increase the number of iterations. Duality gap: 0.0, tolerance: 0.0\n",
            "  positive)\n",
            "C:\\Users\\User\\Anaconda3\\envs\\buan6341_2020\\lib\\site-packages\\sklearn\\linear_model\\_coordinate_descent.py:476: ConvergenceWarning: Objective did not converge. You might want to increase the number of iterations. Duality gap: 0.0, tolerance: 0.0\n",
            "  positive)\n",
            "C:\\Users\\User\\Anaconda3\\envs\\buan6341_2020\\lib\\site-packages\\sklearn\\linear_model\\_coordinate_descent.py:476: ConvergenceWarning: Objective did not converge. You might want to increase the number of iterations. Duality gap: 0.0, tolerance: 0.0\n",
            "  positive)\n",
            "C:\\Users\\User\\Anaconda3\\envs\\buan6341_2020\\lib\\site-packages\\sklearn\\linear_model\\_coordinate_descent.py:476: ConvergenceWarning: Objective did not converge. You might want to increase the number of iterations. Duality gap: 0.0, tolerance: 0.0\n",
            "  positive)\n",
            "C:\\Users\\User\\Anaconda3\\envs\\buan6341_2020\\lib\\site-packages\\sklearn\\linear_model\\_coordinate_descent.py:476: ConvergenceWarning: Objective did not converge. You might want to increase the number of iterations. Duality gap: 0.0, tolerance: 0.0\n",
            "  positive)\n",
            "C:\\Users\\User\\Anaconda3\\envs\\buan6341_2020\\lib\\site-packages\\sklearn\\linear_model\\_coordinate_descent.py:476: ConvergenceWarning: Objective did not converge. You might want to increase the number of iterations. Duality gap: 0.0, tolerance: 0.0\n",
            "  positive)\n",
            "C:\\Users\\User\\Anaconda3\\envs\\buan6341_2020\\lib\\site-packages\\sklearn\\linear_model\\_coordinate_descent.py:476: ConvergenceWarning: Objective did not converge. You might want to increase the number of iterations. Duality gap: 0.0, tolerance: 0.0\n",
            "  positive)\n",
            "C:\\Users\\User\\Anaconda3\\envs\\buan6341_2020\\lib\\site-packages\\sklearn\\linear_model\\_coordinate_descent.py:476: ConvergenceWarning: Objective did not converge. You might want to increase the number of iterations. Duality gap: 0.0, tolerance: 0.0\n",
            "  positive)\n",
            "C:\\Users\\User\\Anaconda3\\envs\\buan6341_2020\\lib\\site-packages\\sklearn\\linear_model\\_coordinate_descent.py:476: ConvergenceWarning: Objective did not converge. You might want to increase the number of iterations. Duality gap: 0.0, tolerance: 0.0\n",
            "  positive)\n",
            "C:\\Users\\User\\Anaconda3\\envs\\buan6341_2020\\lib\\site-packages\\sklearn\\linear_model\\_coordinate_descent.py:476: ConvergenceWarning: Objective did not converge. You might want to increase the number of iterations. Duality gap: 0.0, tolerance: 0.0\n",
            "  positive)\n",
            "C:\\Users\\User\\Anaconda3\\envs\\buan6341_2020\\lib\\site-packages\\sklearn\\linear_model\\_coordinate_descent.py:476: ConvergenceWarning: Objective did not converge. You might want to increase the number of iterations. Duality gap: 0.0, tolerance: 0.0\n",
            "  positive)\n",
            "C:\\Users\\User\\Anaconda3\\envs\\buan6341_2020\\lib\\site-packages\\sklearn\\linear_model\\_coordinate_descent.py:476: ConvergenceWarning: Objective did not converge. You might want to increase the number of iterations. Duality gap: 0.0, tolerance: 0.0\n",
            "  positive)\n",
            "C:\\Users\\User\\Anaconda3\\envs\\buan6341_2020\\lib\\site-packages\\sklearn\\linear_model\\_coordinate_descent.py:476: ConvergenceWarning: Objective did not converge. You might want to increase the number of iterations. Duality gap: 0.0, tolerance: 0.0\n",
            "  positive)\n",
            "C:\\Users\\User\\Anaconda3\\envs\\buan6341_2020\\lib\\site-packages\\sklearn\\linear_model\\_coordinate_descent.py:476: ConvergenceWarning: Objective did not converge. You might want to increase the number of iterations. Duality gap: 0.0, tolerance: 0.0\n",
            "  positive)\n",
            "C:\\Users\\User\\Anaconda3\\envs\\buan6341_2020\\lib\\site-packages\\sklearn\\linear_model\\_coordinate_descent.py:476: ConvergenceWarning: Objective did not converge. You might want to increase the number of iterations. Duality gap: 0.0, tolerance: 0.0\n",
            "  positive)\n",
            "C:\\Users\\User\\Anaconda3\\envs\\buan6341_2020\\lib\\site-packages\\sklearn\\linear_model\\_coordinate_descent.py:476: ConvergenceWarning: Objective did not converge. You might want to increase the number of iterations. Duality gap: 0.0, tolerance: 0.0\n",
            "  positive)\n",
            "C:\\Users\\User\\Anaconda3\\envs\\buan6341_2020\\lib\\site-packages\\sklearn\\linear_model\\_coordinate_descent.py:476: ConvergenceWarning: Objective did not converge. You might want to increase the number of iterations. Duality gap: 0.0, tolerance: 0.0\n",
            "  positive)\n",
            "C:\\Users\\User\\Anaconda3\\envs\\buan6341_2020\\lib\\site-packages\\sklearn\\linear_model\\_coordinate_descent.py:476: ConvergenceWarning: Objective did not converge. You might want to increase the number of iterations. Duality gap: 0.0, tolerance: 0.0\n",
            "  positive)\n",
            "C:\\Users\\User\\Anaconda3\\envs\\buan6341_2020\\lib\\site-packages\\sklearn\\linear_model\\_coordinate_descent.py:476: ConvergenceWarning: Objective did not converge. You might want to increase the number of iterations. Duality gap: 0.0, tolerance: 0.0\n",
            "  positive)\n",
            "C:\\Users\\User\\Anaconda3\\envs\\buan6341_2020\\lib\\site-packages\\sklearn\\linear_model\\_coordinate_descent.py:476: ConvergenceWarning: Objective did not converge. You might want to increase the number of iterations. Duality gap: 0.0, tolerance: 0.0\n",
            "  positive)\n",
            "C:\\Users\\User\\Anaconda3\\envs\\buan6341_2020\\lib\\site-packages\\sklearn\\linear_model\\_coordinate_descent.py:476: ConvergenceWarning: Objective did not converge. You might want to increase the number of iterations. Duality gap: 0.0, tolerance: 0.0\n",
            "  positive)\n",
            "C:\\Users\\User\\Anaconda3\\envs\\buan6341_2020\\lib\\site-packages\\sklearn\\linear_model\\_coordinate_descent.py:476: ConvergenceWarning: Objective did not converge. You might want to increase the number of iterations. Duality gap: 0.0, tolerance: 0.0\n",
            "  positive)\n",
            "C:\\Users\\User\\Anaconda3\\envs\\buan6341_2020\\lib\\site-packages\\sklearn\\linear_model\\_coordinate_descent.py:476: ConvergenceWarning: Objective did not converge. You might want to increase the number of iterations. Duality gap: 0.0, tolerance: 0.0\n",
            "  positive)\n",
            "C:\\Users\\User\\Anaconda3\\envs\\buan6341_2020\\lib\\site-packages\\sklearn\\linear_model\\_coordinate_descent.py:476: ConvergenceWarning: Objective did not converge. You might want to increase the number of iterations. Duality gap: 0.0, tolerance: 0.0\n",
            "  positive)\n",
            "C:\\Users\\User\\Anaconda3\\envs\\buan6341_2020\\lib\\site-packages\\sklearn\\linear_model\\_coordinate_descent.py:476: ConvergenceWarning: Objective did not converge. You might want to increase the number of iterations. Duality gap: 0.0, tolerance: 0.0\n",
            "  positive)\n",
            "C:\\Users\\User\\Anaconda3\\envs\\buan6341_2020\\lib\\site-packages\\sklearn\\linear_model\\_coordinate_descent.py:476: ConvergenceWarning: Objective did not converge. You might want to increase the number of iterations. Duality gap: 0.0, tolerance: 0.0\n",
            "  positive)\n",
            "C:\\Users\\User\\Anaconda3\\envs\\buan6341_2020\\lib\\site-packages\\sklearn\\linear_model\\_coordinate_descent.py:476: ConvergenceWarning: Objective did not converge. You might want to increase the number of iterations. Duality gap: 0.0, tolerance: 0.0\n",
            "  positive)\n",
            "C:\\Users\\User\\Anaconda3\\envs\\buan6341_2020\\lib\\site-packages\\sklearn\\linear_model\\_coordinate_descent.py:476: ConvergenceWarning: Objective did not converge. You might want to increase the number of iterations. Duality gap: 0.0, tolerance: 0.0\n",
            "  positive)\n",
            "C:\\Users\\User\\Anaconda3\\envs\\buan6341_2020\\lib\\site-packages\\sklearn\\linear_model\\_coordinate_descent.py:476: ConvergenceWarning: Objective did not converge. You might want to increase the number of iterations. Duality gap: 0.0, tolerance: 0.0\n",
            "  positive)\n",
            "C:\\Users\\User\\Anaconda3\\envs\\buan6341_2020\\lib\\site-packages\\sklearn\\linear_model\\_coordinate_descent.py:476: ConvergenceWarning: Objective did not converge. You might want to increase the number of iterations. Duality gap: 0.0, tolerance: 0.0\n",
            "  positive)\n",
            "C:\\Users\\User\\Anaconda3\\envs\\buan6341_2020\\lib\\site-packages\\sklearn\\linear_model\\_coordinate_descent.py:476: ConvergenceWarning: Objective did not converge. You might want to increase the number of iterations. Duality gap: 0.0, tolerance: 0.0\n",
            "  positive)\n",
            "C:\\Users\\User\\Anaconda3\\envs\\buan6341_2020\\lib\\site-packages\\sklearn\\linear_model\\_coordinate_descent.py:476: ConvergenceWarning: Objective did not converge. You might want to increase the number of iterations. Duality gap: 0.0, tolerance: 0.0\n",
            "  positive)\n",
            "C:\\Users\\User\\Anaconda3\\envs\\buan6341_2020\\lib\\site-packages\\sklearn\\linear_model\\_coordinate_descent.py:476: ConvergenceWarning: Objective did not converge. You might want to increase the number of iterations. Duality gap: 0.0, tolerance: 0.0\n",
            "  positive)\n",
            "C:\\Users\\User\\Anaconda3\\envs\\buan6341_2020\\lib\\site-packages\\sklearn\\linear_model\\_coordinate_descent.py:476: ConvergenceWarning: Objective did not converge. You might want to increase the number of iterations. Duality gap: 0.0, tolerance: 0.0\n",
            "  positive)\n",
            "C:\\Users\\User\\Anaconda3\\envs\\buan6341_2020\\lib\\site-packages\\sklearn\\linear_model\\_coordinate_descent.py:476: ConvergenceWarning: Objective did not converge. You might want to increase the number of iterations. Duality gap: 0.0, tolerance: 0.0\n",
            "  positive)\n",
            "C:\\Users\\User\\Anaconda3\\envs\\buan6341_2020\\lib\\site-packages\\sklearn\\linear_model\\_coordinate_descent.py:476: ConvergenceWarning: Objective did not converge. You might want to increase the number of iterations. Duality gap: 0.0, tolerance: 0.0\n",
            "  positive)\n",
            "C:\\Users\\User\\Anaconda3\\envs\\buan6341_2020\\lib\\site-packages\\sklearn\\linear_model\\_coordinate_descent.py:476: ConvergenceWarning: Objective did not converge. You might want to increase the number of iterations. Duality gap: 0.0, tolerance: 0.0\n",
            "  positive)\n"
          ],
          "name": "stderr"
        },
        {
          "output_type": "stream",
          "text": [
            "C:\\Users\\User\\Anaconda3\\envs\\buan6341_2020\\lib\\site-packages\\sklearn\\linear_model\\_coordinate_descent.py:476: ConvergenceWarning: Objective did not converge. You might want to increase the number of iterations. Duality gap: 0.0, tolerance: 0.0\n",
            "  positive)\n",
            "C:\\Users\\User\\Anaconda3\\envs\\buan6341_2020\\lib\\site-packages\\sklearn\\linear_model\\_coordinate_descent.py:476: ConvergenceWarning: Objective did not converge. You might want to increase the number of iterations. Duality gap: 0.0, tolerance: 0.0\n",
            "  positive)\n",
            "C:\\Users\\User\\Anaconda3\\envs\\buan6341_2020\\lib\\site-packages\\sklearn\\linear_model\\_coordinate_descent.py:476: ConvergenceWarning: Objective did not converge. You might want to increase the number of iterations. Duality gap: 0.0, tolerance: 0.0\n",
            "  positive)\n",
            "C:\\Users\\User\\Anaconda3\\envs\\buan6341_2020\\lib\\site-packages\\sklearn\\linear_model\\_coordinate_descent.py:476: ConvergenceWarning: Objective did not converge. You might want to increase the number of iterations. Duality gap: 0.0, tolerance: 0.0\n",
            "  positive)\n",
            "C:\\Users\\User\\Anaconda3\\envs\\buan6341_2020\\lib\\site-packages\\sklearn\\linear_model\\_coordinate_descent.py:476: ConvergenceWarning: Objective did not converge. You might want to increase the number of iterations. Duality gap: 0.0, tolerance: 0.0\n",
            "  positive)\n",
            "C:\\Users\\User\\Anaconda3\\envs\\buan6341_2020\\lib\\site-packages\\sklearn\\linear_model\\_coordinate_descent.py:476: ConvergenceWarning: Objective did not converge. You might want to increase the number of iterations. Duality gap: 0.0, tolerance: 0.0\n",
            "  positive)\n",
            "C:\\Users\\User\\Anaconda3\\envs\\buan6341_2020\\lib\\site-packages\\sklearn\\linear_model\\_coordinate_descent.py:476: ConvergenceWarning: Objective did not converge. You might want to increase the number of iterations. Duality gap: 0.0, tolerance: 0.0\n",
            "  positive)\n",
            "C:\\Users\\User\\Anaconda3\\envs\\buan6341_2020\\lib\\site-packages\\sklearn\\linear_model\\_coordinate_descent.py:476: ConvergenceWarning: Objective did not converge. You might want to increase the number of iterations. Duality gap: 0.0, tolerance: 0.0\n",
            "  positive)\n",
            "C:\\Users\\User\\Anaconda3\\envs\\buan6341_2020\\lib\\site-packages\\sklearn\\linear_model\\_coordinate_descent.py:476: ConvergenceWarning: Objective did not converge. You might want to increase the number of iterations. Duality gap: 0.0, tolerance: 0.0\n",
            "  positive)\n",
            "C:\\Users\\User\\Anaconda3\\envs\\buan6341_2020\\lib\\site-packages\\sklearn\\linear_model\\_coordinate_descent.py:476: ConvergenceWarning: Objective did not converge. You might want to increase the number of iterations. Duality gap: 0.0, tolerance: 0.0\n",
            "  positive)\n",
            "C:\\Users\\User\\Anaconda3\\envs\\buan6341_2020\\lib\\site-packages\\sklearn\\linear_model\\_coordinate_descent.py:476: ConvergenceWarning: Objective did not converge. You might want to increase the number of iterations. Duality gap: 0.0, tolerance: 0.0\n",
            "  positive)\n",
            "C:\\Users\\User\\Anaconda3\\envs\\buan6341_2020\\lib\\site-packages\\sklearn\\linear_model\\_coordinate_descent.py:476: ConvergenceWarning: Objective did not converge. You might want to increase the number of iterations. Duality gap: 0.0, tolerance: 0.0\n",
            "  positive)\n",
            "C:\\Users\\User\\Anaconda3\\envs\\buan6341_2020\\lib\\site-packages\\sklearn\\linear_model\\_coordinate_descent.py:476: ConvergenceWarning: Objective did not converge. You might want to increase the number of iterations. Duality gap: 0.0, tolerance: 0.0\n",
            "  positive)\n",
            "C:\\Users\\User\\Anaconda3\\envs\\buan6341_2020\\lib\\site-packages\\sklearn\\linear_model\\_coordinate_descent.py:476: ConvergenceWarning: Objective did not converge. You might want to increase the number of iterations. Duality gap: 0.0, tolerance: 0.0\n",
            "  positive)\n",
            "C:\\Users\\User\\Anaconda3\\envs\\buan6341_2020\\lib\\site-packages\\sklearn\\linear_model\\_coordinate_descent.py:476: ConvergenceWarning: Objective did not converge. You might want to increase the number of iterations. Duality gap: 0.0, tolerance: 0.0\n",
            "  positive)\n",
            "C:\\Users\\User\\Anaconda3\\envs\\buan6341_2020\\lib\\site-packages\\sklearn\\linear_model\\_coordinate_descent.py:476: ConvergenceWarning: Objective did not converge. You might want to increase the number of iterations. Duality gap: 0.0, tolerance: 0.0\n",
            "  positive)\n",
            "C:\\Users\\User\\Anaconda3\\envs\\buan6341_2020\\lib\\site-packages\\sklearn\\linear_model\\_coordinate_descent.py:476: ConvergenceWarning: Objective did not converge. You might want to increase the number of iterations. Duality gap: 0.0, tolerance: 0.0\n",
            "  positive)\n",
            "C:\\Users\\User\\Anaconda3\\envs\\buan6341_2020\\lib\\site-packages\\sklearn\\linear_model\\_coordinate_descent.py:476: ConvergenceWarning: Objective did not converge. You might want to increase the number of iterations. Duality gap: 0.0, tolerance: 0.0\n",
            "  positive)\n",
            "C:\\Users\\User\\Anaconda3\\envs\\buan6341_2020\\lib\\site-packages\\sklearn\\linear_model\\_coordinate_descent.py:476: ConvergenceWarning: Objective did not converge. You might want to increase the number of iterations. Duality gap: 0.0, tolerance: 0.0\n",
            "  positive)\n",
            "C:\\Users\\User\\Anaconda3\\envs\\buan6341_2020\\lib\\site-packages\\sklearn\\linear_model\\_coordinate_descent.py:476: ConvergenceWarning: Objective did not converge. You might want to increase the number of iterations. Duality gap: 0.0, tolerance: 0.0\n",
            "  positive)\n",
            "C:\\Users\\User\\Anaconda3\\envs\\buan6341_2020\\lib\\site-packages\\sklearn\\linear_model\\_coordinate_descent.py:476: ConvergenceWarning: Objective did not converge. You might want to increase the number of iterations. Duality gap: 0.0, tolerance: 0.0\n",
            "  positive)\n",
            "C:\\Users\\User\\Anaconda3\\envs\\buan6341_2020\\lib\\site-packages\\sklearn\\linear_model\\_coordinate_descent.py:476: ConvergenceWarning: Objective did not converge. You might want to increase the number of iterations. Duality gap: 0.0, tolerance: 0.0\n",
            "  positive)\n",
            "C:\\Users\\User\\Anaconda3\\envs\\buan6341_2020\\lib\\site-packages\\sklearn\\linear_model\\_coordinate_descent.py:476: ConvergenceWarning: Objective did not converge. You might want to increase the number of iterations. Duality gap: 0.0, tolerance: 0.0\n",
            "  positive)\n",
            "C:\\Users\\User\\Anaconda3\\envs\\buan6341_2020\\lib\\site-packages\\sklearn\\linear_model\\_coordinate_descent.py:476: ConvergenceWarning: Objective did not converge. You might want to increase the number of iterations. Duality gap: 0.0, tolerance: 0.0\n",
            "  positive)\n",
            "C:\\Users\\User\\Anaconda3\\envs\\buan6341_2020\\lib\\site-packages\\sklearn\\linear_model\\_coordinate_descent.py:476: ConvergenceWarning: Objective did not converge. You might want to increase the number of iterations. Duality gap: 0.0, tolerance: 0.0\n",
            "  positive)\n",
            "C:\\Users\\User\\Anaconda3\\envs\\buan6341_2020\\lib\\site-packages\\sklearn\\linear_model\\_coordinate_descent.py:476: ConvergenceWarning: Objective did not converge. You might want to increase the number of iterations. Duality gap: 0.0, tolerance: 0.0\n",
            "  positive)\n",
            "C:\\Users\\User\\Anaconda3\\envs\\buan6341_2020\\lib\\site-packages\\sklearn\\linear_model\\_coordinate_descent.py:476: ConvergenceWarning: Objective did not converge. You might want to increase the number of iterations. Duality gap: 0.0, tolerance: 0.0\n",
            "  positive)\n",
            "C:\\Users\\User\\Anaconda3\\envs\\buan6341_2020\\lib\\site-packages\\sklearn\\linear_model\\_coordinate_descent.py:476: ConvergenceWarning: Objective did not converge. You might want to increase the number of iterations. Duality gap: 0.0, tolerance: 0.0\n",
            "  positive)\n",
            "C:\\Users\\User\\Anaconda3\\envs\\buan6341_2020\\lib\\site-packages\\sklearn\\linear_model\\_coordinate_descent.py:476: ConvergenceWarning: Objective did not converge. You might want to increase the number of iterations. Duality gap: 0.0, tolerance: 0.0\n",
            "  positive)\n",
            "C:\\Users\\User\\Anaconda3\\envs\\buan6341_2020\\lib\\site-packages\\sklearn\\linear_model\\_coordinate_descent.py:476: ConvergenceWarning: Objective did not converge. You might want to increase the number of iterations. Duality gap: 0.0, tolerance: 0.0\n",
            "  positive)\n",
            "C:\\Users\\User\\Anaconda3\\envs\\buan6341_2020\\lib\\site-packages\\sklearn\\linear_model\\_coordinate_descent.py:476: ConvergenceWarning: Objective did not converge. You might want to increase the number of iterations. Duality gap: 0.0, tolerance: 0.0\n",
            "  positive)\n",
            "C:\\Users\\User\\Anaconda3\\envs\\buan6341_2020\\lib\\site-packages\\sklearn\\linear_model\\_coordinate_descent.py:476: ConvergenceWarning: Objective did not converge. You might want to increase the number of iterations. Duality gap: 0.0, tolerance: 0.0\n",
            "  positive)\n",
            "C:\\Users\\User\\Anaconda3\\envs\\buan6341_2020\\lib\\site-packages\\sklearn\\linear_model\\_coordinate_descent.py:476: ConvergenceWarning: Objective did not converge. You might want to increase the number of iterations. Duality gap: 0.0, tolerance: 0.0\n",
            "  positive)\n",
            "C:\\Users\\User\\Anaconda3\\envs\\buan6341_2020\\lib\\site-packages\\sklearn\\linear_model\\_coordinate_descent.py:476: ConvergenceWarning: Objective did not converge. You might want to increase the number of iterations. Duality gap: 0.0, tolerance: 0.0\n",
            "  positive)\n",
            "C:\\Users\\User\\Anaconda3\\envs\\buan6341_2020\\lib\\site-packages\\sklearn\\linear_model\\_coordinate_descent.py:476: ConvergenceWarning: Objective did not converge. You might want to increase the number of iterations. Duality gap: 0.0, tolerance: 0.0\n",
            "  positive)\n",
            "C:\\Users\\User\\Anaconda3\\envs\\buan6341_2020\\lib\\site-packages\\sklearn\\linear_model\\_coordinate_descent.py:476: ConvergenceWarning: Objective did not converge. You might want to increase the number of iterations. Duality gap: 0.0, tolerance: 0.0\n",
            "  positive)\n",
            "C:\\Users\\User\\Anaconda3\\envs\\buan6341_2020\\lib\\site-packages\\sklearn\\linear_model\\_coordinate_descent.py:476: ConvergenceWarning: Objective did not converge. You might want to increase the number of iterations. Duality gap: 0.0, tolerance: 0.0\n",
            "  positive)\n",
            "C:\\Users\\User\\Anaconda3\\envs\\buan6341_2020\\lib\\site-packages\\sklearn\\linear_model\\_coordinate_descent.py:476: ConvergenceWarning: Objective did not converge. You might want to increase the number of iterations. Duality gap: 0.0, tolerance: 0.0\n",
            "  positive)\n",
            "C:\\Users\\User\\Anaconda3\\envs\\buan6341_2020\\lib\\site-packages\\sklearn\\linear_model\\_coordinate_descent.py:476: ConvergenceWarning: Objective did not converge. You might want to increase the number of iterations. Duality gap: 0.0, tolerance: 0.0\n",
            "  positive)\n",
            "C:\\Users\\User\\Anaconda3\\envs\\buan6341_2020\\lib\\site-packages\\sklearn\\linear_model\\_coordinate_descent.py:476: ConvergenceWarning: Objective did not converge. You might want to increase the number of iterations. Duality gap: 0.0, tolerance: 0.0\n",
            "  positive)\n"
          ],
          "name": "stderr"
        },
        {
          "output_type": "stream",
          "text": [
            "C:\\Users\\User\\Anaconda3\\envs\\buan6341_2020\\lib\\site-packages\\sklearn\\linear_model\\_coordinate_descent.py:476: ConvergenceWarning: Objective did not converge. You might want to increase the number of iterations. Duality gap: 0.0, tolerance: 0.0\n",
            "  positive)\n",
            "C:\\Users\\User\\Anaconda3\\envs\\buan6341_2020\\lib\\site-packages\\sklearn\\linear_model\\_coordinate_descent.py:476: ConvergenceWarning: Objective did not converge. You might want to increase the number of iterations. Duality gap: 0.0, tolerance: 0.0\n",
            "  positive)\n",
            "C:\\Users\\User\\Anaconda3\\envs\\buan6341_2020\\lib\\site-packages\\sklearn\\linear_model\\_coordinate_descent.py:476: ConvergenceWarning: Objective did not converge. You might want to increase the number of iterations. Duality gap: 0.0, tolerance: 0.0\n",
            "  positive)\n",
            "C:\\Users\\User\\Anaconda3\\envs\\buan6341_2020\\lib\\site-packages\\sklearn\\linear_model\\_coordinate_descent.py:476: ConvergenceWarning: Objective did not converge. You might want to increase the number of iterations. Duality gap: 0.0, tolerance: 0.0\n",
            "  positive)\n",
            "C:\\Users\\User\\Anaconda3\\envs\\buan6341_2020\\lib\\site-packages\\sklearn\\linear_model\\_coordinate_descent.py:476: ConvergenceWarning: Objective did not converge. You might want to increase the number of iterations. Duality gap: 0.0, tolerance: 0.0\n",
            "  positive)\n",
            "C:\\Users\\User\\Anaconda3\\envs\\buan6341_2020\\lib\\site-packages\\sklearn\\linear_model\\_coordinate_descent.py:476: ConvergenceWarning: Objective did not converge. You might want to increase the number of iterations. Duality gap: 0.0, tolerance: 0.0\n",
            "  positive)\n",
            "C:\\Users\\User\\Anaconda3\\envs\\buan6341_2020\\lib\\site-packages\\sklearn\\linear_model\\_coordinate_descent.py:476: ConvergenceWarning: Objective did not converge. You might want to increase the number of iterations. Duality gap: 0.0, tolerance: 0.0\n",
            "  positive)\n",
            "C:\\Users\\User\\Anaconda3\\envs\\buan6341_2020\\lib\\site-packages\\sklearn\\linear_model\\_coordinate_descent.py:476: ConvergenceWarning: Objective did not converge. You might want to increase the number of iterations. Duality gap: 0.0, tolerance: 0.0\n",
            "  positive)\n",
            "C:\\Users\\User\\Anaconda3\\envs\\buan6341_2020\\lib\\site-packages\\sklearn\\linear_model\\_coordinate_descent.py:476: ConvergenceWarning: Objective did not converge. You might want to increase the number of iterations. Duality gap: 0.0, tolerance: 0.0\n",
            "  positive)\n",
            "C:\\Users\\User\\Anaconda3\\envs\\buan6341_2020\\lib\\site-packages\\sklearn\\linear_model\\_coordinate_descent.py:476: ConvergenceWarning: Objective did not converge. You might want to increase the number of iterations. Duality gap: 0.0, tolerance: 0.0\n",
            "  positive)\n",
            "C:\\Users\\User\\Anaconda3\\envs\\buan6341_2020\\lib\\site-packages\\sklearn\\linear_model\\_coordinate_descent.py:476: ConvergenceWarning: Objective did not converge. You might want to increase the number of iterations. Duality gap: 0.0, tolerance: 0.0\n",
            "  positive)\n",
            "C:\\Users\\User\\Anaconda3\\envs\\buan6341_2020\\lib\\site-packages\\sklearn\\linear_model\\_coordinate_descent.py:476: ConvergenceWarning: Objective did not converge. You might want to increase the number of iterations. Duality gap: 0.0, tolerance: 0.0\n",
            "  positive)\n",
            "C:\\Users\\User\\Anaconda3\\envs\\buan6341_2020\\lib\\site-packages\\sklearn\\linear_model\\_coordinate_descent.py:476: ConvergenceWarning: Objective did not converge. You might want to increase the number of iterations. Duality gap: 0.0, tolerance: 0.0\n",
            "  positive)\n",
            "C:\\Users\\User\\Anaconda3\\envs\\buan6341_2020\\lib\\site-packages\\sklearn\\linear_model\\_coordinate_descent.py:476: ConvergenceWarning: Objective did not converge. You might want to increase the number of iterations. Duality gap: 0.0, tolerance: 0.0\n",
            "  positive)\n",
            "C:\\Users\\User\\Anaconda3\\envs\\buan6341_2020\\lib\\site-packages\\sklearn\\linear_model\\_coordinate_descent.py:476: ConvergenceWarning: Objective did not converge. You might want to increase the number of iterations. Duality gap: 0.0, tolerance: 0.0\n",
            "  positive)\n",
            "C:\\Users\\User\\Anaconda3\\envs\\buan6341_2020\\lib\\site-packages\\sklearn\\linear_model\\_coordinate_descent.py:476: ConvergenceWarning: Objective did not converge. You might want to increase the number of iterations. Duality gap: 0.0, tolerance: 0.0\n",
            "  positive)\n",
            "C:\\Users\\User\\Anaconda3\\envs\\buan6341_2020\\lib\\site-packages\\sklearn\\linear_model\\_coordinate_descent.py:476: ConvergenceWarning: Objective did not converge. You might want to increase the number of iterations. Duality gap: 0.0, tolerance: 0.0\n",
            "  positive)\n",
            "C:\\Users\\User\\Anaconda3\\envs\\buan6341_2020\\lib\\site-packages\\sklearn\\linear_model\\_coordinate_descent.py:476: ConvergenceWarning: Objective did not converge. You might want to increase the number of iterations. Duality gap: 0.0, tolerance: 0.0\n",
            "  positive)\n",
            "C:\\Users\\User\\Anaconda3\\envs\\buan6341_2020\\lib\\site-packages\\sklearn\\linear_model\\_coordinate_descent.py:476: ConvergenceWarning: Objective did not converge. You might want to increase the number of iterations. Duality gap: 0.0, tolerance: 0.0\n",
            "  positive)\n",
            "C:\\Users\\User\\Anaconda3\\envs\\buan6341_2020\\lib\\site-packages\\sklearn\\linear_model\\_coordinate_descent.py:476: ConvergenceWarning: Objective did not converge. You might want to increase the number of iterations. Duality gap: 0.0, tolerance: 0.0\n",
            "  positive)\n",
            "C:\\Users\\User\\Anaconda3\\envs\\buan6341_2020\\lib\\site-packages\\sklearn\\linear_model\\_coordinate_descent.py:476: ConvergenceWarning: Objective did not converge. You might want to increase the number of iterations. Duality gap: 0.0, tolerance: 0.0\n",
            "  positive)\n",
            "C:\\Users\\User\\Anaconda3\\envs\\buan6341_2020\\lib\\site-packages\\sklearn\\linear_model\\_coordinate_descent.py:476: ConvergenceWarning: Objective did not converge. You might want to increase the number of iterations. Duality gap: 0.0, tolerance: 0.0\n",
            "  positive)\n",
            "C:\\Users\\User\\Anaconda3\\envs\\buan6341_2020\\lib\\site-packages\\sklearn\\linear_model\\_coordinate_descent.py:476: ConvergenceWarning: Objective did not converge. You might want to increase the number of iterations. Duality gap: 0.0, tolerance: 0.0\n",
            "  positive)\n",
            "C:\\Users\\User\\Anaconda3\\envs\\buan6341_2020\\lib\\site-packages\\sklearn\\linear_model\\_coordinate_descent.py:476: ConvergenceWarning: Objective did not converge. You might want to increase the number of iterations. Duality gap: 0.0, tolerance: 0.0\n",
            "  positive)\n",
            "C:\\Users\\User\\Anaconda3\\envs\\buan6341_2020\\lib\\site-packages\\sklearn\\linear_model\\_coordinate_descent.py:476: ConvergenceWarning: Objective did not converge. You might want to increase the number of iterations. Duality gap: 0.0, tolerance: 0.0\n",
            "  positive)\n",
            "C:\\Users\\User\\Anaconda3\\envs\\buan6341_2020\\lib\\site-packages\\sklearn\\linear_model\\_coordinate_descent.py:476: ConvergenceWarning: Objective did not converge. You might want to increase the number of iterations. Duality gap: 0.0, tolerance: 0.0\n",
            "  positive)\n",
            "C:\\Users\\User\\Anaconda3\\envs\\buan6341_2020\\lib\\site-packages\\sklearn\\linear_model\\_coordinate_descent.py:476: ConvergenceWarning: Objective did not converge. You might want to increase the number of iterations. Duality gap: 0.0, tolerance: 0.0\n",
            "  positive)\n",
            "C:\\Users\\User\\Anaconda3\\envs\\buan6341_2020\\lib\\site-packages\\sklearn\\linear_model\\_coordinate_descent.py:476: ConvergenceWarning: Objective did not converge. You might want to increase the number of iterations. Duality gap: 0.0, tolerance: 0.0\n",
            "  positive)\n",
            "C:\\Users\\User\\Anaconda3\\envs\\buan6341_2020\\lib\\site-packages\\sklearn\\linear_model\\_coordinate_descent.py:476: ConvergenceWarning: Objective did not converge. You might want to increase the number of iterations. Duality gap: 0.0, tolerance: 0.0\n",
            "  positive)\n",
            "C:\\Users\\User\\Anaconda3\\envs\\buan6341_2020\\lib\\site-packages\\sklearn\\linear_model\\_coordinate_descent.py:476: ConvergenceWarning: Objective did not converge. You might want to increase the number of iterations. Duality gap: 0.0, tolerance: 0.0\n",
            "  positive)\n",
            "C:\\Users\\User\\Anaconda3\\envs\\buan6341_2020\\lib\\site-packages\\sklearn\\linear_model\\_coordinate_descent.py:476: ConvergenceWarning: Objective did not converge. You might want to increase the number of iterations. Duality gap: 0.0, tolerance: 0.0\n",
            "  positive)\n",
            "C:\\Users\\User\\Anaconda3\\envs\\buan6341_2020\\lib\\site-packages\\sklearn\\linear_model\\_coordinate_descent.py:476: ConvergenceWarning: Objective did not converge. You might want to increase the number of iterations. Duality gap: 0.0, tolerance: 0.0\n",
            "  positive)\n",
            "C:\\Users\\User\\Anaconda3\\envs\\buan6341_2020\\lib\\site-packages\\sklearn\\linear_model\\_coordinate_descent.py:476: ConvergenceWarning: Objective did not converge. You might want to increase the number of iterations. Duality gap: 0.0, tolerance: 0.0\n",
            "  positive)\n",
            "C:\\Users\\User\\Anaconda3\\envs\\buan6341_2020\\lib\\site-packages\\sklearn\\linear_model\\_coordinate_descent.py:476: ConvergenceWarning: Objective did not converge. You might want to increase the number of iterations. Duality gap: 0.0, tolerance: 0.0\n",
            "  positive)\n",
            "C:\\Users\\User\\Anaconda3\\envs\\buan6341_2020\\lib\\site-packages\\sklearn\\linear_model\\_coordinate_descent.py:476: ConvergenceWarning: Objective did not converge. You might want to increase the number of iterations. Duality gap: 0.0, tolerance: 0.0\n",
            "  positive)\n",
            "C:\\Users\\User\\Anaconda3\\envs\\buan6341_2020\\lib\\site-packages\\sklearn\\linear_model\\_coordinate_descent.py:476: ConvergenceWarning: Objective did not converge. You might want to increase the number of iterations. Duality gap: 0.0, tolerance: 0.0\n",
            "  positive)\n",
            "C:\\Users\\User\\Anaconda3\\envs\\buan6341_2020\\lib\\site-packages\\sklearn\\linear_model\\_coordinate_descent.py:476: ConvergenceWarning: Objective did not converge. You might want to increase the number of iterations. Duality gap: 0.0, tolerance: 0.0\n",
            "  positive)\n",
            "C:\\Users\\User\\Anaconda3\\envs\\buan6341_2020\\lib\\site-packages\\sklearn\\linear_model\\_coordinate_descent.py:476: ConvergenceWarning: Objective did not converge. You might want to increase the number of iterations. Duality gap: 0.0, tolerance: 0.0\n",
            "  positive)\n",
            "C:\\Users\\User\\Anaconda3\\envs\\buan6341_2020\\lib\\site-packages\\sklearn\\linear_model\\_coordinate_descent.py:476: ConvergenceWarning: Objective did not converge. You might want to increase the number of iterations. Duality gap: 0.0, tolerance: 0.0\n",
            "  positive)\n",
            "C:\\Users\\User\\Anaconda3\\envs\\buan6341_2020\\lib\\site-packages\\sklearn\\linear_model\\_coordinate_descent.py:476: ConvergenceWarning: Objective did not converge. You might want to increase the number of iterations. Duality gap: 0.0, tolerance: 0.0\n",
            "  positive)\n",
            "C:\\Users\\User\\Anaconda3\\envs\\buan6341_2020\\lib\\site-packages\\sklearn\\linear_model\\_coordinate_descent.py:476: ConvergenceWarning: Objective did not converge. You might want to increase the number of iterations. Duality gap: 0.0, tolerance: 0.0\n",
            "  positive)\n",
            "C:\\Users\\User\\Anaconda3\\envs\\buan6341_2020\\lib\\site-packages\\sklearn\\linear_model\\_coordinate_descent.py:476: ConvergenceWarning: Objective did not converge. You might want to increase the number of iterations. Duality gap: 0.0, tolerance: 0.0\n",
            "  positive)\n",
            "C:\\Users\\User\\Anaconda3\\envs\\buan6341_2020\\lib\\site-packages\\sklearn\\linear_model\\_coordinate_descent.py:476: ConvergenceWarning: Objective did not converge. You might want to increase the number of iterations. Duality gap: 0.0, tolerance: 0.0\n",
            "  positive)\n",
            "C:\\Users\\User\\Anaconda3\\envs\\buan6341_2020\\lib\\site-packages\\sklearn\\linear_model\\_coordinate_descent.py:476: ConvergenceWarning: Objective did not converge. You might want to increase the number of iterations. Duality gap: 0.0, tolerance: 0.0\n",
            "  positive)\n",
            "C:\\Users\\User\\Anaconda3\\envs\\buan6341_2020\\lib\\site-packages\\sklearn\\linear_model\\_coordinate_descent.py:476: ConvergenceWarning: Objective did not converge. You might want to increase the number of iterations. Duality gap: 0.0, tolerance: 0.0\n",
            "  positive)\n",
            "C:\\Users\\User\\Anaconda3\\envs\\buan6341_2020\\lib\\site-packages\\sklearn\\linear_model\\_coordinate_descent.py:476: ConvergenceWarning: Objective did not converge. You might want to increase the number of iterations. Duality gap: 0.0, tolerance: 0.0\n",
            "  positive)\n",
            "C:\\Users\\User\\Anaconda3\\envs\\buan6341_2020\\lib\\site-packages\\sklearn\\linear_model\\_coordinate_descent.py:476: ConvergenceWarning: Objective did not converge. You might want to increase the number of iterations. Duality gap: 0.0, tolerance: 0.0\n",
            "  positive)\n",
            "C:\\Users\\User\\Anaconda3\\envs\\buan6341_2020\\lib\\site-packages\\sklearn\\linear_model\\_coordinate_descent.py:476: ConvergenceWarning: Objective did not converge. You might want to increase the number of iterations. Duality gap: 0.0, tolerance: 0.0\n",
            "  positive)\n",
            "C:\\Users\\User\\Anaconda3\\envs\\buan6341_2020\\lib\\site-packages\\sklearn\\linear_model\\_coordinate_descent.py:476: ConvergenceWarning: Objective did not converge. You might want to increase the number of iterations. Duality gap: 0.0, tolerance: 0.0\n",
            "  positive)\n",
            "C:\\Users\\User\\Anaconda3\\envs\\buan6341_2020\\lib\\site-packages\\sklearn\\linear_model\\_coordinate_descent.py:476: ConvergenceWarning: Objective did not converge. You might want to increase the number of iterations. Duality gap: 0.0, tolerance: 0.0\n",
            "  positive)\n",
            "C:\\Users\\User\\Anaconda3\\envs\\buan6341_2020\\lib\\site-packages\\sklearn\\linear_model\\_coordinate_descent.py:476: ConvergenceWarning: Objective did not converge. You might want to increase the number of iterations. Duality gap: 0.0, tolerance: 0.0\n",
            "  positive)\n",
            "C:\\Users\\User\\Anaconda3\\envs\\buan6341_2020\\lib\\site-packages\\sklearn\\linear_model\\_coordinate_descent.py:476: ConvergenceWarning: Objective did not converge. You might want to increase the number of iterations. Duality gap: 0.0, tolerance: 0.0\n",
            "  positive)\n",
            "C:\\Users\\User\\Anaconda3\\envs\\buan6341_2020\\lib\\site-packages\\sklearn\\linear_model\\_coordinate_descent.py:476: ConvergenceWarning: Objective did not converge. You might want to increase the number of iterations. Duality gap: 0.0, tolerance: 0.0\n",
            "  positive)\n",
            "C:\\Users\\User\\Anaconda3\\envs\\buan6341_2020\\lib\\site-packages\\sklearn\\linear_model\\_coordinate_descent.py:476: ConvergenceWarning: Objective did not converge. You might want to increase the number of iterations. Duality gap: 0.0, tolerance: 0.0\n",
            "  positive)\n",
            "C:\\Users\\User\\Anaconda3\\envs\\buan6341_2020\\lib\\site-packages\\sklearn\\linear_model\\_coordinate_descent.py:476: ConvergenceWarning: Objective did not converge. You might want to increase the number of iterations. Duality gap: 0.0, tolerance: 0.0\n",
            "  positive)\n",
            "C:\\Users\\User\\Anaconda3\\envs\\buan6341_2020\\lib\\site-packages\\sklearn\\linear_model\\_coordinate_descent.py:476: ConvergenceWarning: Objective did not converge. You might want to increase the number of iterations. Duality gap: 0.0, tolerance: 0.0\n",
            "  positive)\n",
            "C:\\Users\\User\\Anaconda3\\envs\\buan6341_2020\\lib\\site-packages\\sklearn\\linear_model\\_coordinate_descent.py:476: ConvergenceWarning: Objective did not converge. You might want to increase the number of iterations. Duality gap: 0.0, tolerance: 0.0\n",
            "  positive)\n",
            "C:\\Users\\User\\Anaconda3\\envs\\buan6341_2020\\lib\\site-packages\\sklearn\\linear_model\\_coordinate_descent.py:476: ConvergenceWarning: Objective did not converge. You might want to increase the number of iterations. Duality gap: 0.0, tolerance: 0.0\n",
            "  positive)\n",
            "C:\\Users\\User\\Anaconda3\\envs\\buan6341_2020\\lib\\site-packages\\sklearn\\linear_model\\_coordinate_descent.py:476: ConvergenceWarning: Objective did not converge. You might want to increase the number of iterations. Duality gap: 0.0, tolerance: 0.0\n",
            "  positive)\n",
            "C:\\Users\\User\\Anaconda3\\envs\\buan6341_2020\\lib\\site-packages\\sklearn\\linear_model\\_coordinate_descent.py:476: ConvergenceWarning: Objective did not converge. You might want to increase the number of iterations. Duality gap: 0.0, tolerance: 0.0\n",
            "  positive)\n",
            "C:\\Users\\User\\Anaconda3\\envs\\buan6341_2020\\lib\\site-packages\\sklearn\\linear_model\\_coordinate_descent.py:476: ConvergenceWarning: Objective did not converge. You might want to increase the number of iterations. Duality gap: 0.0, tolerance: 0.0\n",
            "  positive)\n",
            "C:\\Users\\User\\Anaconda3\\envs\\buan6341_2020\\lib\\site-packages\\sklearn\\linear_model\\_coordinate_descent.py:476: ConvergenceWarning: Objective did not converge. You might want to increase the number of iterations. Duality gap: 0.0, tolerance: 0.0\n",
            "  positive)\n",
            "C:\\Users\\User\\Anaconda3\\envs\\buan6341_2020\\lib\\site-packages\\sklearn\\linear_model\\_coordinate_descent.py:476: ConvergenceWarning: Objective did not converge. You might want to increase the number of iterations. Duality gap: 0.0, tolerance: 0.0\n",
            "  positive)\n"
          ],
          "name": "stderr"
        },
        {
          "output_type": "stream",
          "text": [
            "C:\\Users\\User\\Anaconda3\\envs\\buan6341_2020\\lib\\site-packages\\sklearn\\linear_model\\_coordinate_descent.py:476: ConvergenceWarning: Objective did not converge. You might want to increase the number of iterations. Duality gap: 0.0, tolerance: 0.0\n",
            "  positive)\n",
            "C:\\Users\\User\\Anaconda3\\envs\\buan6341_2020\\lib\\site-packages\\sklearn\\linear_model\\_coordinate_descent.py:476: ConvergenceWarning: Objective did not converge. You might want to increase the number of iterations. Duality gap: 0.0, tolerance: 0.0\n",
            "  positive)\n",
            "C:\\Users\\User\\Anaconda3\\envs\\buan6341_2020\\lib\\site-packages\\sklearn\\linear_model\\_coordinate_descent.py:476: ConvergenceWarning: Objective did not converge. You might want to increase the number of iterations. Duality gap: 0.0, tolerance: 0.0\n",
            "  positive)\n",
            "C:\\Users\\User\\Anaconda3\\envs\\buan6341_2020\\lib\\site-packages\\sklearn\\linear_model\\_coordinate_descent.py:476: ConvergenceWarning: Objective did not converge. You might want to increase the number of iterations. Duality gap: 0.0, tolerance: 0.0\n",
            "  positive)\n",
            "C:\\Users\\User\\Anaconda3\\envs\\buan6341_2020\\lib\\site-packages\\sklearn\\linear_model\\_coordinate_descent.py:476: ConvergenceWarning: Objective did not converge. You might want to increase the number of iterations. Duality gap: 0.0, tolerance: 0.0\n",
            "  positive)\n",
            "C:\\Users\\User\\Anaconda3\\envs\\buan6341_2020\\lib\\site-packages\\sklearn\\linear_model\\_coordinate_descent.py:476: ConvergenceWarning: Objective did not converge. You might want to increase the number of iterations. Duality gap: 0.0, tolerance: 0.0\n",
            "  positive)\n",
            "C:\\Users\\User\\Anaconda3\\envs\\buan6341_2020\\lib\\site-packages\\sklearn\\linear_model\\_coordinate_descent.py:476: ConvergenceWarning: Objective did not converge. You might want to increase the number of iterations. Duality gap: 0.0, tolerance: 0.0\n",
            "  positive)\n",
            "C:\\Users\\User\\Anaconda3\\envs\\buan6341_2020\\lib\\site-packages\\sklearn\\linear_model\\_coordinate_descent.py:476: ConvergenceWarning: Objective did not converge. You might want to increase the number of iterations. Duality gap: 0.0, tolerance: 0.0\n",
            "  positive)\n",
            "C:\\Users\\User\\Anaconda3\\envs\\buan6341_2020\\lib\\site-packages\\sklearn\\linear_model\\_coordinate_descent.py:476: ConvergenceWarning: Objective did not converge. You might want to increase the number of iterations. Duality gap: 0.0, tolerance: 0.0\n",
            "  positive)\n"
          ],
          "name": "stderr"
        },
        {
          "output_type": "execute_result",
          "data": {
            "text/plain": [
              "GridSearchCV(cv=5, error_score=nan,\n",
              "             estimator=BaggingRegressor(base_estimator=Lasso(alpha=1.0,\n",
              "                                                             copy_X=True,\n",
              "                                                             fit_intercept=True,\n",
              "                                                             max_iter=1000,\n",
              "                                                             normalize=False,\n",
              "                                                             positive=False,\n",
              "                                                             precompute=False,\n",
              "                                                             random_state=0,\n",
              "                                                             selection='cyclic',\n",
              "                                                             tol=0.0001,\n",
              "                                                             warm_start=False),\n",
              "                                        bootstrap=True,\n",
              "                                        bootstrap_features=False,\n",
              "                                        max_features=1.0, max_samples=1.0,\n",
              "                                        n_estimators=10, n_jobs=None,\n",
              "                                        oob_score=False, random_state=0,\n",
              "                                        verbose=0, warm_start=False),\n",
              "             iid='deprecated', n_jobs=None,\n",
              "             param_grid={'base_estimator__alpha': [1000],\n",
              "                         'max_samples': [0.8, 1],\n",
              "                         'n_estimators': [10, 25, 100]},\n",
              "             pre_dispatch='2*n_jobs', refit=True, return_train_score=True,\n",
              "             scoring=None, verbose=0)"
            ]
          },
          "metadata": {
            "tags": []
          },
          "execution_count": 66
        }
      ]
    },
    {
      "cell_type": "code",
      "metadata": {
        "ExecuteTime": {
          "end_time": "2020-04-22T21:54:55.153507Z",
          "start_time": "2020-04-22T21:54:55.131519Z"
        },
        "id": "4HEO3jgNl5Jp",
        "outputId": "a648ae07-a105-46de-8ea5-aec6911f6fa8"
      },
      "source": [
        "print(f'Best Mean Cross Validation Score is {bag_lasso_grid.best_score_}')\n",
        "print(f'Best Mean Cross Validation Score is {bag_lasso_grid.best_params_}')\n",
        "print(f'Train score is {bag_lasso_grid.score(X_train,y_train)}')\n",
        "print(f'Test score is {bag_lasso_grid.score(X_test,y_test)}')\n"
      ],
      "execution_count": null,
      "outputs": [
        {
          "output_type": "stream",
          "text": [
            "Best Mean Cross Validation Score is 0.887194612876189\n",
            "Best Mean Cross Validation Score is {'base_estimator__alpha': 1000, 'max_samples': 0.8, 'n_estimators': 10}\n",
            "Train score is 0.9039907545280965\n",
            "Test score is 0.8815220691055408\n"
          ],
          "name": "stdout"
        }
      ]
    },
    {
      "cell_type": "markdown",
      "metadata": {
        "id": "gdeOOOfdl5Jr"
      },
      "source": [
        "## Pasting"
      ]
    },
    {
      "cell_type": "code",
      "metadata": {
        "ExecuteTime": {
          "end_time": "2020-04-22T22:02:39.070339Z",
          "start_time": "2020-04-22T21:54:55.156505Z"
        },
        "id": "dHm9b9QCl5Jr",
        "outputId": "d415bdf7-e0d7-4624-fafa-c1a50f347d79"
      },
      "source": [
        "paste_dtree1 = BaggingRegressor(base_estimator=DecisionTreeRegressor(), bootstrap=False, random_state=0, oob_score=False)\n",
        "\n",
        "paste_dtree1_param = {\n",
        "                 'base_estimator__max_depth': range(1,10),\n",
        "                'base_estimator__min_samples_split': range(2,10,1),\n",
        "                 'max_samples':  [0.8,1],\n",
        "                 'n_estimators': [10,25,100]}\n",
        "\n",
        "paste_dtree1_grid = GridSearchCV(paste_dtree1, paste_dtree1_param,cv=5, return_train_score=True, )\n",
        "paste_dtree1_grid.fit(X_train,y_train)"
      ],
      "execution_count": null,
      "outputs": [
        {
          "output_type": "execute_result",
          "data": {
            "text/plain": [
              "GridSearchCV(cv=5, error_score=nan,\n",
              "             estimator=BaggingRegressor(base_estimator=DecisionTreeRegressor(ccp_alpha=0.0,\n",
              "                                                                             criterion='mse',\n",
              "                                                                             max_depth=None,\n",
              "                                                                             max_features=None,\n",
              "                                                                             max_leaf_nodes=None,\n",
              "                                                                             min_impurity_decrease=0.0,\n",
              "                                                                             min_impurity_split=None,\n",
              "                                                                             min_samples_leaf=1,\n",
              "                                                                             min_samples_split=2,\n",
              "                                                                             min_weight_fraction_leaf=0.0,\n",
              "                                                                             presort='deprecated',\n",
              "                                                                             random_state=None,\n",
              "                                                                             splitter='be...\n",
              "                                        max_features=1.0, max_samples=1.0,\n",
              "                                        n_estimators=10, n_jobs=None,\n",
              "                                        oob_score=False, random_state=0,\n",
              "                                        verbose=0, warm_start=False),\n",
              "             iid='deprecated', n_jobs=None,\n",
              "             param_grid={'base_estimator__max_depth': range(1, 10),\n",
              "                         'base_estimator__min_samples_split': range(2, 10),\n",
              "                         'max_samples': [0.8, 1],\n",
              "                         'n_estimators': [10, 25, 100]},\n",
              "             pre_dispatch='2*n_jobs', refit=True, return_train_score=True,\n",
              "             scoring=None, verbose=0)"
            ]
          },
          "metadata": {
            "tags": []
          },
          "execution_count": 68
        }
      ]
    },
    {
      "cell_type": "code",
      "metadata": {
        "ExecuteTime": {
          "end_time": "2020-04-22T22:02:39.190269Z",
          "start_time": "2020-04-22T22:02:39.073336Z"
        },
        "id": "3sigNLtxl5Jr",
        "outputId": "cb800ea5-17a5-4edd-a901-e3fd15ff8f95"
      },
      "source": [
        "print(f'Best Mean Cross Validation Score is {paste_dtree1_grid.best_score_}')\n",
        "print(f'Best parameters are {paste_dtree1_grid.best_params_}')\n",
        "print(f'Train score is {paste_dtree1_grid.score(X_train,y_train)}')\n",
        "print(f'Test score is {paste_dtree1_grid.score(X_test,y_test)}')\n"
      ],
      "execution_count": null,
      "outputs": [
        {
          "output_type": "stream",
          "text": [
            "Best Mean Cross Validation Score is 0.8567858212295105\n",
            "Best parameters are {'base_estimator__max_depth': 9, 'base_estimator__min_samples_split': 5, 'max_samples': 0.8, 'n_estimators': 100}\n",
            "Train score is 0.9726839066672325\n",
            "Test score is 0.8549738009586612\n"
          ],
          "name": "stdout"
        }
      ]
    },
    {
      "cell_type": "code",
      "metadata": {
        "ExecuteTime": {
          "end_time": "2020-04-22T22:02:46.941834Z",
          "start_time": "2020-04-22T22:02:39.196266Z"
        },
        "id": "ZyHrcnMhl5Js",
        "outputId": "a9796952-60f2-46b6-a28a-8420f8a1bf32"
      },
      "source": [
        "paste_lasso = BaggingRegressor(base_estimator=Lasso(random_state=0), bootstrap=False, random_state=0, oob_score=False)\n",
        "\n",
        "paste_lasso_param = {\n",
        "                 'base_estimator__alpha': [1000],\n",
        "                 'max_samples':  [0.8,1],\n",
        "                 'n_estimators': [10,25,100]}\n",
        "\n",
        "paste_lasso_grid = GridSearchCV(paste_lasso, paste_lasso_param,cv=5, return_train_score=True, )\n",
        "paste_lasso_grid.fit(X_train,y_train)"
      ],
      "execution_count": null,
      "outputs": [
        {
          "output_type": "stream",
          "text": [
            "C:\\Users\\User\\Anaconda3\\envs\\buan6341_2020\\lib\\site-packages\\sklearn\\linear_model\\_coordinate_descent.py:476: ConvergenceWarning: Objective did not converge. You might want to increase the number of iterations. Duality gap: 0.0, tolerance: 0.0\n",
            "  positive)\n",
            "C:\\Users\\User\\Anaconda3\\envs\\buan6341_2020\\lib\\site-packages\\sklearn\\linear_model\\_coordinate_descent.py:476: ConvergenceWarning: Objective did not converge. You might want to increase the number of iterations. Duality gap: 0.0, tolerance: 0.0\n",
            "  positive)\n",
            "C:\\Users\\User\\Anaconda3\\envs\\buan6341_2020\\lib\\site-packages\\sklearn\\linear_model\\_coordinate_descent.py:476: ConvergenceWarning: Objective did not converge. You might want to increase the number of iterations. Duality gap: 0.0, tolerance: 0.0\n",
            "  positive)\n",
            "C:\\Users\\User\\Anaconda3\\envs\\buan6341_2020\\lib\\site-packages\\sklearn\\linear_model\\_coordinate_descent.py:476: ConvergenceWarning: Objective did not converge. You might want to increase the number of iterations. Duality gap: 0.0, tolerance: 0.0\n",
            "  positive)\n",
            "C:\\Users\\User\\Anaconda3\\envs\\buan6341_2020\\lib\\site-packages\\sklearn\\linear_model\\_coordinate_descent.py:476: ConvergenceWarning: Objective did not converge. You might want to increase the number of iterations. Duality gap: 0.0, tolerance: 0.0\n",
            "  positive)\n",
            "C:\\Users\\User\\Anaconda3\\envs\\buan6341_2020\\lib\\site-packages\\sklearn\\linear_model\\_coordinate_descent.py:476: ConvergenceWarning: Objective did not converge. You might want to increase the number of iterations. Duality gap: 0.0, tolerance: 0.0\n",
            "  positive)\n",
            "C:\\Users\\User\\Anaconda3\\envs\\buan6341_2020\\lib\\site-packages\\sklearn\\linear_model\\_coordinate_descent.py:476: ConvergenceWarning: Objective did not converge. You might want to increase the number of iterations. Duality gap: 0.0, tolerance: 0.0\n",
            "  positive)\n",
            "C:\\Users\\User\\Anaconda3\\envs\\buan6341_2020\\lib\\site-packages\\sklearn\\linear_model\\_coordinate_descent.py:476: ConvergenceWarning: Objective did not converge. You might want to increase the number of iterations. Duality gap: 0.0, tolerance: 0.0\n",
            "  positive)\n",
            "C:\\Users\\User\\Anaconda3\\envs\\buan6341_2020\\lib\\site-packages\\sklearn\\linear_model\\_coordinate_descent.py:476: ConvergenceWarning: Objective did not converge. You might want to increase the number of iterations. Duality gap: 0.0, tolerance: 0.0\n",
            "  positive)\n",
            "C:\\Users\\User\\Anaconda3\\envs\\buan6341_2020\\lib\\site-packages\\sklearn\\linear_model\\_coordinate_descent.py:476: ConvergenceWarning: Objective did not converge. You might want to increase the number of iterations. Duality gap: 0.0, tolerance: 0.0\n",
            "  positive)\n",
            "C:\\Users\\User\\Anaconda3\\envs\\buan6341_2020\\lib\\site-packages\\sklearn\\linear_model\\_coordinate_descent.py:476: ConvergenceWarning: Objective did not converge. You might want to increase the number of iterations. Duality gap: 0.0, tolerance: 0.0\n",
            "  positive)\n",
            "C:\\Users\\User\\Anaconda3\\envs\\buan6341_2020\\lib\\site-packages\\sklearn\\linear_model\\_coordinate_descent.py:476: ConvergenceWarning: Objective did not converge. You might want to increase the number of iterations. Duality gap: 0.0, tolerance: 0.0\n",
            "  positive)\n",
            "C:\\Users\\User\\Anaconda3\\envs\\buan6341_2020\\lib\\site-packages\\sklearn\\linear_model\\_coordinate_descent.py:476: ConvergenceWarning: Objective did not converge. You might want to increase the number of iterations. Duality gap: 0.0, tolerance: 0.0\n",
            "  positive)\n",
            "C:\\Users\\User\\Anaconda3\\envs\\buan6341_2020\\lib\\site-packages\\sklearn\\linear_model\\_coordinate_descent.py:476: ConvergenceWarning: Objective did not converge. You might want to increase the number of iterations. Duality gap: 0.0, tolerance: 0.0\n",
            "  positive)\n",
            "C:\\Users\\User\\Anaconda3\\envs\\buan6341_2020\\lib\\site-packages\\sklearn\\linear_model\\_coordinate_descent.py:476: ConvergenceWarning: Objective did not converge. You might want to increase the number of iterations. Duality gap: 0.0, tolerance: 0.0\n",
            "  positive)\n",
            "C:\\Users\\User\\Anaconda3\\envs\\buan6341_2020\\lib\\site-packages\\sklearn\\linear_model\\_coordinate_descent.py:476: ConvergenceWarning: Objective did not converge. You might want to increase the number of iterations. Duality gap: 0.0, tolerance: 0.0\n",
            "  positive)\n",
            "C:\\Users\\User\\Anaconda3\\envs\\buan6341_2020\\lib\\site-packages\\sklearn\\linear_model\\_coordinate_descent.py:476: ConvergenceWarning: Objective did not converge. You might want to increase the number of iterations. Duality gap: 0.0, tolerance: 0.0\n",
            "  positive)\n",
            "C:\\Users\\User\\Anaconda3\\envs\\buan6341_2020\\lib\\site-packages\\sklearn\\linear_model\\_coordinate_descent.py:476: ConvergenceWarning: Objective did not converge. You might want to increase the number of iterations. Duality gap: 0.0, tolerance: 0.0\n",
            "  positive)\n",
            "C:\\Users\\User\\Anaconda3\\envs\\buan6341_2020\\lib\\site-packages\\sklearn\\linear_model\\_coordinate_descent.py:476: ConvergenceWarning: Objective did not converge. You might want to increase the number of iterations. Duality gap: 0.0, tolerance: 0.0\n",
            "  positive)\n",
            "C:\\Users\\User\\Anaconda3\\envs\\buan6341_2020\\lib\\site-packages\\sklearn\\linear_model\\_coordinate_descent.py:476: ConvergenceWarning: Objective did not converge. You might want to increase the number of iterations. Duality gap: 0.0, tolerance: 0.0\n",
            "  positive)\n",
            "C:\\Users\\User\\Anaconda3\\envs\\buan6341_2020\\lib\\site-packages\\sklearn\\linear_model\\_coordinate_descent.py:476: ConvergenceWarning: Objective did not converge. You might want to increase the number of iterations. Duality gap: 0.0, tolerance: 0.0\n",
            "  positive)\n",
            "C:\\Users\\User\\Anaconda3\\envs\\buan6341_2020\\lib\\site-packages\\sklearn\\linear_model\\_coordinate_descent.py:476: ConvergenceWarning: Objective did not converge. You might want to increase the number of iterations. Duality gap: 0.0, tolerance: 0.0\n",
            "  positive)\n",
            "C:\\Users\\User\\Anaconda3\\envs\\buan6341_2020\\lib\\site-packages\\sklearn\\linear_model\\_coordinate_descent.py:476: ConvergenceWarning: Objective did not converge. You might want to increase the number of iterations. Duality gap: 0.0, tolerance: 0.0\n",
            "  positive)\n",
            "C:\\Users\\User\\Anaconda3\\envs\\buan6341_2020\\lib\\site-packages\\sklearn\\linear_model\\_coordinate_descent.py:476: ConvergenceWarning: Objective did not converge. You might want to increase the number of iterations. Duality gap: 0.0, tolerance: 0.0\n",
            "  positive)\n",
            "C:\\Users\\User\\Anaconda3\\envs\\buan6341_2020\\lib\\site-packages\\sklearn\\linear_model\\_coordinate_descent.py:476: ConvergenceWarning: Objective did not converge. You might want to increase the number of iterations. Duality gap: 0.0, tolerance: 0.0\n",
            "  positive)\n",
            "C:\\Users\\User\\Anaconda3\\envs\\buan6341_2020\\lib\\site-packages\\sklearn\\linear_model\\_coordinate_descent.py:476: ConvergenceWarning: Objective did not converge. You might want to increase the number of iterations. Duality gap: 0.0, tolerance: 0.0\n",
            "  positive)\n",
            "C:\\Users\\User\\Anaconda3\\envs\\buan6341_2020\\lib\\site-packages\\sklearn\\linear_model\\_coordinate_descent.py:476: ConvergenceWarning: Objective did not converge. You might want to increase the number of iterations. Duality gap: 0.0, tolerance: 0.0\n",
            "  positive)\n",
            "C:\\Users\\User\\Anaconda3\\envs\\buan6341_2020\\lib\\site-packages\\sklearn\\linear_model\\_coordinate_descent.py:476: ConvergenceWarning: Objective did not converge. You might want to increase the number of iterations. Duality gap: 0.0, tolerance: 0.0\n",
            "  positive)\n",
            "C:\\Users\\User\\Anaconda3\\envs\\buan6341_2020\\lib\\site-packages\\sklearn\\linear_model\\_coordinate_descent.py:476: ConvergenceWarning: Objective did not converge. You might want to increase the number of iterations. Duality gap: 0.0, tolerance: 0.0\n",
            "  positive)\n",
            "C:\\Users\\User\\Anaconda3\\envs\\buan6341_2020\\lib\\site-packages\\sklearn\\linear_model\\_coordinate_descent.py:476: ConvergenceWarning: Objective did not converge. You might want to increase the number of iterations. Duality gap: 0.0, tolerance: 0.0\n",
            "  positive)\n",
            "C:\\Users\\User\\Anaconda3\\envs\\buan6341_2020\\lib\\site-packages\\sklearn\\linear_model\\_coordinate_descent.py:476: ConvergenceWarning: Objective did not converge. You might want to increase the number of iterations. Duality gap: 0.0, tolerance: 0.0\n",
            "  positive)\n",
            "C:\\Users\\User\\Anaconda3\\envs\\buan6341_2020\\lib\\site-packages\\sklearn\\linear_model\\_coordinate_descent.py:476: ConvergenceWarning: Objective did not converge. You might want to increase the number of iterations. Duality gap: 0.0, tolerance: 0.0\n",
            "  positive)\n",
            "C:\\Users\\User\\Anaconda3\\envs\\buan6341_2020\\lib\\site-packages\\sklearn\\linear_model\\_coordinate_descent.py:476: ConvergenceWarning: Objective did not converge. You might want to increase the number of iterations. Duality gap: 0.0, tolerance: 0.0\n",
            "  positive)\n",
            "C:\\Users\\User\\Anaconda3\\envs\\buan6341_2020\\lib\\site-packages\\sklearn\\linear_model\\_coordinate_descent.py:476: ConvergenceWarning: Objective did not converge. You might want to increase the number of iterations. Duality gap: 0.0, tolerance: 0.0\n",
            "  positive)\n",
            "C:\\Users\\User\\Anaconda3\\envs\\buan6341_2020\\lib\\site-packages\\sklearn\\linear_model\\_coordinate_descent.py:476: ConvergenceWarning: Objective did not converge. You might want to increase the number of iterations. Duality gap: 0.0, tolerance: 0.0\n",
            "  positive)\n",
            "C:\\Users\\User\\Anaconda3\\envs\\buan6341_2020\\lib\\site-packages\\sklearn\\linear_model\\_coordinate_descent.py:476: ConvergenceWarning: Objective did not converge. You might want to increase the number of iterations. Duality gap: 0.0, tolerance: 0.0\n",
            "  positive)\n",
            "C:\\Users\\User\\Anaconda3\\envs\\buan6341_2020\\lib\\site-packages\\sklearn\\linear_model\\_coordinate_descent.py:476: ConvergenceWarning: Objective did not converge. You might want to increase the number of iterations. Duality gap: 0.0, tolerance: 0.0\n",
            "  positive)\n",
            "C:\\Users\\User\\Anaconda3\\envs\\buan6341_2020\\lib\\site-packages\\sklearn\\linear_model\\_coordinate_descent.py:476: ConvergenceWarning: Objective did not converge. You might want to increase the number of iterations. Duality gap: 0.0, tolerance: 0.0\n",
            "  positive)\n",
            "C:\\Users\\User\\Anaconda3\\envs\\buan6341_2020\\lib\\site-packages\\sklearn\\linear_model\\_coordinate_descent.py:476: ConvergenceWarning: Objective did not converge. You might want to increase the number of iterations. Duality gap: 0.0, tolerance: 0.0\n",
            "  positive)\n",
            "C:\\Users\\User\\Anaconda3\\envs\\buan6341_2020\\lib\\site-packages\\sklearn\\linear_model\\_coordinate_descent.py:476: ConvergenceWarning: Objective did not converge. You might want to increase the number of iterations. Duality gap: 0.0, tolerance: 0.0\n",
            "  positive)\n",
            "C:\\Users\\User\\Anaconda3\\envs\\buan6341_2020\\lib\\site-packages\\sklearn\\linear_model\\_coordinate_descent.py:476: ConvergenceWarning: Objective did not converge. You might want to increase the number of iterations. Duality gap: 0.0, tolerance: 0.0\n",
            "  positive)\n",
            "C:\\Users\\User\\Anaconda3\\envs\\buan6341_2020\\lib\\site-packages\\sklearn\\linear_model\\_coordinate_descent.py:476: ConvergenceWarning: Objective did not converge. You might want to increase the number of iterations. Duality gap: 0.0, tolerance: 0.0\n",
            "  positive)\n",
            "C:\\Users\\User\\Anaconda3\\envs\\buan6341_2020\\lib\\site-packages\\sklearn\\linear_model\\_coordinate_descent.py:476: ConvergenceWarning: Objective did not converge. You might want to increase the number of iterations. Duality gap: 0.0, tolerance: 0.0\n",
            "  positive)\n",
            "C:\\Users\\User\\Anaconda3\\envs\\buan6341_2020\\lib\\site-packages\\sklearn\\linear_model\\_coordinate_descent.py:476: ConvergenceWarning: Objective did not converge. You might want to increase the number of iterations. Duality gap: 0.0, tolerance: 0.0\n",
            "  positive)\n",
            "C:\\Users\\User\\Anaconda3\\envs\\buan6341_2020\\lib\\site-packages\\sklearn\\linear_model\\_coordinate_descent.py:476: ConvergenceWarning: Objective did not converge. You might want to increase the number of iterations. Duality gap: 0.0, tolerance: 0.0\n",
            "  positive)\n",
            "C:\\Users\\User\\Anaconda3\\envs\\buan6341_2020\\lib\\site-packages\\sklearn\\linear_model\\_coordinate_descent.py:476: ConvergenceWarning: Objective did not converge. You might want to increase the number of iterations. Duality gap: 0.0, tolerance: 0.0\n",
            "  positive)\n",
            "C:\\Users\\User\\Anaconda3\\envs\\buan6341_2020\\lib\\site-packages\\sklearn\\linear_model\\_coordinate_descent.py:476: ConvergenceWarning: Objective did not converge. You might want to increase the number of iterations. Duality gap: 0.0, tolerance: 0.0\n",
            "  positive)\n",
            "C:\\Users\\User\\Anaconda3\\envs\\buan6341_2020\\lib\\site-packages\\sklearn\\linear_model\\_coordinate_descent.py:476: ConvergenceWarning: Objective did not converge. You might want to increase the number of iterations. Duality gap: 0.0, tolerance: 0.0\n",
            "  positive)\n"
          ],
          "name": "stderr"
        },
        {
          "output_type": "stream",
          "text": [
            "C:\\Users\\User\\Anaconda3\\envs\\buan6341_2020\\lib\\site-packages\\sklearn\\linear_model\\_coordinate_descent.py:476: ConvergenceWarning: Objective did not converge. You might want to increase the number of iterations. Duality gap: 0.0, tolerance: 0.0\n",
            "  positive)\n",
            "C:\\Users\\User\\Anaconda3\\envs\\buan6341_2020\\lib\\site-packages\\sklearn\\linear_model\\_coordinate_descent.py:476: ConvergenceWarning: Objective did not converge. You might want to increase the number of iterations. Duality gap: 0.0, tolerance: 0.0\n",
            "  positive)\n",
            "C:\\Users\\User\\Anaconda3\\envs\\buan6341_2020\\lib\\site-packages\\sklearn\\linear_model\\_coordinate_descent.py:476: ConvergenceWarning: Objective did not converge. You might want to increase the number of iterations. Duality gap: 0.0, tolerance: 0.0\n",
            "  positive)\n",
            "C:\\Users\\User\\Anaconda3\\envs\\buan6341_2020\\lib\\site-packages\\sklearn\\linear_model\\_coordinate_descent.py:476: ConvergenceWarning: Objective did not converge. You might want to increase the number of iterations. Duality gap: 0.0, tolerance: 0.0\n",
            "  positive)\n",
            "C:\\Users\\User\\Anaconda3\\envs\\buan6341_2020\\lib\\site-packages\\sklearn\\linear_model\\_coordinate_descent.py:476: ConvergenceWarning: Objective did not converge. You might want to increase the number of iterations. Duality gap: 0.0, tolerance: 0.0\n",
            "  positive)\n",
            "C:\\Users\\User\\Anaconda3\\envs\\buan6341_2020\\lib\\site-packages\\sklearn\\linear_model\\_coordinate_descent.py:476: ConvergenceWarning: Objective did not converge. You might want to increase the number of iterations. Duality gap: 0.0, tolerance: 0.0\n",
            "  positive)\n",
            "C:\\Users\\User\\Anaconda3\\envs\\buan6341_2020\\lib\\site-packages\\sklearn\\linear_model\\_coordinate_descent.py:476: ConvergenceWarning: Objective did not converge. You might want to increase the number of iterations. Duality gap: 0.0, tolerance: 0.0\n",
            "  positive)\n",
            "C:\\Users\\User\\Anaconda3\\envs\\buan6341_2020\\lib\\site-packages\\sklearn\\linear_model\\_coordinate_descent.py:476: ConvergenceWarning: Objective did not converge. You might want to increase the number of iterations. Duality gap: 0.0, tolerance: 0.0\n",
            "  positive)\n",
            "C:\\Users\\User\\Anaconda3\\envs\\buan6341_2020\\lib\\site-packages\\sklearn\\linear_model\\_coordinate_descent.py:476: ConvergenceWarning: Objective did not converge. You might want to increase the number of iterations. Duality gap: 0.0, tolerance: 0.0\n",
            "  positive)\n",
            "C:\\Users\\User\\Anaconda3\\envs\\buan6341_2020\\lib\\site-packages\\sklearn\\linear_model\\_coordinate_descent.py:476: ConvergenceWarning: Objective did not converge. You might want to increase the number of iterations. Duality gap: 0.0, tolerance: 0.0\n",
            "  positive)\n",
            "C:\\Users\\User\\Anaconda3\\envs\\buan6341_2020\\lib\\site-packages\\sklearn\\linear_model\\_coordinate_descent.py:476: ConvergenceWarning: Objective did not converge. You might want to increase the number of iterations. Duality gap: 0.0, tolerance: 0.0\n",
            "  positive)\n",
            "C:\\Users\\User\\Anaconda3\\envs\\buan6341_2020\\lib\\site-packages\\sklearn\\linear_model\\_coordinate_descent.py:476: ConvergenceWarning: Objective did not converge. You might want to increase the number of iterations. Duality gap: 0.0, tolerance: 0.0\n",
            "  positive)\n",
            "C:\\Users\\User\\Anaconda3\\envs\\buan6341_2020\\lib\\site-packages\\sklearn\\linear_model\\_coordinate_descent.py:476: ConvergenceWarning: Objective did not converge. You might want to increase the number of iterations. Duality gap: 0.0, tolerance: 0.0\n",
            "  positive)\n",
            "C:\\Users\\User\\Anaconda3\\envs\\buan6341_2020\\lib\\site-packages\\sklearn\\linear_model\\_coordinate_descent.py:476: ConvergenceWarning: Objective did not converge. You might want to increase the number of iterations. Duality gap: 0.0, tolerance: 0.0\n",
            "  positive)\n",
            "C:\\Users\\User\\Anaconda3\\envs\\buan6341_2020\\lib\\site-packages\\sklearn\\linear_model\\_coordinate_descent.py:476: ConvergenceWarning: Objective did not converge. You might want to increase the number of iterations. Duality gap: 0.0, tolerance: 0.0\n",
            "  positive)\n",
            "C:\\Users\\User\\Anaconda3\\envs\\buan6341_2020\\lib\\site-packages\\sklearn\\linear_model\\_coordinate_descent.py:476: ConvergenceWarning: Objective did not converge. You might want to increase the number of iterations. Duality gap: 0.0, tolerance: 0.0\n",
            "  positive)\n",
            "C:\\Users\\User\\Anaconda3\\envs\\buan6341_2020\\lib\\site-packages\\sklearn\\linear_model\\_coordinate_descent.py:476: ConvergenceWarning: Objective did not converge. You might want to increase the number of iterations. Duality gap: 0.0, tolerance: 0.0\n",
            "  positive)\n",
            "C:\\Users\\User\\Anaconda3\\envs\\buan6341_2020\\lib\\site-packages\\sklearn\\linear_model\\_coordinate_descent.py:476: ConvergenceWarning: Objective did not converge. You might want to increase the number of iterations. Duality gap: 0.0, tolerance: 0.0\n",
            "  positive)\n",
            "C:\\Users\\User\\Anaconda3\\envs\\buan6341_2020\\lib\\site-packages\\sklearn\\linear_model\\_coordinate_descent.py:476: ConvergenceWarning: Objective did not converge. You might want to increase the number of iterations. Duality gap: 0.0, tolerance: 0.0\n",
            "  positive)\n",
            "C:\\Users\\User\\Anaconda3\\envs\\buan6341_2020\\lib\\site-packages\\sklearn\\linear_model\\_coordinate_descent.py:476: ConvergenceWarning: Objective did not converge. You might want to increase the number of iterations. Duality gap: 0.0, tolerance: 0.0\n",
            "  positive)\n",
            "C:\\Users\\User\\Anaconda3\\envs\\buan6341_2020\\lib\\site-packages\\sklearn\\linear_model\\_coordinate_descent.py:476: ConvergenceWarning: Objective did not converge. You might want to increase the number of iterations. Duality gap: 0.0, tolerance: 0.0\n",
            "  positive)\n",
            "C:\\Users\\User\\Anaconda3\\envs\\buan6341_2020\\lib\\site-packages\\sklearn\\linear_model\\_coordinate_descent.py:476: ConvergenceWarning: Objective did not converge. You might want to increase the number of iterations. Duality gap: 0.0, tolerance: 0.0\n",
            "  positive)\n",
            "C:\\Users\\User\\Anaconda3\\envs\\buan6341_2020\\lib\\site-packages\\sklearn\\linear_model\\_coordinate_descent.py:476: ConvergenceWarning: Objective did not converge. You might want to increase the number of iterations. Duality gap: 0.0, tolerance: 0.0\n",
            "  positive)\n",
            "C:\\Users\\User\\Anaconda3\\envs\\buan6341_2020\\lib\\site-packages\\sklearn\\linear_model\\_coordinate_descent.py:476: ConvergenceWarning: Objective did not converge. You might want to increase the number of iterations. Duality gap: 0.0, tolerance: 0.0\n",
            "  positive)\n",
            "C:\\Users\\User\\Anaconda3\\envs\\buan6341_2020\\lib\\site-packages\\sklearn\\linear_model\\_coordinate_descent.py:476: ConvergenceWarning: Objective did not converge. You might want to increase the number of iterations. Duality gap: 0.0, tolerance: 0.0\n",
            "  positive)\n",
            "C:\\Users\\User\\Anaconda3\\envs\\buan6341_2020\\lib\\site-packages\\sklearn\\linear_model\\_coordinate_descent.py:476: ConvergenceWarning: Objective did not converge. You might want to increase the number of iterations. Duality gap: 0.0, tolerance: 0.0\n",
            "  positive)\n",
            "C:\\Users\\User\\Anaconda3\\envs\\buan6341_2020\\lib\\site-packages\\sklearn\\linear_model\\_coordinate_descent.py:476: ConvergenceWarning: Objective did not converge. You might want to increase the number of iterations. Duality gap: 0.0, tolerance: 0.0\n",
            "  positive)\n",
            "C:\\Users\\User\\Anaconda3\\envs\\buan6341_2020\\lib\\site-packages\\sklearn\\linear_model\\_coordinate_descent.py:476: ConvergenceWarning: Objective did not converge. You might want to increase the number of iterations. Duality gap: 0.0, tolerance: 0.0\n",
            "  positive)\n",
            "C:\\Users\\User\\Anaconda3\\envs\\buan6341_2020\\lib\\site-packages\\sklearn\\linear_model\\_coordinate_descent.py:476: ConvergenceWarning: Objective did not converge. You might want to increase the number of iterations. Duality gap: 0.0, tolerance: 0.0\n",
            "  positive)\n",
            "C:\\Users\\User\\Anaconda3\\envs\\buan6341_2020\\lib\\site-packages\\sklearn\\linear_model\\_coordinate_descent.py:476: ConvergenceWarning: Objective did not converge. You might want to increase the number of iterations. Duality gap: 0.0, tolerance: 0.0\n",
            "  positive)\n",
            "C:\\Users\\User\\Anaconda3\\envs\\buan6341_2020\\lib\\site-packages\\sklearn\\linear_model\\_coordinate_descent.py:476: ConvergenceWarning: Objective did not converge. You might want to increase the number of iterations. Duality gap: 0.0, tolerance: 0.0\n",
            "  positive)\n",
            "C:\\Users\\User\\Anaconda3\\envs\\buan6341_2020\\lib\\site-packages\\sklearn\\linear_model\\_coordinate_descent.py:476: ConvergenceWarning: Objective did not converge. You might want to increase the number of iterations. Duality gap: 0.0, tolerance: 0.0\n",
            "  positive)\n",
            "C:\\Users\\User\\Anaconda3\\envs\\buan6341_2020\\lib\\site-packages\\sklearn\\linear_model\\_coordinate_descent.py:476: ConvergenceWarning: Objective did not converge. You might want to increase the number of iterations. Duality gap: 0.0, tolerance: 0.0\n",
            "  positive)\n",
            "C:\\Users\\User\\Anaconda3\\envs\\buan6341_2020\\lib\\site-packages\\sklearn\\linear_model\\_coordinate_descent.py:476: ConvergenceWarning: Objective did not converge. You might want to increase the number of iterations. Duality gap: 0.0, tolerance: 0.0\n",
            "  positive)\n",
            "C:\\Users\\User\\Anaconda3\\envs\\buan6341_2020\\lib\\site-packages\\sklearn\\linear_model\\_coordinate_descent.py:476: ConvergenceWarning: Objective did not converge. You might want to increase the number of iterations. Duality gap: 0.0, tolerance: 0.0\n",
            "  positive)\n",
            "C:\\Users\\User\\Anaconda3\\envs\\buan6341_2020\\lib\\site-packages\\sklearn\\linear_model\\_coordinate_descent.py:476: ConvergenceWarning: Objective did not converge. You might want to increase the number of iterations. Duality gap: 0.0, tolerance: 0.0\n",
            "  positive)\n",
            "C:\\Users\\User\\Anaconda3\\envs\\buan6341_2020\\lib\\site-packages\\sklearn\\linear_model\\_coordinate_descent.py:476: ConvergenceWarning: Objective did not converge. You might want to increase the number of iterations. Duality gap: 0.0, tolerance: 0.0\n",
            "  positive)\n",
            "C:\\Users\\User\\Anaconda3\\envs\\buan6341_2020\\lib\\site-packages\\sklearn\\linear_model\\_coordinate_descent.py:476: ConvergenceWarning: Objective did not converge. You might want to increase the number of iterations. Duality gap: 0.0, tolerance: 0.0\n",
            "  positive)\n",
            "C:\\Users\\User\\Anaconda3\\envs\\buan6341_2020\\lib\\site-packages\\sklearn\\linear_model\\_coordinate_descent.py:476: ConvergenceWarning: Objective did not converge. You might want to increase the number of iterations. Duality gap: 0.0, tolerance: 0.0\n",
            "  positive)\n",
            "C:\\Users\\User\\Anaconda3\\envs\\buan6341_2020\\lib\\site-packages\\sklearn\\linear_model\\_coordinate_descent.py:476: ConvergenceWarning: Objective did not converge. You might want to increase the number of iterations. Duality gap: 0.0, tolerance: 0.0\n",
            "  positive)\n",
            "C:\\Users\\User\\Anaconda3\\envs\\buan6341_2020\\lib\\site-packages\\sklearn\\linear_model\\_coordinate_descent.py:476: ConvergenceWarning: Objective did not converge. You might want to increase the number of iterations. Duality gap: 0.0, tolerance: 0.0\n",
            "  positive)\n",
            "C:\\Users\\User\\Anaconda3\\envs\\buan6341_2020\\lib\\site-packages\\sklearn\\linear_model\\_coordinate_descent.py:476: ConvergenceWarning: Objective did not converge. You might want to increase the number of iterations. Duality gap: 0.0, tolerance: 0.0\n",
            "  positive)\n",
            "C:\\Users\\User\\Anaconda3\\envs\\buan6341_2020\\lib\\site-packages\\sklearn\\linear_model\\_coordinate_descent.py:476: ConvergenceWarning: Objective did not converge. You might want to increase the number of iterations. Duality gap: 0.0, tolerance: 0.0\n",
            "  positive)\n",
            "C:\\Users\\User\\Anaconda3\\envs\\buan6341_2020\\lib\\site-packages\\sklearn\\linear_model\\_coordinate_descent.py:476: ConvergenceWarning: Objective did not converge. You might want to increase the number of iterations. Duality gap: 0.0, tolerance: 0.0\n",
            "  positive)\n",
            "C:\\Users\\User\\Anaconda3\\envs\\buan6341_2020\\lib\\site-packages\\sklearn\\linear_model\\_coordinate_descent.py:476: ConvergenceWarning: Objective did not converge. You might want to increase the number of iterations. Duality gap: 0.0, tolerance: 0.0\n",
            "  positive)\n",
            "C:\\Users\\User\\Anaconda3\\envs\\buan6341_2020\\lib\\site-packages\\sklearn\\linear_model\\_coordinate_descent.py:476: ConvergenceWarning: Objective did not converge. You might want to increase the number of iterations. Duality gap: 0.0, tolerance: 0.0\n",
            "  positive)\n",
            "C:\\Users\\User\\Anaconda3\\envs\\buan6341_2020\\lib\\site-packages\\sklearn\\linear_model\\_coordinate_descent.py:476: ConvergenceWarning: Objective did not converge. You might want to increase the number of iterations. Duality gap: 0.0, tolerance: 0.0\n",
            "  positive)\n",
            "C:\\Users\\User\\Anaconda3\\envs\\buan6341_2020\\lib\\site-packages\\sklearn\\linear_model\\_coordinate_descent.py:476: ConvergenceWarning: Objective did not converge. You might want to increase the number of iterations. Duality gap: 0.0, tolerance: 0.0\n",
            "  positive)\n",
            "C:\\Users\\User\\Anaconda3\\envs\\buan6341_2020\\lib\\site-packages\\sklearn\\linear_model\\_coordinate_descent.py:476: ConvergenceWarning: Objective did not converge. You might want to increase the number of iterations. Duality gap: 0.0, tolerance: 0.0\n",
            "  positive)\n",
            "C:\\Users\\User\\Anaconda3\\envs\\buan6341_2020\\lib\\site-packages\\sklearn\\linear_model\\_coordinate_descent.py:476: ConvergenceWarning: Objective did not converge. You might want to increase the number of iterations. Duality gap: 0.0, tolerance: 0.0\n",
            "  positive)\n",
            "C:\\Users\\User\\Anaconda3\\envs\\buan6341_2020\\lib\\site-packages\\sklearn\\linear_model\\_coordinate_descent.py:476: ConvergenceWarning: Objective did not converge. You might want to increase the number of iterations. Duality gap: 0.0, tolerance: 0.0\n",
            "  positive)\n",
            "C:\\Users\\User\\Anaconda3\\envs\\buan6341_2020\\lib\\site-packages\\sklearn\\linear_model\\_coordinate_descent.py:476: ConvergenceWarning: Objective did not converge. You might want to increase the number of iterations. Duality gap: 0.0, tolerance: 0.0\n",
            "  positive)\n",
            "C:\\Users\\User\\Anaconda3\\envs\\buan6341_2020\\lib\\site-packages\\sklearn\\linear_model\\_coordinate_descent.py:476: ConvergenceWarning: Objective did not converge. You might want to increase the number of iterations. Duality gap: 0.0, tolerance: 0.0\n",
            "  positive)\n",
            "C:\\Users\\User\\Anaconda3\\envs\\buan6341_2020\\lib\\site-packages\\sklearn\\linear_model\\_coordinate_descent.py:476: ConvergenceWarning: Objective did not converge. You might want to increase the number of iterations. Duality gap: 0.0, tolerance: 0.0\n",
            "  positive)\n",
            "C:\\Users\\User\\Anaconda3\\envs\\buan6341_2020\\lib\\site-packages\\sklearn\\linear_model\\_coordinate_descent.py:476: ConvergenceWarning: Objective did not converge. You might want to increase the number of iterations. Duality gap: 0.0, tolerance: 0.0\n",
            "  positive)\n",
            "C:\\Users\\User\\Anaconda3\\envs\\buan6341_2020\\lib\\site-packages\\sklearn\\linear_model\\_coordinate_descent.py:476: ConvergenceWarning: Objective did not converge. You might want to increase the number of iterations. Duality gap: 0.0, tolerance: 0.0\n",
            "  positive)\n",
            "C:\\Users\\User\\Anaconda3\\envs\\buan6341_2020\\lib\\site-packages\\sklearn\\linear_model\\_coordinate_descent.py:476: ConvergenceWarning: Objective did not converge. You might want to increase the number of iterations. Duality gap: 0.0, tolerance: 0.0\n",
            "  positive)\n",
            "C:\\Users\\User\\Anaconda3\\envs\\buan6341_2020\\lib\\site-packages\\sklearn\\linear_model\\_coordinate_descent.py:476: ConvergenceWarning: Objective did not converge. You might want to increase the number of iterations. Duality gap: 0.0, tolerance: 0.0\n",
            "  positive)\n",
            "C:\\Users\\User\\Anaconda3\\envs\\buan6341_2020\\lib\\site-packages\\sklearn\\linear_model\\_coordinate_descent.py:476: ConvergenceWarning: Objective did not converge. You might want to increase the number of iterations. Duality gap: 0.0, tolerance: 0.0\n",
            "  positive)\n",
            "C:\\Users\\User\\Anaconda3\\envs\\buan6341_2020\\lib\\site-packages\\sklearn\\linear_model\\_coordinate_descent.py:476: ConvergenceWarning: Objective did not converge. You might want to increase the number of iterations. Duality gap: 0.0, tolerance: 0.0\n",
            "  positive)\n",
            "C:\\Users\\User\\Anaconda3\\envs\\buan6341_2020\\lib\\site-packages\\sklearn\\linear_model\\_coordinate_descent.py:476: ConvergenceWarning: Objective did not converge. You might want to increase the number of iterations. Duality gap: 0.0, tolerance: 0.0\n",
            "  positive)\n",
            "C:\\Users\\User\\Anaconda3\\envs\\buan6341_2020\\lib\\site-packages\\sklearn\\linear_model\\_coordinate_descent.py:476: ConvergenceWarning: Objective did not converge. You might want to increase the number of iterations. Duality gap: 0.0, tolerance: 0.0\n",
            "  positive)\n",
            "C:\\Users\\User\\Anaconda3\\envs\\buan6341_2020\\lib\\site-packages\\sklearn\\linear_model\\_coordinate_descent.py:476: ConvergenceWarning: Objective did not converge. You might want to increase the number of iterations. Duality gap: 0.0, tolerance: 0.0\n",
            "  positive)\n",
            "C:\\Users\\User\\Anaconda3\\envs\\buan6341_2020\\lib\\site-packages\\sklearn\\linear_model\\_coordinate_descent.py:476: ConvergenceWarning: Objective did not converge. You might want to increase the number of iterations. Duality gap: 0.0, tolerance: 0.0\n",
            "  positive)\n",
            "C:\\Users\\User\\Anaconda3\\envs\\buan6341_2020\\lib\\site-packages\\sklearn\\linear_model\\_coordinate_descent.py:476: ConvergenceWarning: Objective did not converge. You might want to increase the number of iterations. Duality gap: 0.0, tolerance: 0.0\n",
            "  positive)\n",
            "C:\\Users\\User\\Anaconda3\\envs\\buan6341_2020\\lib\\site-packages\\sklearn\\linear_model\\_coordinate_descent.py:476: ConvergenceWarning: Objective did not converge. You might want to increase the number of iterations. Duality gap: 0.0, tolerance: 0.0\n",
            "  positive)\n",
            "C:\\Users\\User\\Anaconda3\\envs\\buan6341_2020\\lib\\site-packages\\sklearn\\linear_model\\_coordinate_descent.py:476: ConvergenceWarning: Objective did not converge. You might want to increase the number of iterations. Duality gap: 0.0, tolerance: 0.0\n",
            "  positive)\n",
            "C:\\Users\\User\\Anaconda3\\envs\\buan6341_2020\\lib\\site-packages\\sklearn\\linear_model\\_coordinate_descent.py:476: ConvergenceWarning: Objective did not converge. You might want to increase the number of iterations. Duality gap: 0.0, tolerance: 0.0\n",
            "  positive)\n",
            "C:\\Users\\User\\Anaconda3\\envs\\buan6341_2020\\lib\\site-packages\\sklearn\\linear_model\\_coordinate_descent.py:476: ConvergenceWarning: Objective did not converge. You might want to increase the number of iterations. Duality gap: 0.0, tolerance: 0.0\n",
            "  positive)\n"
          ],
          "name": "stderr"
        },
        {
          "output_type": "stream",
          "text": [
            "C:\\Users\\User\\Anaconda3\\envs\\buan6341_2020\\lib\\site-packages\\sklearn\\linear_model\\_coordinate_descent.py:476: ConvergenceWarning: Objective did not converge. You might want to increase the number of iterations. Duality gap: 0.0, tolerance: 0.0\n",
            "  positive)\n",
            "C:\\Users\\User\\Anaconda3\\envs\\buan6341_2020\\lib\\site-packages\\sklearn\\linear_model\\_coordinate_descent.py:476: ConvergenceWarning: Objective did not converge. You might want to increase the number of iterations. Duality gap: 0.0, tolerance: 0.0\n",
            "  positive)\n",
            "C:\\Users\\User\\Anaconda3\\envs\\buan6341_2020\\lib\\site-packages\\sklearn\\linear_model\\_coordinate_descent.py:476: ConvergenceWarning: Objective did not converge. You might want to increase the number of iterations. Duality gap: 0.0, tolerance: 0.0\n",
            "  positive)\n",
            "C:\\Users\\User\\Anaconda3\\envs\\buan6341_2020\\lib\\site-packages\\sklearn\\linear_model\\_coordinate_descent.py:476: ConvergenceWarning: Objective did not converge. You might want to increase the number of iterations. Duality gap: 0.0, tolerance: 0.0\n",
            "  positive)\n",
            "C:\\Users\\User\\Anaconda3\\envs\\buan6341_2020\\lib\\site-packages\\sklearn\\linear_model\\_coordinate_descent.py:476: ConvergenceWarning: Objective did not converge. You might want to increase the number of iterations. Duality gap: 0.0, tolerance: 0.0\n",
            "  positive)\n",
            "C:\\Users\\User\\Anaconda3\\envs\\buan6341_2020\\lib\\site-packages\\sklearn\\linear_model\\_coordinate_descent.py:476: ConvergenceWarning: Objective did not converge. You might want to increase the number of iterations. Duality gap: 0.0, tolerance: 0.0\n",
            "  positive)\n",
            "C:\\Users\\User\\Anaconda3\\envs\\buan6341_2020\\lib\\site-packages\\sklearn\\linear_model\\_coordinate_descent.py:476: ConvergenceWarning: Objective did not converge. You might want to increase the number of iterations. Duality gap: 0.0, tolerance: 0.0\n",
            "  positive)\n",
            "C:\\Users\\User\\Anaconda3\\envs\\buan6341_2020\\lib\\site-packages\\sklearn\\linear_model\\_coordinate_descent.py:476: ConvergenceWarning: Objective did not converge. You might want to increase the number of iterations. Duality gap: 0.0, tolerance: 0.0\n",
            "  positive)\n",
            "C:\\Users\\User\\Anaconda3\\envs\\buan6341_2020\\lib\\site-packages\\sklearn\\linear_model\\_coordinate_descent.py:476: ConvergenceWarning: Objective did not converge. You might want to increase the number of iterations. Duality gap: 0.0, tolerance: 0.0\n",
            "  positive)\n",
            "C:\\Users\\User\\Anaconda3\\envs\\buan6341_2020\\lib\\site-packages\\sklearn\\linear_model\\_coordinate_descent.py:476: ConvergenceWarning: Objective did not converge. You might want to increase the number of iterations. Duality gap: 0.0, tolerance: 0.0\n",
            "  positive)\n",
            "C:\\Users\\User\\Anaconda3\\envs\\buan6341_2020\\lib\\site-packages\\sklearn\\linear_model\\_coordinate_descent.py:476: ConvergenceWarning: Objective did not converge. You might want to increase the number of iterations. Duality gap: 0.0, tolerance: 0.0\n",
            "  positive)\n",
            "C:\\Users\\User\\Anaconda3\\envs\\buan6341_2020\\lib\\site-packages\\sklearn\\linear_model\\_coordinate_descent.py:476: ConvergenceWarning: Objective did not converge. You might want to increase the number of iterations. Duality gap: 0.0, tolerance: 0.0\n",
            "  positive)\n",
            "C:\\Users\\User\\Anaconda3\\envs\\buan6341_2020\\lib\\site-packages\\sklearn\\linear_model\\_coordinate_descent.py:476: ConvergenceWarning: Objective did not converge. You might want to increase the number of iterations. Duality gap: 0.0, tolerance: 0.0\n",
            "  positive)\n",
            "C:\\Users\\User\\Anaconda3\\envs\\buan6341_2020\\lib\\site-packages\\sklearn\\linear_model\\_coordinate_descent.py:476: ConvergenceWarning: Objective did not converge. You might want to increase the number of iterations. Duality gap: 0.0, tolerance: 0.0\n",
            "  positive)\n",
            "C:\\Users\\User\\Anaconda3\\envs\\buan6341_2020\\lib\\site-packages\\sklearn\\linear_model\\_coordinate_descent.py:476: ConvergenceWarning: Objective did not converge. You might want to increase the number of iterations. Duality gap: 0.0, tolerance: 0.0\n",
            "  positive)\n",
            "C:\\Users\\User\\Anaconda3\\envs\\buan6341_2020\\lib\\site-packages\\sklearn\\linear_model\\_coordinate_descent.py:476: ConvergenceWarning: Objective did not converge. You might want to increase the number of iterations. Duality gap: 0.0, tolerance: 0.0\n",
            "  positive)\n",
            "C:\\Users\\User\\Anaconda3\\envs\\buan6341_2020\\lib\\site-packages\\sklearn\\linear_model\\_coordinate_descent.py:476: ConvergenceWarning: Objective did not converge. You might want to increase the number of iterations. Duality gap: 0.0, tolerance: 0.0\n",
            "  positive)\n",
            "C:\\Users\\User\\Anaconda3\\envs\\buan6341_2020\\lib\\site-packages\\sklearn\\linear_model\\_coordinate_descent.py:476: ConvergenceWarning: Objective did not converge. You might want to increase the number of iterations. Duality gap: 0.0, tolerance: 0.0\n",
            "  positive)\n",
            "C:\\Users\\User\\Anaconda3\\envs\\buan6341_2020\\lib\\site-packages\\sklearn\\linear_model\\_coordinate_descent.py:476: ConvergenceWarning: Objective did not converge. You might want to increase the number of iterations. Duality gap: 0.0, tolerance: 0.0\n",
            "  positive)\n",
            "C:\\Users\\User\\Anaconda3\\envs\\buan6341_2020\\lib\\site-packages\\sklearn\\linear_model\\_coordinate_descent.py:476: ConvergenceWarning: Objective did not converge. You might want to increase the number of iterations. Duality gap: 0.0, tolerance: 0.0\n",
            "  positive)\n",
            "C:\\Users\\User\\Anaconda3\\envs\\buan6341_2020\\lib\\site-packages\\sklearn\\linear_model\\_coordinate_descent.py:476: ConvergenceWarning: Objective did not converge. You might want to increase the number of iterations. Duality gap: 0.0, tolerance: 0.0\n",
            "  positive)\n",
            "C:\\Users\\User\\Anaconda3\\envs\\buan6341_2020\\lib\\site-packages\\sklearn\\linear_model\\_coordinate_descent.py:476: ConvergenceWarning: Objective did not converge. You might want to increase the number of iterations. Duality gap: 0.0, tolerance: 0.0\n",
            "  positive)\n",
            "C:\\Users\\User\\Anaconda3\\envs\\buan6341_2020\\lib\\site-packages\\sklearn\\linear_model\\_coordinate_descent.py:476: ConvergenceWarning: Objective did not converge. You might want to increase the number of iterations. Duality gap: 0.0, tolerance: 0.0\n",
            "  positive)\n",
            "C:\\Users\\User\\Anaconda3\\envs\\buan6341_2020\\lib\\site-packages\\sklearn\\linear_model\\_coordinate_descent.py:476: ConvergenceWarning: Objective did not converge. You might want to increase the number of iterations. Duality gap: 0.0, tolerance: 0.0\n",
            "  positive)\n",
            "C:\\Users\\User\\Anaconda3\\envs\\buan6341_2020\\lib\\site-packages\\sklearn\\linear_model\\_coordinate_descent.py:476: ConvergenceWarning: Objective did not converge. You might want to increase the number of iterations. Duality gap: 0.0, tolerance: 0.0\n",
            "  positive)\n",
            "C:\\Users\\User\\Anaconda3\\envs\\buan6341_2020\\lib\\site-packages\\sklearn\\linear_model\\_coordinate_descent.py:476: ConvergenceWarning: Objective did not converge. You might want to increase the number of iterations. Duality gap: 0.0, tolerance: 0.0\n",
            "  positive)\n",
            "C:\\Users\\User\\Anaconda3\\envs\\buan6341_2020\\lib\\site-packages\\sklearn\\linear_model\\_coordinate_descent.py:476: ConvergenceWarning: Objective did not converge. You might want to increase the number of iterations. Duality gap: 0.0, tolerance: 0.0\n",
            "  positive)\n",
            "C:\\Users\\User\\Anaconda3\\envs\\buan6341_2020\\lib\\site-packages\\sklearn\\linear_model\\_coordinate_descent.py:476: ConvergenceWarning: Objective did not converge. You might want to increase the number of iterations. Duality gap: 0.0, tolerance: 0.0\n",
            "  positive)\n",
            "C:\\Users\\User\\Anaconda3\\envs\\buan6341_2020\\lib\\site-packages\\sklearn\\linear_model\\_coordinate_descent.py:476: ConvergenceWarning: Objective did not converge. You might want to increase the number of iterations. Duality gap: 0.0, tolerance: 0.0\n",
            "  positive)\n",
            "C:\\Users\\User\\Anaconda3\\envs\\buan6341_2020\\lib\\site-packages\\sklearn\\linear_model\\_coordinate_descent.py:476: ConvergenceWarning: Objective did not converge. You might want to increase the number of iterations. Duality gap: 0.0, tolerance: 0.0\n",
            "  positive)\n",
            "C:\\Users\\User\\Anaconda3\\envs\\buan6341_2020\\lib\\site-packages\\sklearn\\linear_model\\_coordinate_descent.py:476: ConvergenceWarning: Objective did not converge. You might want to increase the number of iterations. Duality gap: 0.0, tolerance: 0.0\n",
            "  positive)\n",
            "C:\\Users\\User\\Anaconda3\\envs\\buan6341_2020\\lib\\site-packages\\sklearn\\linear_model\\_coordinate_descent.py:476: ConvergenceWarning: Objective did not converge. You might want to increase the number of iterations. Duality gap: 0.0, tolerance: 0.0\n",
            "  positive)\n",
            "C:\\Users\\User\\Anaconda3\\envs\\buan6341_2020\\lib\\site-packages\\sklearn\\linear_model\\_coordinate_descent.py:476: ConvergenceWarning: Objective did not converge. You might want to increase the number of iterations. Duality gap: 0.0, tolerance: 0.0\n",
            "  positive)\n",
            "C:\\Users\\User\\Anaconda3\\envs\\buan6341_2020\\lib\\site-packages\\sklearn\\linear_model\\_coordinate_descent.py:476: ConvergenceWarning: Objective did not converge. You might want to increase the number of iterations. Duality gap: 0.0, tolerance: 0.0\n",
            "  positive)\n"
          ],
          "name": "stderr"
        },
        {
          "output_type": "stream",
          "text": [
            "C:\\Users\\User\\Anaconda3\\envs\\buan6341_2020\\lib\\site-packages\\sklearn\\linear_model\\_coordinate_descent.py:476: ConvergenceWarning: Objective did not converge. You might want to increase the number of iterations. Duality gap: 0.0, tolerance: 0.0\n",
            "  positive)\n",
            "C:\\Users\\User\\Anaconda3\\envs\\buan6341_2020\\lib\\site-packages\\sklearn\\linear_model\\_coordinate_descent.py:476: ConvergenceWarning: Objective did not converge. You might want to increase the number of iterations. Duality gap: 0.0, tolerance: 0.0\n",
            "  positive)\n",
            "C:\\Users\\User\\Anaconda3\\envs\\buan6341_2020\\lib\\site-packages\\sklearn\\linear_model\\_coordinate_descent.py:476: ConvergenceWarning: Objective did not converge. You might want to increase the number of iterations. Duality gap: 0.0, tolerance: 0.0\n",
            "  positive)\n",
            "C:\\Users\\User\\Anaconda3\\envs\\buan6341_2020\\lib\\site-packages\\sklearn\\linear_model\\_coordinate_descent.py:476: ConvergenceWarning: Objective did not converge. You might want to increase the number of iterations. Duality gap: 0.0, tolerance: 0.0\n",
            "  positive)\n",
            "C:\\Users\\User\\Anaconda3\\envs\\buan6341_2020\\lib\\site-packages\\sklearn\\linear_model\\_coordinate_descent.py:476: ConvergenceWarning: Objective did not converge. You might want to increase the number of iterations. Duality gap: 0.0, tolerance: 0.0\n",
            "  positive)\n",
            "C:\\Users\\User\\Anaconda3\\envs\\buan6341_2020\\lib\\site-packages\\sklearn\\linear_model\\_coordinate_descent.py:476: ConvergenceWarning: Objective did not converge. You might want to increase the number of iterations. Duality gap: 0.0, tolerance: 0.0\n",
            "  positive)\n",
            "C:\\Users\\User\\Anaconda3\\envs\\buan6341_2020\\lib\\site-packages\\sklearn\\linear_model\\_coordinate_descent.py:476: ConvergenceWarning: Objective did not converge. You might want to increase the number of iterations. Duality gap: 0.0, tolerance: 0.0\n",
            "  positive)\n",
            "C:\\Users\\User\\Anaconda3\\envs\\buan6341_2020\\lib\\site-packages\\sklearn\\linear_model\\_coordinate_descent.py:476: ConvergenceWarning: Objective did not converge. You might want to increase the number of iterations. Duality gap: 0.0, tolerance: 0.0\n",
            "  positive)\n",
            "C:\\Users\\User\\Anaconda3\\envs\\buan6341_2020\\lib\\site-packages\\sklearn\\linear_model\\_coordinate_descent.py:476: ConvergenceWarning: Objective did not converge. You might want to increase the number of iterations. Duality gap: 0.0, tolerance: 0.0\n",
            "  positive)\n",
            "C:\\Users\\User\\Anaconda3\\envs\\buan6341_2020\\lib\\site-packages\\sklearn\\linear_model\\_coordinate_descent.py:476: ConvergenceWarning: Objective did not converge. You might want to increase the number of iterations. Duality gap: 0.0, tolerance: 0.0\n",
            "  positive)\n",
            "C:\\Users\\User\\Anaconda3\\envs\\buan6341_2020\\lib\\site-packages\\sklearn\\linear_model\\_coordinate_descent.py:476: ConvergenceWarning: Objective did not converge. You might want to increase the number of iterations. Duality gap: 0.0, tolerance: 0.0\n",
            "  positive)\n",
            "C:\\Users\\User\\Anaconda3\\envs\\buan6341_2020\\lib\\site-packages\\sklearn\\linear_model\\_coordinate_descent.py:476: ConvergenceWarning: Objective did not converge. You might want to increase the number of iterations. Duality gap: 0.0, tolerance: 0.0\n",
            "  positive)\n",
            "C:\\Users\\User\\Anaconda3\\envs\\buan6341_2020\\lib\\site-packages\\sklearn\\linear_model\\_coordinate_descent.py:476: ConvergenceWarning: Objective did not converge. You might want to increase the number of iterations. Duality gap: 0.0, tolerance: 0.0\n",
            "  positive)\n",
            "C:\\Users\\User\\Anaconda3\\envs\\buan6341_2020\\lib\\site-packages\\sklearn\\linear_model\\_coordinate_descent.py:476: ConvergenceWarning: Objective did not converge. You might want to increase the number of iterations. Duality gap: 0.0, tolerance: 0.0\n",
            "  positive)\n",
            "C:\\Users\\User\\Anaconda3\\envs\\buan6341_2020\\lib\\site-packages\\sklearn\\linear_model\\_coordinate_descent.py:476: ConvergenceWarning: Objective did not converge. You might want to increase the number of iterations. Duality gap: 0.0, tolerance: 0.0\n",
            "  positive)\n",
            "C:\\Users\\User\\Anaconda3\\envs\\buan6341_2020\\lib\\site-packages\\sklearn\\linear_model\\_coordinate_descent.py:476: ConvergenceWarning: Objective did not converge. You might want to increase the number of iterations. Duality gap: 0.0, tolerance: 0.0\n",
            "  positive)\n",
            "C:\\Users\\User\\Anaconda3\\envs\\buan6341_2020\\lib\\site-packages\\sklearn\\linear_model\\_coordinate_descent.py:476: ConvergenceWarning: Objective did not converge. You might want to increase the number of iterations. Duality gap: 0.0, tolerance: 0.0\n",
            "  positive)\n",
            "C:\\Users\\User\\Anaconda3\\envs\\buan6341_2020\\lib\\site-packages\\sklearn\\linear_model\\_coordinate_descent.py:476: ConvergenceWarning: Objective did not converge. You might want to increase the number of iterations. Duality gap: 0.0, tolerance: 0.0\n",
            "  positive)\n",
            "C:\\Users\\User\\Anaconda3\\envs\\buan6341_2020\\lib\\site-packages\\sklearn\\linear_model\\_coordinate_descent.py:476: ConvergenceWarning: Objective did not converge. You might want to increase the number of iterations. Duality gap: 0.0, tolerance: 0.0\n",
            "  positive)\n",
            "C:\\Users\\User\\Anaconda3\\envs\\buan6341_2020\\lib\\site-packages\\sklearn\\linear_model\\_coordinate_descent.py:476: ConvergenceWarning: Objective did not converge. You might want to increase the number of iterations. Duality gap: 0.0, tolerance: 0.0\n",
            "  positive)\n",
            "C:\\Users\\User\\Anaconda3\\envs\\buan6341_2020\\lib\\site-packages\\sklearn\\linear_model\\_coordinate_descent.py:476: ConvergenceWarning: Objective did not converge. You might want to increase the number of iterations. Duality gap: 0.0, tolerance: 0.0\n",
            "  positive)\n",
            "C:\\Users\\User\\Anaconda3\\envs\\buan6341_2020\\lib\\site-packages\\sklearn\\linear_model\\_coordinate_descent.py:476: ConvergenceWarning: Objective did not converge. You might want to increase the number of iterations. Duality gap: 0.0, tolerance: 0.0\n",
            "  positive)\n",
            "C:\\Users\\User\\Anaconda3\\envs\\buan6341_2020\\lib\\site-packages\\sklearn\\linear_model\\_coordinate_descent.py:476: ConvergenceWarning: Objective did not converge. You might want to increase the number of iterations. Duality gap: 0.0, tolerance: 0.0\n",
            "  positive)\n",
            "C:\\Users\\User\\Anaconda3\\envs\\buan6341_2020\\lib\\site-packages\\sklearn\\linear_model\\_coordinate_descent.py:476: ConvergenceWarning: Objective did not converge. You might want to increase the number of iterations. Duality gap: 0.0, tolerance: 0.0\n",
            "  positive)\n",
            "C:\\Users\\User\\Anaconda3\\envs\\buan6341_2020\\lib\\site-packages\\sklearn\\linear_model\\_coordinate_descent.py:476: ConvergenceWarning: Objective did not converge. You might want to increase the number of iterations. Duality gap: 0.0, tolerance: 0.0\n",
            "  positive)\n",
            "C:\\Users\\User\\Anaconda3\\envs\\buan6341_2020\\lib\\site-packages\\sklearn\\linear_model\\_coordinate_descent.py:476: ConvergenceWarning: Objective did not converge. You might want to increase the number of iterations. Duality gap: 0.0, tolerance: 0.0\n",
            "  positive)\n",
            "C:\\Users\\User\\Anaconda3\\envs\\buan6341_2020\\lib\\site-packages\\sklearn\\linear_model\\_coordinate_descent.py:476: ConvergenceWarning: Objective did not converge. You might want to increase the number of iterations. Duality gap: 0.0, tolerance: 0.0\n",
            "  positive)\n",
            "C:\\Users\\User\\Anaconda3\\envs\\buan6341_2020\\lib\\site-packages\\sklearn\\linear_model\\_coordinate_descent.py:476: ConvergenceWarning: Objective did not converge. You might want to increase the number of iterations. Duality gap: 0.0, tolerance: 0.0\n",
            "  positive)\n",
            "C:\\Users\\User\\Anaconda3\\envs\\buan6341_2020\\lib\\site-packages\\sklearn\\linear_model\\_coordinate_descent.py:476: ConvergenceWarning: Objective did not converge. You might want to increase the number of iterations. Duality gap: 0.0, tolerance: 0.0\n",
            "  positive)\n",
            "C:\\Users\\User\\Anaconda3\\envs\\buan6341_2020\\lib\\site-packages\\sklearn\\linear_model\\_coordinate_descent.py:476: ConvergenceWarning: Objective did not converge. You might want to increase the number of iterations. Duality gap: 0.0, tolerance: 0.0\n",
            "  positive)\n",
            "C:\\Users\\User\\Anaconda3\\envs\\buan6341_2020\\lib\\site-packages\\sklearn\\linear_model\\_coordinate_descent.py:476: ConvergenceWarning: Objective did not converge. You might want to increase the number of iterations. Duality gap: 0.0, tolerance: 0.0\n",
            "  positive)\n",
            "C:\\Users\\User\\Anaconda3\\envs\\buan6341_2020\\lib\\site-packages\\sklearn\\linear_model\\_coordinate_descent.py:476: ConvergenceWarning: Objective did not converge. You might want to increase the number of iterations. Duality gap: 0.0, tolerance: 0.0\n",
            "  positive)\n",
            "C:\\Users\\User\\Anaconda3\\envs\\buan6341_2020\\lib\\site-packages\\sklearn\\linear_model\\_coordinate_descent.py:476: ConvergenceWarning: Objective did not converge. You might want to increase the number of iterations. Duality gap: 0.0, tolerance: 0.0\n",
            "  positive)\n",
            "C:\\Users\\User\\Anaconda3\\envs\\buan6341_2020\\lib\\site-packages\\sklearn\\linear_model\\_coordinate_descent.py:476: ConvergenceWarning: Objective did not converge. You might want to increase the number of iterations. Duality gap: 0.0, tolerance: 0.0\n",
            "  positive)\n",
            "C:\\Users\\User\\Anaconda3\\envs\\buan6341_2020\\lib\\site-packages\\sklearn\\linear_model\\_coordinate_descent.py:476: ConvergenceWarning: Objective did not converge. You might want to increase the number of iterations. Duality gap: 0.0, tolerance: 0.0\n",
            "  positive)\n",
            "C:\\Users\\User\\Anaconda3\\envs\\buan6341_2020\\lib\\site-packages\\sklearn\\linear_model\\_coordinate_descent.py:476: ConvergenceWarning: Objective did not converge. You might want to increase the number of iterations. Duality gap: 0.0, tolerance: 0.0\n",
            "  positive)\n",
            "C:\\Users\\User\\Anaconda3\\envs\\buan6341_2020\\lib\\site-packages\\sklearn\\linear_model\\_coordinate_descent.py:476: ConvergenceWarning: Objective did not converge. You might want to increase the number of iterations. Duality gap: 0.0, tolerance: 0.0\n",
            "  positive)\n",
            "C:\\Users\\User\\Anaconda3\\envs\\buan6341_2020\\lib\\site-packages\\sklearn\\linear_model\\_coordinate_descent.py:476: ConvergenceWarning: Objective did not converge. You might want to increase the number of iterations. Duality gap: 0.0, tolerance: 0.0\n",
            "  positive)\n",
            "C:\\Users\\User\\Anaconda3\\envs\\buan6341_2020\\lib\\site-packages\\sklearn\\linear_model\\_coordinate_descent.py:476: ConvergenceWarning: Objective did not converge. You might want to increase the number of iterations. Duality gap: 0.0, tolerance: 0.0\n",
            "  positive)\n",
            "C:\\Users\\User\\Anaconda3\\envs\\buan6341_2020\\lib\\site-packages\\sklearn\\linear_model\\_coordinate_descent.py:476: ConvergenceWarning: Objective did not converge. You might want to increase the number of iterations. Duality gap: 0.0, tolerance: 0.0\n",
            "  positive)\n",
            "C:\\Users\\User\\Anaconda3\\envs\\buan6341_2020\\lib\\site-packages\\sklearn\\linear_model\\_coordinate_descent.py:476: ConvergenceWarning: Objective did not converge. You might want to increase the number of iterations. Duality gap: 0.0, tolerance: 0.0\n",
            "  positive)\n",
            "C:\\Users\\User\\Anaconda3\\envs\\buan6341_2020\\lib\\site-packages\\sklearn\\linear_model\\_coordinate_descent.py:476: ConvergenceWarning: Objective did not converge. You might want to increase the number of iterations. Duality gap: 0.0, tolerance: 0.0\n",
            "  positive)\n",
            "C:\\Users\\User\\Anaconda3\\envs\\buan6341_2020\\lib\\site-packages\\sklearn\\linear_model\\_coordinate_descent.py:476: ConvergenceWarning: Objective did not converge. You might want to increase the number of iterations. Duality gap: 0.0, tolerance: 0.0\n",
            "  positive)\n",
            "C:\\Users\\User\\Anaconda3\\envs\\buan6341_2020\\lib\\site-packages\\sklearn\\linear_model\\_coordinate_descent.py:476: ConvergenceWarning: Objective did not converge. You might want to increase the number of iterations. Duality gap: 0.0, tolerance: 0.0\n",
            "  positive)\n",
            "C:\\Users\\User\\Anaconda3\\envs\\buan6341_2020\\lib\\site-packages\\sklearn\\linear_model\\_coordinate_descent.py:476: ConvergenceWarning: Objective did not converge. You might want to increase the number of iterations. Duality gap: 0.0, tolerance: 0.0\n",
            "  positive)\n",
            "C:\\Users\\User\\Anaconda3\\envs\\buan6341_2020\\lib\\site-packages\\sklearn\\linear_model\\_coordinate_descent.py:476: ConvergenceWarning: Objective did not converge. You might want to increase the number of iterations. Duality gap: 0.0, tolerance: 0.0\n",
            "  positive)\n",
            "C:\\Users\\User\\Anaconda3\\envs\\buan6341_2020\\lib\\site-packages\\sklearn\\linear_model\\_coordinate_descent.py:476: ConvergenceWarning: Objective did not converge. You might want to increase the number of iterations. Duality gap: 0.0, tolerance: 0.0\n",
            "  positive)\n",
            "C:\\Users\\User\\Anaconda3\\envs\\buan6341_2020\\lib\\site-packages\\sklearn\\linear_model\\_coordinate_descent.py:476: ConvergenceWarning: Objective did not converge. You might want to increase the number of iterations. Duality gap: 0.0, tolerance: 0.0\n",
            "  positive)\n",
            "C:\\Users\\User\\Anaconda3\\envs\\buan6341_2020\\lib\\site-packages\\sklearn\\linear_model\\_coordinate_descent.py:476: ConvergenceWarning: Objective did not converge. You might want to increase the number of iterations. Duality gap: 0.0, tolerance: 0.0\n",
            "  positive)\n",
            "C:\\Users\\User\\Anaconda3\\envs\\buan6341_2020\\lib\\site-packages\\sklearn\\linear_model\\_coordinate_descent.py:476: ConvergenceWarning: Objective did not converge. You might want to increase the number of iterations. Duality gap: 0.0, tolerance: 0.0\n",
            "  positive)\n",
            "C:\\Users\\User\\Anaconda3\\envs\\buan6341_2020\\lib\\site-packages\\sklearn\\linear_model\\_coordinate_descent.py:476: ConvergenceWarning: Objective did not converge. You might want to increase the number of iterations. Duality gap: 0.0, tolerance: 0.0\n",
            "  positive)\n",
            "C:\\Users\\User\\Anaconda3\\envs\\buan6341_2020\\lib\\site-packages\\sklearn\\linear_model\\_coordinate_descent.py:476: ConvergenceWarning: Objective did not converge. You might want to increase the number of iterations. Duality gap: 0.0, tolerance: 0.0\n",
            "  positive)\n",
            "C:\\Users\\User\\Anaconda3\\envs\\buan6341_2020\\lib\\site-packages\\sklearn\\linear_model\\_coordinate_descent.py:476: ConvergenceWarning: Objective did not converge. You might want to increase the number of iterations. Duality gap: 0.0, tolerance: 0.0\n",
            "  positive)\n",
            "C:\\Users\\User\\Anaconda3\\envs\\buan6341_2020\\lib\\site-packages\\sklearn\\linear_model\\_coordinate_descent.py:476: ConvergenceWarning: Objective did not converge. You might want to increase the number of iterations. Duality gap: 0.0, tolerance: 0.0\n",
            "  positive)\n",
            "C:\\Users\\User\\Anaconda3\\envs\\buan6341_2020\\lib\\site-packages\\sklearn\\linear_model\\_coordinate_descent.py:476: ConvergenceWarning: Objective did not converge. You might want to increase the number of iterations. Duality gap: 0.0, tolerance: 0.0\n",
            "  positive)\n",
            "C:\\Users\\User\\Anaconda3\\envs\\buan6341_2020\\lib\\site-packages\\sklearn\\linear_model\\_coordinate_descent.py:476: ConvergenceWarning: Objective did not converge. You might want to increase the number of iterations. Duality gap: 0.0, tolerance: 0.0\n",
            "  positive)\n",
            "C:\\Users\\User\\Anaconda3\\envs\\buan6341_2020\\lib\\site-packages\\sklearn\\linear_model\\_coordinate_descent.py:476: ConvergenceWarning: Objective did not converge. You might want to increase the number of iterations. Duality gap: 0.0, tolerance: 0.0\n",
            "  positive)\n",
            "C:\\Users\\User\\Anaconda3\\envs\\buan6341_2020\\lib\\site-packages\\sklearn\\linear_model\\_coordinate_descent.py:476: ConvergenceWarning: Objective did not converge. You might want to increase the number of iterations. Duality gap: 0.0, tolerance: 0.0\n",
            "  positive)\n"
          ],
          "name": "stderr"
        },
        {
          "output_type": "stream",
          "text": [
            "C:\\Users\\User\\Anaconda3\\envs\\buan6341_2020\\lib\\site-packages\\sklearn\\linear_model\\_coordinate_descent.py:476: ConvergenceWarning: Objective did not converge. You might want to increase the number of iterations. Duality gap: 0.0, tolerance: 0.0\n",
            "  positive)\n",
            "C:\\Users\\User\\Anaconda3\\envs\\buan6341_2020\\lib\\site-packages\\sklearn\\linear_model\\_coordinate_descent.py:476: ConvergenceWarning: Objective did not converge. You might want to increase the number of iterations. Duality gap: 0.0, tolerance: 0.0\n",
            "  positive)\n",
            "C:\\Users\\User\\Anaconda3\\envs\\buan6341_2020\\lib\\site-packages\\sklearn\\linear_model\\_coordinate_descent.py:476: ConvergenceWarning: Objective did not converge. You might want to increase the number of iterations. Duality gap: 0.0, tolerance: 0.0\n",
            "  positive)\n",
            "C:\\Users\\User\\Anaconda3\\envs\\buan6341_2020\\lib\\site-packages\\sklearn\\linear_model\\_coordinate_descent.py:476: ConvergenceWarning: Objective did not converge. You might want to increase the number of iterations. Duality gap: 0.0, tolerance: 0.0\n",
            "  positive)\n",
            "C:\\Users\\User\\Anaconda3\\envs\\buan6341_2020\\lib\\site-packages\\sklearn\\linear_model\\_coordinate_descent.py:476: ConvergenceWarning: Objective did not converge. You might want to increase the number of iterations. Duality gap: 0.0, tolerance: 0.0\n",
            "  positive)\n",
            "C:\\Users\\User\\Anaconda3\\envs\\buan6341_2020\\lib\\site-packages\\sklearn\\linear_model\\_coordinate_descent.py:476: ConvergenceWarning: Objective did not converge. You might want to increase the number of iterations. Duality gap: 0.0, tolerance: 0.0\n",
            "  positive)\n",
            "C:\\Users\\User\\Anaconda3\\envs\\buan6341_2020\\lib\\site-packages\\sklearn\\linear_model\\_coordinate_descent.py:476: ConvergenceWarning: Objective did not converge. You might want to increase the number of iterations. Duality gap: 0.0, tolerance: 0.0\n",
            "  positive)\n",
            "C:\\Users\\User\\Anaconda3\\envs\\buan6341_2020\\lib\\site-packages\\sklearn\\linear_model\\_coordinate_descent.py:476: ConvergenceWarning: Objective did not converge. You might want to increase the number of iterations. Duality gap: 0.0, tolerance: 0.0\n",
            "  positive)\n",
            "C:\\Users\\User\\Anaconda3\\envs\\buan6341_2020\\lib\\site-packages\\sklearn\\linear_model\\_coordinate_descent.py:476: ConvergenceWarning: Objective did not converge. You might want to increase the number of iterations. Duality gap: 0.0, tolerance: 0.0\n",
            "  positive)\n",
            "C:\\Users\\User\\Anaconda3\\envs\\buan6341_2020\\lib\\site-packages\\sklearn\\linear_model\\_coordinate_descent.py:476: ConvergenceWarning: Objective did not converge. You might want to increase the number of iterations. Duality gap: 0.0, tolerance: 0.0\n",
            "  positive)\n",
            "C:\\Users\\User\\Anaconda3\\envs\\buan6341_2020\\lib\\site-packages\\sklearn\\linear_model\\_coordinate_descent.py:476: ConvergenceWarning: Objective did not converge. You might want to increase the number of iterations. Duality gap: 0.0, tolerance: 0.0\n",
            "  positive)\n",
            "C:\\Users\\User\\Anaconda3\\envs\\buan6341_2020\\lib\\site-packages\\sklearn\\linear_model\\_coordinate_descent.py:476: ConvergenceWarning: Objective did not converge. You might want to increase the number of iterations. Duality gap: 0.0, tolerance: 0.0\n",
            "  positive)\n",
            "C:\\Users\\User\\Anaconda3\\envs\\buan6341_2020\\lib\\site-packages\\sklearn\\linear_model\\_coordinate_descent.py:476: ConvergenceWarning: Objective did not converge. You might want to increase the number of iterations. Duality gap: 0.0, tolerance: 0.0\n",
            "  positive)\n",
            "C:\\Users\\User\\Anaconda3\\envs\\buan6341_2020\\lib\\site-packages\\sklearn\\linear_model\\_coordinate_descent.py:476: ConvergenceWarning: Objective did not converge. You might want to increase the number of iterations. Duality gap: 0.0, tolerance: 0.0\n",
            "  positive)\n",
            "C:\\Users\\User\\Anaconda3\\envs\\buan6341_2020\\lib\\site-packages\\sklearn\\linear_model\\_coordinate_descent.py:476: ConvergenceWarning: Objective did not converge. You might want to increase the number of iterations. Duality gap: 0.0, tolerance: 0.0\n",
            "  positive)\n",
            "C:\\Users\\User\\Anaconda3\\envs\\buan6341_2020\\lib\\site-packages\\sklearn\\linear_model\\_coordinate_descent.py:476: ConvergenceWarning: Objective did not converge. You might want to increase the number of iterations. Duality gap: 0.0, tolerance: 0.0\n",
            "  positive)\n",
            "C:\\Users\\User\\Anaconda3\\envs\\buan6341_2020\\lib\\site-packages\\sklearn\\linear_model\\_coordinate_descent.py:476: ConvergenceWarning: Objective did not converge. You might want to increase the number of iterations. Duality gap: 0.0, tolerance: 0.0\n",
            "  positive)\n",
            "C:\\Users\\User\\Anaconda3\\envs\\buan6341_2020\\lib\\site-packages\\sklearn\\linear_model\\_coordinate_descent.py:476: ConvergenceWarning: Objective did not converge. You might want to increase the number of iterations. Duality gap: 0.0, tolerance: 0.0\n",
            "  positive)\n",
            "C:\\Users\\User\\Anaconda3\\envs\\buan6341_2020\\lib\\site-packages\\sklearn\\linear_model\\_coordinate_descent.py:476: ConvergenceWarning: Objective did not converge. You might want to increase the number of iterations. Duality gap: 0.0, tolerance: 0.0\n",
            "  positive)\n",
            "C:\\Users\\User\\Anaconda3\\envs\\buan6341_2020\\lib\\site-packages\\sklearn\\linear_model\\_coordinate_descent.py:476: ConvergenceWarning: Objective did not converge. You might want to increase the number of iterations. Duality gap: 0.0, tolerance: 0.0\n",
            "  positive)\n",
            "C:\\Users\\User\\Anaconda3\\envs\\buan6341_2020\\lib\\site-packages\\sklearn\\linear_model\\_coordinate_descent.py:476: ConvergenceWarning: Objective did not converge. You might want to increase the number of iterations. Duality gap: 0.0, tolerance: 0.0\n",
            "  positive)\n",
            "C:\\Users\\User\\Anaconda3\\envs\\buan6341_2020\\lib\\site-packages\\sklearn\\linear_model\\_coordinate_descent.py:476: ConvergenceWarning: Objective did not converge. You might want to increase the number of iterations. Duality gap: 0.0, tolerance: 0.0\n",
            "  positive)\n",
            "C:\\Users\\User\\Anaconda3\\envs\\buan6341_2020\\lib\\site-packages\\sklearn\\linear_model\\_coordinate_descent.py:476: ConvergenceWarning: Objective did not converge. You might want to increase the number of iterations. Duality gap: 0.0, tolerance: 0.0\n",
            "  positive)\n",
            "C:\\Users\\User\\Anaconda3\\envs\\buan6341_2020\\lib\\site-packages\\sklearn\\linear_model\\_coordinate_descent.py:476: ConvergenceWarning: Objective did not converge. You might want to increase the number of iterations. Duality gap: 0.0, tolerance: 0.0\n",
            "  positive)\n",
            "C:\\Users\\User\\Anaconda3\\envs\\buan6341_2020\\lib\\site-packages\\sklearn\\linear_model\\_coordinate_descent.py:476: ConvergenceWarning: Objective did not converge. You might want to increase the number of iterations. Duality gap: 0.0, tolerance: 0.0\n",
            "  positive)\n",
            "C:\\Users\\User\\Anaconda3\\envs\\buan6341_2020\\lib\\site-packages\\sklearn\\linear_model\\_coordinate_descent.py:476: ConvergenceWarning: Objective did not converge. You might want to increase the number of iterations. Duality gap: 0.0, tolerance: 0.0\n",
            "  positive)\n",
            "C:\\Users\\User\\Anaconda3\\envs\\buan6341_2020\\lib\\site-packages\\sklearn\\linear_model\\_coordinate_descent.py:476: ConvergenceWarning: Objective did not converge. You might want to increase the number of iterations. Duality gap: 0.0, tolerance: 0.0\n",
            "  positive)\n",
            "C:\\Users\\User\\Anaconda3\\envs\\buan6341_2020\\lib\\site-packages\\sklearn\\linear_model\\_coordinate_descent.py:476: ConvergenceWarning: Objective did not converge. You might want to increase the number of iterations. Duality gap: 0.0, tolerance: 0.0\n",
            "  positive)\n",
            "C:\\Users\\User\\Anaconda3\\envs\\buan6341_2020\\lib\\site-packages\\sklearn\\linear_model\\_coordinate_descent.py:476: ConvergenceWarning: Objective did not converge. You might want to increase the number of iterations. Duality gap: 0.0, tolerance: 0.0\n",
            "  positive)\n",
            "C:\\Users\\User\\Anaconda3\\envs\\buan6341_2020\\lib\\site-packages\\sklearn\\linear_model\\_coordinate_descent.py:476: ConvergenceWarning: Objective did not converge. You might want to increase the number of iterations. Duality gap: 0.0, tolerance: 0.0\n",
            "  positive)\n",
            "C:\\Users\\User\\Anaconda3\\envs\\buan6341_2020\\lib\\site-packages\\sklearn\\linear_model\\_coordinate_descent.py:476: ConvergenceWarning: Objective did not converge. You might want to increase the number of iterations. Duality gap: 0.0, tolerance: 0.0\n",
            "  positive)\n",
            "C:\\Users\\User\\Anaconda3\\envs\\buan6341_2020\\lib\\site-packages\\sklearn\\linear_model\\_coordinate_descent.py:476: ConvergenceWarning: Objective did not converge. You might want to increase the number of iterations. Duality gap: 0.0, tolerance: 0.0\n",
            "  positive)\n",
            "C:\\Users\\User\\Anaconda3\\envs\\buan6341_2020\\lib\\site-packages\\sklearn\\linear_model\\_coordinate_descent.py:476: ConvergenceWarning: Objective did not converge. You might want to increase the number of iterations. Duality gap: 0.0, tolerance: 0.0\n",
            "  positive)\n",
            "C:\\Users\\User\\Anaconda3\\envs\\buan6341_2020\\lib\\site-packages\\sklearn\\linear_model\\_coordinate_descent.py:476: ConvergenceWarning: Objective did not converge. You might want to increase the number of iterations. Duality gap: 0.0, tolerance: 0.0\n",
            "  positive)\n",
            "C:\\Users\\User\\Anaconda3\\envs\\buan6341_2020\\lib\\site-packages\\sklearn\\linear_model\\_coordinate_descent.py:476: ConvergenceWarning: Objective did not converge. You might want to increase the number of iterations. Duality gap: 0.0, tolerance: 0.0\n",
            "  positive)\n",
            "C:\\Users\\User\\Anaconda3\\envs\\buan6341_2020\\lib\\site-packages\\sklearn\\linear_model\\_coordinate_descent.py:476: ConvergenceWarning: Objective did not converge. You might want to increase the number of iterations. Duality gap: 0.0, tolerance: 0.0\n",
            "  positive)\n",
            "C:\\Users\\User\\Anaconda3\\envs\\buan6341_2020\\lib\\site-packages\\sklearn\\linear_model\\_coordinate_descent.py:476: ConvergenceWarning: Objective did not converge. You might want to increase the number of iterations. Duality gap: 0.0, tolerance: 0.0\n",
            "  positive)\n",
            "C:\\Users\\User\\Anaconda3\\envs\\buan6341_2020\\lib\\site-packages\\sklearn\\linear_model\\_coordinate_descent.py:476: ConvergenceWarning: Objective did not converge. You might want to increase the number of iterations. Duality gap: 0.0, tolerance: 0.0\n",
            "  positive)\n",
            "C:\\Users\\User\\Anaconda3\\envs\\buan6341_2020\\lib\\site-packages\\sklearn\\linear_model\\_coordinate_descent.py:476: ConvergenceWarning: Objective did not converge. You might want to increase the number of iterations. Duality gap: 0.0, tolerance: 0.0\n",
            "  positive)\n",
            "C:\\Users\\User\\Anaconda3\\envs\\buan6341_2020\\lib\\site-packages\\sklearn\\linear_model\\_coordinate_descent.py:476: ConvergenceWarning: Objective did not converge. You might want to increase the number of iterations. Duality gap: 0.0, tolerance: 0.0\n",
            "  positive)\n",
            "C:\\Users\\User\\Anaconda3\\envs\\buan6341_2020\\lib\\site-packages\\sklearn\\linear_model\\_coordinate_descent.py:476: ConvergenceWarning: Objective did not converge. You might want to increase the number of iterations. Duality gap: 0.0, tolerance: 0.0\n",
            "  positive)\n",
            "C:\\Users\\User\\Anaconda3\\envs\\buan6341_2020\\lib\\site-packages\\sklearn\\linear_model\\_coordinate_descent.py:476: ConvergenceWarning: Objective did not converge. You might want to increase the number of iterations. Duality gap: 0.0, tolerance: 0.0\n",
            "  positive)\n",
            "C:\\Users\\User\\Anaconda3\\envs\\buan6341_2020\\lib\\site-packages\\sklearn\\linear_model\\_coordinate_descent.py:476: ConvergenceWarning: Objective did not converge. You might want to increase the number of iterations. Duality gap: 0.0, tolerance: 0.0\n",
            "  positive)\n",
            "C:\\Users\\User\\Anaconda3\\envs\\buan6341_2020\\lib\\site-packages\\sklearn\\linear_model\\_coordinate_descent.py:476: ConvergenceWarning: Objective did not converge. You might want to increase the number of iterations. Duality gap: 0.0, tolerance: 0.0\n",
            "  positive)\n",
            "C:\\Users\\User\\Anaconda3\\envs\\buan6341_2020\\lib\\site-packages\\sklearn\\linear_model\\_coordinate_descent.py:476: ConvergenceWarning: Objective did not converge. You might want to increase the number of iterations. Duality gap: 0.0, tolerance: 0.0\n",
            "  positive)\n",
            "C:\\Users\\User\\Anaconda3\\envs\\buan6341_2020\\lib\\site-packages\\sklearn\\linear_model\\_coordinate_descent.py:476: ConvergenceWarning: Objective did not converge. You might want to increase the number of iterations. Duality gap: 0.0, tolerance: 0.0\n",
            "  positive)\n",
            "C:\\Users\\User\\Anaconda3\\envs\\buan6341_2020\\lib\\site-packages\\sklearn\\linear_model\\_coordinate_descent.py:476: ConvergenceWarning: Objective did not converge. You might want to increase the number of iterations. Duality gap: 0.0, tolerance: 0.0\n",
            "  positive)\n",
            "C:\\Users\\User\\Anaconda3\\envs\\buan6341_2020\\lib\\site-packages\\sklearn\\linear_model\\_coordinate_descent.py:476: ConvergenceWarning: Objective did not converge. You might want to increase the number of iterations. Duality gap: 0.0, tolerance: 0.0\n",
            "  positive)\n",
            "C:\\Users\\User\\Anaconda3\\envs\\buan6341_2020\\lib\\site-packages\\sklearn\\linear_model\\_coordinate_descent.py:476: ConvergenceWarning: Objective did not converge. You might want to increase the number of iterations. Duality gap: 0.0, tolerance: 0.0\n",
            "  positive)\n",
            "C:\\Users\\User\\Anaconda3\\envs\\buan6341_2020\\lib\\site-packages\\sklearn\\linear_model\\_coordinate_descent.py:476: ConvergenceWarning: Objective did not converge. You might want to increase the number of iterations. Duality gap: 0.0, tolerance: 0.0\n",
            "  positive)\n",
            "C:\\Users\\User\\Anaconda3\\envs\\buan6341_2020\\lib\\site-packages\\sklearn\\linear_model\\_coordinate_descent.py:476: ConvergenceWarning: Objective did not converge. You might want to increase the number of iterations. Duality gap: 0.0, tolerance: 0.0\n",
            "  positive)\n",
            "C:\\Users\\User\\Anaconda3\\envs\\buan6341_2020\\lib\\site-packages\\sklearn\\linear_model\\_coordinate_descent.py:476: ConvergenceWarning: Objective did not converge. You might want to increase the number of iterations. Duality gap: 0.0, tolerance: 0.0\n",
            "  positive)\n",
            "C:\\Users\\User\\Anaconda3\\envs\\buan6341_2020\\lib\\site-packages\\sklearn\\linear_model\\_coordinate_descent.py:476: ConvergenceWarning: Objective did not converge. You might want to increase the number of iterations. Duality gap: 0.0, tolerance: 0.0\n",
            "  positive)\n",
            "C:\\Users\\User\\Anaconda3\\envs\\buan6341_2020\\lib\\site-packages\\sklearn\\linear_model\\_coordinate_descent.py:476: ConvergenceWarning: Objective did not converge. You might want to increase the number of iterations. Duality gap: 0.0, tolerance: 0.0\n",
            "  positive)\n",
            "C:\\Users\\User\\Anaconda3\\envs\\buan6341_2020\\lib\\site-packages\\sklearn\\linear_model\\_coordinate_descent.py:476: ConvergenceWarning: Objective did not converge. You might want to increase the number of iterations. Duality gap: 0.0, tolerance: 0.0\n",
            "  positive)\n",
            "C:\\Users\\User\\Anaconda3\\envs\\buan6341_2020\\lib\\site-packages\\sklearn\\linear_model\\_coordinate_descent.py:476: ConvergenceWarning: Objective did not converge. You might want to increase the number of iterations. Duality gap: 0.0, tolerance: 0.0\n",
            "  positive)\n",
            "C:\\Users\\User\\Anaconda3\\envs\\buan6341_2020\\lib\\site-packages\\sklearn\\linear_model\\_coordinate_descent.py:476: ConvergenceWarning: Objective did not converge. You might want to increase the number of iterations. Duality gap: 0.0, tolerance: 0.0\n",
            "  positive)\n",
            "C:\\Users\\User\\Anaconda3\\envs\\buan6341_2020\\lib\\site-packages\\sklearn\\linear_model\\_coordinate_descent.py:476: ConvergenceWarning: Objective did not converge. You might want to increase the number of iterations. Duality gap: 0.0, tolerance: 0.0\n",
            "  positive)\n",
            "C:\\Users\\User\\Anaconda3\\envs\\buan6341_2020\\lib\\site-packages\\sklearn\\linear_model\\_coordinate_descent.py:476: ConvergenceWarning: Objective did not converge. You might want to increase the number of iterations. Duality gap: 0.0, tolerance: 0.0\n",
            "  positive)\n",
            "C:\\Users\\User\\Anaconda3\\envs\\buan6341_2020\\lib\\site-packages\\sklearn\\linear_model\\_coordinate_descent.py:476: ConvergenceWarning: Objective did not converge. You might want to increase the number of iterations. Duality gap: 0.0, tolerance: 0.0\n",
            "  positive)\n",
            "C:\\Users\\User\\Anaconda3\\envs\\buan6341_2020\\lib\\site-packages\\sklearn\\linear_model\\_coordinate_descent.py:476: ConvergenceWarning: Objective did not converge. You might want to increase the number of iterations. Duality gap: 0.0, tolerance: 0.0\n",
            "  positive)\n",
            "C:\\Users\\User\\Anaconda3\\envs\\buan6341_2020\\lib\\site-packages\\sklearn\\linear_model\\_coordinate_descent.py:476: ConvergenceWarning: Objective did not converge. You might want to increase the number of iterations. Duality gap: 0.0, tolerance: 0.0\n",
            "  positive)\n"
          ],
          "name": "stderr"
        },
        {
          "output_type": "stream",
          "text": [
            "C:\\Users\\User\\Anaconda3\\envs\\buan6341_2020\\lib\\site-packages\\sklearn\\linear_model\\_coordinate_descent.py:476: ConvergenceWarning: Objective did not converge. You might want to increase the number of iterations. Duality gap: 0.0, tolerance: 0.0\n",
            "  positive)\n",
            "C:\\Users\\User\\Anaconda3\\envs\\buan6341_2020\\lib\\site-packages\\sklearn\\linear_model\\_coordinate_descent.py:476: ConvergenceWarning: Objective did not converge. You might want to increase the number of iterations. Duality gap: 0.0, tolerance: 0.0\n",
            "  positive)\n",
            "C:\\Users\\User\\Anaconda3\\envs\\buan6341_2020\\lib\\site-packages\\sklearn\\linear_model\\_coordinate_descent.py:476: ConvergenceWarning: Objective did not converge. You might want to increase the number of iterations. Duality gap: 0.0, tolerance: 0.0\n",
            "  positive)\n",
            "C:\\Users\\User\\Anaconda3\\envs\\buan6341_2020\\lib\\site-packages\\sklearn\\linear_model\\_coordinate_descent.py:476: ConvergenceWarning: Objective did not converge. You might want to increase the number of iterations. Duality gap: 0.0, tolerance: 0.0\n",
            "  positive)\n",
            "C:\\Users\\User\\Anaconda3\\envs\\buan6341_2020\\lib\\site-packages\\sklearn\\linear_model\\_coordinate_descent.py:476: ConvergenceWarning: Objective did not converge. You might want to increase the number of iterations. Duality gap: 0.0, tolerance: 0.0\n",
            "  positive)\n",
            "C:\\Users\\User\\Anaconda3\\envs\\buan6341_2020\\lib\\site-packages\\sklearn\\linear_model\\_coordinate_descent.py:476: ConvergenceWarning: Objective did not converge. You might want to increase the number of iterations. Duality gap: 0.0, tolerance: 0.0\n",
            "  positive)\n",
            "C:\\Users\\User\\Anaconda3\\envs\\buan6341_2020\\lib\\site-packages\\sklearn\\linear_model\\_coordinate_descent.py:476: ConvergenceWarning: Objective did not converge. You might want to increase the number of iterations. Duality gap: 0.0, tolerance: 0.0\n",
            "  positive)\n",
            "C:\\Users\\User\\Anaconda3\\envs\\buan6341_2020\\lib\\site-packages\\sklearn\\linear_model\\_coordinate_descent.py:476: ConvergenceWarning: Objective did not converge. You might want to increase the number of iterations. Duality gap: 0.0, tolerance: 0.0\n",
            "  positive)\n",
            "C:\\Users\\User\\Anaconda3\\envs\\buan6341_2020\\lib\\site-packages\\sklearn\\linear_model\\_coordinate_descent.py:476: ConvergenceWarning: Objective did not converge. You might want to increase the number of iterations. Duality gap: 0.0, tolerance: 0.0\n",
            "  positive)\n",
            "C:\\Users\\User\\Anaconda3\\envs\\buan6341_2020\\lib\\site-packages\\sklearn\\linear_model\\_coordinate_descent.py:476: ConvergenceWarning: Objective did not converge. You might want to increase the number of iterations. Duality gap: 0.0, tolerance: 0.0\n",
            "  positive)\n",
            "C:\\Users\\User\\Anaconda3\\envs\\buan6341_2020\\lib\\site-packages\\sklearn\\linear_model\\_coordinate_descent.py:476: ConvergenceWarning: Objective did not converge. You might want to increase the number of iterations. Duality gap: 0.0, tolerance: 0.0\n",
            "  positive)\n",
            "C:\\Users\\User\\Anaconda3\\envs\\buan6341_2020\\lib\\site-packages\\sklearn\\linear_model\\_coordinate_descent.py:476: ConvergenceWarning: Objective did not converge. You might want to increase the number of iterations. Duality gap: 0.0, tolerance: 0.0\n",
            "  positive)\n",
            "C:\\Users\\User\\Anaconda3\\envs\\buan6341_2020\\lib\\site-packages\\sklearn\\linear_model\\_coordinate_descent.py:476: ConvergenceWarning: Objective did not converge. You might want to increase the number of iterations. Duality gap: 0.0, tolerance: 0.0\n",
            "  positive)\n",
            "C:\\Users\\User\\Anaconda3\\envs\\buan6341_2020\\lib\\site-packages\\sklearn\\linear_model\\_coordinate_descent.py:476: ConvergenceWarning: Objective did not converge. You might want to increase the number of iterations. Duality gap: 0.0, tolerance: 0.0\n",
            "  positive)\n",
            "C:\\Users\\User\\Anaconda3\\envs\\buan6341_2020\\lib\\site-packages\\sklearn\\linear_model\\_coordinate_descent.py:476: ConvergenceWarning: Objective did not converge. You might want to increase the number of iterations. Duality gap: 0.0, tolerance: 0.0\n",
            "  positive)\n",
            "C:\\Users\\User\\Anaconda3\\envs\\buan6341_2020\\lib\\site-packages\\sklearn\\linear_model\\_coordinate_descent.py:476: ConvergenceWarning: Objective did not converge. You might want to increase the number of iterations. Duality gap: 0.0, tolerance: 0.0\n",
            "  positive)\n",
            "C:\\Users\\User\\Anaconda3\\envs\\buan6341_2020\\lib\\site-packages\\sklearn\\linear_model\\_coordinate_descent.py:476: ConvergenceWarning: Objective did not converge. You might want to increase the number of iterations. Duality gap: 0.0, tolerance: 0.0\n",
            "  positive)\n",
            "C:\\Users\\User\\Anaconda3\\envs\\buan6341_2020\\lib\\site-packages\\sklearn\\linear_model\\_coordinate_descent.py:476: ConvergenceWarning: Objective did not converge. You might want to increase the number of iterations. Duality gap: 0.0, tolerance: 0.0\n",
            "  positive)\n",
            "C:\\Users\\User\\Anaconda3\\envs\\buan6341_2020\\lib\\site-packages\\sklearn\\linear_model\\_coordinate_descent.py:476: ConvergenceWarning: Objective did not converge. You might want to increase the number of iterations. Duality gap: 0.0, tolerance: 0.0\n",
            "  positive)\n",
            "C:\\Users\\User\\Anaconda3\\envs\\buan6341_2020\\lib\\site-packages\\sklearn\\linear_model\\_coordinate_descent.py:476: ConvergenceWarning: Objective did not converge. You might want to increase the number of iterations. Duality gap: 0.0, tolerance: 0.0\n",
            "  positive)\n",
            "C:\\Users\\User\\Anaconda3\\envs\\buan6341_2020\\lib\\site-packages\\sklearn\\linear_model\\_coordinate_descent.py:476: ConvergenceWarning: Objective did not converge. You might want to increase the number of iterations. Duality gap: 0.0, tolerance: 0.0\n",
            "  positive)\n",
            "C:\\Users\\User\\Anaconda3\\envs\\buan6341_2020\\lib\\site-packages\\sklearn\\linear_model\\_coordinate_descent.py:476: ConvergenceWarning: Objective did not converge. You might want to increase the number of iterations. Duality gap: 0.0, tolerance: 0.0\n",
            "  positive)\n",
            "C:\\Users\\User\\Anaconda3\\envs\\buan6341_2020\\lib\\site-packages\\sklearn\\linear_model\\_coordinate_descent.py:476: ConvergenceWarning: Objective did not converge. You might want to increase the number of iterations. Duality gap: 0.0, tolerance: 0.0\n",
            "  positive)\n",
            "C:\\Users\\User\\Anaconda3\\envs\\buan6341_2020\\lib\\site-packages\\sklearn\\linear_model\\_coordinate_descent.py:476: ConvergenceWarning: Objective did not converge. You might want to increase the number of iterations. Duality gap: 0.0, tolerance: 0.0\n",
            "  positive)\n",
            "C:\\Users\\User\\Anaconda3\\envs\\buan6341_2020\\lib\\site-packages\\sklearn\\linear_model\\_coordinate_descent.py:476: ConvergenceWarning: Objective did not converge. You might want to increase the number of iterations. Duality gap: 0.0, tolerance: 0.0\n",
            "  positive)\n",
            "C:\\Users\\User\\Anaconda3\\envs\\buan6341_2020\\lib\\site-packages\\sklearn\\linear_model\\_coordinate_descent.py:476: ConvergenceWarning: Objective did not converge. You might want to increase the number of iterations. Duality gap: 0.0, tolerance: 0.0\n",
            "  positive)\n",
            "C:\\Users\\User\\Anaconda3\\envs\\buan6341_2020\\lib\\site-packages\\sklearn\\linear_model\\_coordinate_descent.py:476: ConvergenceWarning: Objective did not converge. You might want to increase the number of iterations. Duality gap: 0.0, tolerance: 0.0\n",
            "  positive)\n",
            "C:\\Users\\User\\Anaconda3\\envs\\buan6341_2020\\lib\\site-packages\\sklearn\\linear_model\\_coordinate_descent.py:476: ConvergenceWarning: Objective did not converge. You might want to increase the number of iterations. Duality gap: 0.0, tolerance: 0.0\n",
            "  positive)\n",
            "C:\\Users\\User\\Anaconda3\\envs\\buan6341_2020\\lib\\site-packages\\sklearn\\linear_model\\_coordinate_descent.py:476: ConvergenceWarning: Objective did not converge. You might want to increase the number of iterations. Duality gap: 0.0, tolerance: 0.0\n",
            "  positive)\n",
            "C:\\Users\\User\\Anaconda3\\envs\\buan6341_2020\\lib\\site-packages\\sklearn\\linear_model\\_coordinate_descent.py:476: ConvergenceWarning: Objective did not converge. You might want to increase the number of iterations. Duality gap: 0.0, tolerance: 0.0\n",
            "  positive)\n",
            "C:\\Users\\User\\Anaconda3\\envs\\buan6341_2020\\lib\\site-packages\\sklearn\\linear_model\\_coordinate_descent.py:476: ConvergenceWarning: Objective did not converge. You might want to increase the number of iterations. Duality gap: 0.0, tolerance: 0.0\n",
            "  positive)\n",
            "C:\\Users\\User\\Anaconda3\\envs\\buan6341_2020\\lib\\site-packages\\sklearn\\linear_model\\_coordinate_descent.py:476: ConvergenceWarning: Objective did not converge. You might want to increase the number of iterations. Duality gap: 0.0, tolerance: 0.0\n",
            "  positive)\n",
            "C:\\Users\\User\\Anaconda3\\envs\\buan6341_2020\\lib\\site-packages\\sklearn\\linear_model\\_coordinate_descent.py:476: ConvergenceWarning: Objective did not converge. You might want to increase the number of iterations. Duality gap: 0.0, tolerance: 0.0\n",
            "  positive)\n",
            "C:\\Users\\User\\Anaconda3\\envs\\buan6341_2020\\lib\\site-packages\\sklearn\\linear_model\\_coordinate_descent.py:476: ConvergenceWarning: Objective did not converge. You might want to increase the number of iterations. Duality gap: 0.0, tolerance: 0.0\n",
            "  positive)\n",
            "C:\\Users\\User\\Anaconda3\\envs\\buan6341_2020\\lib\\site-packages\\sklearn\\linear_model\\_coordinate_descent.py:476: ConvergenceWarning: Objective did not converge. You might want to increase the number of iterations. Duality gap: 0.0, tolerance: 0.0\n",
            "  positive)\n",
            "C:\\Users\\User\\Anaconda3\\envs\\buan6341_2020\\lib\\site-packages\\sklearn\\linear_model\\_coordinate_descent.py:476: ConvergenceWarning: Objective did not converge. You might want to increase the number of iterations. Duality gap: 0.0, tolerance: 0.0\n",
            "  positive)\n",
            "C:\\Users\\User\\Anaconda3\\envs\\buan6341_2020\\lib\\site-packages\\sklearn\\linear_model\\_coordinate_descent.py:476: ConvergenceWarning: Objective did not converge. You might want to increase the number of iterations. Duality gap: 0.0, tolerance: 0.0\n",
            "  positive)\n",
            "C:\\Users\\User\\Anaconda3\\envs\\buan6341_2020\\lib\\site-packages\\sklearn\\linear_model\\_coordinate_descent.py:476: ConvergenceWarning: Objective did not converge. You might want to increase the number of iterations. Duality gap: 0.0, tolerance: 0.0\n",
            "  positive)\n"
          ],
          "name": "stderr"
        },
        {
          "output_type": "stream",
          "text": [
            "C:\\Users\\User\\Anaconda3\\envs\\buan6341_2020\\lib\\site-packages\\sklearn\\linear_model\\_coordinate_descent.py:476: ConvergenceWarning: Objective did not converge. You might want to increase the number of iterations. Duality gap: 0.0, tolerance: 0.0\n",
            "  positive)\n",
            "C:\\Users\\User\\Anaconda3\\envs\\buan6341_2020\\lib\\site-packages\\sklearn\\linear_model\\_coordinate_descent.py:476: ConvergenceWarning: Objective did not converge. You might want to increase the number of iterations. Duality gap: 0.0, tolerance: 0.0\n",
            "  positive)\n",
            "C:\\Users\\User\\Anaconda3\\envs\\buan6341_2020\\lib\\site-packages\\sklearn\\linear_model\\_coordinate_descent.py:476: ConvergenceWarning: Objective did not converge. You might want to increase the number of iterations. Duality gap: 0.0, tolerance: 0.0\n",
            "  positive)\n",
            "C:\\Users\\User\\Anaconda3\\envs\\buan6341_2020\\lib\\site-packages\\sklearn\\linear_model\\_coordinate_descent.py:476: ConvergenceWarning: Objective did not converge. You might want to increase the number of iterations. Duality gap: 0.0, tolerance: 0.0\n",
            "  positive)\n",
            "C:\\Users\\User\\Anaconda3\\envs\\buan6341_2020\\lib\\site-packages\\sklearn\\linear_model\\_coordinate_descent.py:476: ConvergenceWarning: Objective did not converge. You might want to increase the number of iterations. Duality gap: 0.0, tolerance: 0.0\n",
            "  positive)\n",
            "C:\\Users\\User\\Anaconda3\\envs\\buan6341_2020\\lib\\site-packages\\sklearn\\linear_model\\_coordinate_descent.py:476: ConvergenceWarning: Objective did not converge. You might want to increase the number of iterations. Duality gap: 0.0, tolerance: 0.0\n",
            "  positive)\n",
            "C:\\Users\\User\\Anaconda3\\envs\\buan6341_2020\\lib\\site-packages\\sklearn\\linear_model\\_coordinate_descent.py:476: ConvergenceWarning: Objective did not converge. You might want to increase the number of iterations. Duality gap: 0.0, tolerance: 0.0\n",
            "  positive)\n",
            "C:\\Users\\User\\Anaconda3\\envs\\buan6341_2020\\lib\\site-packages\\sklearn\\linear_model\\_coordinate_descent.py:476: ConvergenceWarning: Objective did not converge. You might want to increase the number of iterations. Duality gap: 0.0, tolerance: 0.0\n",
            "  positive)\n",
            "C:\\Users\\User\\Anaconda3\\envs\\buan6341_2020\\lib\\site-packages\\sklearn\\linear_model\\_coordinate_descent.py:476: ConvergenceWarning: Objective did not converge. You might want to increase the number of iterations. Duality gap: 0.0, tolerance: 0.0\n",
            "  positive)\n",
            "C:\\Users\\User\\Anaconda3\\envs\\buan6341_2020\\lib\\site-packages\\sklearn\\linear_model\\_coordinate_descent.py:476: ConvergenceWarning: Objective did not converge. You might want to increase the number of iterations. Duality gap: 0.0, tolerance: 0.0\n",
            "  positive)\n",
            "C:\\Users\\User\\Anaconda3\\envs\\buan6341_2020\\lib\\site-packages\\sklearn\\linear_model\\_coordinate_descent.py:476: ConvergenceWarning: Objective did not converge. You might want to increase the number of iterations. Duality gap: 0.0, tolerance: 0.0\n",
            "  positive)\n",
            "C:\\Users\\User\\Anaconda3\\envs\\buan6341_2020\\lib\\site-packages\\sklearn\\linear_model\\_coordinate_descent.py:476: ConvergenceWarning: Objective did not converge. You might want to increase the number of iterations. Duality gap: 0.0, tolerance: 0.0\n",
            "  positive)\n",
            "C:\\Users\\User\\Anaconda3\\envs\\buan6341_2020\\lib\\site-packages\\sklearn\\linear_model\\_coordinate_descent.py:476: ConvergenceWarning: Objective did not converge. You might want to increase the number of iterations. Duality gap: 0.0, tolerance: 0.0\n",
            "  positive)\n",
            "C:\\Users\\User\\Anaconda3\\envs\\buan6341_2020\\lib\\site-packages\\sklearn\\linear_model\\_coordinate_descent.py:476: ConvergenceWarning: Objective did not converge. You might want to increase the number of iterations. Duality gap: 0.0, tolerance: 0.0\n",
            "  positive)\n",
            "C:\\Users\\User\\Anaconda3\\envs\\buan6341_2020\\lib\\site-packages\\sklearn\\linear_model\\_coordinate_descent.py:476: ConvergenceWarning: Objective did not converge. You might want to increase the number of iterations. Duality gap: 0.0, tolerance: 0.0\n",
            "  positive)\n",
            "C:\\Users\\User\\Anaconda3\\envs\\buan6341_2020\\lib\\site-packages\\sklearn\\linear_model\\_coordinate_descent.py:476: ConvergenceWarning: Objective did not converge. You might want to increase the number of iterations. Duality gap: 0.0, tolerance: 0.0\n",
            "  positive)\n",
            "C:\\Users\\User\\Anaconda3\\envs\\buan6341_2020\\lib\\site-packages\\sklearn\\linear_model\\_coordinate_descent.py:476: ConvergenceWarning: Objective did not converge. You might want to increase the number of iterations. Duality gap: 0.0, tolerance: 0.0\n",
            "  positive)\n",
            "C:\\Users\\User\\Anaconda3\\envs\\buan6341_2020\\lib\\site-packages\\sklearn\\linear_model\\_coordinate_descent.py:476: ConvergenceWarning: Objective did not converge. You might want to increase the number of iterations. Duality gap: 0.0, tolerance: 0.0\n",
            "  positive)\n",
            "C:\\Users\\User\\Anaconda3\\envs\\buan6341_2020\\lib\\site-packages\\sklearn\\linear_model\\_coordinate_descent.py:476: ConvergenceWarning: Objective did not converge. You might want to increase the number of iterations. Duality gap: 0.0, tolerance: 0.0\n",
            "  positive)\n",
            "C:\\Users\\User\\Anaconda3\\envs\\buan6341_2020\\lib\\site-packages\\sklearn\\linear_model\\_coordinate_descent.py:476: ConvergenceWarning: Objective did not converge. You might want to increase the number of iterations. Duality gap: 0.0, tolerance: 0.0\n",
            "  positive)\n",
            "C:\\Users\\User\\Anaconda3\\envs\\buan6341_2020\\lib\\site-packages\\sklearn\\linear_model\\_coordinate_descent.py:476: ConvergenceWarning: Objective did not converge. You might want to increase the number of iterations. Duality gap: 0.0, tolerance: 0.0\n",
            "  positive)\n",
            "C:\\Users\\User\\Anaconda3\\envs\\buan6341_2020\\lib\\site-packages\\sklearn\\linear_model\\_coordinate_descent.py:476: ConvergenceWarning: Objective did not converge. You might want to increase the number of iterations. Duality gap: 0.0, tolerance: 0.0\n",
            "  positive)\n",
            "C:\\Users\\User\\Anaconda3\\envs\\buan6341_2020\\lib\\site-packages\\sklearn\\linear_model\\_coordinate_descent.py:476: ConvergenceWarning: Objective did not converge. You might want to increase the number of iterations. Duality gap: 0.0, tolerance: 0.0\n",
            "  positive)\n",
            "C:\\Users\\User\\Anaconda3\\envs\\buan6341_2020\\lib\\site-packages\\sklearn\\linear_model\\_coordinate_descent.py:476: ConvergenceWarning: Objective did not converge. You might want to increase the number of iterations. Duality gap: 0.0, tolerance: 0.0\n",
            "  positive)\n",
            "C:\\Users\\User\\Anaconda3\\envs\\buan6341_2020\\lib\\site-packages\\sklearn\\linear_model\\_coordinate_descent.py:476: ConvergenceWarning: Objective did not converge. You might want to increase the number of iterations. Duality gap: 0.0, tolerance: 0.0\n",
            "  positive)\n",
            "C:\\Users\\User\\Anaconda3\\envs\\buan6341_2020\\lib\\site-packages\\sklearn\\linear_model\\_coordinate_descent.py:476: ConvergenceWarning: Objective did not converge. You might want to increase the number of iterations. Duality gap: 0.0, tolerance: 0.0\n",
            "  positive)\n",
            "C:\\Users\\User\\Anaconda3\\envs\\buan6341_2020\\lib\\site-packages\\sklearn\\linear_model\\_coordinate_descent.py:476: ConvergenceWarning: Objective did not converge. You might want to increase the number of iterations. Duality gap: 0.0, tolerance: 0.0\n",
            "  positive)\n",
            "C:\\Users\\User\\Anaconda3\\envs\\buan6341_2020\\lib\\site-packages\\sklearn\\linear_model\\_coordinate_descent.py:476: ConvergenceWarning: Objective did not converge. You might want to increase the number of iterations. Duality gap: 0.0, tolerance: 0.0\n",
            "  positive)\n",
            "C:\\Users\\User\\Anaconda3\\envs\\buan6341_2020\\lib\\site-packages\\sklearn\\linear_model\\_coordinate_descent.py:476: ConvergenceWarning: Objective did not converge. You might want to increase the number of iterations. Duality gap: 0.0, tolerance: 0.0\n",
            "  positive)\n",
            "C:\\Users\\User\\Anaconda3\\envs\\buan6341_2020\\lib\\site-packages\\sklearn\\linear_model\\_coordinate_descent.py:476: ConvergenceWarning: Objective did not converge. You might want to increase the number of iterations. Duality gap: 0.0, tolerance: 0.0\n",
            "  positive)\n",
            "C:\\Users\\User\\Anaconda3\\envs\\buan6341_2020\\lib\\site-packages\\sklearn\\linear_model\\_coordinate_descent.py:476: ConvergenceWarning: Objective did not converge. You might want to increase the number of iterations. Duality gap: 0.0, tolerance: 0.0\n",
            "  positive)\n",
            "C:\\Users\\User\\Anaconda3\\envs\\buan6341_2020\\lib\\site-packages\\sklearn\\linear_model\\_coordinate_descent.py:476: ConvergenceWarning: Objective did not converge. You might want to increase the number of iterations. Duality gap: 0.0, tolerance: 0.0\n",
            "  positive)\n",
            "C:\\Users\\User\\Anaconda3\\envs\\buan6341_2020\\lib\\site-packages\\sklearn\\linear_model\\_coordinate_descent.py:476: ConvergenceWarning: Objective did not converge. You might want to increase the number of iterations. Duality gap: 0.0, tolerance: 0.0\n",
            "  positive)\n",
            "C:\\Users\\User\\Anaconda3\\envs\\buan6341_2020\\lib\\site-packages\\sklearn\\linear_model\\_coordinate_descent.py:476: ConvergenceWarning: Objective did not converge. You might want to increase the number of iterations. Duality gap: 0.0, tolerance: 0.0\n",
            "  positive)\n",
            "C:\\Users\\User\\Anaconda3\\envs\\buan6341_2020\\lib\\site-packages\\sklearn\\linear_model\\_coordinate_descent.py:476: ConvergenceWarning: Objective did not converge. You might want to increase the number of iterations. Duality gap: 0.0, tolerance: 0.0\n",
            "  positive)\n",
            "C:\\Users\\User\\Anaconda3\\envs\\buan6341_2020\\lib\\site-packages\\sklearn\\linear_model\\_coordinate_descent.py:476: ConvergenceWarning: Objective did not converge. You might want to increase the number of iterations. Duality gap: 0.0, tolerance: 0.0\n",
            "  positive)\n",
            "C:\\Users\\User\\Anaconda3\\envs\\buan6341_2020\\lib\\site-packages\\sklearn\\linear_model\\_coordinate_descent.py:476: ConvergenceWarning: Objective did not converge. You might want to increase the number of iterations. Duality gap: 0.0, tolerance: 0.0\n",
            "  positive)\n",
            "C:\\Users\\User\\Anaconda3\\envs\\buan6341_2020\\lib\\site-packages\\sklearn\\linear_model\\_coordinate_descent.py:476: ConvergenceWarning: Objective did not converge. You might want to increase the number of iterations. Duality gap: 0.0, tolerance: 0.0\n",
            "  positive)\n",
            "C:\\Users\\User\\Anaconda3\\envs\\buan6341_2020\\lib\\site-packages\\sklearn\\linear_model\\_coordinate_descent.py:476: ConvergenceWarning: Objective did not converge. You might want to increase the number of iterations. Duality gap: 0.0, tolerance: 0.0\n",
            "  positive)\n",
            "C:\\Users\\User\\Anaconda3\\envs\\buan6341_2020\\lib\\site-packages\\sklearn\\linear_model\\_coordinate_descent.py:476: ConvergenceWarning: Objective did not converge. You might want to increase the number of iterations. Duality gap: 0.0, tolerance: 0.0\n",
            "  positive)\n",
            "C:\\Users\\User\\Anaconda3\\envs\\buan6341_2020\\lib\\site-packages\\sklearn\\linear_model\\_coordinate_descent.py:476: ConvergenceWarning: Objective did not converge. You might want to increase the number of iterations. Duality gap: 0.0, tolerance: 0.0\n",
            "  positive)\n",
            "C:\\Users\\User\\Anaconda3\\envs\\buan6341_2020\\lib\\site-packages\\sklearn\\linear_model\\_coordinate_descent.py:476: ConvergenceWarning: Objective did not converge. You might want to increase the number of iterations. Duality gap: 0.0, tolerance: 0.0\n",
            "  positive)\n",
            "C:\\Users\\User\\Anaconda3\\envs\\buan6341_2020\\lib\\site-packages\\sklearn\\linear_model\\_coordinate_descent.py:476: ConvergenceWarning: Objective did not converge. You might want to increase the number of iterations. Duality gap: 0.0, tolerance: 0.0\n",
            "  positive)\n",
            "C:\\Users\\User\\Anaconda3\\envs\\buan6341_2020\\lib\\site-packages\\sklearn\\linear_model\\_coordinate_descent.py:476: ConvergenceWarning: Objective did not converge. You might want to increase the number of iterations. Duality gap: 0.0, tolerance: 0.0\n",
            "  positive)\n",
            "C:\\Users\\User\\Anaconda3\\envs\\buan6341_2020\\lib\\site-packages\\sklearn\\linear_model\\_coordinate_descent.py:476: ConvergenceWarning: Objective did not converge. You might want to increase the number of iterations. Duality gap: 0.0, tolerance: 0.0\n",
            "  positive)\n",
            "C:\\Users\\User\\Anaconda3\\envs\\buan6341_2020\\lib\\site-packages\\sklearn\\linear_model\\_coordinate_descent.py:476: ConvergenceWarning: Objective did not converge. You might want to increase the number of iterations. Duality gap: 0.0, tolerance: 0.0\n",
            "  positive)\n",
            "C:\\Users\\User\\Anaconda3\\envs\\buan6341_2020\\lib\\site-packages\\sklearn\\linear_model\\_coordinate_descent.py:476: ConvergenceWarning: Objective did not converge. You might want to increase the number of iterations. Duality gap: 0.0, tolerance: 0.0\n",
            "  positive)\n",
            "C:\\Users\\User\\Anaconda3\\envs\\buan6341_2020\\lib\\site-packages\\sklearn\\linear_model\\_coordinate_descent.py:476: ConvergenceWarning: Objective did not converge. You might want to increase the number of iterations. Duality gap: 0.0, tolerance: 0.0\n",
            "  positive)\n",
            "C:\\Users\\User\\Anaconda3\\envs\\buan6341_2020\\lib\\site-packages\\sklearn\\linear_model\\_coordinate_descent.py:476: ConvergenceWarning: Objective did not converge. You might want to increase the number of iterations. Duality gap: 0.0, tolerance: 0.0\n",
            "  positive)\n",
            "C:\\Users\\User\\Anaconda3\\envs\\buan6341_2020\\lib\\site-packages\\sklearn\\linear_model\\_coordinate_descent.py:476: ConvergenceWarning: Objective did not converge. You might want to increase the number of iterations. Duality gap: 0.0, tolerance: 0.0\n",
            "  positive)\n",
            "C:\\Users\\User\\Anaconda3\\envs\\buan6341_2020\\lib\\site-packages\\sklearn\\linear_model\\_coordinate_descent.py:476: ConvergenceWarning: Objective did not converge. You might want to increase the number of iterations. Duality gap: 0.0, tolerance: 0.0\n",
            "  positive)\n",
            "C:\\Users\\User\\Anaconda3\\envs\\buan6341_2020\\lib\\site-packages\\sklearn\\linear_model\\_coordinate_descent.py:476: ConvergenceWarning: Objective did not converge. You might want to increase the number of iterations. Duality gap: 0.0, tolerance: 0.0\n",
            "  positive)\n",
            "C:\\Users\\User\\Anaconda3\\envs\\buan6341_2020\\lib\\site-packages\\sklearn\\linear_model\\_coordinate_descent.py:476: ConvergenceWarning: Objective did not converge. You might want to increase the number of iterations. Duality gap: 0.0, tolerance: 0.0\n",
            "  positive)\n",
            "C:\\Users\\User\\Anaconda3\\envs\\buan6341_2020\\lib\\site-packages\\sklearn\\linear_model\\_coordinate_descent.py:476: ConvergenceWarning: Objective did not converge. You might want to increase the number of iterations. Duality gap: 0.0, tolerance: 0.0\n",
            "  positive)\n",
            "C:\\Users\\User\\Anaconda3\\envs\\buan6341_2020\\lib\\site-packages\\sklearn\\linear_model\\_coordinate_descent.py:476: ConvergenceWarning: Objective did not converge. You might want to increase the number of iterations. Duality gap: 0.0, tolerance: 0.0\n",
            "  positive)\n",
            "C:\\Users\\User\\Anaconda3\\envs\\buan6341_2020\\lib\\site-packages\\sklearn\\linear_model\\_coordinate_descent.py:476: ConvergenceWarning: Objective did not converge. You might want to increase the number of iterations. Duality gap: 0.0, tolerance: 0.0\n",
            "  positive)\n",
            "C:\\Users\\User\\Anaconda3\\envs\\buan6341_2020\\lib\\site-packages\\sklearn\\linear_model\\_coordinate_descent.py:476: ConvergenceWarning: Objective did not converge. You might want to increase the number of iterations. Duality gap: 0.0, tolerance: 0.0\n",
            "  positive)\n",
            "C:\\Users\\User\\Anaconda3\\envs\\buan6341_2020\\lib\\site-packages\\sklearn\\linear_model\\_coordinate_descent.py:476: ConvergenceWarning: Objective did not converge. You might want to increase the number of iterations. Duality gap: 0.0, tolerance: 0.0\n",
            "  positive)\n",
            "C:\\Users\\User\\Anaconda3\\envs\\buan6341_2020\\lib\\site-packages\\sklearn\\linear_model\\_coordinate_descent.py:476: ConvergenceWarning: Objective did not converge. You might want to increase the number of iterations. Duality gap: 0.0, tolerance: 0.0\n",
            "  positive)\n",
            "C:\\Users\\User\\Anaconda3\\envs\\buan6341_2020\\lib\\site-packages\\sklearn\\linear_model\\_coordinate_descent.py:476: ConvergenceWarning: Objective did not converge. You might want to increase the number of iterations. Duality gap: 0.0, tolerance: 0.0\n",
            "  positive)\n",
            "C:\\Users\\User\\Anaconda3\\envs\\buan6341_2020\\lib\\site-packages\\sklearn\\linear_model\\_coordinate_descent.py:476: ConvergenceWarning: Objective did not converge. You might want to increase the number of iterations. Duality gap: 0.0, tolerance: 0.0\n",
            "  positive)\n",
            "C:\\Users\\User\\Anaconda3\\envs\\buan6341_2020\\lib\\site-packages\\sklearn\\linear_model\\_coordinate_descent.py:476: ConvergenceWarning: Objective did not converge. You might want to increase the number of iterations. Duality gap: 0.0, tolerance: 0.0\n",
            "  positive)\n",
            "C:\\Users\\User\\Anaconda3\\envs\\buan6341_2020\\lib\\site-packages\\sklearn\\linear_model\\_coordinate_descent.py:476: ConvergenceWarning: Objective did not converge. You might want to increase the number of iterations. Duality gap: 0.0, tolerance: 0.0\n",
            "  positive)\n",
            "C:\\Users\\User\\Anaconda3\\envs\\buan6341_2020\\lib\\site-packages\\sklearn\\linear_model\\_coordinate_descent.py:476: ConvergenceWarning: Objective did not converge. You might want to increase the number of iterations. Duality gap: 0.0, tolerance: 0.0\n",
            "  positive)\n",
            "C:\\Users\\User\\Anaconda3\\envs\\buan6341_2020\\lib\\site-packages\\sklearn\\linear_model\\_coordinate_descent.py:476: ConvergenceWarning: Objective did not converge. You might want to increase the number of iterations. Duality gap: 0.0, tolerance: 0.0\n",
            "  positive)\n"
          ],
          "name": "stderr"
        },
        {
          "output_type": "stream",
          "text": [
            "C:\\Users\\User\\Anaconda3\\envs\\buan6341_2020\\lib\\site-packages\\sklearn\\linear_model\\_coordinate_descent.py:476: ConvergenceWarning: Objective did not converge. You might want to increase the number of iterations. Duality gap: 0.0, tolerance: 0.0\n",
            "  positive)\n",
            "C:\\Users\\User\\Anaconda3\\envs\\buan6341_2020\\lib\\site-packages\\sklearn\\linear_model\\_coordinate_descent.py:476: ConvergenceWarning: Objective did not converge. You might want to increase the number of iterations. Duality gap: 0.0, tolerance: 0.0\n",
            "  positive)\n",
            "C:\\Users\\User\\Anaconda3\\envs\\buan6341_2020\\lib\\site-packages\\sklearn\\linear_model\\_coordinate_descent.py:476: ConvergenceWarning: Objective did not converge. You might want to increase the number of iterations. Duality gap: 0.0, tolerance: 0.0\n",
            "  positive)\n",
            "C:\\Users\\User\\Anaconda3\\envs\\buan6341_2020\\lib\\site-packages\\sklearn\\linear_model\\_coordinate_descent.py:476: ConvergenceWarning: Objective did not converge. You might want to increase the number of iterations. Duality gap: 0.0, tolerance: 0.0\n",
            "  positive)\n",
            "C:\\Users\\User\\Anaconda3\\envs\\buan6341_2020\\lib\\site-packages\\sklearn\\linear_model\\_coordinate_descent.py:476: ConvergenceWarning: Objective did not converge. You might want to increase the number of iterations. Duality gap: 0.0, tolerance: 0.0\n",
            "  positive)\n",
            "C:\\Users\\User\\Anaconda3\\envs\\buan6341_2020\\lib\\site-packages\\sklearn\\linear_model\\_coordinate_descent.py:476: ConvergenceWarning: Objective did not converge. You might want to increase the number of iterations. Duality gap: 0.0, tolerance: 0.0\n",
            "  positive)\n",
            "C:\\Users\\User\\Anaconda3\\envs\\buan6341_2020\\lib\\site-packages\\sklearn\\linear_model\\_coordinate_descent.py:476: ConvergenceWarning: Objective did not converge. You might want to increase the number of iterations. Duality gap: 0.0, tolerance: 0.0\n",
            "  positive)\n",
            "C:\\Users\\User\\Anaconda3\\envs\\buan6341_2020\\lib\\site-packages\\sklearn\\linear_model\\_coordinate_descent.py:476: ConvergenceWarning: Objective did not converge. You might want to increase the number of iterations. Duality gap: 0.0, tolerance: 0.0\n",
            "  positive)\n",
            "C:\\Users\\User\\Anaconda3\\envs\\buan6341_2020\\lib\\site-packages\\sklearn\\linear_model\\_coordinate_descent.py:476: ConvergenceWarning: Objective did not converge. You might want to increase the number of iterations. Duality gap: 0.0, tolerance: 0.0\n",
            "  positive)\n",
            "C:\\Users\\User\\Anaconda3\\envs\\buan6341_2020\\lib\\site-packages\\sklearn\\linear_model\\_coordinate_descent.py:476: ConvergenceWarning: Objective did not converge. You might want to increase the number of iterations. Duality gap: 0.0, tolerance: 0.0\n",
            "  positive)\n",
            "C:\\Users\\User\\Anaconda3\\envs\\buan6341_2020\\lib\\site-packages\\sklearn\\linear_model\\_coordinate_descent.py:476: ConvergenceWarning: Objective did not converge. You might want to increase the number of iterations. Duality gap: 0.0, tolerance: 0.0\n",
            "  positive)\n",
            "C:\\Users\\User\\Anaconda3\\envs\\buan6341_2020\\lib\\site-packages\\sklearn\\linear_model\\_coordinate_descent.py:476: ConvergenceWarning: Objective did not converge. You might want to increase the number of iterations. Duality gap: 0.0, tolerance: 0.0\n",
            "  positive)\n",
            "C:\\Users\\User\\Anaconda3\\envs\\buan6341_2020\\lib\\site-packages\\sklearn\\linear_model\\_coordinate_descent.py:476: ConvergenceWarning: Objective did not converge. You might want to increase the number of iterations. Duality gap: 0.0, tolerance: 0.0\n",
            "  positive)\n",
            "C:\\Users\\User\\Anaconda3\\envs\\buan6341_2020\\lib\\site-packages\\sklearn\\linear_model\\_coordinate_descent.py:476: ConvergenceWarning: Objective did not converge. You might want to increase the number of iterations. Duality gap: 0.0, tolerance: 0.0\n",
            "  positive)\n",
            "C:\\Users\\User\\Anaconda3\\envs\\buan6341_2020\\lib\\site-packages\\sklearn\\linear_model\\_coordinate_descent.py:476: ConvergenceWarning: Objective did not converge. You might want to increase the number of iterations. Duality gap: 0.0, tolerance: 0.0\n",
            "  positive)\n",
            "C:\\Users\\User\\Anaconda3\\envs\\buan6341_2020\\lib\\site-packages\\sklearn\\linear_model\\_coordinate_descent.py:476: ConvergenceWarning: Objective did not converge. You might want to increase the number of iterations. Duality gap: 0.0, tolerance: 0.0\n",
            "  positive)\n",
            "C:\\Users\\User\\Anaconda3\\envs\\buan6341_2020\\lib\\site-packages\\sklearn\\linear_model\\_coordinate_descent.py:476: ConvergenceWarning: Objective did not converge. You might want to increase the number of iterations. Duality gap: 0.0, tolerance: 0.0\n",
            "  positive)\n",
            "C:\\Users\\User\\Anaconda3\\envs\\buan6341_2020\\lib\\site-packages\\sklearn\\linear_model\\_coordinate_descent.py:476: ConvergenceWarning: Objective did not converge. You might want to increase the number of iterations. Duality gap: 0.0, tolerance: 0.0\n",
            "  positive)\n",
            "C:\\Users\\User\\Anaconda3\\envs\\buan6341_2020\\lib\\site-packages\\sklearn\\linear_model\\_coordinate_descent.py:476: ConvergenceWarning: Objective did not converge. You might want to increase the number of iterations. Duality gap: 0.0, tolerance: 0.0\n",
            "  positive)\n",
            "C:\\Users\\User\\Anaconda3\\envs\\buan6341_2020\\lib\\site-packages\\sklearn\\linear_model\\_coordinate_descent.py:476: ConvergenceWarning: Objective did not converge. You might want to increase the number of iterations. Duality gap: 0.0, tolerance: 0.0\n",
            "  positive)\n",
            "C:\\Users\\User\\Anaconda3\\envs\\buan6341_2020\\lib\\site-packages\\sklearn\\linear_model\\_coordinate_descent.py:476: ConvergenceWarning: Objective did not converge. You might want to increase the number of iterations. Duality gap: 0.0, tolerance: 0.0\n",
            "  positive)\n",
            "C:\\Users\\User\\Anaconda3\\envs\\buan6341_2020\\lib\\site-packages\\sklearn\\linear_model\\_coordinate_descent.py:476: ConvergenceWarning: Objective did not converge. You might want to increase the number of iterations. Duality gap: 0.0, tolerance: 0.0\n",
            "  positive)\n",
            "C:\\Users\\User\\Anaconda3\\envs\\buan6341_2020\\lib\\site-packages\\sklearn\\linear_model\\_coordinate_descent.py:476: ConvergenceWarning: Objective did not converge. You might want to increase the number of iterations. Duality gap: 0.0, tolerance: 0.0\n",
            "  positive)\n",
            "C:\\Users\\User\\Anaconda3\\envs\\buan6341_2020\\lib\\site-packages\\sklearn\\linear_model\\_coordinate_descent.py:476: ConvergenceWarning: Objective did not converge. You might want to increase the number of iterations. Duality gap: 0.0, tolerance: 0.0\n",
            "  positive)\n",
            "C:\\Users\\User\\Anaconda3\\envs\\buan6341_2020\\lib\\site-packages\\sklearn\\linear_model\\_coordinate_descent.py:476: ConvergenceWarning: Objective did not converge. You might want to increase the number of iterations. Duality gap: 0.0, tolerance: 0.0\n",
            "  positive)\n",
            "C:\\Users\\User\\Anaconda3\\envs\\buan6341_2020\\lib\\site-packages\\sklearn\\linear_model\\_coordinate_descent.py:476: ConvergenceWarning: Objective did not converge. You might want to increase the number of iterations. Duality gap: 0.0, tolerance: 0.0\n",
            "  positive)\n",
            "C:\\Users\\User\\Anaconda3\\envs\\buan6341_2020\\lib\\site-packages\\sklearn\\linear_model\\_coordinate_descent.py:476: ConvergenceWarning: Objective did not converge. You might want to increase the number of iterations. Duality gap: 0.0, tolerance: 0.0\n",
            "  positive)\n",
            "C:\\Users\\User\\Anaconda3\\envs\\buan6341_2020\\lib\\site-packages\\sklearn\\linear_model\\_coordinate_descent.py:476: ConvergenceWarning: Objective did not converge. You might want to increase the number of iterations. Duality gap: 0.0, tolerance: 0.0\n",
            "  positive)\n",
            "C:\\Users\\User\\Anaconda3\\envs\\buan6341_2020\\lib\\site-packages\\sklearn\\linear_model\\_coordinate_descent.py:476: ConvergenceWarning: Objective did not converge. You might want to increase the number of iterations. Duality gap: 0.0, tolerance: 0.0\n",
            "  positive)\n",
            "C:\\Users\\User\\Anaconda3\\envs\\buan6341_2020\\lib\\site-packages\\sklearn\\linear_model\\_coordinate_descent.py:476: ConvergenceWarning: Objective did not converge. You might want to increase the number of iterations. Duality gap: 0.0, tolerance: 0.0\n",
            "  positive)\n",
            "C:\\Users\\User\\Anaconda3\\envs\\buan6341_2020\\lib\\site-packages\\sklearn\\linear_model\\_coordinate_descent.py:476: ConvergenceWarning: Objective did not converge. You might want to increase the number of iterations. Duality gap: 0.0, tolerance: 0.0\n",
            "  positive)\n",
            "C:\\Users\\User\\Anaconda3\\envs\\buan6341_2020\\lib\\site-packages\\sklearn\\linear_model\\_coordinate_descent.py:476: ConvergenceWarning: Objective did not converge. You might want to increase the number of iterations. Duality gap: 0.0, tolerance: 0.0\n",
            "  positive)\n",
            "C:\\Users\\User\\Anaconda3\\envs\\buan6341_2020\\lib\\site-packages\\sklearn\\linear_model\\_coordinate_descent.py:476: ConvergenceWarning: Objective did not converge. You might want to increase the number of iterations. Duality gap: 0.0, tolerance: 0.0\n",
            "  positive)\n",
            "C:\\Users\\User\\Anaconda3\\envs\\buan6341_2020\\lib\\site-packages\\sklearn\\linear_model\\_coordinate_descent.py:476: ConvergenceWarning: Objective did not converge. You might want to increase the number of iterations. Duality gap: 0.0, tolerance: 0.0\n",
            "  positive)\n"
          ],
          "name": "stderr"
        },
        {
          "output_type": "stream",
          "text": [
            "C:\\Users\\User\\Anaconda3\\envs\\buan6341_2020\\lib\\site-packages\\sklearn\\linear_model\\_coordinate_descent.py:476: ConvergenceWarning: Objective did not converge. You might want to increase the number of iterations. Duality gap: 0.0, tolerance: 0.0\n",
            "  positive)\n",
            "C:\\Users\\User\\Anaconda3\\envs\\buan6341_2020\\lib\\site-packages\\sklearn\\linear_model\\_coordinate_descent.py:476: ConvergenceWarning: Objective did not converge. You might want to increase the number of iterations. Duality gap: 0.0, tolerance: 0.0\n",
            "  positive)\n",
            "C:\\Users\\User\\Anaconda3\\envs\\buan6341_2020\\lib\\site-packages\\sklearn\\linear_model\\_coordinate_descent.py:476: ConvergenceWarning: Objective did not converge. You might want to increase the number of iterations. Duality gap: 0.0, tolerance: 0.0\n",
            "  positive)\n",
            "C:\\Users\\User\\Anaconda3\\envs\\buan6341_2020\\lib\\site-packages\\sklearn\\linear_model\\_coordinate_descent.py:476: ConvergenceWarning: Objective did not converge. You might want to increase the number of iterations. Duality gap: 0.0, tolerance: 0.0\n",
            "  positive)\n",
            "C:\\Users\\User\\Anaconda3\\envs\\buan6341_2020\\lib\\site-packages\\sklearn\\linear_model\\_coordinate_descent.py:476: ConvergenceWarning: Objective did not converge. You might want to increase the number of iterations. Duality gap: 0.0, tolerance: 0.0\n",
            "  positive)\n",
            "C:\\Users\\User\\Anaconda3\\envs\\buan6341_2020\\lib\\site-packages\\sklearn\\linear_model\\_coordinate_descent.py:476: ConvergenceWarning: Objective did not converge. You might want to increase the number of iterations. Duality gap: 0.0, tolerance: 0.0\n",
            "  positive)\n",
            "C:\\Users\\User\\Anaconda3\\envs\\buan6341_2020\\lib\\site-packages\\sklearn\\linear_model\\_coordinate_descent.py:476: ConvergenceWarning: Objective did not converge. You might want to increase the number of iterations. Duality gap: 0.0, tolerance: 0.0\n",
            "  positive)\n",
            "C:\\Users\\User\\Anaconda3\\envs\\buan6341_2020\\lib\\site-packages\\sklearn\\linear_model\\_coordinate_descent.py:476: ConvergenceWarning: Objective did not converge. You might want to increase the number of iterations. Duality gap: 0.0, tolerance: 0.0\n",
            "  positive)\n",
            "C:\\Users\\User\\Anaconda3\\envs\\buan6341_2020\\lib\\site-packages\\sklearn\\linear_model\\_coordinate_descent.py:476: ConvergenceWarning: Objective did not converge. You might want to increase the number of iterations. Duality gap: 0.0, tolerance: 0.0\n",
            "  positive)\n",
            "C:\\Users\\User\\Anaconda3\\envs\\buan6341_2020\\lib\\site-packages\\sklearn\\linear_model\\_coordinate_descent.py:476: ConvergenceWarning: Objective did not converge. You might want to increase the number of iterations. Duality gap: 0.0, tolerance: 0.0\n",
            "  positive)\n",
            "C:\\Users\\User\\Anaconda3\\envs\\buan6341_2020\\lib\\site-packages\\sklearn\\linear_model\\_coordinate_descent.py:476: ConvergenceWarning: Objective did not converge. You might want to increase the number of iterations. Duality gap: 0.0, tolerance: 0.0\n",
            "  positive)\n",
            "C:\\Users\\User\\Anaconda3\\envs\\buan6341_2020\\lib\\site-packages\\sklearn\\linear_model\\_coordinate_descent.py:476: ConvergenceWarning: Objective did not converge. You might want to increase the number of iterations. Duality gap: 0.0, tolerance: 0.0\n",
            "  positive)\n",
            "C:\\Users\\User\\Anaconda3\\envs\\buan6341_2020\\lib\\site-packages\\sklearn\\linear_model\\_coordinate_descent.py:476: ConvergenceWarning: Objective did not converge. You might want to increase the number of iterations. Duality gap: 0.0, tolerance: 0.0\n",
            "  positive)\n",
            "C:\\Users\\User\\Anaconda3\\envs\\buan6341_2020\\lib\\site-packages\\sklearn\\linear_model\\_coordinate_descent.py:476: ConvergenceWarning: Objective did not converge. You might want to increase the number of iterations. Duality gap: 0.0, tolerance: 0.0\n",
            "  positive)\n",
            "C:\\Users\\User\\Anaconda3\\envs\\buan6341_2020\\lib\\site-packages\\sklearn\\linear_model\\_coordinate_descent.py:476: ConvergenceWarning: Objective did not converge. You might want to increase the number of iterations. Duality gap: 0.0, tolerance: 0.0\n",
            "  positive)\n",
            "C:\\Users\\User\\Anaconda3\\envs\\buan6341_2020\\lib\\site-packages\\sklearn\\linear_model\\_coordinate_descent.py:476: ConvergenceWarning: Objective did not converge. You might want to increase the number of iterations. Duality gap: 0.0, tolerance: 0.0\n",
            "  positive)\n",
            "C:\\Users\\User\\Anaconda3\\envs\\buan6341_2020\\lib\\site-packages\\sklearn\\linear_model\\_coordinate_descent.py:476: ConvergenceWarning: Objective did not converge. You might want to increase the number of iterations. Duality gap: 0.0, tolerance: 0.0\n",
            "  positive)\n",
            "C:\\Users\\User\\Anaconda3\\envs\\buan6341_2020\\lib\\site-packages\\sklearn\\linear_model\\_coordinate_descent.py:476: ConvergenceWarning: Objective did not converge. You might want to increase the number of iterations. Duality gap: 0.0, tolerance: 0.0\n",
            "  positive)\n",
            "C:\\Users\\User\\Anaconda3\\envs\\buan6341_2020\\lib\\site-packages\\sklearn\\linear_model\\_coordinate_descent.py:476: ConvergenceWarning: Objective did not converge. You might want to increase the number of iterations. Duality gap: 0.0, tolerance: 0.0\n",
            "  positive)\n",
            "C:\\Users\\User\\Anaconda3\\envs\\buan6341_2020\\lib\\site-packages\\sklearn\\linear_model\\_coordinate_descent.py:476: ConvergenceWarning: Objective did not converge. You might want to increase the number of iterations. Duality gap: 0.0, tolerance: 0.0\n",
            "  positive)\n",
            "C:\\Users\\User\\Anaconda3\\envs\\buan6341_2020\\lib\\site-packages\\sklearn\\linear_model\\_coordinate_descent.py:476: ConvergenceWarning: Objective did not converge. You might want to increase the number of iterations. Duality gap: 0.0, tolerance: 0.0\n",
            "  positive)\n",
            "C:\\Users\\User\\Anaconda3\\envs\\buan6341_2020\\lib\\site-packages\\sklearn\\linear_model\\_coordinate_descent.py:476: ConvergenceWarning: Objective did not converge. You might want to increase the number of iterations. Duality gap: 0.0, tolerance: 0.0\n",
            "  positive)\n",
            "C:\\Users\\User\\Anaconda3\\envs\\buan6341_2020\\lib\\site-packages\\sklearn\\linear_model\\_coordinate_descent.py:476: ConvergenceWarning: Objective did not converge. You might want to increase the number of iterations. Duality gap: 0.0, tolerance: 0.0\n",
            "  positive)\n",
            "C:\\Users\\User\\Anaconda3\\envs\\buan6341_2020\\lib\\site-packages\\sklearn\\linear_model\\_coordinate_descent.py:476: ConvergenceWarning: Objective did not converge. You might want to increase the number of iterations. Duality gap: 0.0, tolerance: 0.0\n",
            "  positive)\n",
            "C:\\Users\\User\\Anaconda3\\envs\\buan6341_2020\\lib\\site-packages\\sklearn\\linear_model\\_coordinate_descent.py:476: ConvergenceWarning: Objective did not converge. You might want to increase the number of iterations. Duality gap: 0.0, tolerance: 0.0\n",
            "  positive)\n",
            "C:\\Users\\User\\Anaconda3\\envs\\buan6341_2020\\lib\\site-packages\\sklearn\\linear_model\\_coordinate_descent.py:476: ConvergenceWarning: Objective did not converge. You might want to increase the number of iterations. Duality gap: 0.0, tolerance: 0.0\n",
            "  positive)\n",
            "C:\\Users\\User\\Anaconda3\\envs\\buan6341_2020\\lib\\site-packages\\sklearn\\linear_model\\_coordinate_descent.py:476: ConvergenceWarning: Objective did not converge. You might want to increase the number of iterations. Duality gap: 0.0, tolerance: 0.0\n",
            "  positive)\n",
            "C:\\Users\\User\\Anaconda3\\envs\\buan6341_2020\\lib\\site-packages\\sklearn\\linear_model\\_coordinate_descent.py:476: ConvergenceWarning: Objective did not converge. You might want to increase the number of iterations. Duality gap: 0.0, tolerance: 0.0\n",
            "  positive)\n",
            "C:\\Users\\User\\Anaconda3\\envs\\buan6341_2020\\lib\\site-packages\\sklearn\\linear_model\\_coordinate_descent.py:476: ConvergenceWarning: Objective did not converge. You might want to increase the number of iterations. Duality gap: 0.0, tolerance: 0.0\n",
            "  positive)\n",
            "C:\\Users\\User\\Anaconda3\\envs\\buan6341_2020\\lib\\site-packages\\sklearn\\linear_model\\_coordinate_descent.py:476: ConvergenceWarning: Objective did not converge. You might want to increase the number of iterations. Duality gap: 0.0, tolerance: 0.0\n",
            "  positive)\n",
            "C:\\Users\\User\\Anaconda3\\envs\\buan6341_2020\\lib\\site-packages\\sklearn\\linear_model\\_coordinate_descent.py:476: ConvergenceWarning: Objective did not converge. You might want to increase the number of iterations. Duality gap: 0.0, tolerance: 0.0\n",
            "  positive)\n",
            "C:\\Users\\User\\Anaconda3\\envs\\buan6341_2020\\lib\\site-packages\\sklearn\\linear_model\\_coordinate_descent.py:476: ConvergenceWarning: Objective did not converge. You might want to increase the number of iterations. Duality gap: 0.0, tolerance: 0.0\n",
            "  positive)\n",
            "C:\\Users\\User\\Anaconda3\\envs\\buan6341_2020\\lib\\site-packages\\sklearn\\linear_model\\_coordinate_descent.py:476: ConvergenceWarning: Objective did not converge. You might want to increase the number of iterations. Duality gap: 0.0, tolerance: 0.0\n",
            "  positive)\n",
            "C:\\Users\\User\\Anaconda3\\envs\\buan6341_2020\\lib\\site-packages\\sklearn\\linear_model\\_coordinate_descent.py:476: ConvergenceWarning: Objective did not converge. You might want to increase the number of iterations. Duality gap: 0.0, tolerance: 0.0\n",
            "  positive)\n",
            "C:\\Users\\User\\Anaconda3\\envs\\buan6341_2020\\lib\\site-packages\\sklearn\\linear_model\\_coordinate_descent.py:476: ConvergenceWarning: Objective did not converge. You might want to increase the number of iterations. Duality gap: 0.0, tolerance: 0.0\n",
            "  positive)\n",
            "C:\\Users\\User\\Anaconda3\\envs\\buan6341_2020\\lib\\site-packages\\sklearn\\linear_model\\_coordinate_descent.py:476: ConvergenceWarning: Objective did not converge. You might want to increase the number of iterations. Duality gap: 0.0, tolerance: 0.0\n",
            "  positive)\n",
            "C:\\Users\\User\\Anaconda3\\envs\\buan6341_2020\\lib\\site-packages\\sklearn\\linear_model\\_coordinate_descent.py:476: ConvergenceWarning: Objective did not converge. You might want to increase the number of iterations. Duality gap: 0.0, tolerance: 0.0\n",
            "  positive)\n",
            "C:\\Users\\User\\Anaconda3\\envs\\buan6341_2020\\lib\\site-packages\\sklearn\\linear_model\\_coordinate_descent.py:476: ConvergenceWarning: Objective did not converge. You might want to increase the number of iterations. Duality gap: 0.0, tolerance: 0.0\n",
            "  positive)\n",
            "C:\\Users\\User\\Anaconda3\\envs\\buan6341_2020\\lib\\site-packages\\sklearn\\linear_model\\_coordinate_descent.py:476: ConvergenceWarning: Objective did not converge. You might want to increase the number of iterations. Duality gap: 0.0, tolerance: 0.0\n",
            "  positive)\n",
            "C:\\Users\\User\\Anaconda3\\envs\\buan6341_2020\\lib\\site-packages\\sklearn\\linear_model\\_coordinate_descent.py:476: ConvergenceWarning: Objective did not converge. You might want to increase the number of iterations. Duality gap: 0.0, tolerance: 0.0\n",
            "  positive)\n",
            "C:\\Users\\User\\Anaconda3\\envs\\buan6341_2020\\lib\\site-packages\\sklearn\\linear_model\\_coordinate_descent.py:476: ConvergenceWarning: Objective did not converge. You might want to increase the number of iterations. Duality gap: 0.0, tolerance: 0.0\n",
            "  positive)\n",
            "C:\\Users\\User\\Anaconda3\\envs\\buan6341_2020\\lib\\site-packages\\sklearn\\linear_model\\_coordinate_descent.py:476: ConvergenceWarning: Objective did not converge. You might want to increase the number of iterations. Duality gap: 0.0, tolerance: 0.0\n",
            "  positive)\n",
            "C:\\Users\\User\\Anaconda3\\envs\\buan6341_2020\\lib\\site-packages\\sklearn\\linear_model\\_coordinate_descent.py:476: ConvergenceWarning: Objective did not converge. You might want to increase the number of iterations. Duality gap: 0.0, tolerance: 0.0\n",
            "  positive)\n",
            "C:\\Users\\User\\Anaconda3\\envs\\buan6341_2020\\lib\\site-packages\\sklearn\\linear_model\\_coordinate_descent.py:476: ConvergenceWarning: Objective did not converge. You might want to increase the number of iterations. Duality gap: 0.0, tolerance: 0.0\n",
            "  positive)\n",
            "C:\\Users\\User\\Anaconda3\\envs\\buan6341_2020\\lib\\site-packages\\sklearn\\linear_model\\_coordinate_descent.py:476: ConvergenceWarning: Objective did not converge. You might want to increase the number of iterations. Duality gap: 0.0, tolerance: 0.0\n",
            "  positive)\n",
            "C:\\Users\\User\\Anaconda3\\envs\\buan6341_2020\\lib\\site-packages\\sklearn\\linear_model\\_coordinate_descent.py:476: ConvergenceWarning: Objective did not converge. You might want to increase the number of iterations. Duality gap: 0.0, tolerance: 0.0\n",
            "  positive)\n",
            "C:\\Users\\User\\Anaconda3\\envs\\buan6341_2020\\lib\\site-packages\\sklearn\\linear_model\\_coordinate_descent.py:476: ConvergenceWarning: Objective did not converge. You might want to increase the number of iterations. Duality gap: 0.0, tolerance: 0.0\n",
            "  positive)\n",
            "C:\\Users\\User\\Anaconda3\\envs\\buan6341_2020\\lib\\site-packages\\sklearn\\linear_model\\_coordinate_descent.py:476: ConvergenceWarning: Objective did not converge. You might want to increase the number of iterations. Duality gap: 0.0, tolerance: 0.0\n",
            "  positive)\n",
            "C:\\Users\\User\\Anaconda3\\envs\\buan6341_2020\\lib\\site-packages\\sklearn\\linear_model\\_coordinate_descent.py:476: ConvergenceWarning: Objective did not converge. You might want to increase the number of iterations. Duality gap: 0.0, tolerance: 0.0\n",
            "  positive)\n",
            "C:\\Users\\User\\Anaconda3\\envs\\buan6341_2020\\lib\\site-packages\\sklearn\\linear_model\\_coordinate_descent.py:476: ConvergenceWarning: Objective did not converge. You might want to increase the number of iterations. Duality gap: 0.0, tolerance: 0.0\n",
            "  positive)\n",
            "C:\\Users\\User\\Anaconda3\\envs\\buan6341_2020\\lib\\site-packages\\sklearn\\linear_model\\_coordinate_descent.py:476: ConvergenceWarning: Objective did not converge. You might want to increase the number of iterations. Duality gap: 0.0, tolerance: 0.0\n",
            "  positive)\n",
            "C:\\Users\\User\\Anaconda3\\envs\\buan6341_2020\\lib\\site-packages\\sklearn\\linear_model\\_coordinate_descent.py:476: ConvergenceWarning: Objective did not converge. You might want to increase the number of iterations. Duality gap: 0.0, tolerance: 0.0\n",
            "  positive)\n",
            "C:\\Users\\User\\Anaconda3\\envs\\buan6341_2020\\lib\\site-packages\\sklearn\\linear_model\\_coordinate_descent.py:476: ConvergenceWarning: Objective did not converge. You might want to increase the number of iterations. Duality gap: 0.0, tolerance: 0.0\n",
            "  positive)\n",
            "C:\\Users\\User\\Anaconda3\\envs\\buan6341_2020\\lib\\site-packages\\sklearn\\linear_model\\_coordinate_descent.py:476: ConvergenceWarning: Objective did not converge. You might want to increase the number of iterations. Duality gap: 0.0, tolerance: 0.0\n",
            "  positive)\n"
          ],
          "name": "stderr"
        },
        {
          "output_type": "stream",
          "text": [
            "C:\\Users\\User\\Anaconda3\\envs\\buan6341_2020\\lib\\site-packages\\sklearn\\linear_model\\_coordinate_descent.py:476: ConvergenceWarning: Objective did not converge. You might want to increase the number of iterations. Duality gap: 0.0, tolerance: 0.0\n",
            "  positive)\n",
            "C:\\Users\\User\\Anaconda3\\envs\\buan6341_2020\\lib\\site-packages\\sklearn\\linear_model\\_coordinate_descent.py:476: ConvergenceWarning: Objective did not converge. You might want to increase the number of iterations. Duality gap: 0.0, tolerance: 0.0\n",
            "  positive)\n",
            "C:\\Users\\User\\Anaconda3\\envs\\buan6341_2020\\lib\\site-packages\\sklearn\\linear_model\\_coordinate_descent.py:476: ConvergenceWarning: Objective did not converge. You might want to increase the number of iterations. Duality gap: 0.0, tolerance: 0.0\n",
            "  positive)\n",
            "C:\\Users\\User\\Anaconda3\\envs\\buan6341_2020\\lib\\site-packages\\sklearn\\linear_model\\_coordinate_descent.py:476: ConvergenceWarning: Objective did not converge. You might want to increase the number of iterations. Duality gap: 0.0, tolerance: 0.0\n",
            "  positive)\n",
            "C:\\Users\\User\\Anaconda3\\envs\\buan6341_2020\\lib\\site-packages\\sklearn\\linear_model\\_coordinate_descent.py:476: ConvergenceWarning: Objective did not converge. You might want to increase the number of iterations. Duality gap: 0.0, tolerance: 0.0\n",
            "  positive)\n",
            "C:\\Users\\User\\Anaconda3\\envs\\buan6341_2020\\lib\\site-packages\\sklearn\\linear_model\\_coordinate_descent.py:476: ConvergenceWarning: Objective did not converge. You might want to increase the number of iterations. Duality gap: 0.0, tolerance: 0.0\n",
            "  positive)\n",
            "C:\\Users\\User\\Anaconda3\\envs\\buan6341_2020\\lib\\site-packages\\sklearn\\linear_model\\_coordinate_descent.py:476: ConvergenceWarning: Objective did not converge. You might want to increase the number of iterations. Duality gap: 0.0, tolerance: 0.0\n",
            "  positive)\n",
            "C:\\Users\\User\\Anaconda3\\envs\\buan6341_2020\\lib\\site-packages\\sklearn\\linear_model\\_coordinate_descent.py:476: ConvergenceWarning: Objective did not converge. You might want to increase the number of iterations. Duality gap: 0.0, tolerance: 0.0\n",
            "  positive)\n",
            "C:\\Users\\User\\Anaconda3\\envs\\buan6341_2020\\lib\\site-packages\\sklearn\\linear_model\\_coordinate_descent.py:476: ConvergenceWarning: Objective did not converge. You might want to increase the number of iterations. Duality gap: 0.0, tolerance: 0.0\n",
            "  positive)\n",
            "C:\\Users\\User\\Anaconda3\\envs\\buan6341_2020\\lib\\site-packages\\sklearn\\linear_model\\_coordinate_descent.py:476: ConvergenceWarning: Objective did not converge. You might want to increase the number of iterations. Duality gap: 0.0, tolerance: 0.0\n",
            "  positive)\n",
            "C:\\Users\\User\\Anaconda3\\envs\\buan6341_2020\\lib\\site-packages\\sklearn\\linear_model\\_coordinate_descent.py:476: ConvergenceWarning: Objective did not converge. You might want to increase the number of iterations. Duality gap: 0.0, tolerance: 0.0\n",
            "  positive)\n",
            "C:\\Users\\User\\Anaconda3\\envs\\buan6341_2020\\lib\\site-packages\\sklearn\\linear_model\\_coordinate_descent.py:476: ConvergenceWarning: Objective did not converge. You might want to increase the number of iterations. Duality gap: 0.0, tolerance: 0.0\n",
            "  positive)\n",
            "C:\\Users\\User\\Anaconda3\\envs\\buan6341_2020\\lib\\site-packages\\sklearn\\linear_model\\_coordinate_descent.py:476: ConvergenceWarning: Objective did not converge. You might want to increase the number of iterations. Duality gap: 0.0, tolerance: 0.0\n",
            "  positive)\n",
            "C:\\Users\\User\\Anaconda3\\envs\\buan6341_2020\\lib\\site-packages\\sklearn\\linear_model\\_coordinate_descent.py:476: ConvergenceWarning: Objective did not converge. You might want to increase the number of iterations. Duality gap: 0.0, tolerance: 0.0\n",
            "  positive)\n",
            "C:\\Users\\User\\Anaconda3\\envs\\buan6341_2020\\lib\\site-packages\\sklearn\\linear_model\\_coordinate_descent.py:476: ConvergenceWarning: Objective did not converge. You might want to increase the number of iterations. Duality gap: 0.0, tolerance: 0.0\n",
            "  positive)\n",
            "C:\\Users\\User\\Anaconda3\\envs\\buan6341_2020\\lib\\site-packages\\sklearn\\linear_model\\_coordinate_descent.py:476: ConvergenceWarning: Objective did not converge. You might want to increase the number of iterations. Duality gap: 0.0, tolerance: 0.0\n",
            "  positive)\n",
            "C:\\Users\\User\\Anaconda3\\envs\\buan6341_2020\\lib\\site-packages\\sklearn\\linear_model\\_coordinate_descent.py:476: ConvergenceWarning: Objective did not converge. You might want to increase the number of iterations. Duality gap: 0.0, tolerance: 0.0\n",
            "  positive)\n",
            "C:\\Users\\User\\Anaconda3\\envs\\buan6341_2020\\lib\\site-packages\\sklearn\\linear_model\\_coordinate_descent.py:476: ConvergenceWarning: Objective did not converge. You might want to increase the number of iterations. Duality gap: 0.0, tolerance: 0.0\n",
            "  positive)\n",
            "C:\\Users\\User\\Anaconda3\\envs\\buan6341_2020\\lib\\site-packages\\sklearn\\linear_model\\_coordinate_descent.py:476: ConvergenceWarning: Objective did not converge. You might want to increase the number of iterations. Duality gap: 0.0, tolerance: 0.0\n",
            "  positive)\n",
            "C:\\Users\\User\\Anaconda3\\envs\\buan6341_2020\\lib\\site-packages\\sklearn\\linear_model\\_coordinate_descent.py:476: ConvergenceWarning: Objective did not converge. You might want to increase the number of iterations. Duality gap: 0.0, tolerance: 0.0\n",
            "  positive)\n",
            "C:\\Users\\User\\Anaconda3\\envs\\buan6341_2020\\lib\\site-packages\\sklearn\\linear_model\\_coordinate_descent.py:476: ConvergenceWarning: Objective did not converge. You might want to increase the number of iterations. Duality gap: 0.0, tolerance: 0.0\n",
            "  positive)\n",
            "C:\\Users\\User\\Anaconda3\\envs\\buan6341_2020\\lib\\site-packages\\sklearn\\linear_model\\_coordinate_descent.py:476: ConvergenceWarning: Objective did not converge. You might want to increase the number of iterations. Duality gap: 0.0, tolerance: 0.0\n",
            "  positive)\n",
            "C:\\Users\\User\\Anaconda3\\envs\\buan6341_2020\\lib\\site-packages\\sklearn\\linear_model\\_coordinate_descent.py:476: ConvergenceWarning: Objective did not converge. You might want to increase the number of iterations. Duality gap: 0.0, tolerance: 0.0\n",
            "  positive)\n",
            "C:\\Users\\User\\Anaconda3\\envs\\buan6341_2020\\lib\\site-packages\\sklearn\\linear_model\\_coordinate_descent.py:476: ConvergenceWarning: Objective did not converge. You might want to increase the number of iterations. Duality gap: 0.0, tolerance: 0.0\n",
            "  positive)\n",
            "C:\\Users\\User\\Anaconda3\\envs\\buan6341_2020\\lib\\site-packages\\sklearn\\linear_model\\_coordinate_descent.py:476: ConvergenceWarning: Objective did not converge. You might want to increase the number of iterations. Duality gap: 0.0, tolerance: 0.0\n",
            "  positive)\n",
            "C:\\Users\\User\\Anaconda3\\envs\\buan6341_2020\\lib\\site-packages\\sklearn\\linear_model\\_coordinate_descent.py:476: ConvergenceWarning: Objective did not converge. You might want to increase the number of iterations. Duality gap: 0.0, tolerance: 0.0\n",
            "  positive)\n",
            "C:\\Users\\User\\Anaconda3\\envs\\buan6341_2020\\lib\\site-packages\\sklearn\\linear_model\\_coordinate_descent.py:476: ConvergenceWarning: Objective did not converge. You might want to increase the number of iterations. Duality gap: 0.0, tolerance: 0.0\n",
            "  positive)\n",
            "C:\\Users\\User\\Anaconda3\\envs\\buan6341_2020\\lib\\site-packages\\sklearn\\linear_model\\_coordinate_descent.py:476: ConvergenceWarning: Objective did not converge. You might want to increase the number of iterations. Duality gap: 0.0, tolerance: 0.0\n",
            "  positive)\n",
            "C:\\Users\\User\\Anaconda3\\envs\\buan6341_2020\\lib\\site-packages\\sklearn\\linear_model\\_coordinate_descent.py:476: ConvergenceWarning: Objective did not converge. You might want to increase the number of iterations. Duality gap: 0.0, tolerance: 0.0\n",
            "  positive)\n",
            "C:\\Users\\User\\Anaconda3\\envs\\buan6341_2020\\lib\\site-packages\\sklearn\\linear_model\\_coordinate_descent.py:476: ConvergenceWarning: Objective did not converge. You might want to increase the number of iterations. Duality gap: 0.0, tolerance: 0.0\n",
            "  positive)\n",
            "C:\\Users\\User\\Anaconda3\\envs\\buan6341_2020\\lib\\site-packages\\sklearn\\linear_model\\_coordinate_descent.py:476: ConvergenceWarning: Objective did not converge. You might want to increase the number of iterations. Duality gap: 0.0, tolerance: 0.0\n",
            "  positive)\n",
            "C:\\Users\\User\\Anaconda3\\envs\\buan6341_2020\\lib\\site-packages\\sklearn\\linear_model\\_coordinate_descent.py:476: ConvergenceWarning: Objective did not converge. You might want to increase the number of iterations. Duality gap: 0.0, tolerance: 0.0\n",
            "  positive)\n",
            "C:\\Users\\User\\Anaconda3\\envs\\buan6341_2020\\lib\\site-packages\\sklearn\\linear_model\\_coordinate_descent.py:476: ConvergenceWarning: Objective did not converge. You might want to increase the number of iterations. Duality gap: 0.0, tolerance: 0.0\n",
            "  positive)\n",
            "C:\\Users\\User\\Anaconda3\\envs\\buan6341_2020\\lib\\site-packages\\sklearn\\linear_model\\_coordinate_descent.py:476: ConvergenceWarning: Objective did not converge. You might want to increase the number of iterations. Duality gap: 0.0, tolerance: 0.0\n",
            "  positive)\n",
            "C:\\Users\\User\\Anaconda3\\envs\\buan6341_2020\\lib\\site-packages\\sklearn\\linear_model\\_coordinate_descent.py:476: ConvergenceWarning: Objective did not converge. You might want to increase the number of iterations. Duality gap: 0.0, tolerance: 0.0\n",
            "  positive)\n",
            "C:\\Users\\User\\Anaconda3\\envs\\buan6341_2020\\lib\\site-packages\\sklearn\\linear_model\\_coordinate_descent.py:476: ConvergenceWarning: Objective did not converge. You might want to increase the number of iterations. Duality gap: 0.0, tolerance: 0.0\n",
            "  positive)\n",
            "C:\\Users\\User\\Anaconda3\\envs\\buan6341_2020\\lib\\site-packages\\sklearn\\linear_model\\_coordinate_descent.py:476: ConvergenceWarning: Objective did not converge. You might want to increase the number of iterations. Duality gap: 0.0, tolerance: 0.0\n",
            "  positive)\n",
            "C:\\Users\\User\\Anaconda3\\envs\\buan6341_2020\\lib\\site-packages\\sklearn\\linear_model\\_coordinate_descent.py:476: ConvergenceWarning: Objective did not converge. You might want to increase the number of iterations. Duality gap: 0.0, tolerance: 0.0\n",
            "  positive)\n",
            "C:\\Users\\User\\Anaconda3\\envs\\buan6341_2020\\lib\\site-packages\\sklearn\\linear_model\\_coordinate_descent.py:476: ConvergenceWarning: Objective did not converge. You might want to increase the number of iterations. Duality gap: 0.0, tolerance: 0.0\n",
            "  positive)\n",
            "C:\\Users\\User\\Anaconda3\\envs\\buan6341_2020\\lib\\site-packages\\sklearn\\linear_model\\_coordinate_descent.py:476: ConvergenceWarning: Objective did not converge. You might want to increase the number of iterations. Duality gap: 0.0, tolerance: 0.0\n",
            "  positive)\n",
            "C:\\Users\\User\\Anaconda3\\envs\\buan6341_2020\\lib\\site-packages\\sklearn\\linear_model\\_coordinate_descent.py:476: ConvergenceWarning: Objective did not converge. You might want to increase the number of iterations. Duality gap: 0.0, tolerance: 0.0\n",
            "  positive)\n",
            "C:\\Users\\User\\Anaconda3\\envs\\buan6341_2020\\lib\\site-packages\\sklearn\\linear_model\\_coordinate_descent.py:476: ConvergenceWarning: Objective did not converge. You might want to increase the number of iterations. Duality gap: 0.0, tolerance: 0.0\n",
            "  positive)\n",
            "C:\\Users\\User\\Anaconda3\\envs\\buan6341_2020\\lib\\site-packages\\sklearn\\linear_model\\_coordinate_descent.py:476: ConvergenceWarning: Objective did not converge. You might want to increase the number of iterations. Duality gap: 0.0, tolerance: 0.0\n",
            "  positive)\n",
            "C:\\Users\\User\\Anaconda3\\envs\\buan6341_2020\\lib\\site-packages\\sklearn\\linear_model\\_coordinate_descent.py:476: ConvergenceWarning: Objective did not converge. You might want to increase the number of iterations. Duality gap: 0.0, tolerance: 0.0\n",
            "  positive)\n",
            "C:\\Users\\User\\Anaconda3\\envs\\buan6341_2020\\lib\\site-packages\\sklearn\\linear_model\\_coordinate_descent.py:476: ConvergenceWarning: Objective did not converge. You might want to increase the number of iterations. Duality gap: 0.0, tolerance: 0.0\n",
            "  positive)\n"
          ],
          "name": "stderr"
        },
        {
          "output_type": "stream",
          "text": [
            "C:\\Users\\User\\Anaconda3\\envs\\buan6341_2020\\lib\\site-packages\\sklearn\\linear_model\\_coordinate_descent.py:476: ConvergenceWarning: Objective did not converge. You might want to increase the number of iterations. Duality gap: 0.0, tolerance: 0.0\n",
            "  positive)\n",
            "C:\\Users\\User\\Anaconda3\\envs\\buan6341_2020\\lib\\site-packages\\sklearn\\linear_model\\_coordinate_descent.py:476: ConvergenceWarning: Objective did not converge. You might want to increase the number of iterations. Duality gap: 0.0, tolerance: 0.0\n",
            "  positive)\n",
            "C:\\Users\\User\\Anaconda3\\envs\\buan6341_2020\\lib\\site-packages\\sklearn\\linear_model\\_coordinate_descent.py:476: ConvergenceWarning: Objective did not converge. You might want to increase the number of iterations. Duality gap: 0.0, tolerance: 0.0\n",
            "  positive)\n",
            "C:\\Users\\User\\Anaconda3\\envs\\buan6341_2020\\lib\\site-packages\\sklearn\\linear_model\\_coordinate_descent.py:476: ConvergenceWarning: Objective did not converge. You might want to increase the number of iterations. Duality gap: 0.0, tolerance: 0.0\n",
            "  positive)\n",
            "C:\\Users\\User\\Anaconda3\\envs\\buan6341_2020\\lib\\site-packages\\sklearn\\linear_model\\_coordinate_descent.py:476: ConvergenceWarning: Objective did not converge. You might want to increase the number of iterations. Duality gap: 0.0, tolerance: 0.0\n",
            "  positive)\n",
            "C:\\Users\\User\\Anaconda3\\envs\\buan6341_2020\\lib\\site-packages\\sklearn\\linear_model\\_coordinate_descent.py:476: ConvergenceWarning: Objective did not converge. You might want to increase the number of iterations. Duality gap: 0.0, tolerance: 0.0\n",
            "  positive)\n",
            "C:\\Users\\User\\Anaconda3\\envs\\buan6341_2020\\lib\\site-packages\\sklearn\\linear_model\\_coordinate_descent.py:476: ConvergenceWarning: Objective did not converge. You might want to increase the number of iterations. Duality gap: 0.0, tolerance: 0.0\n",
            "  positive)\n",
            "C:\\Users\\User\\Anaconda3\\envs\\buan6341_2020\\lib\\site-packages\\sklearn\\linear_model\\_coordinate_descent.py:476: ConvergenceWarning: Objective did not converge. You might want to increase the number of iterations. Duality gap: 0.0, tolerance: 0.0\n",
            "  positive)\n",
            "C:\\Users\\User\\Anaconda3\\envs\\buan6341_2020\\lib\\site-packages\\sklearn\\linear_model\\_coordinate_descent.py:476: ConvergenceWarning: Objective did not converge. You might want to increase the number of iterations. Duality gap: 0.0, tolerance: 0.0\n",
            "  positive)\n",
            "C:\\Users\\User\\Anaconda3\\envs\\buan6341_2020\\lib\\site-packages\\sklearn\\linear_model\\_coordinate_descent.py:476: ConvergenceWarning: Objective did not converge. You might want to increase the number of iterations. Duality gap: 0.0, tolerance: 0.0\n",
            "  positive)\n",
            "C:\\Users\\User\\Anaconda3\\envs\\buan6341_2020\\lib\\site-packages\\sklearn\\linear_model\\_coordinate_descent.py:476: ConvergenceWarning: Objective did not converge. You might want to increase the number of iterations. Duality gap: 0.0, tolerance: 0.0\n",
            "  positive)\n",
            "C:\\Users\\User\\Anaconda3\\envs\\buan6341_2020\\lib\\site-packages\\sklearn\\linear_model\\_coordinate_descent.py:476: ConvergenceWarning: Objective did not converge. You might want to increase the number of iterations. Duality gap: 0.0, tolerance: 0.0\n",
            "  positive)\n",
            "C:\\Users\\User\\Anaconda3\\envs\\buan6341_2020\\lib\\site-packages\\sklearn\\linear_model\\_coordinate_descent.py:476: ConvergenceWarning: Objective did not converge. You might want to increase the number of iterations. Duality gap: 0.0, tolerance: 0.0\n",
            "  positive)\n",
            "C:\\Users\\User\\Anaconda3\\envs\\buan6341_2020\\lib\\site-packages\\sklearn\\linear_model\\_coordinate_descent.py:476: ConvergenceWarning: Objective did not converge. You might want to increase the number of iterations. Duality gap: 0.0, tolerance: 0.0\n",
            "  positive)\n",
            "C:\\Users\\User\\Anaconda3\\envs\\buan6341_2020\\lib\\site-packages\\sklearn\\linear_model\\_coordinate_descent.py:476: ConvergenceWarning: Objective did not converge. You might want to increase the number of iterations. Duality gap: 0.0, tolerance: 0.0\n",
            "  positive)\n",
            "C:\\Users\\User\\Anaconda3\\envs\\buan6341_2020\\lib\\site-packages\\sklearn\\linear_model\\_coordinate_descent.py:476: ConvergenceWarning: Objective did not converge. You might want to increase the number of iterations. Duality gap: 0.0, tolerance: 0.0\n",
            "  positive)\n",
            "C:\\Users\\User\\Anaconda3\\envs\\buan6341_2020\\lib\\site-packages\\sklearn\\linear_model\\_coordinate_descent.py:476: ConvergenceWarning: Objective did not converge. You might want to increase the number of iterations. Duality gap: 0.0, tolerance: 0.0\n",
            "  positive)\n",
            "C:\\Users\\User\\Anaconda3\\envs\\buan6341_2020\\lib\\site-packages\\sklearn\\linear_model\\_coordinate_descent.py:476: ConvergenceWarning: Objective did not converge. You might want to increase the number of iterations. Duality gap: 0.0, tolerance: 0.0\n",
            "  positive)\n",
            "C:\\Users\\User\\Anaconda3\\envs\\buan6341_2020\\lib\\site-packages\\sklearn\\linear_model\\_coordinate_descent.py:476: ConvergenceWarning: Objective did not converge. You might want to increase the number of iterations. Duality gap: 0.0, tolerance: 0.0\n",
            "  positive)\n",
            "C:\\Users\\User\\Anaconda3\\envs\\buan6341_2020\\lib\\site-packages\\sklearn\\linear_model\\_coordinate_descent.py:476: ConvergenceWarning: Objective did not converge. You might want to increase the number of iterations. Duality gap: 0.0, tolerance: 0.0\n",
            "  positive)\n",
            "C:\\Users\\User\\Anaconda3\\envs\\buan6341_2020\\lib\\site-packages\\sklearn\\linear_model\\_coordinate_descent.py:476: ConvergenceWarning: Objective did not converge. You might want to increase the number of iterations. Duality gap: 0.0, tolerance: 0.0\n",
            "  positive)\n",
            "C:\\Users\\User\\Anaconda3\\envs\\buan6341_2020\\lib\\site-packages\\sklearn\\linear_model\\_coordinate_descent.py:476: ConvergenceWarning: Objective did not converge. You might want to increase the number of iterations. Duality gap: 0.0, tolerance: 0.0\n",
            "  positive)\n",
            "C:\\Users\\User\\Anaconda3\\envs\\buan6341_2020\\lib\\site-packages\\sklearn\\linear_model\\_coordinate_descent.py:476: ConvergenceWarning: Objective did not converge. You might want to increase the number of iterations. Duality gap: 0.0, tolerance: 0.0\n",
            "  positive)\n",
            "C:\\Users\\User\\Anaconda3\\envs\\buan6341_2020\\lib\\site-packages\\sklearn\\linear_model\\_coordinate_descent.py:476: ConvergenceWarning: Objective did not converge. You might want to increase the number of iterations. Duality gap: 0.0, tolerance: 0.0\n",
            "  positive)\n",
            "C:\\Users\\User\\Anaconda3\\envs\\buan6341_2020\\lib\\site-packages\\sklearn\\linear_model\\_coordinate_descent.py:476: ConvergenceWarning: Objective did not converge. You might want to increase the number of iterations. Duality gap: 0.0, tolerance: 0.0\n",
            "  positive)\n",
            "C:\\Users\\User\\Anaconda3\\envs\\buan6341_2020\\lib\\site-packages\\sklearn\\linear_model\\_coordinate_descent.py:476: ConvergenceWarning: Objective did not converge. You might want to increase the number of iterations. Duality gap: 0.0, tolerance: 0.0\n",
            "  positive)\n",
            "C:\\Users\\User\\Anaconda3\\envs\\buan6341_2020\\lib\\site-packages\\sklearn\\linear_model\\_coordinate_descent.py:476: ConvergenceWarning: Objective did not converge. You might want to increase the number of iterations. Duality gap: 0.0, tolerance: 0.0\n",
            "  positive)\n",
            "C:\\Users\\User\\Anaconda3\\envs\\buan6341_2020\\lib\\site-packages\\sklearn\\linear_model\\_coordinate_descent.py:476: ConvergenceWarning: Objective did not converge. You might want to increase the number of iterations. Duality gap: 0.0, tolerance: 0.0\n",
            "  positive)\n",
            "C:\\Users\\User\\Anaconda3\\envs\\buan6341_2020\\lib\\site-packages\\sklearn\\linear_model\\_coordinate_descent.py:476: ConvergenceWarning: Objective did not converge. You might want to increase the number of iterations. Duality gap: 0.0, tolerance: 0.0\n",
            "  positive)\n",
            "C:\\Users\\User\\Anaconda3\\envs\\buan6341_2020\\lib\\site-packages\\sklearn\\linear_model\\_coordinate_descent.py:476: ConvergenceWarning: Objective did not converge. You might want to increase the number of iterations. Duality gap: 0.0, tolerance: 0.0\n",
            "  positive)\n",
            "C:\\Users\\User\\Anaconda3\\envs\\buan6341_2020\\lib\\site-packages\\sklearn\\linear_model\\_coordinate_descent.py:476: ConvergenceWarning: Objective did not converge. You might want to increase the number of iterations. Duality gap: 0.0, tolerance: 0.0\n",
            "  positive)\n",
            "C:\\Users\\User\\Anaconda3\\envs\\buan6341_2020\\lib\\site-packages\\sklearn\\linear_model\\_coordinate_descent.py:476: ConvergenceWarning: Objective did not converge. You might want to increase the number of iterations. Duality gap: 0.0, tolerance: 0.0\n",
            "  positive)\n",
            "C:\\Users\\User\\Anaconda3\\envs\\buan6341_2020\\lib\\site-packages\\sklearn\\linear_model\\_coordinate_descent.py:476: ConvergenceWarning: Objective did not converge. You might want to increase the number of iterations. Duality gap: 0.0, tolerance: 0.0\n",
            "  positive)\n",
            "C:\\Users\\User\\Anaconda3\\envs\\buan6341_2020\\lib\\site-packages\\sklearn\\linear_model\\_coordinate_descent.py:476: ConvergenceWarning: Objective did not converge. You might want to increase the number of iterations. Duality gap: 0.0, tolerance: 0.0\n",
            "  positive)\n",
            "C:\\Users\\User\\Anaconda3\\envs\\buan6341_2020\\lib\\site-packages\\sklearn\\linear_model\\_coordinate_descent.py:476: ConvergenceWarning: Objective did not converge. You might want to increase the number of iterations. Duality gap: 0.0, tolerance: 0.0\n",
            "  positive)\n",
            "C:\\Users\\User\\Anaconda3\\envs\\buan6341_2020\\lib\\site-packages\\sklearn\\linear_model\\_coordinate_descent.py:476: ConvergenceWarning: Objective did not converge. You might want to increase the number of iterations. Duality gap: 0.0, tolerance: 0.0\n",
            "  positive)\n",
            "C:\\Users\\User\\Anaconda3\\envs\\buan6341_2020\\lib\\site-packages\\sklearn\\linear_model\\_coordinate_descent.py:476: ConvergenceWarning: Objective did not converge. You might want to increase the number of iterations. Duality gap: 0.0, tolerance: 0.0\n",
            "  positive)\n",
            "C:\\Users\\User\\Anaconda3\\envs\\buan6341_2020\\lib\\site-packages\\sklearn\\linear_model\\_coordinate_descent.py:476: ConvergenceWarning: Objective did not converge. You might want to increase the number of iterations. Duality gap: 0.0, tolerance: 0.0\n",
            "  positive)\n",
            "C:\\Users\\User\\Anaconda3\\envs\\buan6341_2020\\lib\\site-packages\\sklearn\\linear_model\\_coordinate_descent.py:476: ConvergenceWarning: Objective did not converge. You might want to increase the number of iterations. Duality gap: 0.0, tolerance: 0.0\n",
            "  positive)\n",
            "C:\\Users\\User\\Anaconda3\\envs\\buan6341_2020\\lib\\site-packages\\sklearn\\linear_model\\_coordinate_descent.py:476: ConvergenceWarning: Objective did not converge. You might want to increase the number of iterations. Duality gap: 0.0, tolerance: 0.0\n",
            "  positive)\n",
            "C:\\Users\\User\\Anaconda3\\envs\\buan6341_2020\\lib\\site-packages\\sklearn\\linear_model\\_coordinate_descent.py:476: ConvergenceWarning: Objective did not converge. You might want to increase the number of iterations. Duality gap: 0.0, tolerance: 0.0\n",
            "  positive)\n",
            "C:\\Users\\User\\Anaconda3\\envs\\buan6341_2020\\lib\\site-packages\\sklearn\\linear_model\\_coordinate_descent.py:476: ConvergenceWarning: Objective did not converge. You might want to increase the number of iterations. Duality gap: 0.0, tolerance: 0.0\n",
            "  positive)\n",
            "C:\\Users\\User\\Anaconda3\\envs\\buan6341_2020\\lib\\site-packages\\sklearn\\linear_model\\_coordinate_descent.py:476: ConvergenceWarning: Objective did not converge. You might want to increase the number of iterations. Duality gap: 0.0, tolerance: 0.0\n",
            "  positive)\n",
            "C:\\Users\\User\\Anaconda3\\envs\\buan6341_2020\\lib\\site-packages\\sklearn\\linear_model\\_coordinate_descent.py:476: ConvergenceWarning: Objective did not converge. You might want to increase the number of iterations. Duality gap: 0.0, tolerance: 0.0\n",
            "  positive)\n",
            "C:\\Users\\User\\Anaconda3\\envs\\buan6341_2020\\lib\\site-packages\\sklearn\\linear_model\\_coordinate_descent.py:476: ConvergenceWarning: Objective did not converge. You might want to increase the number of iterations. Duality gap: 0.0, tolerance: 0.0\n",
            "  positive)\n",
            "C:\\Users\\User\\Anaconda3\\envs\\buan6341_2020\\lib\\site-packages\\sklearn\\linear_model\\_coordinate_descent.py:476: ConvergenceWarning: Objective did not converge. You might want to increase the number of iterations. Duality gap: 0.0, tolerance: 0.0\n",
            "  positive)\n",
            "C:\\Users\\User\\Anaconda3\\envs\\buan6341_2020\\lib\\site-packages\\sklearn\\linear_model\\_coordinate_descent.py:476: ConvergenceWarning: Objective did not converge. You might want to increase the number of iterations. Duality gap: 0.0, tolerance: 0.0\n",
            "  positive)\n",
            "C:\\Users\\User\\Anaconda3\\envs\\buan6341_2020\\lib\\site-packages\\sklearn\\linear_model\\_coordinate_descent.py:476: ConvergenceWarning: Objective did not converge. You might want to increase the number of iterations. Duality gap: 0.0, tolerance: 0.0\n",
            "  positive)\n",
            "C:\\Users\\User\\Anaconda3\\envs\\buan6341_2020\\lib\\site-packages\\sklearn\\linear_model\\_coordinate_descent.py:476: ConvergenceWarning: Objective did not converge. You might want to increase the number of iterations. Duality gap: 0.0, tolerance: 0.0\n",
            "  positive)\n",
            "C:\\Users\\User\\Anaconda3\\envs\\buan6341_2020\\lib\\site-packages\\sklearn\\linear_model\\_coordinate_descent.py:476: ConvergenceWarning: Objective did not converge. You might want to increase the number of iterations. Duality gap: 0.0, tolerance: 0.0\n",
            "  positive)\n",
            "C:\\Users\\User\\Anaconda3\\envs\\buan6341_2020\\lib\\site-packages\\sklearn\\linear_model\\_coordinate_descent.py:476: ConvergenceWarning: Objective did not converge. You might want to increase the number of iterations. Duality gap: 0.0, tolerance: 0.0\n",
            "  positive)\n",
            "C:\\Users\\User\\Anaconda3\\envs\\buan6341_2020\\lib\\site-packages\\sklearn\\linear_model\\_coordinate_descent.py:476: ConvergenceWarning: Objective did not converge. You might want to increase the number of iterations. Duality gap: 0.0, tolerance: 0.0\n",
            "  positive)\n",
            "C:\\Users\\User\\Anaconda3\\envs\\buan6341_2020\\lib\\site-packages\\sklearn\\linear_model\\_coordinate_descent.py:476: ConvergenceWarning: Objective did not converge. You might want to increase the number of iterations. Duality gap: 0.0, tolerance: 0.0\n",
            "  positive)\n",
            "C:\\Users\\User\\Anaconda3\\envs\\buan6341_2020\\lib\\site-packages\\sklearn\\linear_model\\_coordinate_descent.py:476: ConvergenceWarning: Objective did not converge. You might want to increase the number of iterations. Duality gap: 0.0, tolerance: 0.0\n",
            "  positive)\n",
            "C:\\Users\\User\\Anaconda3\\envs\\buan6341_2020\\lib\\site-packages\\sklearn\\linear_model\\_coordinate_descent.py:476: ConvergenceWarning: Objective did not converge. You might want to increase the number of iterations. Duality gap: 0.0, tolerance: 0.0\n",
            "  positive)\n",
            "C:\\Users\\User\\Anaconda3\\envs\\buan6341_2020\\lib\\site-packages\\sklearn\\linear_model\\_coordinate_descent.py:476: ConvergenceWarning: Objective did not converge. You might want to increase the number of iterations. Duality gap: 0.0, tolerance: 0.0\n",
            "  positive)\n",
            "C:\\Users\\User\\Anaconda3\\envs\\buan6341_2020\\lib\\site-packages\\sklearn\\linear_model\\_coordinate_descent.py:476: ConvergenceWarning: Objective did not converge. You might want to increase the number of iterations. Duality gap: 0.0, tolerance: 0.0\n",
            "  positive)\n",
            "C:\\Users\\User\\Anaconda3\\envs\\buan6341_2020\\lib\\site-packages\\sklearn\\linear_model\\_coordinate_descent.py:476: ConvergenceWarning: Objective did not converge. You might want to increase the number of iterations. Duality gap: 0.0, tolerance: 0.0\n",
            "  positive)\n",
            "C:\\Users\\User\\Anaconda3\\envs\\buan6341_2020\\lib\\site-packages\\sklearn\\linear_model\\_coordinate_descent.py:476: ConvergenceWarning: Objective did not converge. You might want to increase the number of iterations. Duality gap: 0.0, tolerance: 0.0\n",
            "  positive)\n"
          ],
          "name": "stderr"
        },
        {
          "output_type": "stream",
          "text": [
            "C:\\Users\\User\\Anaconda3\\envs\\buan6341_2020\\lib\\site-packages\\sklearn\\linear_model\\_coordinate_descent.py:476: ConvergenceWarning: Objective did not converge. You might want to increase the number of iterations. Duality gap: 0.0, tolerance: 0.0\n",
            "  positive)\n",
            "C:\\Users\\User\\Anaconda3\\envs\\buan6341_2020\\lib\\site-packages\\sklearn\\linear_model\\_coordinate_descent.py:476: ConvergenceWarning: Objective did not converge. You might want to increase the number of iterations. Duality gap: 0.0, tolerance: 0.0\n",
            "  positive)\n",
            "C:\\Users\\User\\Anaconda3\\envs\\buan6341_2020\\lib\\site-packages\\sklearn\\linear_model\\_coordinate_descent.py:476: ConvergenceWarning: Objective did not converge. You might want to increase the number of iterations. Duality gap: 0.0, tolerance: 0.0\n",
            "  positive)\n",
            "C:\\Users\\User\\Anaconda3\\envs\\buan6341_2020\\lib\\site-packages\\sklearn\\linear_model\\_coordinate_descent.py:476: ConvergenceWarning: Objective did not converge. You might want to increase the number of iterations. Duality gap: 0.0, tolerance: 0.0\n",
            "  positive)\n",
            "C:\\Users\\User\\Anaconda3\\envs\\buan6341_2020\\lib\\site-packages\\sklearn\\linear_model\\_coordinate_descent.py:476: ConvergenceWarning: Objective did not converge. You might want to increase the number of iterations. Duality gap: 0.0, tolerance: 0.0\n",
            "  positive)\n",
            "C:\\Users\\User\\Anaconda3\\envs\\buan6341_2020\\lib\\site-packages\\sklearn\\linear_model\\_coordinate_descent.py:476: ConvergenceWarning: Objective did not converge. You might want to increase the number of iterations. Duality gap: 0.0, tolerance: 0.0\n",
            "  positive)\n",
            "C:\\Users\\User\\Anaconda3\\envs\\buan6341_2020\\lib\\site-packages\\sklearn\\linear_model\\_coordinate_descent.py:476: ConvergenceWarning: Objective did not converge. You might want to increase the number of iterations. Duality gap: 0.0, tolerance: 0.0\n",
            "  positive)\n",
            "C:\\Users\\User\\Anaconda3\\envs\\buan6341_2020\\lib\\site-packages\\sklearn\\linear_model\\_coordinate_descent.py:476: ConvergenceWarning: Objective did not converge. You might want to increase the number of iterations. Duality gap: 0.0, tolerance: 0.0\n",
            "  positive)\n",
            "C:\\Users\\User\\Anaconda3\\envs\\buan6341_2020\\lib\\site-packages\\sklearn\\linear_model\\_coordinate_descent.py:476: ConvergenceWarning: Objective did not converge. You might want to increase the number of iterations. Duality gap: 0.0, tolerance: 0.0\n",
            "  positive)\n",
            "C:\\Users\\User\\Anaconda3\\envs\\buan6341_2020\\lib\\site-packages\\sklearn\\linear_model\\_coordinate_descent.py:476: ConvergenceWarning: Objective did not converge. You might want to increase the number of iterations. Duality gap: 0.0, tolerance: 0.0\n",
            "  positive)\n",
            "C:\\Users\\User\\Anaconda3\\envs\\buan6341_2020\\lib\\site-packages\\sklearn\\linear_model\\_coordinate_descent.py:476: ConvergenceWarning: Objective did not converge. You might want to increase the number of iterations. Duality gap: 0.0, tolerance: 0.0\n",
            "  positive)\n",
            "C:\\Users\\User\\Anaconda3\\envs\\buan6341_2020\\lib\\site-packages\\sklearn\\linear_model\\_coordinate_descent.py:476: ConvergenceWarning: Objective did not converge. You might want to increase the number of iterations. Duality gap: 0.0, tolerance: 0.0\n",
            "  positive)\n",
            "C:\\Users\\User\\Anaconda3\\envs\\buan6341_2020\\lib\\site-packages\\sklearn\\linear_model\\_coordinate_descent.py:476: ConvergenceWarning: Objective did not converge. You might want to increase the number of iterations. Duality gap: 0.0, tolerance: 0.0\n",
            "  positive)\n",
            "C:\\Users\\User\\Anaconda3\\envs\\buan6341_2020\\lib\\site-packages\\sklearn\\linear_model\\_coordinate_descent.py:476: ConvergenceWarning: Objective did not converge. You might want to increase the number of iterations. Duality gap: 0.0, tolerance: 0.0\n",
            "  positive)\n",
            "C:\\Users\\User\\Anaconda3\\envs\\buan6341_2020\\lib\\site-packages\\sklearn\\linear_model\\_coordinate_descent.py:476: ConvergenceWarning: Objective did not converge. You might want to increase the number of iterations. Duality gap: 0.0, tolerance: 0.0\n",
            "  positive)\n",
            "C:\\Users\\User\\Anaconda3\\envs\\buan6341_2020\\lib\\site-packages\\sklearn\\linear_model\\_coordinate_descent.py:476: ConvergenceWarning: Objective did not converge. You might want to increase the number of iterations. Duality gap: 0.0, tolerance: 0.0\n",
            "  positive)\n",
            "C:\\Users\\User\\Anaconda3\\envs\\buan6341_2020\\lib\\site-packages\\sklearn\\linear_model\\_coordinate_descent.py:476: ConvergenceWarning: Objective did not converge. You might want to increase the number of iterations. Duality gap: 0.0, tolerance: 0.0\n",
            "  positive)\n",
            "C:\\Users\\User\\Anaconda3\\envs\\buan6341_2020\\lib\\site-packages\\sklearn\\linear_model\\_coordinate_descent.py:476: ConvergenceWarning: Objective did not converge. You might want to increase the number of iterations. Duality gap: 0.0, tolerance: 0.0\n",
            "  positive)\n",
            "C:\\Users\\User\\Anaconda3\\envs\\buan6341_2020\\lib\\site-packages\\sklearn\\linear_model\\_coordinate_descent.py:476: ConvergenceWarning: Objective did not converge. You might want to increase the number of iterations. Duality gap: 0.0, tolerance: 0.0\n",
            "  positive)\n",
            "C:\\Users\\User\\Anaconda3\\envs\\buan6341_2020\\lib\\site-packages\\sklearn\\linear_model\\_coordinate_descent.py:476: ConvergenceWarning: Objective did not converge. You might want to increase the number of iterations. Duality gap: 0.0, tolerance: 0.0\n",
            "  positive)\n",
            "C:\\Users\\User\\Anaconda3\\envs\\buan6341_2020\\lib\\site-packages\\sklearn\\linear_model\\_coordinate_descent.py:476: ConvergenceWarning: Objective did not converge. You might want to increase the number of iterations. Duality gap: 0.0, tolerance: 0.0\n",
            "  positive)\n",
            "C:\\Users\\User\\Anaconda3\\envs\\buan6341_2020\\lib\\site-packages\\sklearn\\linear_model\\_coordinate_descent.py:476: ConvergenceWarning: Objective did not converge. You might want to increase the number of iterations. Duality gap: 0.0, tolerance: 0.0\n",
            "  positive)\n",
            "C:\\Users\\User\\Anaconda3\\envs\\buan6341_2020\\lib\\site-packages\\sklearn\\linear_model\\_coordinate_descent.py:476: ConvergenceWarning: Objective did not converge. You might want to increase the number of iterations. Duality gap: 0.0, tolerance: 0.0\n",
            "  positive)\n",
            "C:\\Users\\User\\Anaconda3\\envs\\buan6341_2020\\lib\\site-packages\\sklearn\\linear_model\\_coordinate_descent.py:476: ConvergenceWarning: Objective did not converge. You might want to increase the number of iterations. Duality gap: 0.0, tolerance: 0.0\n",
            "  positive)\n",
            "C:\\Users\\User\\Anaconda3\\envs\\buan6341_2020\\lib\\site-packages\\sklearn\\linear_model\\_coordinate_descent.py:476: ConvergenceWarning: Objective did not converge. You might want to increase the number of iterations. Duality gap: 0.0, tolerance: 0.0\n",
            "  positive)\n",
            "C:\\Users\\User\\Anaconda3\\envs\\buan6341_2020\\lib\\site-packages\\sklearn\\linear_model\\_coordinate_descent.py:476: ConvergenceWarning: Objective did not converge. You might want to increase the number of iterations. Duality gap: 0.0, tolerance: 0.0\n",
            "  positive)\n",
            "C:\\Users\\User\\Anaconda3\\envs\\buan6341_2020\\lib\\site-packages\\sklearn\\linear_model\\_coordinate_descent.py:476: ConvergenceWarning: Objective did not converge. You might want to increase the number of iterations. Duality gap: 0.0, tolerance: 0.0\n",
            "  positive)\n",
            "C:\\Users\\User\\Anaconda3\\envs\\buan6341_2020\\lib\\site-packages\\sklearn\\linear_model\\_coordinate_descent.py:476: ConvergenceWarning: Objective did not converge. You might want to increase the number of iterations. Duality gap: 0.0, tolerance: 0.0\n",
            "  positive)\n",
            "C:\\Users\\User\\Anaconda3\\envs\\buan6341_2020\\lib\\site-packages\\sklearn\\linear_model\\_coordinate_descent.py:476: ConvergenceWarning: Objective did not converge. You might want to increase the number of iterations. Duality gap: 0.0, tolerance: 0.0\n",
            "  positive)\n",
            "C:\\Users\\User\\Anaconda3\\envs\\buan6341_2020\\lib\\site-packages\\sklearn\\linear_model\\_coordinate_descent.py:476: ConvergenceWarning: Objective did not converge. You might want to increase the number of iterations. Duality gap: 0.0, tolerance: 0.0\n",
            "  positive)\n",
            "C:\\Users\\User\\Anaconda3\\envs\\buan6341_2020\\lib\\site-packages\\sklearn\\linear_model\\_coordinate_descent.py:476: ConvergenceWarning: Objective did not converge. You might want to increase the number of iterations. Duality gap: 0.0, tolerance: 0.0\n",
            "  positive)\n",
            "C:\\Users\\User\\Anaconda3\\envs\\buan6341_2020\\lib\\site-packages\\sklearn\\linear_model\\_coordinate_descent.py:476: ConvergenceWarning: Objective did not converge. You might want to increase the number of iterations. Duality gap: 0.0, tolerance: 0.0\n",
            "  positive)\n",
            "C:\\Users\\User\\Anaconda3\\envs\\buan6341_2020\\lib\\site-packages\\sklearn\\linear_model\\_coordinate_descent.py:476: ConvergenceWarning: Objective did not converge. You might want to increase the number of iterations. Duality gap: 0.0, tolerance: 0.0\n",
            "  positive)\n",
            "C:\\Users\\User\\Anaconda3\\envs\\buan6341_2020\\lib\\site-packages\\sklearn\\linear_model\\_coordinate_descent.py:476: ConvergenceWarning: Objective did not converge. You might want to increase the number of iterations. Duality gap: 0.0, tolerance: 0.0\n",
            "  positive)\n",
            "C:\\Users\\User\\Anaconda3\\envs\\buan6341_2020\\lib\\site-packages\\sklearn\\linear_model\\_coordinate_descent.py:476: ConvergenceWarning: Objective did not converge. You might want to increase the number of iterations. Duality gap: 0.0, tolerance: 0.0\n",
            "  positive)\n",
            "C:\\Users\\User\\Anaconda3\\envs\\buan6341_2020\\lib\\site-packages\\sklearn\\linear_model\\_coordinate_descent.py:476: ConvergenceWarning: Objective did not converge. You might want to increase the number of iterations. Duality gap: 0.0, tolerance: 0.0\n",
            "  positive)\n",
            "C:\\Users\\User\\Anaconda3\\envs\\buan6341_2020\\lib\\site-packages\\sklearn\\linear_model\\_coordinate_descent.py:476: ConvergenceWarning: Objective did not converge. You might want to increase the number of iterations. Duality gap: 0.0, tolerance: 0.0\n",
            "  positive)\n",
            "C:\\Users\\User\\Anaconda3\\envs\\buan6341_2020\\lib\\site-packages\\sklearn\\linear_model\\_coordinate_descent.py:476: ConvergenceWarning: Objective did not converge. You might want to increase the number of iterations. Duality gap: 0.0, tolerance: 0.0\n",
            "  positive)\n",
            "C:\\Users\\User\\Anaconda3\\envs\\buan6341_2020\\lib\\site-packages\\sklearn\\linear_model\\_coordinate_descent.py:476: ConvergenceWarning: Objective did not converge. You might want to increase the number of iterations. Duality gap: 0.0, tolerance: 0.0\n",
            "  positive)\n",
            "C:\\Users\\User\\Anaconda3\\envs\\buan6341_2020\\lib\\site-packages\\sklearn\\linear_model\\_coordinate_descent.py:476: ConvergenceWarning: Objective did not converge. You might want to increase the number of iterations. Duality gap: 0.0, tolerance: 0.0\n",
            "  positive)\n",
            "C:\\Users\\User\\Anaconda3\\envs\\buan6341_2020\\lib\\site-packages\\sklearn\\linear_model\\_coordinate_descent.py:476: ConvergenceWarning: Objective did not converge. You might want to increase the number of iterations. Duality gap: 0.0, tolerance: 0.0\n",
            "  positive)\n",
            "C:\\Users\\User\\Anaconda3\\envs\\buan6341_2020\\lib\\site-packages\\sklearn\\linear_model\\_coordinate_descent.py:476: ConvergenceWarning: Objective did not converge. You might want to increase the number of iterations. Duality gap: 0.0, tolerance: 0.0\n",
            "  positive)\n",
            "C:\\Users\\User\\Anaconda3\\envs\\buan6341_2020\\lib\\site-packages\\sklearn\\linear_model\\_coordinate_descent.py:476: ConvergenceWarning: Objective did not converge. You might want to increase the number of iterations. Duality gap: 0.0, tolerance: 0.0\n",
            "  positive)\n",
            "C:\\Users\\User\\Anaconda3\\envs\\buan6341_2020\\lib\\site-packages\\sklearn\\linear_model\\_coordinate_descent.py:476: ConvergenceWarning: Objective did not converge. You might want to increase the number of iterations. Duality gap: 0.0, tolerance: 0.0\n",
            "  positive)\n",
            "C:\\Users\\User\\Anaconda3\\envs\\buan6341_2020\\lib\\site-packages\\sklearn\\linear_model\\_coordinate_descent.py:476: ConvergenceWarning: Objective did not converge. You might want to increase the number of iterations. Duality gap: 0.0, tolerance: 0.0\n",
            "  positive)\n",
            "C:\\Users\\User\\Anaconda3\\envs\\buan6341_2020\\lib\\site-packages\\sklearn\\linear_model\\_coordinate_descent.py:476: ConvergenceWarning: Objective did not converge. You might want to increase the number of iterations. Duality gap: 0.0, tolerance: 0.0\n",
            "  positive)\n"
          ],
          "name": "stderr"
        },
        {
          "output_type": "stream",
          "text": [
            "C:\\Users\\User\\Anaconda3\\envs\\buan6341_2020\\lib\\site-packages\\sklearn\\linear_model\\_coordinate_descent.py:476: ConvergenceWarning: Objective did not converge. You might want to increase the number of iterations. Duality gap: 0.0, tolerance: 0.0\n",
            "  positive)\n",
            "C:\\Users\\User\\Anaconda3\\envs\\buan6341_2020\\lib\\site-packages\\sklearn\\linear_model\\_coordinate_descent.py:476: ConvergenceWarning: Objective did not converge. You might want to increase the number of iterations. Duality gap: 0.0, tolerance: 0.0\n",
            "  positive)\n",
            "C:\\Users\\User\\Anaconda3\\envs\\buan6341_2020\\lib\\site-packages\\sklearn\\linear_model\\_coordinate_descent.py:476: ConvergenceWarning: Objective did not converge. You might want to increase the number of iterations. Duality gap: 0.0, tolerance: 0.0\n",
            "  positive)\n",
            "C:\\Users\\User\\Anaconda3\\envs\\buan6341_2020\\lib\\site-packages\\sklearn\\linear_model\\_coordinate_descent.py:476: ConvergenceWarning: Objective did not converge. You might want to increase the number of iterations. Duality gap: 0.0, tolerance: 0.0\n",
            "  positive)\n",
            "C:\\Users\\User\\Anaconda3\\envs\\buan6341_2020\\lib\\site-packages\\sklearn\\linear_model\\_coordinate_descent.py:476: ConvergenceWarning: Objective did not converge. You might want to increase the number of iterations. Duality gap: 0.0, tolerance: 0.0\n",
            "  positive)\n",
            "C:\\Users\\User\\Anaconda3\\envs\\buan6341_2020\\lib\\site-packages\\sklearn\\linear_model\\_coordinate_descent.py:476: ConvergenceWarning: Objective did not converge. You might want to increase the number of iterations. Duality gap: 0.0, tolerance: 0.0\n",
            "  positive)\n",
            "C:\\Users\\User\\Anaconda3\\envs\\buan6341_2020\\lib\\site-packages\\sklearn\\linear_model\\_coordinate_descent.py:476: ConvergenceWarning: Objective did not converge. You might want to increase the number of iterations. Duality gap: 0.0, tolerance: 0.0\n",
            "  positive)\n",
            "C:\\Users\\User\\Anaconda3\\envs\\buan6341_2020\\lib\\site-packages\\sklearn\\linear_model\\_coordinate_descent.py:476: ConvergenceWarning: Objective did not converge. You might want to increase the number of iterations. Duality gap: 0.0, tolerance: 0.0\n",
            "  positive)\n",
            "C:\\Users\\User\\Anaconda3\\envs\\buan6341_2020\\lib\\site-packages\\sklearn\\linear_model\\_coordinate_descent.py:476: ConvergenceWarning: Objective did not converge. You might want to increase the number of iterations. Duality gap: 0.0, tolerance: 0.0\n",
            "  positive)\n",
            "C:\\Users\\User\\Anaconda3\\envs\\buan6341_2020\\lib\\site-packages\\sklearn\\linear_model\\_coordinate_descent.py:476: ConvergenceWarning: Objective did not converge. You might want to increase the number of iterations. Duality gap: 0.0, tolerance: 0.0\n",
            "  positive)\n",
            "C:\\Users\\User\\Anaconda3\\envs\\buan6341_2020\\lib\\site-packages\\sklearn\\linear_model\\_coordinate_descent.py:476: ConvergenceWarning: Objective did not converge. You might want to increase the number of iterations. Duality gap: 0.0, tolerance: 0.0\n",
            "  positive)\n",
            "C:\\Users\\User\\Anaconda3\\envs\\buan6341_2020\\lib\\site-packages\\sklearn\\linear_model\\_coordinate_descent.py:476: ConvergenceWarning: Objective did not converge. You might want to increase the number of iterations. Duality gap: 0.0, tolerance: 0.0\n",
            "  positive)\n",
            "C:\\Users\\User\\Anaconda3\\envs\\buan6341_2020\\lib\\site-packages\\sklearn\\linear_model\\_coordinate_descent.py:476: ConvergenceWarning: Objective did not converge. You might want to increase the number of iterations. Duality gap: 0.0, tolerance: 0.0\n",
            "  positive)\n",
            "C:\\Users\\User\\Anaconda3\\envs\\buan6341_2020\\lib\\site-packages\\sklearn\\linear_model\\_coordinate_descent.py:476: ConvergenceWarning: Objective did not converge. You might want to increase the number of iterations. Duality gap: 0.0, tolerance: 0.0\n",
            "  positive)\n",
            "C:\\Users\\User\\Anaconda3\\envs\\buan6341_2020\\lib\\site-packages\\sklearn\\linear_model\\_coordinate_descent.py:476: ConvergenceWarning: Objective did not converge. You might want to increase the number of iterations. Duality gap: 0.0, tolerance: 0.0\n",
            "  positive)\n",
            "C:\\Users\\User\\Anaconda3\\envs\\buan6341_2020\\lib\\site-packages\\sklearn\\linear_model\\_coordinate_descent.py:476: ConvergenceWarning: Objective did not converge. You might want to increase the number of iterations. Duality gap: 0.0, tolerance: 0.0\n",
            "  positive)\n",
            "C:\\Users\\User\\Anaconda3\\envs\\buan6341_2020\\lib\\site-packages\\sklearn\\linear_model\\_coordinate_descent.py:476: ConvergenceWarning: Objective did not converge. You might want to increase the number of iterations. Duality gap: 0.0, tolerance: 0.0\n",
            "  positive)\n",
            "C:\\Users\\User\\Anaconda3\\envs\\buan6341_2020\\lib\\site-packages\\sklearn\\linear_model\\_coordinate_descent.py:476: ConvergenceWarning: Objective did not converge. You might want to increase the number of iterations. Duality gap: 0.0, tolerance: 0.0\n",
            "  positive)\n",
            "C:\\Users\\User\\Anaconda3\\envs\\buan6341_2020\\lib\\site-packages\\sklearn\\linear_model\\_coordinate_descent.py:476: ConvergenceWarning: Objective did not converge. You might want to increase the number of iterations. Duality gap: 0.0, tolerance: 0.0\n",
            "  positive)\n",
            "C:\\Users\\User\\Anaconda3\\envs\\buan6341_2020\\lib\\site-packages\\sklearn\\linear_model\\_coordinate_descent.py:476: ConvergenceWarning: Objective did not converge. You might want to increase the number of iterations. Duality gap: 0.0, tolerance: 0.0\n",
            "  positive)\n",
            "C:\\Users\\User\\Anaconda3\\envs\\buan6341_2020\\lib\\site-packages\\sklearn\\linear_model\\_coordinate_descent.py:476: ConvergenceWarning: Objective did not converge. You might want to increase the number of iterations. Duality gap: 0.0, tolerance: 0.0\n",
            "  positive)\n",
            "C:\\Users\\User\\Anaconda3\\envs\\buan6341_2020\\lib\\site-packages\\sklearn\\linear_model\\_coordinate_descent.py:476: ConvergenceWarning: Objective did not converge. You might want to increase the number of iterations. Duality gap: 0.0, tolerance: 0.0\n",
            "  positive)\n",
            "C:\\Users\\User\\Anaconda3\\envs\\buan6341_2020\\lib\\site-packages\\sklearn\\linear_model\\_coordinate_descent.py:476: ConvergenceWarning: Objective did not converge. You might want to increase the number of iterations. Duality gap: 0.0, tolerance: 0.0\n",
            "  positive)\n",
            "C:\\Users\\User\\Anaconda3\\envs\\buan6341_2020\\lib\\site-packages\\sklearn\\linear_model\\_coordinate_descent.py:476: ConvergenceWarning: Objective did not converge. You might want to increase the number of iterations. Duality gap: 0.0, tolerance: 0.0\n",
            "  positive)\n",
            "C:\\Users\\User\\Anaconda3\\envs\\buan6341_2020\\lib\\site-packages\\sklearn\\linear_model\\_coordinate_descent.py:476: ConvergenceWarning: Objective did not converge. You might want to increase the number of iterations. Duality gap: 0.0, tolerance: 0.0\n",
            "  positive)\n",
            "C:\\Users\\User\\Anaconda3\\envs\\buan6341_2020\\lib\\site-packages\\sklearn\\linear_model\\_coordinate_descent.py:476: ConvergenceWarning: Objective did not converge. You might want to increase the number of iterations. Duality gap: 0.0, tolerance: 0.0\n",
            "  positive)\n",
            "C:\\Users\\User\\Anaconda3\\envs\\buan6341_2020\\lib\\site-packages\\sklearn\\linear_model\\_coordinate_descent.py:476: ConvergenceWarning: Objective did not converge. You might want to increase the number of iterations. Duality gap: 0.0, tolerance: 0.0\n",
            "  positive)\n",
            "C:\\Users\\User\\Anaconda3\\envs\\buan6341_2020\\lib\\site-packages\\sklearn\\linear_model\\_coordinate_descent.py:476: ConvergenceWarning: Objective did not converge. You might want to increase the number of iterations. Duality gap: 0.0, tolerance: 0.0\n",
            "  positive)\n",
            "C:\\Users\\User\\Anaconda3\\envs\\buan6341_2020\\lib\\site-packages\\sklearn\\linear_model\\_coordinate_descent.py:476: ConvergenceWarning: Objective did not converge. You might want to increase the number of iterations. Duality gap: 0.0, tolerance: 0.0\n",
            "  positive)\n",
            "C:\\Users\\User\\Anaconda3\\envs\\buan6341_2020\\lib\\site-packages\\sklearn\\linear_model\\_coordinate_descent.py:476: ConvergenceWarning: Objective did not converge. You might want to increase the number of iterations. Duality gap: 0.0, tolerance: 0.0\n",
            "  positive)\n",
            "C:\\Users\\User\\Anaconda3\\envs\\buan6341_2020\\lib\\site-packages\\sklearn\\linear_model\\_coordinate_descent.py:476: ConvergenceWarning: Objective did not converge. You might want to increase the number of iterations. Duality gap: 0.0, tolerance: 0.0\n",
            "  positive)\n",
            "C:\\Users\\User\\Anaconda3\\envs\\buan6341_2020\\lib\\site-packages\\sklearn\\linear_model\\_coordinate_descent.py:476: ConvergenceWarning: Objective did not converge. You might want to increase the number of iterations. Duality gap: 0.0, tolerance: 0.0\n",
            "  positive)\n",
            "C:\\Users\\User\\Anaconda3\\envs\\buan6341_2020\\lib\\site-packages\\sklearn\\linear_model\\_coordinate_descent.py:476: ConvergenceWarning: Objective did not converge. You might want to increase the number of iterations. Duality gap: 0.0, tolerance: 0.0\n",
            "  positive)\n",
            "C:\\Users\\User\\Anaconda3\\envs\\buan6341_2020\\lib\\site-packages\\sklearn\\linear_model\\_coordinate_descent.py:476: ConvergenceWarning: Objective did not converge. You might want to increase the number of iterations. Duality gap: 0.0, tolerance: 0.0\n",
            "  positive)\n",
            "C:\\Users\\User\\Anaconda3\\envs\\buan6341_2020\\lib\\site-packages\\sklearn\\linear_model\\_coordinate_descent.py:476: ConvergenceWarning: Objective did not converge. You might want to increase the number of iterations. Duality gap: 0.0, tolerance: 0.0\n",
            "  positive)\n",
            "C:\\Users\\User\\Anaconda3\\envs\\buan6341_2020\\lib\\site-packages\\sklearn\\linear_model\\_coordinate_descent.py:476: ConvergenceWarning: Objective did not converge. You might want to increase the number of iterations. Duality gap: 0.0, tolerance: 0.0\n",
            "  positive)\n",
            "C:\\Users\\User\\Anaconda3\\envs\\buan6341_2020\\lib\\site-packages\\sklearn\\linear_model\\_coordinate_descent.py:476: ConvergenceWarning: Objective did not converge. You might want to increase the number of iterations. Duality gap: 0.0, tolerance: 0.0\n",
            "  positive)\n",
            "C:\\Users\\User\\Anaconda3\\envs\\buan6341_2020\\lib\\site-packages\\sklearn\\linear_model\\_coordinate_descent.py:476: ConvergenceWarning: Objective did not converge. You might want to increase the number of iterations. Duality gap: 0.0, tolerance: 0.0\n",
            "  positive)\n",
            "C:\\Users\\User\\Anaconda3\\envs\\buan6341_2020\\lib\\site-packages\\sklearn\\linear_model\\_coordinate_descent.py:476: ConvergenceWarning: Objective did not converge. You might want to increase the number of iterations. Duality gap: 0.0, tolerance: 0.0\n",
            "  positive)\n",
            "C:\\Users\\User\\Anaconda3\\envs\\buan6341_2020\\lib\\site-packages\\sklearn\\linear_model\\_coordinate_descent.py:476: ConvergenceWarning: Objective did not converge. You might want to increase the number of iterations. Duality gap: 0.0, tolerance: 0.0\n",
            "  positive)\n",
            "C:\\Users\\User\\Anaconda3\\envs\\buan6341_2020\\lib\\site-packages\\sklearn\\linear_model\\_coordinate_descent.py:476: ConvergenceWarning: Objective did not converge. You might want to increase the number of iterations. Duality gap: 0.0, tolerance: 0.0\n",
            "  positive)\n",
            "C:\\Users\\User\\Anaconda3\\envs\\buan6341_2020\\lib\\site-packages\\sklearn\\linear_model\\_coordinate_descent.py:476: ConvergenceWarning: Objective did not converge. You might want to increase the number of iterations. Duality gap: 0.0, tolerance: 0.0\n",
            "  positive)\n",
            "C:\\Users\\User\\Anaconda3\\envs\\buan6341_2020\\lib\\site-packages\\sklearn\\linear_model\\_coordinate_descent.py:476: ConvergenceWarning: Objective did not converge. You might want to increase the number of iterations. Duality gap: 0.0, tolerance: 0.0\n",
            "  positive)\n",
            "C:\\Users\\User\\Anaconda3\\envs\\buan6341_2020\\lib\\site-packages\\sklearn\\linear_model\\_coordinate_descent.py:476: ConvergenceWarning: Objective did not converge. You might want to increase the number of iterations. Duality gap: 0.0, tolerance: 0.0\n",
            "  positive)\n",
            "C:\\Users\\User\\Anaconda3\\envs\\buan6341_2020\\lib\\site-packages\\sklearn\\linear_model\\_coordinate_descent.py:476: ConvergenceWarning: Objective did not converge. You might want to increase the number of iterations. Duality gap: 0.0, tolerance: 0.0\n",
            "  positive)\n",
            "C:\\Users\\User\\Anaconda3\\envs\\buan6341_2020\\lib\\site-packages\\sklearn\\linear_model\\_coordinate_descent.py:476: ConvergenceWarning: Objective did not converge. You might want to increase the number of iterations. Duality gap: 0.0, tolerance: 0.0\n",
            "  positive)\n",
            "C:\\Users\\User\\Anaconda3\\envs\\buan6341_2020\\lib\\site-packages\\sklearn\\linear_model\\_coordinate_descent.py:476: ConvergenceWarning: Objective did not converge. You might want to increase the number of iterations. Duality gap: 0.0, tolerance: 0.0\n",
            "  positive)\n",
            "C:\\Users\\User\\Anaconda3\\envs\\buan6341_2020\\lib\\site-packages\\sklearn\\linear_model\\_coordinate_descent.py:476: ConvergenceWarning: Objective did not converge. You might want to increase the number of iterations. Duality gap: 0.0, tolerance: 0.0\n",
            "  positive)\n",
            "C:\\Users\\User\\Anaconda3\\envs\\buan6341_2020\\lib\\site-packages\\sklearn\\linear_model\\_coordinate_descent.py:476: ConvergenceWarning: Objective did not converge. You might want to increase the number of iterations. Duality gap: 0.0, tolerance: 0.0\n",
            "  positive)\n",
            "C:\\Users\\User\\Anaconda3\\envs\\buan6341_2020\\lib\\site-packages\\sklearn\\linear_model\\_coordinate_descent.py:476: ConvergenceWarning: Objective did not converge. You might want to increase the number of iterations. Duality gap: 0.0, tolerance: 0.0\n",
            "  positive)\n",
            "C:\\Users\\User\\Anaconda3\\envs\\buan6341_2020\\lib\\site-packages\\sklearn\\linear_model\\_coordinate_descent.py:476: ConvergenceWarning: Objective did not converge. You might want to increase the number of iterations. Duality gap: 0.0, tolerance: 0.0\n",
            "  positive)\n",
            "C:\\Users\\User\\Anaconda3\\envs\\buan6341_2020\\lib\\site-packages\\sklearn\\linear_model\\_coordinate_descent.py:476: ConvergenceWarning: Objective did not converge. You might want to increase the number of iterations. Duality gap: 0.0, tolerance: 0.0\n",
            "  positive)\n",
            "C:\\Users\\User\\Anaconda3\\envs\\buan6341_2020\\lib\\site-packages\\sklearn\\linear_model\\_coordinate_descent.py:476: ConvergenceWarning: Objective did not converge. You might want to increase the number of iterations. Duality gap: 0.0, tolerance: 0.0\n",
            "  positive)\n",
            "C:\\Users\\User\\Anaconda3\\envs\\buan6341_2020\\lib\\site-packages\\sklearn\\linear_model\\_coordinate_descent.py:476: ConvergenceWarning: Objective did not converge. You might want to increase the number of iterations. Duality gap: 0.0, tolerance: 0.0\n",
            "  positive)\n",
            "C:\\Users\\User\\Anaconda3\\envs\\buan6341_2020\\lib\\site-packages\\sklearn\\linear_model\\_coordinate_descent.py:476: ConvergenceWarning: Objective did not converge. You might want to increase the number of iterations. Duality gap: 0.0, tolerance: 0.0\n",
            "  positive)\n",
            "C:\\Users\\User\\Anaconda3\\envs\\buan6341_2020\\lib\\site-packages\\sklearn\\linear_model\\_coordinate_descent.py:476: ConvergenceWarning: Objective did not converge. You might want to increase the number of iterations. Duality gap: 0.0, tolerance: 0.0\n",
            "  positive)\n",
            "C:\\Users\\User\\Anaconda3\\envs\\buan6341_2020\\lib\\site-packages\\sklearn\\linear_model\\_coordinate_descent.py:476: ConvergenceWarning: Objective did not converge. You might want to increase the number of iterations. Duality gap: 0.0, tolerance: 0.0\n",
            "  positive)\n",
            "C:\\Users\\User\\Anaconda3\\envs\\buan6341_2020\\lib\\site-packages\\sklearn\\linear_model\\_coordinate_descent.py:476: ConvergenceWarning: Objective did not converge. You might want to increase the number of iterations. Duality gap: 0.0, tolerance: 0.0\n",
            "  positive)\n",
            "C:\\Users\\User\\Anaconda3\\envs\\buan6341_2020\\lib\\site-packages\\sklearn\\linear_model\\_coordinate_descent.py:476: ConvergenceWarning: Objective did not converge. You might want to increase the number of iterations. Duality gap: 0.0, tolerance: 0.0\n",
            "  positive)\n",
            "C:\\Users\\User\\Anaconda3\\envs\\buan6341_2020\\lib\\site-packages\\sklearn\\linear_model\\_coordinate_descent.py:476: ConvergenceWarning: Objective did not converge. You might want to increase the number of iterations. Duality gap: 0.0, tolerance: 0.0\n",
            "  positive)\n",
            "C:\\Users\\User\\Anaconda3\\envs\\buan6341_2020\\lib\\site-packages\\sklearn\\linear_model\\_coordinate_descent.py:476: ConvergenceWarning: Objective did not converge. You might want to increase the number of iterations. Duality gap: 0.0, tolerance: 0.0\n",
            "  positive)\n",
            "C:\\Users\\User\\Anaconda3\\envs\\buan6341_2020\\lib\\site-packages\\sklearn\\linear_model\\_coordinate_descent.py:476: ConvergenceWarning: Objective did not converge. You might want to increase the number of iterations. Duality gap: 0.0, tolerance: 0.0\n",
            "  positive)\n",
            "C:\\Users\\User\\Anaconda3\\envs\\buan6341_2020\\lib\\site-packages\\sklearn\\linear_model\\_coordinate_descent.py:476: ConvergenceWarning: Objective did not converge. You might want to increase the number of iterations. Duality gap: 0.0, tolerance: 0.0\n",
            "  positive)\n"
          ],
          "name": "stderr"
        },
        {
          "output_type": "execute_result",
          "data": {
            "text/plain": [
              "GridSearchCV(cv=5, error_score=nan,\n",
              "             estimator=BaggingRegressor(base_estimator=Lasso(alpha=1.0,\n",
              "                                                             copy_X=True,\n",
              "                                                             fit_intercept=True,\n",
              "                                                             max_iter=1000,\n",
              "                                                             normalize=False,\n",
              "                                                             positive=False,\n",
              "                                                             precompute=False,\n",
              "                                                             random_state=0,\n",
              "                                                             selection='cyclic',\n",
              "                                                             tol=0.0001,\n",
              "                                                             warm_start=False),\n",
              "                                        bootstrap=False,\n",
              "                                        bootstrap_features=False,\n",
              "                                        max_features=1.0, max_samples=1.0,\n",
              "                                        n_estimators=10, n_jobs=None,\n",
              "                                        oob_score=False, random_state=0,\n",
              "                                        verbose=0, warm_start=False),\n",
              "             iid='deprecated', n_jobs=None,\n",
              "             param_grid={'base_estimator__alpha': [1000],\n",
              "                         'max_samples': [0.8, 1],\n",
              "                         'n_estimators': [10, 25, 100]},\n",
              "             pre_dispatch='2*n_jobs', refit=True, return_train_score=True,\n",
              "             scoring=None, verbose=0)"
            ]
          },
          "metadata": {
            "tags": []
          },
          "execution_count": 70
        }
      ]
    },
    {
      "cell_type": "code",
      "metadata": {
        "ExecuteTime": {
          "end_time": "2020-04-22T22:02:46.993803Z",
          "start_time": "2020-04-22T22:02:46.946829Z"
        },
        "id": "l3Ndhu1yl5Jt",
        "outputId": "de1344f1-db8b-448b-ee29-f43b029aed47"
      },
      "source": [
        "print(f'Best Mean Cross Validation Score is {paste_lasso_grid.best_score_}')\n",
        "print(f'Best Mean Cross Validation Score is {paste_lasso_grid.best_params_}')\n",
        "print(f'Train score is {paste_lasso_grid.score(X_train,y_train)}')\n",
        "print(f'Test score is {paste_lasso_grid.score(X_test,y_test)}')\n"
      ],
      "execution_count": null,
      "outputs": [
        {
          "output_type": "stream",
          "text": [
            "Best Mean Cross Validation Score is 0.8853500548849673\n",
            "Best Mean Cross Validation Score is {'base_estimator__alpha': 1000, 'max_samples': 0.8, 'n_estimators': 10}\n",
            "Train score is 0.904926603291563\n",
            "Test score is 0.8840795669813257\n"
          ],
          "name": "stdout"
        }
      ]
    },
    {
      "cell_type": "markdown",
      "metadata": {
        "id": "WbYHuGckl5Jt"
      },
      "source": [
        "## Random Forest"
      ]
    },
    {
      "cell_type": "code",
      "metadata": {
        "ExecuteTime": {
          "end_time": "2020-04-22T22:02:47.011792Z",
          "start_time": "2020-04-22T22:02:47.001797Z"
        },
        "id": "JuUt-KzOl5Ju"
      },
      "source": [
        "from sklearn.ensemble import RandomForestRegressor"
      ],
      "execution_count": null,
      "outputs": []
    },
    {
      "cell_type": "code",
      "metadata": {
        "ExecuteTime": {
          "end_time": "2020-04-22T22:06:26.197759Z",
          "start_time": "2020-04-22T22:02:47.016789Z"
        },
        "id": "Wjd_ZAZ8l5Ju",
        "outputId": "8accf871-404f-4f37-a6e9-a5c7b01a7b3d"
      },
      "source": [
        "rfr =RandomForestRegressor(random_state=42)\n",
        "rfr_param = { \n",
        "    'n_estimators': [10,25,100,200],\n",
        "    'max_features': ['auto', 'sqrt', 'log2'],\n",
        "    'max_depth' : [2,4,5,6,7,8],\n",
        "   \n",
        "}\n",
        "\n",
        "rfr_grid = GridSearchCV(rfr, rfr_param,cv=5, return_train_score=True, )\n",
        "rfr_grid.fit(X_train,y_train)"
      ],
      "execution_count": null,
      "outputs": [
        {
          "output_type": "execute_result",
          "data": {
            "text/plain": [
              "GridSearchCV(cv=5, error_score=nan,\n",
              "             estimator=RandomForestRegressor(bootstrap=True, ccp_alpha=0.0,\n",
              "                                             criterion='mse', max_depth=None,\n",
              "                                             max_features='auto',\n",
              "                                             max_leaf_nodes=None,\n",
              "                                             max_samples=None,\n",
              "                                             min_impurity_decrease=0.0,\n",
              "                                             min_impurity_split=None,\n",
              "                                             min_samples_leaf=1,\n",
              "                                             min_samples_split=2,\n",
              "                                             min_weight_fraction_leaf=0.0,\n",
              "                                             n_estimators=100, n_jobs=None,\n",
              "                                             oob_score=False, random_state=42,\n",
              "                                             verbose=0, warm_start=False),\n",
              "             iid='deprecated', n_jobs=None,\n",
              "             param_grid={'max_depth': [2, 4, 5, 6, 7, 8],\n",
              "                         'max_features': ['auto', 'sqrt', 'log2'],\n",
              "                         'n_estimators': [10, 25, 100, 200]},\n",
              "             pre_dispatch='2*n_jobs', refit=True, return_train_score=True,\n",
              "             scoring=None, verbose=0)"
            ]
          },
          "metadata": {
            "tags": []
          },
          "execution_count": 73
        }
      ]
    },
    {
      "cell_type": "code",
      "metadata": {
        "ExecuteTime": {
          "end_time": "2020-04-22T22:06:26.308693Z",
          "start_time": "2020-04-22T22:06:26.202754Z"
        },
        "id": "Uiyge4TBl5Jv",
        "outputId": "99367e72-2888-4618-aa66-b33f60f8f91c"
      },
      "source": [
        "print(f'Best Mean Cross Validation Score is {rfr_grid.best_score_}')\n",
        "print(f'Best Mean Cross Validation Score is {rfr_grid.best_params_}')\n",
        "print(f'Train score is {rfr_grid.score(X_train,y_train)}')\n",
        "print(f'Test score is {rfr_grid.score(X_test,y_test)}')"
      ],
      "execution_count": null,
      "outputs": [
        {
          "output_type": "stream",
          "text": [
            "Best Mean Cross Validation Score is 0.8684018451123624\n",
            "Best Mean Cross Validation Score is {'max_depth': 8, 'max_features': 'sqrt', 'n_estimators': 200}\n",
            "Train score is 0.9518111754018606\n",
            "Test score is 0.8620153277926287\n"
          ],
          "name": "stdout"
        }
      ]
    },
    {
      "cell_type": "markdown",
      "metadata": {
        "id": "GUt1GAeAl5Jx"
      },
      "source": [
        "## Extra-Trees"
      ]
    },
    {
      "cell_type": "code",
      "metadata": {
        "ExecuteTime": {
          "end_time": "2020-04-22T22:06:26.325683Z",
          "start_time": "2020-04-22T22:06:26.315689Z"
        },
        "id": "osRE6VUcl5Jy"
      },
      "source": [
        "from  sklearn.ensemble import ExtraTreesRegressor"
      ],
      "execution_count": null,
      "outputs": []
    },
    {
      "cell_type": "code",
      "metadata": {
        "ExecuteTime": {
          "end_time": "2020-04-22T22:09:17.871478Z",
          "start_time": "2020-04-22T22:06:26.341675Z"
        },
        "id": "3efEXgtyl5Jz",
        "outputId": "ea1fb1a2-67f1-4e0e-eadb-666ee9bc39bb"
      },
      "source": [
        "etr= ExtraTreesRegressor(random_state=42)\n",
        "etr_param = { \n",
        "    'n_estimators': [200, 500],\n",
        "    'max_features': ['auto', 'sqrt', 'log2'],\n",
        "    'max_depth' : [2,4,5,6,7,8],\n",
        "}\n",
        "etr_grid = GridSearchCV(etr, etr_param,cv=5, return_train_score=True, )\n",
        "etr_grid.fit(X_train,y_train)"
      ],
      "execution_count": null,
      "outputs": [
        {
          "output_type": "execute_result",
          "data": {
            "text/plain": [
              "GridSearchCV(cv=5, error_score=nan,\n",
              "             estimator=ExtraTreesRegressor(bootstrap=False, ccp_alpha=0.0,\n",
              "                                           criterion='mse', max_depth=None,\n",
              "                                           max_features='auto',\n",
              "                                           max_leaf_nodes=None,\n",
              "                                           max_samples=None,\n",
              "                                           min_impurity_decrease=0.0,\n",
              "                                           min_impurity_split=None,\n",
              "                                           min_samples_leaf=1,\n",
              "                                           min_samples_split=2,\n",
              "                                           min_weight_fraction_leaf=0.0,\n",
              "                                           n_estimators=100, n_jobs=None,\n",
              "                                           oob_score=False, random_state=42,\n",
              "                                           verbose=0, warm_start=False),\n",
              "             iid='deprecated', n_jobs=None,\n",
              "             param_grid={'max_depth': [2, 4, 5, 6, 7, 8],\n",
              "                         'max_features': ['auto', 'sqrt', 'log2'],\n",
              "                         'n_estimators': [200, 500]},\n",
              "             pre_dispatch='2*n_jobs', refit=True, return_train_score=True,\n",
              "             scoring=None, verbose=0)"
            ]
          },
          "metadata": {
            "tags": []
          },
          "execution_count": 76
        }
      ]
    },
    {
      "cell_type": "code",
      "metadata": {
        "ExecuteTime": {
          "end_time": "2020-04-22T22:09:18.223276Z",
          "start_time": "2020-04-22T22:09:17.874476Z"
        },
        "id": "3RgaAnVdl5J0",
        "outputId": "a028f1c4-5459-4353-e042-5204bac47840"
      },
      "source": [
        "print(f'Best Mean Cross Validation Score is {etr_grid.best_score_}')\n",
        "print(f'Best Mean Cross Validation Score is {etr_grid.best_params_}')\n",
        "print(f'Train score is {etr_grid.score(X_train,y_train)}')\n",
        "print(f'Test score is {etr_grid.score(X_test,y_test)}')\n"
      ],
      "execution_count": null,
      "outputs": [
        {
          "output_type": "stream",
          "text": [
            "Best Mean Cross Validation Score is 0.8670305610889916\n",
            "Best Mean Cross Validation Score is {'max_depth': 8, 'max_features': 'auto', 'n_estimators': 500}\n",
            "Train score is 0.9727567527434288\n",
            "Test score is 0.8552179473762773\n"
          ],
          "name": "stdout"
        }
      ]
    },
    {
      "cell_type": "markdown",
      "metadata": {
        "id": "T9uxr5EEl5J2"
      },
      "source": [
        "## Ada Boost"
      ]
    },
    {
      "cell_type": "code",
      "metadata": {
        "ExecuteTime": {
          "end_time": "2020-04-22T22:09:18.230273Z",
          "start_time": "2020-04-22T22:09:18.226275Z"
        },
        "id": "dvMymHQ2l5J3"
      },
      "source": [
        "from sklearn.ensemble import AdaBoostRegressor"
      ],
      "execution_count": null,
      "outputs": []
    },
    {
      "cell_type": "code",
      "metadata": {
        "ExecuteTime": {
          "end_time": "2020-04-22T22:11:30.096781Z",
          "start_time": "2020-04-22T22:09:18.234270Z"
        },
        "id": "Gc25OaGFl5J3",
        "outputId": "52fabd4b-096f-41e7-84f6-fcb4fb370772"
      },
      "source": [
        "adr_dtree =AdaBoostRegressor(base_estimator=DecisionTreeRegressor(),random_state=42)\n",
        "adr_dtree_param = {\n",
        "              'base_estimator__splitter' :   [\"best\", \"random\"],\n",
        "              'base_estimator__max_depth' : [2,4,6],\n",
        "              'n_estimators' : [100,150],\n",
        "              'learning_rate' : [0.5,1.0,2],\n",
        "             }\n",
        "adr_dtree_grid = GridSearchCV(adr_dtree, adr_dtree_param,cv=5, return_train_score=True, )\n",
        "adr_dtree_grid.fit(X_train,y_train)"
      ],
      "execution_count": null,
      "outputs": [
        {
          "output_type": "execute_result",
          "data": {
            "text/plain": [
              "GridSearchCV(cv=5, error_score=nan,\n",
              "             estimator=AdaBoostRegressor(base_estimator=DecisionTreeRegressor(ccp_alpha=0.0,\n",
              "                                                                              criterion='mse',\n",
              "                                                                              max_depth=None,\n",
              "                                                                              max_features=None,\n",
              "                                                                              max_leaf_nodes=None,\n",
              "                                                                              min_impurity_decrease=0.0,\n",
              "                                                                              min_impurity_split=None,\n",
              "                                                                              min_samples_leaf=1,\n",
              "                                                                              min_samples_split=2,\n",
              "                                                                              min_weight_fraction_leaf=0.0,\n",
              "                                                                              presort='deprecated',\n",
              "                                                                              random_state=None,\n",
              "                                                                              splitter='best'),\n",
              "                                         learning_rate=1.0, loss='linear',\n",
              "                                         n_estimators=50, random_state=42),\n",
              "             iid='deprecated', n_jobs=None,\n",
              "             param_grid={'base_estimator__max_depth': [2, 4, 6],\n",
              "                         'base_estimator__splitter': ['best', 'random'],\n",
              "                         'learning_rate': [0.5, 1.0, 2],\n",
              "                         'n_estimators': [100, 150]},\n",
              "             pre_dispatch='2*n_jobs', refit=True, return_train_score=True,\n",
              "             scoring=None, verbose=0)"
            ]
          },
          "metadata": {
            "tags": []
          },
          "execution_count": 79
        }
      ]
    },
    {
      "cell_type": "code",
      "metadata": {
        "ExecuteTime": {
          "end_time": "2020-04-22T22:11:30.188729Z",
          "start_time": "2020-04-22T22:11:30.099781Z"
        },
        "id": "FN2sxXBul5J3",
        "outputId": "a5f59782-a1f5-409c-d3ed-b8417a63ba5d"
      },
      "source": [
        "print(f'Best Mean Cross Validation Score is {adr_dtree_grid.best_score_}')\n",
        "print(f'Best Mean Cross Validation Score is {adr_dtree_grid.best_params_}')\n",
        "print(f'Train score is {adr_dtree_grid.score(X_train,y_train)}')\n",
        "print(f'Test score is {adr_dtree_grid.score(X_test,y_test)}')\n"
      ],
      "execution_count": null,
      "outputs": [
        {
          "output_type": "stream",
          "text": [
            "Best Mean Cross Validation Score is 0.8731237811314138\n",
            "Best Mean Cross Validation Score is {'base_estimator__max_depth': 6, 'base_estimator__splitter': 'best', 'learning_rate': 2, 'n_estimators': 100}\n",
            "Train score is 0.9623020124499386\n",
            "Test score is 0.8698379324389934\n"
          ],
          "name": "stdout"
        }
      ]
    },
    {
      "cell_type": "markdown",
      "metadata": {
        "id": "zVDGjaPyl5J4"
      },
      "source": [
        "## Gradient Boost"
      ]
    },
    {
      "cell_type": "code",
      "metadata": {
        "ExecuteTime": {
          "end_time": "2020-04-22T22:11:30.200722Z",
          "start_time": "2020-04-22T22:11:30.193727Z"
        },
        "id": "1x9jqayQl5J4"
      },
      "source": [
        "from  sklearn.ensemble import GradientBoostingRegressor"
      ],
      "execution_count": null,
      "outputs": []
    },
    {
      "cell_type": "code",
      "metadata": {
        "ExecuteTime": {
          "end_time": "2020-04-22T22:12:10.878434Z",
          "start_time": "2020-04-22T22:11:30.204720Z"
        },
        "id": "-SquQJq8l5J4",
        "outputId": "9ad029e9-0933-479a-dd37-822d508329d6"
      },
      "source": [
        "gbr= GradientBoostingRegressor(random_state=42)\n",
        "gbr_param = {\n",
        "              'max_depth' : [2,3,4],\n",
        "              'n_estimators' : [100,150],\n",
        "              'learning_rate' : [0.5,1.0,2],\n",
        "             }\n",
        "gbr_grid = GridSearchCV(gbr, gbr_param,cv=5, return_train_score=True, )\n",
        "gbr_grid.fit(X_train,y_train)"
      ],
      "execution_count": null,
      "outputs": [
        {
          "output_type": "execute_result",
          "data": {
            "text/plain": [
              "GridSearchCV(cv=5, error_score=nan,\n",
              "             estimator=GradientBoostingRegressor(alpha=0.9, ccp_alpha=0.0,\n",
              "                                                 criterion='friedman_mse',\n",
              "                                                 init=None, learning_rate=0.1,\n",
              "                                                 loss='ls', max_depth=3,\n",
              "                                                 max_features=None,\n",
              "                                                 max_leaf_nodes=None,\n",
              "                                                 min_impurity_decrease=0.0,\n",
              "                                                 min_impurity_split=None,\n",
              "                                                 min_samples_leaf=1,\n",
              "                                                 min_samples_split=2,\n",
              "                                                 min_weight_fraction_leaf=0.0,\n",
              "                                                 n_estimators=100,\n",
              "                                                 n_iter_no_change=None,\n",
              "                                                 presort='deprecated',\n",
              "                                                 random_state=42, subsample=1.0,\n",
              "                                                 tol=0.0001,\n",
              "                                                 validation_fraction=0.1,\n",
              "                                                 verbose=0, warm_start=False),\n",
              "             iid='deprecated', n_jobs=None,\n",
              "             param_grid={'learning_rate': [0.5, 1.0, 2], 'max_depth': [2, 3, 4],\n",
              "                         'n_estimators': [100, 150]},\n",
              "             pre_dispatch='2*n_jobs', refit=True, return_train_score=True,\n",
              "             scoring=None, verbose=0)"
            ]
          },
          "metadata": {
            "tags": []
          },
          "execution_count": 82
        }
      ]
    },
    {
      "cell_type": "code",
      "metadata": {
        "ExecuteTime": {
          "end_time": "2020-04-22T22:12:10.902423Z",
          "start_time": "2020-04-22T22:12:10.883440Z"
        },
        "id": "rAPy6ZHzl5J5",
        "outputId": "92e2622a-4f8d-458e-8989-ec9bae521448"
      },
      "source": [
        "print(f'Best Mean Cross Validation Score is {gbr_grid.best_score_}')\n",
        "print(f'Best Mean Cross Validation Score is {gbr_grid.best_params_}')\n",
        "print(f'Train score is {gbr_grid.score(X_train,y_train)}')\n",
        "print(f'Test score is {gbr_grid.score(X_test,y_test)}')\n"
      ],
      "execution_count": null,
      "outputs": [
        {
          "output_type": "stream",
          "text": [
            "Best Mean Cross Validation Score is 0.8693214037454589\n",
            "Best Mean Cross Validation Score is {'learning_rate': 0.5, 'max_depth': 3, 'n_estimators': 100}\n",
            "Train score is 0.9845482194901631\n",
            "Test score is 0.8834970768587678\n"
          ],
          "name": "stdout"
        }
      ]
    },
    {
      "cell_type": "markdown",
      "metadata": {
        "id": "vbp9Jlagl5J5"
      },
      "source": [
        "## XGBoost"
      ]
    },
    {
      "cell_type": "code",
      "metadata": {
        "ExecuteTime": {
          "end_time": "2020-04-22T21:06:58.630101Z",
          "start_time": "2020-04-22T21:06:51.746890Z"
        },
        "id": "7ecqy1wZl5J5",
        "outputId": "da078c29-3557-4022-d6a6-ccb496879df4"
      },
      "source": [
        "pip install xgboost"
      ],
      "execution_count": null,
      "outputs": [
        {
          "output_type": "stream",
          "text": [
            "Collecting xgboost\n",
            "  Downloading https://files.pythonhosted.org/packages/b1/11/cba4be5a737c6431323b89b5ade818b3bbe1df6e8261c6c70221a767c5d9/xgboost-1.0.2-py3-none-win_amd64.whl (24.6MB)\n",
            "Requirement already satisfied: scipy in c:\\users\\user\\anaconda3\\envs\\buan6341_2020\\lib\\site-packages (from xgboost) (1.3.0)\n",
            "Requirement already satisfied: numpy in c:\\users\\user\\anaconda3\\envs\\buan6341_2020\\lib\\site-packages (from xgboost) (1.17.4)\n",
            "Installing collected packages: xgboost\n",
            "Successfully installed xgboost-1.0.2\n",
            "Note: you may need to restart the kernel to use updated packages.\n"
          ],
          "name": "stdout"
        }
      ]
    },
    {
      "cell_type": "code",
      "metadata": {
        "ExecuteTime": {
          "end_time": "2020-04-22T21:12:56.001846Z",
          "start_time": "2020-04-22T21:12:55.996848Z"
        },
        "id": "NXSVVh2cl5J6"
      },
      "source": [
        "from xgboost import XGBRegressor\n",
        "from sklearn.model_selection import GridSearchCV\n"
      ],
      "execution_count": null,
      "outputs": []
    },
    {
      "cell_type": "code",
      "metadata": {
        "ExecuteTime": {
          "end_time": "2020-04-22T21:38:09.988633Z",
          "start_time": "2020-04-22T21:16:05.504389Z"
        },
        "id": "atlgAncKl5J6",
        "outputId": "111778c0-4fea-456b-bd14-87c24d59008a"
      },
      "source": [
        "xgbr= XGBRegressor(random_state=42,early_stopping_rounds=2)\n",
        "xgbr_param = {\n",
        "              'max_depth' : [2,4,6],\n",
        "              'n_estimators' : [50,100,150],\n",
        "              'learning_rate' : [0.1,0.5,0.6,0.8],\n",
        "               'min_child_weight' : [1,3,5,7],\n",
        "                'subsample':[0.6,0.7,0.8,0.9,1]\n",
        "             }\n",
        "xgbr_grid = GridSearchCV(xgbr, xgbr_param,cv=5, return_train_score=True, )\n",
        "xgbr_grid.fit(X_train,y_train)"
      ],
      "execution_count": null,
      "outputs": [
        {
          "output_type": "execute_result",
          "data": {
            "text/plain": [
              "GridSearchCV(cv=5, error_score=nan,\n",
              "             estimator=XGBRegressor(base_score=None, booster=None,\n",
              "                                    colsample_bylevel=None,\n",
              "                                    colsample_bynode=None,\n",
              "                                    colsample_bytree=None,\n",
              "                                    early_stopping_rounds=2, gamma=None,\n",
              "                                    gpu_id=None, importance_type='gain',\n",
              "                                    interaction_constraints=None,\n",
              "                                    learning_rate=None, max_delta_step=None,\n",
              "                                    max_depth=None, min_child_weight=None,\n",
              "                                    missing=nan, monotone_c...\n",
              "                                    reg_lambda=None, scale_pos_weight=None,\n",
              "                                    subsample=None, tree_method=None,\n",
              "                                    validate_parameters=False, verbosity=None),\n",
              "             iid='deprecated', n_jobs=None,\n",
              "             param_grid={'learning_rate': [0.1, 0.5, 0.6, 0.8],\n",
              "                         'max_depth': [2, 4, 6],\n",
              "                         'min_child_weight': [1, 3, 5, 7],\n",
              "                         'n_estimators': [50, 100, 150],\n",
              "                         'subsample': [0.6, 0.7, 0.8, 0.9, 1]},\n",
              "             pre_dispatch='2*n_jobs', refit=True, return_train_score=True,\n",
              "             scoring=None, verbose=0)"
            ]
          },
          "metadata": {
            "tags": []
          },
          "execution_count": 24
        }
      ]
    },
    {
      "cell_type": "code",
      "metadata": {
        "ExecuteTime": {
          "end_time": "2020-04-22T21:38:28.196845Z",
          "start_time": "2020-04-22T21:38:28.173857Z"
        },
        "id": "5IuFrjV6l5J6",
        "outputId": "a493946e-a6c3-475d-c9f7-a3c4be76be79"
      },
      "source": [
        "print(f'Best Mean Cross Validation Score is {xgbr_grid.best_score_}')\n",
        "print(f'Best Mean Cross Validation Score is {xgbr_grid.best_params_}')\n",
        "print(f'Train score is {xgbr_grid.score(X_train,y_train)}')\n",
        "print(f'Test score is {xgbr_grid.score(X_test,y_test)}')"
      ],
      "execution_count": null,
      "outputs": [
        {
          "output_type": "stream",
          "text": [
            "Best Mean Cross Validation Score is 0.8981992683459357\n",
            "Best Mean Cross Validation Score is {'learning_rate': 0.1, 'max_depth': 4, 'min_child_weight': 1, 'n_estimators': 150, 'subsample': 0.8}\n",
            "Train score is 0.979396879296572\n",
            "Test score is 0.8776048030903614\n"
          ],
          "name": "stdout"
        }
      ]
    },
    {
      "cell_type": "markdown",
      "metadata": {
        "id": "pDgMXqU_l5J7"
      },
      "source": [
        "# Summary"
      ]
    },
    {
      "cell_type": "code",
      "metadata": {
        "ExecuteTime": {
          "end_time": "2020-04-22T22:13:46.915744Z",
          "start_time": "2020-04-22T22:13:46.908748Z"
        },
        "id": "OtQd8Y61l5J7"
      },
      "source": [
        "Regressors={'linreg':lr,\n",
        "             'ridge':grid_ridge,\n",
        "             'lasso':grid_lasso,\n",
        "             'elasticnet':grid_elasticnet,\n",
        "             'knn':grid_knn,\n",
        "             'SGD':grid_sgd,\n",
        "             'Poly':grid_poly,\n",
        "             'LinearSVR':grid_LinearSVR,\n",
        "             'SVM':grid_SVM,\n",
        "             'dtree':grid_tree,\n",
        "             'bag_dtree1':bag_dtree1_grid,\n",
        "             'bag_lasso':bag_lasso_grid,\n",
        "            'paste_dtree1': paste_dtree1_grid,\n",
        "             'paste_lasso':paste_lasso_grid,\n",
        "             'rfr': rfr_grid,\n",
        "             'etr': etr_grid,\n",
        "             'adr_dtree':adr_dtree_grid,\n",
        "             'gbr': gbr_grid,\n",
        "             'xgbr': xgbr_grid}"
      ],
      "execution_count": null,
      "outputs": []
    },
    {
      "cell_type": "code",
      "metadata": {
        "ExecuteTime": {
          "end_time": "2020-04-22T22:13:50.061876Z",
          "start_time": "2020-04-22T22:13:50.055880Z"
        },
        "id": "GSMLqiixl5J8",
        "outputId": "9b93d6ad-1e02-40d5-f43a-11bece7b51a3"
      },
      "source": [
        "Regressors.keys()"
      ],
      "execution_count": null,
      "outputs": [
        {
          "output_type": "execute_result",
          "data": {
            "text/plain": [
              "dict_keys(['linreg', 'ridge', 'lasso', 'elasticnet', 'knn', 'SGD', 'Poly', 'LinearSVR', 'SVM', 'dtree', 'bag_dtree1', 'bag_lasso', 'paste_dtree1', 'paste_lasso', 'rfr', 'etr', 'adr_dtree', 'gbr', 'xgbr'])"
            ]
          },
          "metadata": {
            "tags": []
          },
          "execution_count": 86
        }
      ]
    },
    {
      "cell_type": "code",
      "metadata": {
        "ExecuteTime": {
          "end_time": "2020-04-22T22:37:07.416131Z",
          "start_time": "2020-04-22T22:37:06.335772Z"
        },
        "id": "XVfc3zV_l5J8"
      },
      "source": [
        "results_mean_std = []\n",
        "for  key, value in Regressors.items():\n",
        "    r2_train = \"{:.3f}\".format(value.score(X_train,y_train))\n",
        "    r2_test = \"{:.3f}\".format(value.score(X_test,y_test))\n",
        "\n",
        "#    r2=\"{:.3f}\".format(grid_SVC.best_score_))\n",
        "#    std=value.r2_score['std_test_score'][value.best_index_]\n",
        "     \n",
        "    results_mean_std.append({\n",
        "        \"model\": key,\n",
        "        \"r2_train\": r2_train,\n",
        "        \"r2_test\":r2_test\n",
        "#        \"std\": std\n",
        "    })"
      ],
      "execution_count": null,
      "outputs": []
    },
    {
      "cell_type": "code",
      "metadata": {
        "ExecuteTime": {
          "end_time": "2020-04-22T22:37:09.983262Z",
          "start_time": "2020-04-22T22:37:09.978266Z"
        },
        "id": "oNHPHeWnl5J8"
      },
      "source": [
        "# Create a Pandas DataFrame with the r2 results\n",
        "accuracy_df = pd.DataFrame(results_mean_std, columns=['model', 'r2_train','r2_test'])\n"
      ],
      "execution_count": null,
      "outputs": []
    },
    {
      "cell_type": "code",
      "metadata": {
        "ExecuteTime": {
          "end_time": "2020-04-22T22:37:12.313550Z",
          "start_time": "2020-04-22T22:37:12.297558Z"
        },
        "id": "zmDefsm8l5J9",
        "outputId": "1fce50ae-493f-4af4-90c9-098bdd47141f"
      },
      "source": [
        "# Show the accuracy dataframe\n",
        "\n",
        "accuracy_df.sort_values(by=['r2_test'], inplace=True,ascending=False)\n",
        "accuracy_df"
      ],
      "execution_count": null,
      "outputs": [
        {
          "output_type": "execute_result",
          "data": {
            "text/html": [
              "<div>\n",
              "<style scoped>\n",
              "    .dataframe tbody tr th:only-of-type {\n",
              "        vertical-align: middle;\n",
              "    }\n",
              "\n",
              "    .dataframe tbody tr th {\n",
              "        vertical-align: top;\n",
              "    }\n",
              "\n",
              "    .dataframe thead th {\n",
              "        text-align: right;\n",
              "    }\n",
              "</style>\n",
              "<table border=\"1\" class=\"dataframe\">\n",
              "  <thead>\n",
              "    <tr style=\"text-align: right;\">\n",
              "      <th></th>\n",
              "      <th>model</th>\n",
              "      <th>r2_train</th>\n",
              "      <th>r2_test</th>\n",
              "    </tr>\n",
              "  </thead>\n",
              "  <tbody>\n",
              "    <tr>\n",
              "      <th>2</th>\n",
              "      <td>lasso</td>\n",
              "      <td>0.905</td>\n",
              "      <td>0.887</td>\n",
              "    </tr>\n",
              "    <tr>\n",
              "      <th>13</th>\n",
              "      <td>paste_lasso</td>\n",
              "      <td>0.905</td>\n",
              "      <td>0.884</td>\n",
              "    </tr>\n",
              "    <tr>\n",
              "      <th>17</th>\n",
              "      <td>gbr</td>\n",
              "      <td>0.985</td>\n",
              "      <td>0.883</td>\n",
              "    </tr>\n",
              "    <tr>\n",
              "      <th>11</th>\n",
              "      <td>bag_lasso</td>\n",
              "      <td>0.904</td>\n",
              "      <td>0.882</td>\n",
              "    </tr>\n",
              "    <tr>\n",
              "      <th>18</th>\n",
              "      <td>xgbr</td>\n",
              "      <td>0.979</td>\n",
              "      <td>0.878</td>\n",
              "    </tr>\n",
              "    <tr>\n",
              "      <th>0</th>\n",
              "      <td>linreg</td>\n",
              "      <td>0.912</td>\n",
              "      <td>0.875</td>\n",
              "    </tr>\n",
              "    <tr>\n",
              "      <th>1</th>\n",
              "      <td>ridge</td>\n",
              "      <td>0.910</td>\n",
              "      <td>0.873</td>\n",
              "    </tr>\n",
              "    <tr>\n",
              "      <th>3</th>\n",
              "      <td>elasticnet</td>\n",
              "      <td>0.910</td>\n",
              "      <td>0.873</td>\n",
              "    </tr>\n",
              "    <tr>\n",
              "      <th>5</th>\n",
              "      <td>SGD</td>\n",
              "      <td>0.909</td>\n",
              "      <td>0.871</td>\n",
              "    </tr>\n",
              "    <tr>\n",
              "      <th>16</th>\n",
              "      <td>adr_dtree</td>\n",
              "      <td>0.962</td>\n",
              "      <td>0.870</td>\n",
              "    </tr>\n",
              "    <tr>\n",
              "      <th>14</th>\n",
              "      <td>rfr</td>\n",
              "      <td>0.952</td>\n",
              "      <td>0.862</td>\n",
              "    </tr>\n",
              "    <tr>\n",
              "      <th>10</th>\n",
              "      <td>bag_dtree1</td>\n",
              "      <td>0.964</td>\n",
              "      <td>0.860</td>\n",
              "    </tr>\n",
              "    <tr>\n",
              "      <th>12</th>\n",
              "      <td>paste_dtree1</td>\n",
              "      <td>0.973</td>\n",
              "      <td>0.855</td>\n",
              "    </tr>\n",
              "    <tr>\n",
              "      <th>15</th>\n",
              "      <td>etr</td>\n",
              "      <td>0.973</td>\n",
              "      <td>0.855</td>\n",
              "    </tr>\n",
              "    <tr>\n",
              "      <th>9</th>\n",
              "      <td>dtree</td>\n",
              "      <td>0.897</td>\n",
              "      <td>0.812</td>\n",
              "    </tr>\n",
              "    <tr>\n",
              "      <th>4</th>\n",
              "      <td>knn</td>\n",
              "      <td>0.858</td>\n",
              "      <td>0.700</td>\n",
              "    </tr>\n",
              "    <tr>\n",
              "      <th>7</th>\n",
              "      <td>LinearSVR</td>\n",
              "      <td>0.147</td>\n",
              "      <td>0.133</td>\n",
              "    </tr>\n",
              "    <tr>\n",
              "      <th>8</th>\n",
              "      <td>SVM</td>\n",
              "      <td>0.065</td>\n",
              "      <td>0.052</td>\n",
              "    </tr>\n",
              "    <tr>\n",
              "      <th>6</th>\n",
              "      <td>Poly</td>\n",
              "      <td>1.000</td>\n",
              "      <td>-19061138988228244.000</td>\n",
              "    </tr>\n",
              "  </tbody>\n",
              "</table>\n",
              "</div>"
            ],
            "text/plain": [
              "           model r2_train                 r2_test\n",
              "2          lasso    0.905                   0.887\n",
              "13   paste_lasso    0.905                   0.884\n",
              "17           gbr    0.985                   0.883\n",
              "11     bag_lasso    0.904                   0.882\n",
              "18          xgbr    0.979                   0.878\n",
              "0         linreg    0.912                   0.875\n",
              "1          ridge    0.910                   0.873\n",
              "3     elasticnet    0.910                   0.873\n",
              "5            SGD    0.909                   0.871\n",
              "16     adr_dtree    0.962                   0.870\n",
              "14           rfr    0.952                   0.862\n",
              "10    bag_dtree1    0.964                   0.860\n",
              "12  paste_dtree1    0.973                   0.855\n",
              "15           etr    0.973                   0.855\n",
              "9          dtree    0.897                   0.812\n",
              "4            knn    0.858                   0.700\n",
              "7      LinearSVR    0.147                   0.133\n",
              "8            SVM    0.065                   0.052\n",
              "6           Poly    1.000  -19061138988228244.000"
            ]
          },
          "metadata": {
            "tags": []
          },
          "execution_count": 109
        }
      ]
    },
    {
      "cell_type": "code",
      "metadata": {
        "ExecuteTime": {
          "end_time": "2020-04-22T23:02:23.385107Z",
          "start_time": "2020-04-22T23:02:23.323140Z"
        },
        "id": "kOvC3GtNl5J9"
      },
      "source": [
        ""
      ],
      "execution_count": null,
      "outputs": []
    },
    {
      "cell_type": "code",
      "metadata": {
        "ExecuteTime": {
          "end_time": "2020-04-22T23:13:40.851083Z",
          "start_time": "2020-04-22T23:13:40.795127Z"
        },
        "id": "mXkyFb4bl5J9"
      },
      "source": [
        ""
      ],
      "execution_count": null,
      "outputs": []
    },
    {
      "cell_type": "code",
      "metadata": {
        "ExecuteTime": {
          "end_time": "2020-04-22T23:13:17.365016Z",
          "start_time": "2020-04-22T23:13:17.118164Z"
        },
        "id": "T7LSiNZtl5J-"
      },
      "source": [
        "# Create a prediction of all models on the test set\n",
        "predictions_all = {}\n",
        "for  key, value in Regressors.items():\n",
        "    if key == 'linreg':\n",
        "        predictions = lr.predict(X_test)\n",
        "    else:\n",
        "    # Get best estimator\n",
        "        best_model = value.best_estimator_\n",
        "\n",
        "        # Predict test labels\n",
        "        predictions = best_model.predict(X_test)\n",
        "\n",
        "        # Save predictions to a list\n",
        "    predictions_all[key] = predictions\n",
        "        "
      ],
      "execution_count": null,
      "outputs": []
    },
    {
      "cell_type": "code",
      "metadata": {
        "ExecuteTime": {
          "end_time": "2020-04-22T23:13:55.793273Z",
          "start_time": "2020-04-22T23:13:55.788275Z"
        },
        "id": "grUK-xhdl5J-"
      },
      "source": [
        "# Creat a DataFrame for the predictions\n",
        "pred = pd.DataFrame(predictions_all)"
      ],
      "execution_count": null,
      "outputs": []
    },
    {
      "cell_type": "code",
      "metadata": {
        "ExecuteTime": {
          "end_time": "2020-04-22T23:14:09.902758Z",
          "start_time": "2020-04-22T23:14:03.841173Z"
        },
        "id": "g4SGF-6Yl5J-",
        "outputId": "b3c3d1d0-740d-4994-88af-b79254be6ba1"
      },
      "source": [
        "# Plot a heatmap of all correlations for easier visualization\n",
        "fig, ax = plt.subplots(nrows=1, ncols=1, figsize=(9,6))\n",
        "g = sns.heatmap(pred.corr(), annot=True, cmap='coolwarm', ax=ax)\n",
        "g.set_title('Correlation of the test set label prediction between models')"
      ],
      "execution_count": null,
      "outputs": [
        {
          "output_type": "execute_result",
          "data": {
            "text/plain": [
              "Text(0.5, 1, 'Correlation of the test set label prediction between models')"
            ]
          },
          "metadata": {
            "tags": []
          },
          "execution_count": 127
        },
        {
          "output_type": "display_data",
          "data": {
            "image/png": "[encoded data removed]",
            "text/plain": [
              "<Figure size 648x432 with 2 Axes>"
            ]
          },
          "metadata": {
            "tags": [],
            "needs_background": "light"
          }
        }
      ]
    },
    {
      "cell_type": "code",
      "metadata": {
        "ExecuteTime": {
          "end_time": "2020-04-22T23:15:41.686982Z",
          "start_time": "2020-04-22T23:15:41.678989Z"
        },
        "id": "_x86bmJpl5J-"
      },
      "source": [
        "def get_redundant_pairs(df):\n",
        "    '''Get diagonal and lower triangular pairs of correlation matrix'''\n",
        "    pairs_to_drop = set()\n",
        "    cols = df.columns\n",
        "    for i in range(0, df.shape[1]):\n",
        "        for j in range(0, i+1):\n",
        "            pairs_to_drop.add((cols[i], cols[j]))\n",
        "    return pairs_to_drop\n",
        "\n",
        "def get_top_abs_correlations(df, n=5):\n",
        "    au_corr = df.corr().abs().unstack()\n",
        "    labels_to_drop = get_redundant_pairs(df)\n",
        "    au_corr = au_corr.drop(labels=labels_to_drop).sort_values(ascending=True)\n",
        "    return au_corr[0:n]\n",
        "\n"
      ],
      "execution_count": null,
      "outputs": []
    },
    {
      "cell_type": "code",
      "metadata": {
        "ExecuteTime": {
          "end_time": "2020-04-23T00:10:41.289434Z",
          "start_time": "2020-04-23T00:10:41.267427Z"
        },
        "id": "UPifK-7El5J_",
        "outputId": "4892aab2-f883-40ea-8a4e-80e81cdef794"
      },
      "source": [
        "#Due to its bad score, I decided to exclude 'Poly' from the list of models\n",
        "print(\"Top Absolute Correlations\")\n",
        "print(get_top_abs_correlations(pred, 22))"
      ],
      "execution_count": null,
      "outputs": [
        {
          "output_type": "stream",
          "text": [
            "Top Absolute Correlations\n",
            "Poly        SVM             0.010551\n",
            "knn         Poly            0.106446\n",
            "Poly        LinearSVR       0.175106\n",
            "            paste_dtree1    0.248513\n",
            "            dtree           0.255745\n",
            "            bag_dtree1      0.260057\n",
            "            rfr             0.266623\n",
            "            etr             0.278857\n",
            "            xgbr            0.278920\n",
            "            adr_dtree       0.281145\n",
            "            paste_lasso     0.290083\n",
            "            bag_lasso       0.294792\n",
            "elasticnet  Poly            0.295801\n",
            "ridge       Poly            0.296204\n",
            "lasso       Poly            0.297135\n",
            "linreg      Poly            0.303519\n",
            "SGD         Poly            0.304847\n",
            "Poly        gbr             0.337529\n",
            "SVM         dtree           0.611096\n",
            "            etr             0.624905\n",
            "            xgbr            0.655726\n",
            "            gbr             0.656138\n",
            "dtype: float64\n"
          ],
          "name": "stdout"
        }
      ]
    },
    {
      "cell_type": "markdown",
      "metadata": {
        "id": "MAcUztsRl5J_"
      },
      "source": [
        "# Stacking"
      ]
    },
    {
      "cell_type": "markdown",
      "metadata": {
        "id": "adhXdhmTl5KA"
      },
      "source": [
        "## Voting top 5"
      ]
    },
    {
      "cell_type": "code",
      "metadata": {
        "ExecuteTime": {
          "end_time": "2020-04-22T23:39:27.850868Z",
          "start_time": "2020-04-22T23:39:27.845871Z"
        },
        "id": "eyBCM_5yl5KB"
      },
      "source": [
        "from sklearn.ensemble import VotingRegressor"
      ],
      "execution_count": null,
      "outputs": []
    },
    {
      "cell_type": "code",
      "metadata": {
        "ExecuteTime": {
          "end_time": "2020-04-22T23:49:36.922176Z",
          "start_time": "2020-04-22T23:49:30.199048Z"
        },
        "id": "Ob4LmKaQl5KC",
        "outputId": "f4dc9448-7ab4-4d4c-e216-73d511dfe3ce"
      },
      "source": [
        "vreg1 = VotingRegressor(estimators=\n",
        "                              [('lasso',grid_lasso.best_estimator_), \n",
        "                               ('paste_lasso', paste_lasso_grid.best_estimator_), \n",
        "                               ('gbr', gbr_grid.best_estimator_),\n",
        "                               ('bag_lasso', bag_lasso_grid.best_estimator_),\n",
        "                               ('xgbr', xgbr_grid.best_estimator_)\n",
        "                              ], )\n",
        "vreg1_param = {}\n",
        "\n",
        "vreg1_grid = GridSearchCV(vreg1, vreg1_param, cv=5, return_train_score=True, )\n",
        "vreg1_grid.fit(X_train,y_train)\n"
      ],
      "execution_count": null,
      "outputs": [
        {
          "output_type": "execute_result",
          "data": {
            "text/plain": [
              "GridSearchCV(cv=5, error_score=nan,\n",
              "             estimator=VotingRegressor(estimators=[('lasso',\n",
              "                                                    Lasso(alpha=1000,\n",
              "                                                          copy_X=True,\n",
              "                                                          fit_intercept=True,\n",
              "                                                          max_iter=1000,\n",
              "                                                          normalize=False,\n",
              "                                                          positive=False,\n",
              "                                                          precompute=False,\n",
              "                                                          random_state=0,\n",
              "                                                          selection='cyclic',\n",
              "                                                          tol=0.0001,\n",
              "                                                          warm_start=False)),\n",
              "                                                   ('paste_lasso',\n",
              "                                                    BaggingRegressor(base_estimator=Lasso(alpha=1000,\n",
              "                                                                                          copy_X=True,\n",
              "                                                                                          fit_intercept=True,...\n",
              "                                                                 n_estimators=150,\n",
              "                                                                 n_jobs=0,\n",
              "                                                                 num_parallel_tree=1,\n",
              "                                                                 objective='reg:squarederror',\n",
              "                                                                 random_state=42,\n",
              "                                                                 reg_alpha=0,\n",
              "                                                                 reg_lambda=1,\n",
              "                                                                 scale_pos_weight=1,\n",
              "                                                                 subsample=0.8,\n",
              "                                                                 tree_method=None,\n",
              "                                                                 validate_parameters=False,\n",
              "                                                                 verbosity=None))],\n",
              "                                       n_jobs=None, weights=None),\n",
              "             iid='deprecated', n_jobs=None, param_grid={},\n",
              "             pre_dispatch='2*n_jobs', refit=True, return_train_score=True,\n",
              "             scoring=None, verbose=0)"
            ]
          },
          "metadata": {
            "tags": []
          },
          "execution_count": 138
        }
      ]
    },
    {
      "cell_type": "code",
      "metadata": {
        "ExecuteTime": {
          "end_time": "2020-04-22T23:50:36.644795Z",
          "start_time": "2020-04-22T23:50:36.598824Z"
        },
        "id": "_ZCSOZgwl5KD",
        "outputId": "655fc7a7-e0c3-4217-8233-a6a447d5d8a6"
      },
      "source": [
        "print(f'Best Mean Cross Validation Score is {vreg1_grid.best_score_}')\n",
        "print(f'Train score is {vreg1_grid.score(X_train,y_train)}')\n",
        "print(f'Test score is {vreg1_grid.score(X_test,y_test)}')"
      ],
      "execution_count": null,
      "outputs": [
        {
          "output_type": "stream",
          "text": [
            "Best Mean Cross Validation Score is 0.8998012968049606\n",
            "Train score is 0.9517571428837854\n",
            "Test score is 0.8945971180338332\n"
          ],
          "name": "stdout"
        }
      ]
    },
    {
      "cell_type": "markdown",
      "metadata": {
        "id": "vzUp8fcjl5KE"
      },
      "source": [
        "## Voting Least correlated"
      ]
    },
    {
      "cell_type": "code",
      "metadata": {
        "id": "emiJrw1Al5KF"
      },
      "source": [
        ""
      ],
      "execution_count": null,
      "outputs": []
    },
    {
      "cell_type": "code",
      "metadata": {
        "ExecuteTime": {
          "end_time": "2020-04-23T00:13:42.344643Z",
          "start_time": "2020-04-23T00:13:13.464182Z"
        },
        "id": "TJibhBdZl5KG",
        "outputId": "17d0c45d-25b0-41d6-d98c-2e50a9a352b1"
      },
      "source": [
        "vreg2 = VotingRegressor(estimators=\n",
        "                              [('SVM', grid_SVM.best_estimator_), \n",
        "                               ('dtree', grid_tree.best_estimator_), \n",
        "                               ('etr', etr_grid.best_estimator_), \n",
        "                               ('xgbr', xgbr_grid.best_estimator_), \n",
        "                               ('gbr', gbr_grid.best_estimator_),\n",
        "                              ], )\n",
        "vreg2_param = {}\n",
        "\n",
        "vreg2_grid = GridSearchCV(vreg2, vreg2_param,cv=5, return_train_score=True, )\n",
        "vreg2_grid.fit(X_train,y_train)"
      ],
      "execution_count": null,
      "outputs": [
        {
          "output_type": "execute_result",
          "data": {
            "text/plain": [
              "GridSearchCV(cv=5, error_score=nan,\n",
              "             estimator=VotingRegressor(estimators=[('SVM',\n",
              "                                                    SVR(C=100, cache_size=200,\n",
              "                                                        coef0=0.0, degree=3,\n",
              "                                                        epsilon=0.1, gamma=0.01,\n",
              "                                                        kernel='rbf',\n",
              "                                                        max_iter=-1,\n",
              "                                                        shrinking=True,\n",
              "                                                        tol=0.001,\n",
              "                                                        verbose=False)),\n",
              "                                                   ('dtree',\n",
              "                                                    DecisionTreeRegressor(ccp_alpha=0.0,\n",
              "                                                                          criterion='mse',\n",
              "                                                                          max_depth=6,\n",
              "                                                                          max_features=None,\n",
              "                                                                          max_leaf_nodes=None,\n",
              "                                                                          min_impurity_decrease=0.0,\n",
              "                                                                          m...\n",
              "                                                                              min_samples_split=2,\n",
              "                                                                              min_weight_fraction_leaf=0.0,\n",
              "                                                                              n_estimators=100,\n",
              "                                                                              n_iter_no_change=None,\n",
              "                                                                              presort='deprecated',\n",
              "                                                                              random_state=42,\n",
              "                                                                              subsample=1.0,\n",
              "                                                                              tol=0.0001,\n",
              "                                                                              validation_fraction=0.1,\n",
              "                                                                              verbose=0,\n",
              "                                                                              warm_start=False))],\n",
              "                                       n_jobs=None, weights=None),\n",
              "             iid='deprecated', n_jobs=None, param_grid={},\n",
              "             pre_dispatch='2*n_jobs', refit=True, return_train_score=True,\n",
              "             scoring=None, verbose=0)"
            ]
          },
          "metadata": {
            "tags": []
          },
          "execution_count": 149
        }
      ]
    },
    {
      "cell_type": "code",
      "metadata": {
        "ExecuteTime": {
          "end_time": "2020-04-23T00:13:46.804604Z",
          "start_time": "2020-04-23T00:13:46.329880Z"
        },
        "id": "SnG2ipagl5KH",
        "outputId": "ff14743a-5c83-4d56-96fd-944b6b0b00fa"
      },
      "source": [
        "print(f'Best Mean Cross Validation Score is {vreg2_grid.best_score_}')\n",
        "print(f'Train score is {vreg2_grid.score(X_train,y_train)}')\n",
        "print(f'Test score is {vreg2_grid.score(X_test,y_test)}')"
      ],
      "execution_count": null,
      "outputs": [
        {
          "output_type": "stream",
          "text": [
            "Best Mean Cross Validation Score is 0.8412137343916051\n",
            "Train score is 0.9292818705859918\n",
            "Test score is 0.8467495784347077\n"
          ],
          "name": "stdout"
        }
      ]
    },
    {
      "cell_type": "markdown",
      "metadata": {
        "id": "OrTMj79wl5KI"
      },
      "source": [
        "## Stacking top 5"
      ]
    },
    {
      "cell_type": "code",
      "metadata": {
        "ExecuteTime": {
          "end_time": "2020-04-23T00:15:20.774307Z",
          "start_time": "2020-04-23T00:15:20.770309Z"
        },
        "id": "WNFiamoLl5KI"
      },
      "source": [
        "from sklearn.ensemble import StackingRegressor"
      ],
      "execution_count": null,
      "outputs": []
    },
    {
      "cell_type": "code",
      "metadata": {
        "ExecuteTime": {
          "end_time": "2020-04-23T00:19:54.849403Z",
          "start_time": "2020-04-23T00:19:19.440677Z"
        },
        "id": "em8lzXjGl5KJ",
        "outputId": "e4998726-5519-41aa-d3d6-6ead6c5597fe"
      },
      "source": [
        "sreg1 = StackingRegressor(estimators=\n",
        "                              [('lasso',grid_lasso.best_estimator_), \n",
        "                               ('paste_lasso', paste_lasso_grid.best_estimator_), \n",
        "                               ('gbr', gbr_grid.best_estimator_),\n",
        "                               ('bag_lasso', bag_lasso_grid.best_estimator_),\n",
        "                               ('xgbr', xgbr_grid.best_estimator_)\n",
        "                              ], )\n",
        "sreg1_param = {}\n",
        "\n",
        "sreg1_grid = GridSearchCV(sreg1, sreg1_param,cv=5, return_train_score=True, )\n",
        "sreg1_grid.fit(X_train,y_train)"
      ],
      "execution_count": null,
      "outputs": [
        {
          "output_type": "execute_result",
          "data": {
            "text/plain": [
              "GridSearchCV(cv=5, error_score=nan,\n",
              "             estimator=StackingRegressor(cv=None,\n",
              "                                         estimators=[('lasso',\n",
              "                                                      Lasso(alpha=1000,\n",
              "                                                            copy_X=True,\n",
              "                                                            fit_intercept=True,\n",
              "                                                            max_iter=1000,\n",
              "                                                            normalize=False,\n",
              "                                                            positive=False,\n",
              "                                                            precompute=False,\n",
              "                                                            random_state=0,\n",
              "                                                            selection='cyclic',\n",
              "                                                            tol=0.0001,\n",
              "                                                            warm_start=False)),\n",
              "                                                     ('paste_lasso',\n",
              "                                                      BaggingRegressor(base_estimator=Lasso(alpha=1000,\n",
              "                                                                                            copy_X=True,\n",
              "                                                                                            fit_inter...\n",
              "                                                                   objective='reg:squarederror',\n",
              "                                                                   random_state=42,\n",
              "                                                                   reg_alpha=0,\n",
              "                                                                   reg_lambda=1,\n",
              "                                                                   scale_pos_weight=1,\n",
              "                                                                   subsample=0.8,\n",
              "                                                                   tree_method=None,\n",
              "                                                                   validate_parameters=False,\n",
              "                                                                   verbosity=None))],\n",
              "                                         final_estimator=None, n_jobs=None,\n",
              "                                         passthrough=False, verbose=0),\n",
              "             iid='deprecated', n_jobs=None, param_grid={},\n",
              "             pre_dispatch='2*n_jobs', refit=True, return_train_score=True,\n",
              "             scoring=None, verbose=0)"
            ]
          },
          "metadata": {
            "tags": []
          },
          "execution_count": 152
        }
      ]
    },
    {
      "cell_type": "code",
      "metadata": {
        "ExecuteTime": {
          "end_time": "2020-04-23T00:20:03.030375Z",
          "start_time": "2020-04-23T00:20:02.982404Z"
        },
        "id": "mRd-MPYAl5KJ",
        "outputId": "b2906f45-15d8-424f-e9a7-eaee31668c43"
      },
      "source": [
        "print(f'Best Mean Cross Validation Score is {sreg1_grid.best_score_}')\n",
        "print(f'Best Mean Cross Validation Score is {sreg1_grid.best_params_}')\n",
        "print(f'Train score is {sreg1_grid.score(X_train,y_train)}')\n",
        "print(f'Test score is {sreg1_grid.score(X_test,y_test)}')"
      ],
      "execution_count": null,
      "outputs": [
        {
          "output_type": "stream",
          "text": [
            "Best Mean Cross Validation Score is 0.8994362380676233\n",
            "Best Mean Cross Validation Score is {}\n",
            "Train score is 0.9689847317519205\n",
            "Test score is 0.8907223052883766\n"
          ],
          "name": "stdout"
        }
      ]
    },
    {
      "cell_type": "markdown",
      "metadata": {
        "id": "Ih9fymFyl5KK"
      },
      "source": [
        "## Stacking Least Correlated"
      ]
    },
    {
      "cell_type": "code",
      "metadata": {
        "ExecuteTime": {
          "end_time": "2020-04-23T00:22:54.213407Z",
          "start_time": "2020-04-23T00:20:31.743302Z"
        },
        "id": "9X5hEdz-l5KK",
        "outputId": "74069fd3-d446-4679-9994-853084fbfb0a"
      },
      "source": [
        "sreg2 = StackingRegressor(estimators=\n",
        "                              [('SVM', grid_SVM.best_estimator_), \n",
        "                               ('dtree', grid_tree.best_estimator_), \n",
        "                               ('etr', etr_grid.best_estimator_), \n",
        "                               ('xgbr', xgbr_grid.best_estimator_), \n",
        "                               ('gbr', gbr_grid.best_estimator_),\n",
        "                              ], )\n",
        "sreg2_param = {}\n",
        "\n",
        "sreg2_grid = GridSearchCV(sreg2, sreg2_param,cv=5, return_train_score=True, )\n",
        "sreg2_grid.fit(X_train,y_train)"
      ],
      "execution_count": null,
      "outputs": [
        {
          "output_type": "execute_result",
          "data": {
            "text/plain": [
              "GridSearchCV(cv=5, error_score=nan,\n",
              "             estimator=StackingRegressor(cv=None,\n",
              "                                         estimators=[('SVM',\n",
              "                                                      SVR(C=100, cache_size=200,\n",
              "                                                          coef0=0.0, degree=3,\n",
              "                                                          epsilon=0.1,\n",
              "                                                          gamma=0.01,\n",
              "                                                          kernel='rbf',\n",
              "                                                          max_iter=-1,\n",
              "                                                          shrinking=True,\n",
              "                                                          tol=0.001,\n",
              "                                                          verbose=False)),\n",
              "                                                     ('dtree',\n",
              "                                                      DecisionTreeRegressor(ccp_alpha=0.0,\n",
              "                                                                            criterion='mse',\n",
              "                                                                            max_depth=6,\n",
              "                                                                            max_features=None,\n",
              "                                                                            max_leaf_nodes=None,\n",
              "                                                                            min_impurity_decr...\n",
              "                                                                                min_weight_fraction_leaf=0.0,\n",
              "                                                                                n_estimators=100,\n",
              "                                                                                n_iter_no_change=None,\n",
              "                                                                                presort='deprecated',\n",
              "                                                                                random_state=42,\n",
              "                                                                                subsample=1.0,\n",
              "                                                                                tol=0.0001,\n",
              "                                                                                validation_fraction=0.1,\n",
              "                                                                                verbose=0,\n",
              "                                                                                warm_start=False))],\n",
              "                                         final_estimator=None, n_jobs=None,\n",
              "                                         passthrough=False, verbose=0),\n",
              "             iid='deprecated', n_jobs=None, param_grid={},\n",
              "             pre_dispatch='2*n_jobs', refit=True, return_train_score=True,\n",
              "             scoring=None, verbose=0)"
            ]
          },
          "metadata": {
            "tags": []
          },
          "execution_count": 155
        }
      ]
    },
    {
      "cell_type": "code",
      "metadata": {
        "ExecuteTime": {
          "end_time": "2020-04-23T00:24:21.732832Z",
          "start_time": "2020-04-23T00:24:21.239117Z"
        },
        "id": "iubhPxNsl5KL",
        "outputId": "702faf38-0258-4019-9d3e-d68e6e65aa5f"
      },
      "source": [
        "print(f'Best Mean Cross Validation Score is {sreg2_grid.best_score_}')\n",
        "print(f'Best Mean Cross Validation Score is {sreg2_grid.best_params_}')\n",
        "print(f'Train score is {sreg2_grid.score(X_train,y_train)}')\n",
        "print(f'Test score is {sreg2_grid.score(X_test,y_test)}')"
      ],
      "execution_count": null,
      "outputs": [
        {
          "output_type": "stream",
          "text": [
            "Best Mean Cross Validation Score is 0.8988083000041686\n",
            "Best Mean Cross Validation Score is {}\n",
            "Train score is 0.9829054591050093\n",
            "Test score is 0.8849320496458035\n"
          ],
          "name": "stdout"
        }
      ]
    },
    {
      "cell_type": "markdown",
      "metadata": {
        "id": "BVlLpJqyl5KL"
      },
      "source": [
        "# Result"
      ]
    },
    {
      "cell_type": "code",
      "metadata": {
        "ExecuteTime": {
          "end_time": "2020-04-23T00:33:53.685367Z",
          "start_time": "2020-04-23T00:33:53.677371Z"
        },
        "id": "P0sxEZn5l5KM"
      },
      "source": [
        "all_models={'linreg':lr,\n",
        "             'ridge':grid_ridge,\n",
        "             'lasso':grid_lasso,\n",
        "             'elasticnet':grid_elasticnet,\n",
        "             'knn':grid_knn,\n",
        "             'SGD':grid_sgd,\n",
        "             'Poly':grid_poly,\n",
        "             'LinearSVR':grid_LinearSVR,\n",
        "             'SVM':grid_SVM,\n",
        "             'dtree':grid_tree,\n",
        "             'bag_dtree1':bag_dtree1_grid,\n",
        "             'bag_lasso':bag_lasso_grid,\n",
        "             'paste_dtree1': paste_dtree1_grid,\n",
        "             'paste_lasso':paste_lasso_grid,\n",
        "             'rfr': rfr_grid,\n",
        "             'etr': etr_grid,\n",
        "             'adr_dtree':adr_dtree_grid,\n",
        "             'gbr': gbr_grid,\n",
        "             'xgbr': xgbr_grid,\n",
        "             'vreg1': vreg1_grid,\n",
        "             'vreg2': vreg2_grid,\n",
        "             'sreg1': sreg1_grid,\n",
        "             'sreg2': sreg2_grid,\n",
        "            }"
      ],
      "execution_count": null,
      "outputs": []
    },
    {
      "cell_type": "code",
      "metadata": {
        "ExecuteTime": {
          "end_time": "2020-04-23T00:39:55.315613Z",
          "start_time": "2020-04-23T00:39:54.816906Z"
        },
        "id": "nVfvt-Hnl5KM"
      },
      "source": [
        "results_r2_cv = []\n",
        "for  key, value in all_models.items():\n",
        "    if key != 'linreg':    \n",
        "        r2_test = \"{:.3f}\".format(value.score(X_test,y_test))\n",
        "        cv_score = \"{:.3f}\".format(value.best_score_)\n",
        "\n",
        "        results_r2_cv.append({\n",
        "            \"model\": key,\n",
        "            \"r2_test\":r2_test,\n",
        "            \"cv_score\":cv_score\n",
        "    })"
      ],
      "execution_count": null,
      "outputs": []
    },
    {
      "cell_type": "code",
      "metadata": {
        "ExecuteTime": {
          "end_time": "2020-04-23T00:42:39.037913Z",
          "start_time": "2020-04-23T00:42:39.016926Z"
        },
        "id": "QCePr0jjl5KN",
        "outputId": "3768bcb8-f82d-432f-a10c-1676c4c502fd"
      },
      "source": [
        "results_r2_cv_df = pd.DataFrame(results_r2_cv, columns=['model', 'r2_test','cv_score'])\n",
        "\n",
        "# Show the r2_cv_score dataframe\n",
        "\n",
        "results_r2_cv_df.sort_values(by=['r2_test'], inplace=True,ascending=False)\n",
        "results_r2_cv_df"
      ],
      "execution_count": null,
      "outputs": [
        {
          "output_type": "execute_result",
          "data": {
            "text/html": [
              "<div>\n",
              "<style scoped>\n",
              "    .dataframe tbody tr th:only-of-type {\n",
              "        vertical-align: middle;\n",
              "    }\n",
              "\n",
              "    .dataframe tbody tr th {\n",
              "        vertical-align: top;\n",
              "    }\n",
              "\n",
              "    .dataframe thead th {\n",
              "        text-align: right;\n",
              "    }\n",
              "</style>\n",
              "<table border=\"1\" class=\"dataframe\">\n",
              "  <thead>\n",
              "    <tr style=\"text-align: right;\">\n",
              "      <th></th>\n",
              "      <th>model</th>\n",
              "      <th>r2_test</th>\n",
              "      <th>cv_score</th>\n",
              "    </tr>\n",
              "  </thead>\n",
              "  <tbody>\n",
              "    <tr>\n",
              "      <th>18</th>\n",
              "      <td>vreg1</td>\n",
              "      <td>0.895</td>\n",
              "      <td>0.900</td>\n",
              "    </tr>\n",
              "    <tr>\n",
              "      <th>20</th>\n",
              "      <td>sreg1</td>\n",
              "      <td>0.891</td>\n",
              "      <td>0.899</td>\n",
              "    </tr>\n",
              "    <tr>\n",
              "      <th>1</th>\n",
              "      <td>lasso</td>\n",
              "      <td>0.887</td>\n",
              "      <td>0.886</td>\n",
              "    </tr>\n",
              "    <tr>\n",
              "      <th>21</th>\n",
              "      <td>sreg2</td>\n",
              "      <td>0.885</td>\n",
              "      <td>0.899</td>\n",
              "    </tr>\n",
              "    <tr>\n",
              "      <th>12</th>\n",
              "      <td>paste_lasso</td>\n",
              "      <td>0.884</td>\n",
              "      <td>0.885</td>\n",
              "    </tr>\n",
              "    <tr>\n",
              "      <th>16</th>\n",
              "      <td>gbr</td>\n",
              "      <td>0.883</td>\n",
              "      <td>0.869</td>\n",
              "    </tr>\n",
              "    <tr>\n",
              "      <th>10</th>\n",
              "      <td>bag_lasso</td>\n",
              "      <td>0.882</td>\n",
              "      <td>0.887</td>\n",
              "    </tr>\n",
              "    <tr>\n",
              "      <th>17</th>\n",
              "      <td>xgbr</td>\n",
              "      <td>0.878</td>\n",
              "      <td>0.898</td>\n",
              "    </tr>\n",
              "    <tr>\n",
              "      <th>0</th>\n",
              "      <td>ridge</td>\n",
              "      <td>0.873</td>\n",
              "      <td>0.886</td>\n",
              "    </tr>\n",
              "    <tr>\n",
              "      <th>2</th>\n",
              "      <td>elasticnet</td>\n",
              "      <td>0.873</td>\n",
              "      <td>0.886</td>\n",
              "    </tr>\n",
              "    <tr>\n",
              "      <th>4</th>\n",
              "      <td>SGD</td>\n",
              "      <td>0.871</td>\n",
              "      <td>0.884</td>\n",
              "    </tr>\n",
              "    <tr>\n",
              "      <th>15</th>\n",
              "      <td>adr_dtree</td>\n",
              "      <td>0.870</td>\n",
              "      <td>0.873</td>\n",
              "    </tr>\n",
              "    <tr>\n",
              "      <th>13</th>\n",
              "      <td>rfr</td>\n",
              "      <td>0.862</td>\n",
              "      <td>0.868</td>\n",
              "    </tr>\n",
              "    <tr>\n",
              "      <th>9</th>\n",
              "      <td>bag_dtree1</td>\n",
              "      <td>0.860</td>\n",
              "      <td>0.872</td>\n",
              "    </tr>\n",
              "    <tr>\n",
              "      <th>14</th>\n",
              "      <td>etr</td>\n",
              "      <td>0.855</td>\n",
              "      <td>0.867</td>\n",
              "    </tr>\n",
              "    <tr>\n",
              "      <th>11</th>\n",
              "      <td>paste_dtree1</td>\n",
              "      <td>0.855</td>\n",
              "      <td>0.857</td>\n",
              "    </tr>\n",
              "    <tr>\n",
              "      <th>19</th>\n",
              "      <td>vreg2</td>\n",
              "      <td>0.847</td>\n",
              "      <td>0.841</td>\n",
              "    </tr>\n",
              "    <tr>\n",
              "      <th>8</th>\n",
              "      <td>dtree</td>\n",
              "      <td>0.812</td>\n",
              "      <td>0.777</td>\n",
              "    </tr>\n",
              "    <tr>\n",
              "      <th>3</th>\n",
              "      <td>knn</td>\n",
              "      <td>0.700</td>\n",
              "      <td>0.811</td>\n",
              "    </tr>\n",
              "    <tr>\n",
              "      <th>6</th>\n",
              "      <td>LinearSVR</td>\n",
              "      <td>0.133</td>\n",
              "      <td>-0.287</td>\n",
              "    </tr>\n",
              "    <tr>\n",
              "      <th>7</th>\n",
              "      <td>SVM</td>\n",
              "      <td>0.052</td>\n",
              "      <td>0.041</td>\n",
              "    </tr>\n",
              "    <tr>\n",
              "      <th>5</th>\n",
              "      <td>Poly</td>\n",
              "      <td>-19061138988228244.000</td>\n",
              "      <td>-48851311979104080.000</td>\n",
              "    </tr>\n",
              "  </tbody>\n",
              "</table>\n",
              "</div>"
            ],
            "text/plain": [
              "           model                 r2_test                cv_score\n",
              "18         vreg1                   0.895                   0.900\n",
              "20         sreg1                   0.891                   0.899\n",
              "1          lasso                   0.887                   0.886\n",
              "21         sreg2                   0.885                   0.899\n",
              "12   paste_lasso                   0.884                   0.885\n",
              "16           gbr                   0.883                   0.869\n",
              "10     bag_lasso                   0.882                   0.887\n",
              "17          xgbr                   0.878                   0.898\n",
              "0          ridge                   0.873                   0.886\n",
              "2     elasticnet                   0.873                   0.886\n",
              "4            SGD                   0.871                   0.884\n",
              "15     adr_dtree                   0.870                   0.873\n",
              "13           rfr                   0.862                   0.868\n",
              "9     bag_dtree1                   0.860                   0.872\n",
              "14           etr                   0.855                   0.867\n",
              "11  paste_dtree1                   0.855                   0.857\n",
              "19         vreg2                   0.847                   0.841\n",
              "8          dtree                   0.812                   0.777\n",
              "3            knn                   0.700                   0.811\n",
              "6      LinearSVR                   0.133                  -0.287\n",
              "7            SVM                   0.052                   0.041\n",
              "5           Poly  -19061138988228244.000  -48851311979104080.000"
            ]
          },
          "metadata": {
            "tags": []
          },
          "execution_count": 165
        }
      ]
    },
    {
      "cell_type": "code",
      "metadata": {
        "ExecuteTime": {
          "end_time": "2020-04-23T00:52:55.884241Z",
          "start_time": "2020-04-23T00:52:55.841266Z"
        },
        "id": "nazZQg-Il5KO",
        "outputId": "a5ba0f08-503f-4277-a22f-9568cd1f5748"
      },
      "source": [
        "#Best model on r2_test and CV score: vreg1 (Voting top 5)\n",
        "\n",
        "# let's get the predictions\n",
        "X_train_preds = vreg1_grid.predict(X_train)\n",
        "X_test_preds = vreg1_grid.predict(X_test)\n",
        "\n",
        "print('train rmse: {:.3f}'.format(sqrt(mean_squared_error(y_train, X_train_preds))))\n",
        "print('test rmse: {:.3f}'.format(sqrt(mean_squared_error(y_test, X_test_preds))))\n"
      ],
      "execution_count": null,
      "outputs": [
        {
          "output_type": "stream",
          "text": [
            "train rmse: 17355.699\n",
            "test rmse: 26913.579\n"
          ],
          "name": "stdout"
        }
      ]
    }
  ]
}